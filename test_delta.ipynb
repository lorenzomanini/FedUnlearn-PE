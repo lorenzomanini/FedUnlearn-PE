{
 "cells": [
  {
   "cell_type": "code",
   "execution_count": 275,
   "metadata": {},
   "outputs": [],
   "source": [
    "import torch\n",
    "import torch.nn as nn\n",
    "import torch.optim as optim\n",
    "import numpy as np\n",
    "import matplotlib.pyplot as plt\n",
    "from torch.utils.data import DataLoader, TensorDataset\n",
    "from backpack import backpack, extend\n",
    "from backpack.extensions import DiagHessian"
   ]
  },
  {
   "cell_type": "code",
   "execution_count": 276,
   "metadata": {},
   "outputs": [],
   "source": [
    "# Create base images (happy, sad, neutral faces)\n",
    "def create_base_images():\n",
    "    base_images = np.zeros((3, 16, 16))\n",
    "    # Happy face (index 0)\n",
    "    base_images[0, 4, 4] = base_images[0, 4, 11] = 1  # Eyes\n",
    "    base_images[0, 10, 5:11] = 1  # Smile (curved upwards)\n",
    "    base_images[0, 11, 4] = base_images[0, 11, 11] = 1  # Smile curve corners\n",
    "    base_images[0, 12, 3] = base_images[0, 12, 12] = 1  # Smile curve corners\n",
    "    \n",
    "    # Sad face (index 1)\n",
    "    base_images[1, 4, 4] = base_images[1, 4, 11] = 1  # Eyes\n",
    "    base_images[1, 11, 5:11] = 1  # Frown (curved downwards)\n",
    "    base_images[1, 10, 4] = base_images[1, 10, 11] = 1  # Smile curve corners\n",
    "    base_images[1, 9, 3] = base_images[1, 9, 12] = 1  # Smile curve corners\n",
    "\n",
    "    # Neutral face (index 2)\n",
    "    base_images[2, 4, 4] = base_images[2, 4, 11] = 1  # Eyes\n",
    "    base_images[2, 10, 4:12] = 1  # Straight line for mouth\n",
    "    \n",
    "    return base_images\n",
    "\n",
    "# Generate noisy dataset\n",
    "def generate_dataset(base_images, label=-1, num_samples=3000, noise_level=0.2):\n",
    "    images = []\n",
    "    labels = []\n",
    "    in_label=label\n",
    "    for i in range(num_samples):\n",
    "        if in_label == -1:\n",
    "            label = np.random.randint(0, 3)\n",
    "        img = base_images[label] + noise_level * np.random.randn(16, 16)\n",
    "        img = np.clip(img, 0, 1)  # Keep pixel values between 0 and 1\n",
    "        images.append(img)\n",
    "        labels.append(label)\n",
    "    return torch.tensor(images, dtype=torch.float32).unsqueeze(1), torch.tensor(labels, dtype=torch.long)\n",
    "\n",
    "# Define simple CNN model\n",
    "class SimpleCNN(nn.Module):\n",
    "    def __init__(self):\n",
    "        super(SimpleCNN, self).__init__()\n",
    "        self.conv1 = nn.Conv2d(1, 8, kernel_size=3, padding=1)\n",
    "        self.conv2 = nn.Conv2d(8, 16, kernel_size=3, padding=1)\n",
    "        self.fc1 = nn.Linear(16 * 16 * 16, 64)\n",
    "        self.fc2 = nn.Linear(64, 3)  # 3 classes\n",
    "    \n",
    "    def forward(self, x):\n",
    "        x = torch.relu(self.conv1(x))\n",
    "        x = torch.relu(self.conv2(x))\n",
    "        x = x.view(x.size(0), -1)  # Flatten\n",
    "        x = torch.relu(self.fc1(x))\n",
    "        x = self.fc2(x)\n",
    "        return x\n",
    "    \n",
    "# Compute Hessian\n",
    "def compute_hessian(model, criterion, data, target):\n",
    "    model.zero_grad()\n",
    "    output = model(data)\n",
    "    loss = criterion(output, target)\n",
    "    grad_params = torch.autograd.grad(loss, model.parameters(), create_graph=True)\n",
    "    hessian = []\n",
    "    for grad in grad_params:\n",
    "        grad_vector = grad.view(-1)\n",
    "        row = []\n",
    "        for g in grad_vector:\n",
    "            second_derivative = torch.autograd.grad(g, model.parameters(), retain_graph=True)\n",
    "            row.append(torch.cat([sd.contiguous().view(-1) for sd in second_derivative]))\n",
    "        hessian.append(torch.stack(row))\n",
    "    return torch.cat(hessian, dim=0)\n",
    "\n",
    "# Training function\n",
    "def train(model, train_loader, criterion, optimizer, epochs=5):\n",
    "    for epoch in range(epochs):\n",
    "        for images, labels in train_loader:\n",
    "            optimizer.zero_grad()\n",
    "            outputs = model(images)\n",
    "            loss = criterion(outputs, labels)\n",
    "            loss.backward()\n",
    "            optimizer.step()\n",
    "        print(f'Epoch [{epoch+1}/{epochs}], Loss: {loss.item():.4f}')\n"
   ]
  },
  {
   "cell_type": "code",
   "execution_count": 277,
   "metadata": {},
   "outputs": [
    {
     "name": "stdout",
     "output_type": "stream",
     "text": [
      "Epoch [1/5], Loss: 0.0012\n",
      "Epoch [2/5], Loss: 0.0003\n",
      "Epoch [3/5], Loss: 0.0001\n",
      "Epoch [4/5], Loss: 0.0001\n",
      "Epoch [5/5], Loss: 0.0000\n"
     ]
    }
   ],
   "source": [
    "\n",
    "# Main execution\n",
    "\n",
    "base_images = create_base_images()\n",
    "n_samples = 3000\n",
    "images_h, labels_h = generate_dataset(base_images, label=0, num_samples=n_samples//3)\n",
    "images_s, labels_s = generate_dataset(base_images, label=1, num_samples=n_samples//3)\n",
    "images_n, labels_n = generate_dataset(base_images, label=2, num_samples=n_samples//3)\n",
    "train_dataset_h = TensorDataset(images_h, labels_h)\n",
    "train_dataset_s = TensorDataset(images_s, labels_s)\n",
    "train_dataset_n = TensorDataset(images_n, labels_n)\n",
    "train_dataset = train_dataset_h + train_dataset_s + train_dataset_n\n",
    "train_loader = DataLoader(train_dataset, batch_size=32, shuffle=True)\n",
    "\n",
    "model = nn.Sequential(\n",
    "    nn.Conv2d(1, 8, kernel_size=3, padding=1),\n",
    "    nn.ReLU(),\n",
    "    nn.Conv2d(8, 16, kernel_size=3, padding=1),\n",
    "    nn.ReLU(),\n",
    "    nn.Flatten(),                    # Flatten the 16x16x16 feature map\n",
    "    nn.Linear(16 * 16 * 16, 64),\n",
    "    nn.ReLU(),\n",
    "    nn.Linear(64, 3)                 # 3 classes\n",
    ")\n",
    "\n",
    "model = extend(model)\n",
    "criterion = nn.CrossEntropyLoss()\n",
    "lossfunc = extend(criterion)\n",
    "optimizer = optim.Adam(model.parameters(), lr=0.001)\n",
    "\n",
    "train(model, train_loader, criterion, optimizer, epochs=5)"
   ]
  },
  {
   "cell_type": "code",
   "execution_count": 278,
   "metadata": {},
   "outputs": [
    {
     "data": {
      "image/png": "[encoded data removed]",
      "text/plain": [
       "<Figure size 640x480 with 3 Axes>"
      ]
     },
     "metadata": {},
     "output_type": "display_data"
    },
    {
     "data": {
      "image/png": "[encoded data removed]",
      "text/plain": [
       "<Figure size 640x480 with 3 Axes>"
      ]
     },
     "metadata": {},
     "output_type": "display_data"
    },
    {
     "data": {
      "image/png": "[encoded data removed]",
      "text/plain": [
       "<Figure size 640x480 with 3 Axes>"
      ]
     },
     "metadata": {},
     "output_type": "display_data"
    },
    {
     "data": {
      "image/png": "[encoded data removed]",
      "text/plain": [
       "<Figure size 640x480 with 3 Axes>"
      ]
     },
     "metadata": {},
     "output_type": "display_data"
    }
   ],
   "source": [
    "\n",
    "# Test model on some samples\n",
    "test_samples_h, _ = generate_dataset(base_images, label=0, num_samples=3)\n",
    "test_samples_s, _ = generate_dataset(base_images, label=1, num_samples=3)\n",
    "test_samples_n, _ = generate_dataset(base_images, label=2, num_samples=3)\n",
    "test_samples = torch.cat((test_samples_h, test_samples_s, test_samples_n), dim=0)\n",
    "\n",
    "with torch.no_grad():\n",
    "    predictions = model(test_samples).argmax(dim=1)\n",
    "\n",
    "# Show some test images\n",
    "for i in range(3):\n",
    "    plt.subplot(1, 5, i+1)\n",
    "    plt.imshow(base_images[i].squeeze(), cmap='gray')\n",
    "    plt.axis('off')\n",
    "plt.show()\n",
    "\n",
    "# Show some test images\n",
    "for i in range(3):\n",
    "    plt.subplot(2, 3, i+1)\n",
    "    plt.imshow(test_samples[i].squeeze(), cmap='gray')\n",
    "    plt.title(f'Pred: {predictions[i].item()}')\n",
    "    plt.axis('off')\n",
    "plt.show()\n",
    "for i in range(3):\n",
    "    plt.subplot(2, 3, i+1)\n",
    "    plt.imshow(test_samples[3+i].squeeze(), cmap='gray')\n",
    "    plt.title(f'Pred: {predictions[3+i].item()}')\n",
    "    plt.axis('off')\n",
    "plt.show()\n",
    "for i in range(3):\n",
    "    plt.subplot(2, 3, i+1)\n",
    "    plt.imshow(test_samples[6+i].squeeze(), cmap='gray')\n",
    "    plt.title(f'Pred: {predictions[6+i].item()}')\n",
    "    plt.axis('off')\n",
    "plt.show()\n"
   ]
  },
  {
   "cell_type": "code",
   "execution_count": 279,
   "metadata": {},
   "outputs": [
    {
     "name": "stdout",
     "output_type": "stream",
     "text": [
      "<class 'torch.Tensor'> torch.Size([8, 1, 3, 3])\n",
      "<class 'torch.Tensor'> torch.Size([8])\n",
      "<class 'torch.Tensor'> torch.Size([16, 8, 3, 3])\n",
      "<class 'torch.Tensor'> torch.Size([16])\n",
      "<class 'torch.Tensor'> torch.Size([64, 4096])\n",
      "<class 'torch.Tensor'> torch.Size([64])\n",
      "<class 'torch.Tensor'> torch.Size([3, 64])\n",
      "<class 'torch.Tensor'> torch.Size([3])\n"
     ]
    }
   ],
   "source": [
    "for param in model.parameters():\n",
    "    print(type(param.data), param.size())"
   ]
  },
  {
   "cell_type": "code",
   "execution_count": 280,
   "metadata": {},
   "outputs": [],
   "source": [
    "from torch import cat\n",
    "\n",
    "model.eval()\n",
    "\n",
    "train_images=torch.cat([images_h,images_s,images_n])\n",
    "train_labels=torch.cat([labels_h,labels_s,labels_n])\n",
    "unp_images = torch.cat([images_s,images_n])\n",
    "unp_labels = torch.cat([labels_s,labels_n])\n",
    "\n",
    "loss = lossfunc(model(train_images), train_labels)\n",
    "\n",
    "\n",
    "with backpack(DiagHessian()):\n",
    "    loss.backward(retain_graph=True)\n",
    "hessian = cat([p.diag_h.clone().flatten() for p in model.parameters()])\n",
    "\n",
    "for p in model.parameters():\n",
    "    if hasattr(p, 'diag_h'):\n",
    "        del p.diag_h\n",
    "\n",
    "loss_unp = lossfunc(model(unp_images), unp_labels)\n",
    "\n",
    "with backpack(DiagHessian()):\n",
    "    loss_unp.backward()\n",
    "hessian_unp = cat([p.diag_h.clone().flatten() for p in model.parameters()])\n",
    "\n",
    "delta=(hessian_unp-hessian)/hessian"
   ]
  },
  {
   "cell_type": "code",
   "execution_count": 281,
   "metadata": {},
   "outputs": [],
   "source": [
    "s_delta=np.sort(delta)"
   ]
  },
  {
   "cell_type": "code",
   "execution_count": 282,
   "metadata": {},
   "outputs": [
    {
     "data": {
      "text/plain": [
       "[<matplotlib.lines.Line2D at 0x20446db2b10>]"
      ]
     },
     "execution_count": 282,
     "metadata": {},
     "output_type": "execute_result"
    },
    {
     "data": {
      "image/png": "[encoded data removed]",
      "text/plain": [
       "<Figure size 640x480 with 1 Axes>"
      ]
     },
     "metadata": {},
     "output_type": "display_data"
    }
   ],
   "source": [
    "import matplotlib.pyplot as plt\n",
    "\n",
    "plt.plot(s_delta)"
   ]
  },
  {
   "cell_type": "code",
   "execution_count": 283,
   "metadata": {},
   "outputs": [],
   "source": [
    "def evaluate_accuracy(model, dataloader):\n",
    "    model.eval()\n",
    "    correct = 0\n",
    "    total = 0\n",
    "    with torch.no_grad():\n",
    "        for inputs, targets in dataloader:\n",
    "            outputs = model(inputs)\n",
    "            _, predicted = torch.max(outputs.data, 1)\n",
    "            total += targets.size(0)\n",
    "            correct += (predicted == targets).sum().item()\n",
    "    return correct / total"
   ]
  },
  {
   "cell_type": "code",
   "execution_count": 291,
   "metadata": {},
   "outputs": [
    {
     "name": "stdout",
     "output_type": "stream",
     "text": [
      "Accuracy original model\n",
      "Accuracy on happy faces: 1.00\n",
      "Accuracy on sad faces: 1.00\n",
      "Accuracy on neutral faces: 1.00\n",
      "\n",
      "\n",
      "\n",
      "Accuracy modified model\n",
      "Accuracy on happy faces: 0.00\n",
      "Accuracy on sad faces: 1.00\n",
      "Accuracy on neutral faces: 0.00\n"
     ]
    }
   ],
   "source": [
    "import copy\n",
    "\n",
    "acc_h = evaluate_accuracy(model, DataLoader(train_dataset_h, batch_size=32, shuffle=False))\n",
    "acc_s = evaluate_accuracy(model, DataLoader(train_dataset_s, batch_size=32, shuffle=False))\n",
    "acc_n = evaluate_accuracy(model, DataLoader(train_dataset_n, batch_size=32, shuffle=False))\n",
    "\n",
    "print(f'Accuracy original model')\n",
    "print(f'Accuracy on happy faces: {acc_h:.2f}')\n",
    "print(f'Accuracy on sad faces: {acc_s:.2f}')\n",
    "print(f'Accuracy on neutral faces: {acc_n:.2f}')\n",
    "print(f'\\n\\n')\n",
    "\n",
    "model_clone = copy.deepcopy(model)\n",
    "noise_std = 1\n",
    "ts_d=0\n",
    "\n",
    "with torch.no_grad():\n",
    "    for i, param in enumerate(model_clone.parameters()):\n",
    "        if delta[i]>ts_d:\n",
    "            noise = np.random.normal(noise_std * delta[i])\n",
    "            param.add_(noise)\n",
    "\n",
    "acc_h_unp = evaluate_accuracy(model_clone, DataLoader(train_dataset_h, batch_size=32, shuffle=False))\n",
    "acc_s_unp = evaluate_accuracy(model_clone, DataLoader(train_dataset_s, batch_size=32, shuffle=False))\n",
    "acc_n_unp = evaluate_accuracy(model_clone, DataLoader(train_dataset_n, batch_size=32, shuffle=False))\n",
    "\n",
    "print(f'Accuracy modified model')\n",
    "print(f'Accuracy on happy faces: {acc_h_unp:.2f}')\n",
    "print(f'Accuracy on sad faces: {acc_s_unp:.2f}')\n",
    "print(f'Accuracy on neutral faces: {acc_n_unp:.2f}')\n"
   ]
  }
 ],
 "metadata": {
  "kernelspec": {
   "display_name": "pytorch",
   "language": "python",
   "name": "pytorch"
  },
  "language_info": {
   "codemirror_mode": {
    "name": "ipython",
    "version": 3
   },
   "file_extension": ".py",
   "mimetype": "text/x-python",
   "name": "python",
   "nbconvert_exporter": "python",
   "pygments_lexer": "ipython3",
   "version": "3.11.9"
  }
 },
 "nbformat": 4,
 "nbformat_minor": 2
}
