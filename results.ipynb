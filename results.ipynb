{
 "cells": [
  {
   "cell_type": "code",
   "execution_count": 16,
   "id": "d3c81dae",
   "metadata": {},
   "outputs": [],
   "source": [
    "import os\n",
    "import pickle\n",
    "\n",
    "import numpy as np\n",
    "from matplotlib import pyplot as plt"
   ]
  },
  {
   "cell_type": "code",
   "execution_count": null,
   "id": "e22a6a44",
   "metadata": {},
   "outputs": [
    {
     "name": "stdout",
     "output_type": "stream",
     "text": [
      "Init params:\n",
      "test_name: test_mnist\n",
      "dataset_name: mnist\n",
      "num_clients: 5\n",
      "num_classes: 10\n",
      "distribution_type: dirichlet\n",
      "model_name: simple_cnn\n",
      "loss_name: cross_entropy\n",
      "trainer_name: sgd\n",
      "train_epochs: 5\n",
      "info_batch_size: 10\n",
      "info_use_converter: False\n",
      "target_client: 0\n",
      "num_tests: 10\n"
     ]
    }
   ],
   "source": [
    "stat_test_name = \"test_mnist\"\n",
    "\n",
    "stat_tests_path = \"stat_tests\"\n",
    "stat_test_path = os.path.join(stat_tests_path, stat_test_name)\n",
    "if not os.path.exists(stat_test_path):\n",
    "    raise FileNotFoundError(f\"Stat test path {stat_test_path} does not exist.\")\n",
    "\n",
    "init_params_path = os.path.join(stat_test_path, \"init_params.pkl\")\n",
    "test_params_path = os.path.join(stat_test_path, \"test_params.pkl\")\n",
    "\n",
    "with open(init_params_path, \"rb\") as f:\n",
    "    init_params = pickle.load(f)\n",
    "with open(test_params_path, \"rb\") as f:\n",
    "    test_params = pickle.load(f)\n",
    "\n",
    "print(\"Init params:\")\n",
    "for k, v in init_params.items():\n",
    "    print(f\"{k}: {v}\")\n",
    "\n",
    "num_tests = init_params[\"num_tests\"]\n",
    "\n",
    "tests_results = []  # 2-dim list [idx of repeated test][idx of test]\n",
    "for i in range(num_tests):\n",
    "    test_path = os.path.join(stat_test_path, f\"test_{i}\")\n",
    "    test_result_path = os.path.join(test_path, \"test_results.pkl\")\n",
    "    with open(test_result_path, \"rb\") as f:\n",
    "        test_result = pickle.load(f)\n",
    "    tests_results.append(test_result)"
   ]
  },
  {
   "cell_type": "code",
   "execution_count": 18,
   "id": "88b82ec4",
   "metadata": {},
   "outputs": [
    {
     "ename": "KeyError",
     "evalue": "'subtest'",
     "output_type": "error",
     "traceback": [
      "\u001b[1;31m---------------------------------------------------------------------------\u001b[0m",
      "\u001b[1;31mKeyError\u001b[0m                                  Traceback (most recent call last)",
      "Cell \u001b[1;32mIn[18], line 6\u001b[0m\n\u001b[0;32m      4\u001b[0m subtest_results \u001b[38;5;241m=\u001b[39m []    \u001b[38;5;66;03m# 2-dim list [idx of test][idx of repeated test]\u001b[39;00m\n\u001b[0;32m      5\u001b[0m \u001b[38;5;28;01mfor\u001b[39;00m i, test_param \u001b[38;5;129;01min\u001b[39;00m \u001b[38;5;28menumerate\u001b[39m(test_params):\n\u001b[1;32m----> 6\u001b[0m     \u001b[38;5;28;01mif\u001b[39;00m test_param[\u001b[38;5;124m\"\u001b[39m\u001b[38;5;124msubtest\u001b[39m\u001b[38;5;124m\"\u001b[39m] \u001b[38;5;241m==\u001b[39m subtest:\n\u001b[0;32m      7\u001b[0m         subtest_params\u001b[38;5;241m.\u001b[39mappend(test_param)\n\u001b[0;32m      8\u001b[0m         subtest_results\u001b[38;5;241m.\u001b[39mappend([])\n",
      "\u001b[1;31mKeyError\u001b[0m: 'subtest'"
     ]
    }
   ],
   "source": [
    "subtest = 0\n",
    "\n",
    "subtest_params = []\n",
    "subtest_results = []    # 2-dim list [idx of test][idx of repeated test]\n",
    "for i, test_param in enumerate(test_params):\n",
    "    if test_param[\"subtest\"] == subtest:\n",
    "        subtest_params.append(test_param)\n",
    "        subtest_results.append([])\n",
    "        for j in range(num_tests):\n",
    "            subtest_results[-1].append(tests_results[j][i])"
   ]
  },
  {
   "cell_type": "code",
   "execution_count": null,
   "id": "4aec72f6",
   "metadata": {},
   "outputs": [
    {
     "name": "stdout",
     "output_type": "stream",
     "text": [
      "Subtest params:\n",
      "unlearning_method: information\n",
      "retrain_epochs: 2\n",
      "[np.int64(70), np.int64(70), np.int64(70), np.int64(70), np.int64(70), np.int64(70), np.int64(70), np.int64(70)]\n",
      "[np.float64(0.9889), np.float64(0.9889), np.float64(0.9889), np.float64(0.9889), np.float64(0.9889), np.float64(0.9889), np.float64(0.9889), np.float64(0.9889)]\n",
      "[np.float64(0.0), np.float64(0.0), np.float64(0.0), np.float64(0.0), np.float64(0.0), np.float64(0.0), np.float64(0.0), np.float64(0.0)]\n"
     ]
    },
    {
     "data": {
      "image/png": "[encoded data removed]",
      "text/plain": [
       "<Figure size 1000x500 with 1 Axes>"
      ]
     },
     "metadata": {},
     "output_type": "display_data"
    }
   ],
   "source": [
    "print(\"Subtest params:\")\n",
    "for key, value in subtest_params[0].items():\n",
    "    if key == \"unlearning_percentage\":\n",
    "        continue\n",
    "    print(f\"{key}: {value}\")\n",
    "\n",
    "percentages = []\n",
    "for test_param in subtest_params:\n",
    "    percentages.append(test_param[\"unlearning_percentage\"])\n",
    "\n",
    "key = \"trained_test_accuracy\"\n",
    "test_accuracies_avg = []\n",
    "test_accuracies_std = []\n",
    "for results in subtest_results:\n",
    "    test_accuracies = [results[i][key] for i in range(num_tests)]\n",
    "    test_accuracies_avg.append(np.mean(test_accuracies))\n",
    "    test_accuracies_std.append(np.std(test_accuracies))\n",
    "\n",
    "# Test accuracies plot\n",
    "plt.figure(figsize=(10, 5))\n",
    "plt.errorbar(percentages, test_accuracies_avg, yerr=test_accuracies_std, fmt='o')\n",
    "plt.title(key)\n",
    "plt.xlabel(\"Unlearning percentage\")\n",
    "plt.ylabel(key)\n",
    "plt.xticks(percentages)\n",
    "plt.grid()\n",
    "plt.show()"
   ]
  }
 ],
 "metadata": {
  "kernelspec": {
   "display_name": "fed-learn",
   "language": "python",
   "name": "python3"
  },
  "language_info": {
   "codemirror_mode": {
    "name": "ipython",
    "version": 3
   },
   "file_extension": ".py",
   "mimetype": "text/x-python",
   "name": "python",
   "nbconvert_exporter": "python",
   "pygments_lexer": "ipython3",
   "version": "3.11.9"
  }
 },
 "nbformat": 4,
 "nbformat_minor": 5
}
