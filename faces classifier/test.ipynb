{
 "cells": [
  {
   "cell_type": "code",
   "execution_count": 1,
   "metadata": {},
   "outputs": [],
   "source": [
    "import torch\n",
    "import torch.nn as nn\n",
    "import torch.optim as optim\n",
    "import numpy as np\n",
    "import matplotlib.pyplot as plt\n",
    "from torch.utils.data import DataLoader, TensorDataset"
   ]
  },
  {
   "cell_type": "code",
   "execution_count": 2,
   "metadata": {},
   "outputs": [],
   "source": [
    "\n",
    "# Create base images (happy, sad, neutral faces)\n",
    "def create_base_images():\n",
    "    base_images = np.zeros((3, 16, 16))\n",
    "    \n",
    "    # Happy face (index 0)\n",
    "    base_images[0, 4, 4] = base_images[0, 4, 11] = 1  # Eyes\n",
    "    base_images[0, 10, 5:11] = 1  # Smile (curved upwards)\n",
    "    base_images[0, 11, 4] = base_images[0, 11, 11] = 1  # Smile curve corners\n",
    "    base_images[0, 12, 3] = base_images[0, 12, 12] = 1  # Smile curve corners\n",
    "    \n",
    "    # Sad face (index 1)\n",
    "    base_images[1, 4, 4] = base_images[1, 4, 11] = 1  # Eyes\n",
    "    base_images[1, 11, 5:11] = 1  # Frown (curved downwards)\n",
    "    base_images[1, 10, 4] = base_images[1, 10, 11] = 1  # Smile curve corners\n",
    "    base_images[1, 9, 3] = base_images[1, 9, 12] = 1  # Smile curve corners\n",
    "\n",
    "    # Neutral face (index 2)\n",
    "    base_images[2, 4, 4] = base_images[2, 4, 11] = 1  # Eyes\n",
    "    base_images[2, 10, 4:12] = 1  # Straight line for mouth\n",
    "    \n",
    "    return base_images\n",
    "\n",
    "# Generate noisy dataset\n",
    "def generate_dataset(base_images, label=-1, num_samples=3000, noise_level=0.2):\n",
    "    images = []\n",
    "    labels = []\n",
    "    in_label=label\n",
    "    for i in range(num_samples):\n",
    "        if in_label == -1:\n",
    "            label = np.random.randint(0, 3)\n",
    "        img = base_images[label] + noise_level * np.random.randn(16, 16)\n",
    "        img = np.clip(img, 0, 1)  # Keep pixel values between 0 and 1\n",
    "        images.append(img)\n",
    "        labels.append(label)\n",
    "    return torch.tensor(images, dtype=torch.float32).unsqueeze(1), torch.tensor(labels, dtype=torch.long)\n",
    "\n",
    "# Define simple CNN model\n",
    "class SimpleCNN(nn.Module):\n",
    "    def __init__(self):\n",
    "        super(SimpleCNN, self).__init__()\n",
    "        self.conv1 = nn.Conv2d(1, 8, kernel_size=3, padding=1)\n",
    "        self.conv2 = nn.Conv2d(8, 16, kernel_size=3, padding=1)\n",
    "        self.fc1 = nn.Linear(16 * 16 * 16, 64)\n",
    "        self.fc2 = nn.Linear(64, 3)  # 3 classes\n",
    "    \n",
    "    def forward(self, x):\n",
    "        x = torch.relu(self.conv1(x))\n",
    "        x = torch.relu(self.conv2(x))\n",
    "        x = x.view(x.size(0), -1)  # Flatten\n",
    "        x = torch.relu(self.fc1(x))\n",
    "        x = self.fc2(x)\n",
    "        return x\n",
    "    \n",
    "# Compute Hessian\n",
    "def compute_hessian(model, criterion, data, target):\n",
    "    model.zero_grad()\n",
    "    output = model(data)\n",
    "    loss = criterion(output, target)\n",
    "    grad_params = torch.autograd.grad(loss, model.parameters(), create_graph=True)\n",
    "    hessian = []\n",
    "    for grad in grad_params:\n",
    "        grad_vector = grad.view(-1)\n",
    "        row = []\n",
    "        for g in grad_vector:\n",
    "            second_derivative = torch.autograd.grad(g, model.parameters(), retain_graph=True)\n",
    "            row.append(torch.cat([sd.contiguous().view(-1) for sd in second_derivative]))\n",
    "        hessian.append(torch.stack(row))\n",
    "    return torch.cat(hessian, dim=0)\n",
    "\n",
    "# Training function\n",
    "def train(model, train_loader, criterion, optimizer, epochs=5):\n",
    "    for epoch in range(epochs):\n",
    "        for images, labels in train_loader:\n",
    "            optimizer.zero_grad()\n",
    "            outputs = model(images)\n",
    "            loss = criterion(outputs, labels)\n",
    "            loss.backward()\n",
    "            optimizer.step()\n",
    "        print(f'Epoch [{epoch+1}/{epochs}], Loss: {loss.item():.4f}')\n"
   ]
  },
  {
   "cell_type": "code",
   "execution_count": 3,
   "metadata": {},
   "outputs": [
    {
     "name": "stderr",
     "output_type": "stream",
     "text": [
      "C:\\Users\\loren\\AppData\\Local\\Temp\\ipykernel_7576\\3286560374.py:35: UserWarning: Creating a tensor from a list of numpy.ndarrays is extremely slow. Please consider converting the list to a single numpy.ndarray with numpy.array() before converting to a tensor. (Triggered internally at C:\\cb\\pytorch_1000000000000\\work\\torch\\csrc\\utils\\tensor_new.cpp:277.)\n",
      "  return torch.tensor(images, dtype=torch.float32).unsqueeze(1), torch.tensor(labels, dtype=torch.long)\n"
     ]
    },
    {
     "name": "stdout",
     "output_type": "stream",
     "text": [
      "Epoch [1/5], Loss: 0.0023\n",
      "Epoch [2/5], Loss: 0.0003\n",
      "Epoch [3/5], Loss: 0.0001\n",
      "Epoch [4/5], Loss: 0.0000\n",
      "Epoch [5/5], Loss: 0.0000\n"
     ]
    }
   ],
   "source": [
    "\n",
    "# Main execution\n",
    "\n",
    "base_images = create_base_images()\n",
    "n_samples = 3000\n",
    "images_h, labels_h = generate_dataset(base_images, label=0, num_samples=n_samples//3)\n",
    "images_s, labels_s = generate_dataset(base_images, label=1, num_samples=n_samples//3)\n",
    "images_n, labels_n = generate_dataset(base_images, label=2, num_samples=n_samples//3)\n",
    "train_dataset_h = TensorDataset(images_h, labels_h)\n",
    "train_dataset_s = TensorDataset(images_s, labels_s)\n",
    "train_dataset_n = TensorDataset(images_n, labels_n)\n",
    "train_dataset = train_dataset_h + train_dataset_s\n",
    "train_loader = DataLoader(train_dataset, batch_size=32, shuffle=True)\n",
    "\n",
    "model = SimpleCNN()\n",
    "criterion = nn.CrossEntropyLoss()\n",
    "optimizer = optim.Adam(model.parameters(), lr=0.001)\n",
    "\n",
    "train(model, train_loader, criterion, optimizer, epochs=5)"
   ]
  },
  {
   "cell_type": "code",
   "execution_count": 4,
   "metadata": {},
   "outputs": [
    {
     "data": {
      "image/png": "[encoded data removed]",
      "text/plain": [
       "<Figure size 640x480 with 3 Axes>"
      ]
     },
     "metadata": {},
     "output_type": "display_data"
    },
    {
     "data": {
      "image/png": "[encoded data removed]",
      "text/plain": [
       "<Figure size 640x480 with 3 Axes>"
      ]
     },
     "metadata": {},
     "output_type": "display_data"
    },
    {
     "data": {
      "image/png": "[encoded data removed]",
      "text/plain": [
       "<Figure size 640x480 with 3 Axes>"
      ]
     },
     "metadata": {},
     "output_type": "display_data"
    },
    {
     "data": {
      "image/png": "[encoded data removed]",
      "text/plain": [
       "<Figure size 640x480 with 3 Axes>"
      ]
     },
     "metadata": {},
     "output_type": "display_data"
    }
   ],
   "source": [
    "\n",
    "# Test model on some samples\n",
    "test_samples_h, _ = generate_dataset(base_images, label=0, num_samples=3)\n",
    "test_samples_s, _ = generate_dataset(base_images, label=1, num_samples=3)\n",
    "test_samples_n, _ = generate_dataset(base_images, label=2, num_samples=3)\n",
    "test_samples = torch.cat((test_samples_h, test_samples_s, test_samples_n), dim=0)\n",
    "\n",
    "with torch.no_grad():\n",
    "    predictions = model(test_samples).argmax(dim=1)\n",
    "\n",
    "# Show some test images\n",
    "for i in range(3):\n",
    "    plt.subplot(1, 5, i+1)\n",
    "    plt.imshow(base_images[i].squeeze(), cmap='gray')\n",
    "    plt.axis('off')\n",
    "plt.show()\n",
    "\n",
    "# Show some test images\n",
    "for i in range(3):\n",
    "    plt.subplot(2, 3, i+1)\n",
    "    plt.imshow(test_samples[i].squeeze(), cmap='gray')\n",
    "    plt.title(f'Pred: {predictions[i].item()}')\n",
    "    plt.axis('off')\n",
    "plt.show()\n",
    "for i in range(3):\n",
    "    plt.subplot(2, 3, i+1)\n",
    "    plt.imshow(test_samples[3+i].squeeze(), cmap='gray')\n",
    "    plt.title(f'Pred: {predictions[3+i].item()}')\n",
    "    plt.axis('off')\n",
    "plt.show()\n",
    "for i in range(3):\n",
    "    plt.subplot(2, 3, i+1)\n",
    "    plt.imshow(test_samples[6+i].squeeze(), cmap='gray')\n",
    "    plt.title(f'Pred: {predictions[6+i].item()}')\n",
    "    plt.axis('off')\n",
    "plt.show()\n"
   ]
  },
  {
   "cell_type": "code",
   "execution_count": 5,
   "metadata": {},
   "outputs": [
    {
     "name": "stdout",
     "output_type": "stream",
     "text": [
      "<class 'torch.Tensor'> torch.Size([8, 1, 3, 3])\n",
      "<class 'torch.Tensor'> torch.Size([8])\n",
      "<class 'torch.Tensor'> torch.Size([16, 8, 3, 3])\n",
      "<class 'torch.Tensor'> torch.Size([16])\n",
      "<class 'torch.Tensor'> torch.Size([64, 4096])\n",
      "<class 'torch.Tensor'> torch.Size([64])\n",
      "<class 'torch.Tensor'> torch.Size([3, 64])\n",
      "<class 'torch.Tensor'> torch.Size([3])\n"
     ]
    }
   ],
   "source": [
    "for param in model.parameters():\n",
    "    print(type(param.data), param.size())"
   ]
  },
  {
   "cell_type": "code",
   "execution_count": 6,
   "metadata": {},
   "outputs": [
    {
     "name": "stdout",
     "output_type": "stream",
     "text": [
      "Hessian matrix shape: torch.Size([195, 195])\n"
     ]
    }
   ],
   "source": [
    "from torch.autograd.functional import hessian\n",
    "torch.cuda.empty_cache()\n",
    "\n",
    "\n",
    "def gauss_newton_approx(model, criterion, data, target):\n",
    "    model = model\n",
    "    data = data\n",
    "    target = target\n",
    "\n",
    "    model.zero_grad()\n",
    "    output = model(data)\n",
    "    loss = criterion(output, target)\n",
    "\n",
    "    def loss_function(params):\n",
    "        # Load parameters into model\n",
    "        idx = 0\n",
    "        i=0\n",
    "        for param in model.parameters():\n",
    "            if i<6:\n",
    "                i+=1\n",
    "                continue\n",
    "            param_length = param.numel()\n",
    "            param.data = params[idx : idx + param_length].view(param.shape)\n",
    "            idx += param_length\n",
    "\n",
    "        output = model(data)\n",
    "        return criterion(output, target)\n",
    "    \n",
    "        # Flatten the parameters into a single vector\n",
    "    params = torch.cat([p.flatten() for p in list(model.parameters())[6:8]])\n",
    "\n",
    "    # Compute Hessian\n",
    "    return hessian(loss_function, params)\n",
    "    \n",
    "def gauss_newton_approx_(model, criterion, data, target):\n",
    "    model.zero_grad()\n",
    "    output = model(data)\n",
    "    loss = criterion(output, target)\n",
    "\n",
    "    def loss_function(params):\n",
    "        # Load parameters into model\n",
    "        idx = 0\n",
    "        for param in model.parameters():\n",
    "            param_length = param.numel()\n",
    "            param.data = params[idx : idx + param_length].view(param.shape)\n",
    "            idx += param_length\n",
    "\n",
    "        output = model(data)\n",
    "        return criterion(output, target)\n",
    "\n",
    "    # Flatten the parameters into a single vector\n",
    "    params = torch.cat([p.flatten() for p in model.parameters()])\n",
    "\n",
    "    # Compute Hessian\n",
    "    return  hessian(loss_function, params)\n",
    "\n",
    "test_samples, test_labels = generate_dataset(base_images, num_samples=10)\n",
    "train_images=torch.cat([images_h,images_n,images_s])\n",
    "train_labels=torch.cat([labels_h,labels_n,labels_s])\n",
    "#hessian_matrix = gauss_newton_approx(model, criterion, test_samples, test_labels)\n",
    "hessian_matrix = gauss_newton_approx(model, criterion, train_images, train_labels)\n",
    "print(\"Hessian matrix shape:\", hessian_matrix.shape)"
   ]
  },
  {
   "cell_type": "code",
   "execution_count": 7,
   "metadata": {},
   "outputs": [
    {
     "name": "stdout",
     "output_type": "stream",
     "text": [
      "Eigenvalues:\n",
      "tensor([0.+0.j, 0.+0.j, 0.+0.j, 0.+0.j, 0.+0.j, 0.+0.j, 0.+0.j, 0.+0.j, 0.+0.j, 0.+0.j, 0.+0.j, 0.+0.j, 0.+0.j, 0.+0.j,\n",
      "        0.+0.j, 0.+0.j, 0.+0.j, 0.+0.j, 0.+0.j, 0.+0.j, 0.+0.j, 0.+0.j, 0.+0.j, 0.+0.j, 0.+0.j, 0.+0.j, 0.+0.j, 0.+0.j,\n",
      "        0.+0.j, 0.+0.j, 0.+0.j, 0.+0.j, 0.+0.j, 0.+0.j, 0.+0.j, 0.+0.j, 0.+0.j, 0.+0.j, 0.+0.j, 0.+0.j, 0.+0.j, 0.+0.j,\n",
      "        0.+0.j, 0.+0.j, 0.+0.j, 0.+0.j, 0.+0.j, 0.+0.j, 0.+0.j, 0.+0.j, 0.+0.j, 0.+0.j, 0.+0.j, 0.+0.j, 0.+0.j, 0.+0.j,\n",
      "        0.+0.j, 0.+0.j, 0.+0.j, 0.+0.j, 0.+0.j, 0.+0.j, 0.+0.j, 0.+0.j, 0.+0.j, 0.+0.j, 0.+0.j, 0.+0.j, 0.+0.j, 0.+0.j,\n",
      "        0.+0.j, 0.+0.j, 0.+0.j, 0.+0.j, 0.+0.j, 0.+0.j, 0.+0.j, 0.+0.j, 0.+0.j, 0.+0.j, 0.+0.j, 0.+0.j, 0.+0.j, 0.+0.j,\n",
      "        0.+0.j, 0.+0.j, 0.+0.j, 0.+0.j, 0.+0.j, 0.+0.j, 0.+0.j, 0.+0.j, 0.+0.j, 0.+0.j, 0.+0.j, 0.+0.j, 0.+0.j, 0.+0.j,\n",
      "        0.+0.j, 0.+0.j, 0.+0.j, 0.+0.j, 0.+0.j, 0.+0.j, 0.+0.j, 0.+0.j, 0.+0.j, 0.+0.j, 0.+0.j, 0.+0.j, 0.+0.j, 0.+0.j,\n",
      "        0.+0.j, 0.+0.j, 0.+0.j, 0.+0.j, 0.+0.j, 0.+0.j, 0.+0.j, 0.+0.j, 0.+0.j, 0.+0.j, 0.+0.j, 0.+0.j, 0.+0.j, 0.+0.j,\n",
      "        0.+0.j, 0.+0.j, 0.+0.j, 0.+0.j, 0.+0.j, 0.+0.j, 0.+0.j, 0.+0.j, 0.+0.j, 0.+0.j, 0.+0.j, 0.+0.j, 0.+0.j, 0.+0.j,\n",
      "        0.+0.j, 0.+0.j, 0.+0.j, 0.+0.j, 0.+0.j, 0.+0.j, 0.+0.j, 0.+0.j, 0.+0.j, 0.+0.j, 0.+0.j, 0.+0.j, 0.+0.j, 0.+0.j,\n",
      "        0.+0.j, 0.+0.j, 0.+0.j, 0.+0.j, 0.+0.j, 0.+0.j, 0.+0.j, 0.+0.j, 0.+0.j, 0.+0.j, 0.+0.j, 0.+0.j, 0.+0.j, 0.+0.j,\n",
      "        0.+0.j, 0.+0.j, 0.+0.j, 0.+0.j, 0.+0.j, 0.+0.j, 0.+0.j, 0.+0.j, 0.+0.j, 0.+0.j, 0.+0.j, 0.+0.j, 0.+0.j, 0.+0.j,\n",
      "        0.+0.j, 0.+0.j, 0.+0.j, 0.+0.j, 0.+0.j, 0.+0.j, 0.+0.j, 0.+0.j, 0.+0.j, 0.+0.j, 0.+0.j, 0.+0.j, 0.+0.j])\n",
      "\n",
      "Eigenvectors:\n",
      "tensor([[1.+0.j, 0.+0.j, 0.+0.j,  ..., 0.+0.j, 0.+0.j, 0.+0.j],\n",
      "        [0.+0.j, 1.+0.j, 0.+0.j,  ..., 0.+0.j, 0.+0.j, 0.+0.j],\n",
      "        [0.+0.j, 0.+0.j, 1.+0.j,  ..., 0.+0.j, 0.+0.j, 0.+0.j],\n",
      "        ...,\n",
      "        [0.+0.j, 0.+0.j, 0.+0.j,  ..., 1.+0.j, 0.+0.j, 0.+0.j],\n",
      "        [0.+0.j, 0.+0.j, 0.+0.j,  ..., 0.+0.j, 1.+0.j, 0.+0.j],\n",
      "        [0.+0.j, 0.+0.j, 0.+0.j,  ..., 0.+0.j, 0.+0.j, 1.+0.j]])\n"
     ]
    }
   ],
   "source": [
    "# Compute eigenvalues and eigenvectors\n",
    "eigvals, eigvecs = torch.linalg.eig(hessian_matrix)\n",
    "\n",
    "print(\"Eigenvalues:\")\n",
    "print(eigvals)  # Complex tensor if needed\n",
    "\n",
    "print(\"\\nEigenvectors:\")\n",
    "print(eigvecs)  # Columns are eigenvectors"
   ]
  }
 ],
 "metadata": {
  "kernelspec": {
   "display_name": "pytorch",
   "language": "python",
   "name": "python3"
  },
  "language_info": {
   "codemirror_mode": {
    "name": "ipython",
    "version": 3
   },
   "file_extension": ".py",
   "mimetype": "text/x-python",
   "name": "python",
   "nbconvert_exporter": "python",
   "pygments_lexer": "ipython3",
   "version": "3.11.9"
  }
 },
 "nbformat": 4,
 "nbformat_minor": 2
}
