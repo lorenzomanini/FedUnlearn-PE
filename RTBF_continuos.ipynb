{
  "cells": [
    {
      "cell_type": "code",
      "execution_count": 116,
      "metadata": {
        "id": "KXjLp3FDbodi"
      },
      "outputs": [],
      "source": [
        "import torch\n",
        "from torch import nn\n",
        "from torch.utils.data import DataLoader, Dataset, TensorDataset\n",
        "import numpy as np\n",
        "\n",
        "import matplotlib.pyplot as plt\n",
        "import pandas as pd\n",
        "\n",
        "from art.utils import load_mnist, preprocess\n",
        "\n",
        "import os\n",
        "import copy\n",
        "\n",
        "from utils.model import FLNet\n",
        "from utils.local_train import LocalTraining\n",
        "from utils.utils import Utils\n",
        "from utils.fusion import Fusion, FusionAvg, FusionRetrain\n",
        "\n",
        "from tqdm import tqdm\n",
        "\n",
        "import numdifftools as nd"
      ]
    },
    {
      "cell_type": "code",
      "execution_count": 117,
      "metadata": {},
      "outputs": [],
      "source": [
        "TRAIN=False\n",
        "COMPUTE_HESSIAN=True\n",
        "RETRAIN=True\n",
        "save_path = 'models/model.pt'\n",
        "load_path = 'models/model.pt'"
      ]
    },
    {
      "cell_type": "markdown",
      "metadata": {
        "id": "mumWmLPlbodk"
      },
      "source": [
        "#### FL Fusion Class Selection"
      ]
    },
    {
      "cell_type": "code",
      "execution_count": 118,
      "metadata": {
        "id": "MQW6Jsrjbodk"
      },
      "outputs": [],
      "source": [
        "def FL_round_fusion_selection(num_parties, fusion_key='FedAvg'):\n",
        "\n",
        "    fusion_class_dict = {\n",
        "        'FedAvg': FusionAvg(num_parties),\n",
        "        'Retrain': FusionRetrain(num_parties),\n",
        "        'Unlearn': FusionAvg(num_parties)\n",
        "        }\n",
        "\n",
        "    return fusion_class_dict[fusion_key]"
      ]
    },
    {
      "cell_type": "markdown",
      "metadata": {
        "id": "XuWPkVgIbodl"
      },
      "source": [
        "#### Set up No. of Parties, Party to be Erased, and Attack Parameters"
      ]
    },
    {
      "cell_type": "code",
      "execution_count": 119,
      "metadata": {
        "colab": {
          "base_uri": "https://localhost:8080/"
        },
        "id": "blwIyJDJbodl",
        "outputId": "753edb79-71a0-4ff1-abe8-b8c5e2da337c"
      },
      "outputs": [
        {
          "name": "stdout",
          "output_type": "stream",
          "text": [
            "Number of samples erased party: 12000\n",
            "Number of samples other party: 12000\n"
          ]
        }
      ],
      "source": [
        "num_parties = 5\n",
        "scale = 1\n",
        "#Select the party that I would like to erase (ex: 3)\n",
        "party_to_be_erased = 4\n",
        "\n",
        "num_samples_erased_party = int(60000 / num_parties * scale)\n",
        "num_samples_per_party = int((60000 - num_samples_erased_party)/(num_parties - 1))\n",
        "print('Number of samples erased party:', num_samples_erased_party)\n",
        "print('Number of samples other party:', num_samples_per_party)"
      ]
    },
    {
      "cell_type": "markdown",
      "metadata": {
        "id": "2zidgMsibodl"
      },
      "source": [
        "### 2. Load data\n",
        "<a id='section_2'></a>"
      ]
    },
    {
      "cell_type": "code",
      "execution_count": 120,
      "metadata": {
        "id": "g60G9SbSbodm"
      },
      "outputs": [],
      "source": [
        "(x_raw, y_raw), (x_raw_test, y_raw_test), min_, max_ = load_mnist(raw=True)\n",
        "\n",
        "x_train, y_train = preprocess(x_raw, y_raw)\n",
        "x_test, y_test = preprocess(x_raw_test, y_raw_test)\n",
        "\n",
        "n_train = np.shape(y_train)[0]\n",
        "shuffled_indices = np.arange(n_train)\n",
        "np.random.shuffle(shuffled_indices)\n",
        "x_train = x_train[shuffled_indices]\n",
        "y_train = y_train[shuffled_indices]"
      ]
    },
    {
      "cell_type": "markdown",
      "metadata": {},
      "source": [
        "Create Trainloader\n",
        "\n",
        "In this Notebook we are going to create it by the following principle:\n",
        " - Each client will have 50% of it's dataset given by classes common among all the clients\n",
        " - Remaining 50% will be given to each client and will be different among different clients\n",
        "\n",
        "Example:\n",
        "client 3 will have 50% given by the labels: [0,1,2,3,4]. 50% will be with data coming just from the label [7]"
      ]
    },
    {
      "cell_type": "code",
      "execution_count": 121,
      "metadata": {
        "id": "nTXoPOPqlrEH"
      },
      "outputs": [],
      "source": [
        "all_indices = np.arange(len(y_train))\n",
        "common_classes_indices = all_indices[np.sum(y_train*np.array([1,1,1,1,1,0,0,0,0,0]), axis = 1).astype(bool)]\n",
        "list_clients_dataset_indices = np.split(common_classes_indices[:-(len(common_classes_indices)%5)], 5)\n",
        "\n",
        "for i in range(5,10):\n",
        "  label = [0,0,0,0,0,0,0,0,0,0]\n",
        "  label[i] = 1\n",
        "  indx = all_indices[np.sum(y_train*np.array(label), axis = 1).astype(bool)]\n",
        "  list_clients_dataset_indices[i-5] = np.concatenate((list_clients_dataset_indices[i-5], indx[:len(indx)//5]))\n",
        "\n",
        "x_train_ch = np.expand_dims(x_train, axis=1)\n",
        "y_train_c = np.argmax(y_train, axis=1).astype(int)\n",
        "trainloader_lst = []\n",
        "for indices in list_clients_dataset_indices:\n",
        "  ds = TensorDataset(torch.Tensor(x_train_ch[indices]), torch.Tensor(y_train_c[indices]).long())\n",
        "  trainloader_lst.append(DataLoader(ds, batch_size=128, shuffle=True))\n",
        "\n",
        "x_test_pt = np.expand_dims(x_test, axis = 1)\n",
        "y_test_pt = np.argmax(y_test,axis=1).astype(int)\n",
        "dataset_test = TensorDataset(torch.Tensor(x_test_pt), torch.Tensor(y_test_pt).long())\n",
        "testloader = DataLoader(dataset_test, batch_size=1000, shuffle=False)"
      ]
    },
    {
      "cell_type": "code",
      "execution_count": 122,
      "metadata": {},
      "outputs": [],
      "source": [
        "trainloader_class_list = []\n",
        "for i in range(10):\n",
        "    label = [0,0,0,0,0,0,0,0,0,0]\n",
        "    label[i] = 1\n",
        "    indices = all_indices[np.sum(y_train*np.array(label), axis = 1).astype(bool)]\n",
        "    ds = TensorDataset(torch.Tensor(x_train_ch[indices]), torch.Tensor(y_train_c[indices]).long())\n",
        "    trainloader_class_list.append(DataLoader(ds, batch_size=128, shuffle=True))"
      ]
    },
    {
      "cell_type": "code",
      "execution_count": 123,
      "metadata": {},
      "outputs": [
        {
          "data": {
            "image/png": "[encoded data removed]",
            "text/plain": [
              "<Figure size 1400x500 with 6 Axes>"
            ]
          },
          "metadata": {},
          "output_type": "display_data"
        }
      ],
      "source": [
        "client_stats=[[]for i in range(5)]\n",
        "for client in range(5):\n",
        "    for category in range(10):\n",
        "        client_indices=list_clients_dataset_indices[client]\n",
        "        count=0\n",
        "        for i in client_indices:\n",
        "            if y_train_c[i]==category:\n",
        "                count+=1\n",
        "        client_stats[client].append(count)\n",
        "\n",
        "axs = fig, axs = plt.subplots(2, 3, figsize=(14, 5))\n",
        "for i,client in enumerate(client_stats):\n",
        "    axs[i//3][i%3].bar(range(10),client)\n",
        "    axs[i//3][i%3].set_title('Client '+str(i))\n",
        "    axs[i//3][i%3].set_xticks(range(10))\n",
        "    axs[i//3][i%3].set_xticklabels(range(10))\n",
        "    axs[i//3][i%3].set_xlabel('Category')\n",
        "    axs[i//3][i%3].set_ylabel('Number of samples')\n",
        "\n",
        "plt.tight_layout()\n",
        "plt.show()\n"
      ]
    },
    {
      "cell_type": "markdown",
      "metadata": {
        "id": "axJ7G-v3bodq"
      },
      "source": [
        "## 2. Train the FL Model\n",
        "<a id='section_3'></a>"
      ]
    },
    {
      "cell_type": "code",
      "execution_count": 124,
      "metadata": {
        "id": "OidAXsNCbodq"
      },
      "outputs": [],
      "source": [
        "num_of_repeats = 1\n",
        "num_fl_rounds = 50\n",
        "\n",
        "#fusion_types = ['FedAvg','Retrain']\n",
        "fusion_types = ['FedAvg']\n",
        "fusion_types_unlearn = ['Retrain', 'Unlearn']\n",
        "\n",
        "num_updates_in_epoch = None\n",
        "num_local_epochs = 1\n",
        "\n",
        "dist_Retrain = {}\n",
        "loss_fed = {}\n",
        "grad_fed = {}\n",
        "clean_accuracy = {}\n",
        "pois_accuracy = {}\n",
        "for fusion_key in fusion_types:\n",
        "    loss_fed[fusion_key] = np.zeros(num_fl_rounds)\n",
        "    grad_fed[fusion_key] = np.zeros(num_fl_rounds)\n",
        "    clean_accuracy[fusion_key] = np.zeros(num_fl_rounds)\n",
        "    pois_accuracy[fusion_key] = np.zeros(num_fl_rounds)\n",
        "    if fusion_key != 'Retrain':\n",
        "        dist_Retrain[fusion_key] = np.zeros(num_fl_rounds)"
      ]
    },
    {
      "cell_type": "markdown",
      "metadata": {
        "id": "eK4uFm0mbodq"
      },
      "source": [
        "Train and evaluate the FL Model"
      ]
    },
    {
      "cell_type": "code",
      "execution_count": 125,
      "metadata": {
        "id": "69A_c5jVbodq"
      },
      "outputs": [],
      "source": [
        "class FLNet2(nn.Sequential):\n",
        "    def __init__(self):\n",
        "        super(FLNet2, self).__init__(\n",
        "            nn.Conv2d(1, 32, 5, padding=2),\n",
        "            nn.ReLU(),\n",
        "            nn.MaxPool2d(2),\n",
        "            nn.Conv2d(32, 64, 5, padding=2),\n",
        "            nn.ReLU(),\n",
        "            nn.MaxPool2d(2),\n",
        "            nn.Flatten(),\n",
        "            nn.Linear(64 * 7 * 7, 512),\n",
        "            nn.ReLU(),\n",
        "            nn.Linear(512, 10)\n",
        "        )"
      ]
    },
    {
      "cell_type": "code",
      "execution_count": 126,
      "metadata": {
        "colab": {
          "base_uri": "https://localhost:8080/"
        },
        "id": "a4fZ8c9mbodq",
        "outputId": "1dfb2bbd-7403-45d7-aadd-f20de824e6ba"
      },
      "outputs": [],
      "source": [
        "if TRAIN:\n",
        "    device = 'cuda' if torch.cuda.is_available() else 'cpu'\n",
        "    if device == 'cuda':\n",
        "        torch.cuda.empty_cache()\n",
        "    party_models_dict = {}\n",
        "    initial_model = FLNet2()\n",
        "    model_dict = {}\n",
        "\n",
        "    for fusion_key in fusion_types:\n",
        "        model_dict[fusion_key] = copy.deepcopy(initial_model.state_dict())\n",
        "\n",
        "    for round_num in range(num_fl_rounds):\n",
        "        local_training = LocalTraining(num_updates_in_epoch=num_updates_in_epoch, num_local_epochs=num_local_epochs)\n",
        "\n",
        "        for fusion_key in fusion_types:\n",
        "            fusion = FL_round_fusion_selection(num_parties=num_parties, fusion_key=fusion_key)\n",
        "\n",
        "            current_model_state_dict = copy.deepcopy(model_dict[fusion_key])\n",
        "            model = copy.deepcopy(initial_model)\n",
        "            model.load_state_dict(current_model_state_dict)\n",
        "\n",
        "            ##################### Local Training Round #############################\n",
        "            party_models = []\n",
        "            party_losses = []\n",
        "            party_grad   = []        \n",
        "            for party_id in range(num_parties):\n",
        "\n",
        "                if fusion_key == 'Retrain':\n",
        "                    break\n",
        "                else:\n",
        "                    model = copy.deepcopy(model).to(device)\n",
        "                    model_update, party_loss = local_training.train(model=model,\n",
        "                                                trainloader=trainloader_lst[party_id],\n",
        "                                                device = device,\n",
        "                                                criterion=None, opt=None)\n",
        "\n",
        "                    party_models.append(copy.deepcopy(model_update.to('cpu')))\n",
        "                    party_losses.append(party_loss)\n",
        "\n",
        "                grad_norm = 0.0\n",
        "                for param in model_update.parameters():\n",
        "                    if param.grad is not None:\n",
        "                        grad_norm += torch.norm(param.grad).cpu().item()\n",
        "            \n",
        "                party_grad.append(grad_norm)   \n",
        "            \n",
        "            grad_fed[fusion_key][round_num] += (np.mean(party_grad)/num_of_repeats) \n",
        "\n",
        "            loss_fed[fusion_key][round_num] += (np.mean(party_losses)/num_of_repeats)\n",
        "            ######################################################################\n",
        "\n",
        "            current_model_state_dict = fusion.fusion_algo(party_models=party_models, current_model=model)\n",
        "\n",
        "            model_dict[fusion_key] = copy.deepcopy(current_model_state_dict)\n",
        "            party_models_dict[fusion_key] = party_models\n",
        "\n",
        "            eval_model = FLNet2()\n",
        "            eval_model.load_state_dict(current_model_state_dict)\n",
        "            clean_acc = Utils.evaluate(testloader, eval_model)\n",
        "            clean_accuracy[fusion_key][round_num] = clean_acc\n",
        "            print(f'Global Clean Accuracy {fusion_key}, round {round_num} = {clean_acc}')"
      ]
    },
    {
      "cell_type": "code",
      "execution_count": 127,
      "metadata": {
        "id": "P5AI3tcrKmdH"
      },
      "outputs": [],
      "source": [
        "if TRAIN:\n",
        "    def save_model_with_unique_name(model, base_path):\n",
        "        # Split the base_path into the file name and extension\n",
        "        base, ext = os.path.splitext(base_path)\n",
        "        new_path = base_path\n",
        "        counter = 1\n",
        "        \n",
        "        # Check if the file exists and update the filename if needed\n",
        "        while os.path.exists(new_path):\n",
        "            new_path = f\"{base}({counter}){ext}\"\n",
        "            counter += 1\n",
        "\n",
        "        torch.save(model.state_dict(), new_path)\n",
        "        print(f\"Model saved to {new_path}\")\n",
        "\n",
        "    eval_model = FLNet2()\n",
        "    eval_model.load_state_dict(current_model_state_dict)\n",
        "    save_model_with_unique_name(eval_model, save_path)"
      ]
    },
    {
      "cell_type": "code",
      "execution_count": 128,
      "metadata": {},
      "outputs": [
        {
          "data": {
            "text/plain": [
              "<All keys matched successfully>"
            ]
          },
          "execution_count": 128,
          "metadata": {},
          "output_type": "execute_result"
        }
      ],
      "source": [
        "saved_model = FLNet2()\n",
        "saved_model.load_state_dict(torch.load(load_path, weights_only=True))"
      ]
    },
    {
      "cell_type": "code",
      "execution_count": 129,
      "metadata": {
        "id": "ywoEitAZbodq"
      },
      "outputs": [],
      "source": [
        "def create_dataloader(idx_client, _list_trainloader, percentage_to_remove):\n",
        "    list_trainloader = copy.deepcopy(_list_trainloader)\n",
        "    client_dataset = list_trainloader[idx_client].dataset\n",
        "\n",
        "    num_samples_to_remove = int(len(client_dataset) * percentage_to_remove)\n",
        "    num_samples_to_keep = len(client_dataset) - num_samples_to_remove\n",
        "    \n",
        "    if num_samples_to_keep != 0:\n",
        "        new_dataset = TensorDataset(client_dataset[:num_samples_to_keep][0], client_dataset[:num_samples_to_keep][1])\n",
        "        list_trainloader[idx_client] = DataLoader(new_dataset, batch_size=128)\n",
        "\n",
        "    else:\n",
        "        list_trainloader.pop(idx_client)\n",
        "\n",
        "    return list_trainloader, num_samples_to_remove"
      ]
    },
    {
      "cell_type": "code",
      "execution_count": 130,
      "metadata": {},
      "outputs": [],
      "source": [
        "from torch.utils.data import ConcatDataset\n",
        "\n",
        "def analyze_removal(_model, _trainloader_list):\n",
        "    remove_percentages = np.linspace(0, 1, 10)\n",
        "    trainloader_list = copy.deepcopy(_trainloader_list)\n",
        "\n",
        "    device = 'cuda' if torch.cuda.is_available() else 'cpu'\n",
        "\n",
        "    model = copy.deepcopy(_model).to(device)\n",
        "    criterion = nn.CrossEntropyLoss()\n",
        "\n",
        "\n",
        "    # Shuffle training datasets for each client only at the beginning\n",
        "    # (this is done to avoid fictitious determinism in the results)\n",
        "    training_datasets = [loader.dataset for loader in trainloader_list]\n",
        "    shuffled_training_datasets = []\n",
        "    for dataset in training_datasets:\n",
        "        indices = np.random.permutation(len(dataset))\n",
        "        shuffled_training_datasets.append(TensorDataset(dataset[indices][0], dataset[indices][1]))\n",
        "    shuffled_trainloader_list = [DataLoader(dataset, batch_size=128) for dataset in shuffled_training_datasets]\n",
        "\n",
        "    results = []\n",
        "\n",
        "    for remove_percentage in remove_percentages:\n",
        "\n",
        "        trainloader_list, _ = create_dataloader(party_to_be_erased, shuffled_trainloader_list, remove_percentage)\n",
        "        \n",
        "        client_dataset = ConcatDataset([loader.dataset for loader in trainloader_list])\n",
        "        loader = DataLoader(client_dataset, batch_size=128)\n",
        "\n",
        "        loss_sum = 0\n",
        "        grad_sum = torch.zeros_like(torch.cat([param.flatten() for param in model.parameters()]))\n",
        "        number_of_batches = 0\n",
        "\n",
        "        for inputs, targets in loader:\n",
        "            inputs, targets = inputs.to(device), targets.to(device)\n",
        "            # Forward pass\n",
        "            model.zero_grad()\n",
        "            outputs = model(inputs)\n",
        "            loss = criterion(outputs, targets)\n",
        "            loss.backward()\n",
        "            \n",
        "            # Sum quantities\n",
        "            loss_sum += loss.cpu().item()\n",
        "            grad_sum += torch.cat([param.grad.flatten() for param in model.parameters()])\n",
        "            number_of_batches += 1\n",
        "            \n",
        "        grad_norm = torch.norm(grad_sum).cpu().item() / number_of_batches\n",
        "        loss = loss_sum / number_of_batches\n",
        "\n",
        "        \n",
        "        # Store results\n",
        "        results.append({\n",
        "            'removal_percentage': remove_percentage,\n",
        "            'gradient_norm': grad_norm,\n",
        "            'loss': loss\n",
        "        })\n",
        "        \n",
        "        print(f\"Removal percentage: {remove_percentage:.2f}\")\n",
        "        print(f\"  - Number of samples: {sum([len(loader.dataset) for loader in trainloader_list])}\")\n",
        "        print(f\"  - Gradient norm: {grad_norm:.4f}\")\n",
        "        print(f\"  - Loss: {loss:.4f}\")\n",
        "        print(\"-\" * 50)\n",
        "\n",
        "    # Convert results to DataFrame for easier analysis\n",
        "    results_df = pd.DataFrame(results)\n",
        "\n",
        "    # Create plots\n",
        "    fig, axs = plt.subplots(1, 2, figsize=(14, 5))\n",
        "\n",
        "    # Plot gradient norm vs Removal percentage\n",
        "    axs[0].plot(results_df['removal_percentage'], results_df['gradient_norm'], 'o-')\n",
        "    axs[0].set_title('Gradient Norm vs. Removal Percentage')\n",
        "    axs[0].set_xlabel('Removal Percentage')\n",
        "    axs[0].set_ylabel('Gradient Norm')\n",
        "    axs[0].grid(True)\n",
        "\n",
        "    # Plot loss vs Removal percentage\n",
        "    axs[1].plot(results_df['removal_percentage'], results_df['loss'], 'o-')\n",
        "    axs[1].set_title('Loss vs. Removal Percentage')\n",
        "    axs[1].set_xlabel('Removal Percentage')\n",
        "    axs[1].set_ylabel('Loss')\n",
        "    axs[1].grid(True)\n",
        "\n",
        "    plt.tight_layout()\n",
        "    plt.show()\n",
        "\n",
        "#analyze_removal(saved_model, trainloader_lst)"
      ]
    },
    {
      "cell_type": "code",
      "execution_count": 131,
      "metadata": {},
      "outputs": [],
      "source": [
        "from backpack import backpack, extend\n",
        "from backpack.extensions import DiagHessian\n",
        "\n",
        "trainloader_list = [DataLoader(dloader.dataset, batch_size=128) for dloader in trainloader_lst]\n",
        "#trainloader_list_removed, num_removed = create_dataloader(party_to_be_erased, trainloader_list, 0.8) \n",
        "\n",
        "#Use the model if coming from the training or load if you have it downloaded\n",
        "final_model = copy.deepcopy(saved_model)\n",
        "final_model = extend(final_model)\n",
        "\n",
        "criterion = nn.CrossEntropyLoss()\n",
        "criterion = extend(criterion)\n",
        "\n",
        "delta = 0.0001\n",
        "\n",
        "# Create weights list\n",
        "weights_unlearned = [1] * len(trainloader_list)\n",
        "weights_unlearned[party_to_be_erased] = 1 - delta\n",
        "\n",
        "weights_unlearned=torch.tensor(weights_unlearned, dtype=torch.float32)\n",
        "\n",
        "weights_half = weights_unlearned\n",
        "weights_half[party_to_be_erased] = 1 - delta / 2\n"
      ]
    },
    {
      "cell_type": "markdown",
      "metadata": {},
      "source": [
        "Compute Hessians"
      ]
    },
    {
      "cell_type": "code",
      "execution_count": 132,
      "metadata": {},
      "outputs": [],
      "source": [
        "def compute_diag_hessian(model, criterion, inputs, targets, device='cpu'):\n",
        "    inputs = inputs.to(device)\n",
        "    targets = targets.to(device)\n",
        "\n",
        "    model.zero_grad()\n",
        "    outputs = model(inputs)\n",
        "    loss = criterion(outputs, targets)\n",
        "\n",
        "    with backpack(DiagHessian()):\n",
        "        loss.backward()\n",
        "\n",
        "    diag_hessian_params = {}\n",
        "    for name, param in model.named_parameters():\n",
        "        if hasattr(param, 'diag_h') and param.requires_grad:\n",
        "            diag_hessian_params[name] = param.diag_h.clone().detach()\n",
        "            # Cleanup to avoid leftover references\n",
        "            del param.diag_h\n",
        "\n",
        "    return diag_hessian_params\n",
        "\n",
        "\n",
        "class AccumulatedDiagHessian:\n",
        "\n",
        "    def __init__(self, model, criterion, device=None):\n",
        "        self.model = model\n",
        "        self.criterion = criterion\n",
        "        self.device = device if device else ('cuda' if torch.cuda.is_available() else 'cpu')\n",
        "\n",
        "        self.client_hessians = []  # Will store per-client Hessians\n",
        "\n",
        "        # Will store final per-client Hessians after summing across that client's batches\n",
        "        self.num_clients = 0\n",
        "        self._computed = False\n",
        "\n",
        "    def compute_client_hessians(self, dataloader_list):\n",
        "\n",
        "        self.model = self.model.to(self.device)\n",
        "        self.num_clients = len(dataloader_list)\n",
        "\n",
        "        for loader_idx, loader in enumerate(dataloader_list):\n",
        "            accumulated_diag_h = {}\n",
        "            print(f\"[Hessian] Calculating diagonal Hessian for client {loader_idx}...\")\n",
        "            \n",
        "            for batch_idx, (inputs, targets) in enumerate(loader):\n",
        "                # Compute the diag Hessian for this batch\n",
        "                diag_h = compute_diag_hessian(self.model, self.criterion, inputs, targets, device=self.device)\n",
        "\n",
        "                # Accumulate\n",
        "                for name, value in diag_h.items():\n",
        "                    if name not in accumulated_diag_h:\n",
        "                        accumulated_diag_h[name] = value/len(loader)\n",
        "                    else:\n",
        "                        accumulated_diag_h[name] += value/len(loader)\n",
        "\n",
        "\n",
        "            # Store the accumulated Hessian for this client\n",
        "            self.client_hessians.append(accumulated_diag_h)\n",
        "\n",
        "        self._computed = True\n",
        "\n",
        "    def total_hessian(self):\n",
        "\n",
        "        if not self._computed:\n",
        "            raise RuntimeError(\"You must call `compute_client_hessians(...)` before requesting weights.\")\n",
        "\n",
        "        total_hessian = {}\n",
        "\n",
        "        for name in self.client_hessians[0].keys():\n",
        "            hess = sum(client_hessian[name] for client_hessian in self.client_hessians)/self.num_clients\n",
        "            total_hessian[name] = hess.cpu().detach()\n",
        "        \n",
        "        return total_hessian\n",
        "    \n",
        "    \n",
        "    def client_hessian_derivative(self, client_idx):\n",
        "\n",
        "        if not self._computed:\n",
        "            raise RuntimeError(\"You must call `compute_client_hessians(...)` before requesting weights.\")\n",
        "        \n",
        "        hessian_derivative = {}\n",
        "\n",
        "        for name in self.client_hessians[0].keys():\n",
        "            hess = self.client_hessians[client_idx][name] / self.num_clients\n",
        "            hessian_derivative[name] = hess.cpu().detach()\n",
        "        return hessian_derivative\n",
        "            "
      ]
    },
    {
      "cell_type": "code",
      "execution_count": 133,
      "metadata": {},
      "outputs": [
        {
          "name": "stdout",
          "output_type": "stream",
          "text": [
            "[Hessian] Calculating diagonal Hessian for client 0...\n",
            "[Hessian] Calculating diagonal Hessian for client 1...\n",
            "[Hessian] Calculating diagonal Hessian for client 2...\n",
            "[Hessian] Calculating diagonal Hessian for client 3...\n",
            "[Hessian] Calculating diagonal Hessian for client 4...\n"
          ]
        }
      ],
      "source": [
        "if COMPUTE_HESSIAN:\n",
        "    hessian_calculator = AccumulatedDiagHessian(final_model, criterion)\n",
        "    hessian_calculator.compute_client_hessians(trainloader_list)"
      ]
    },
    {
      "cell_type": "code",
      "execution_count": 134,
      "metadata": {},
      "outputs": [],
      "source": [
        "if COMPUTE_HESSIAN:\n",
        "    total_hessian = hessian_calculator.total_hessian()\n",
        "    hessian_derivative = hessian_calculator.client_hessian_derivative(party_to_be_erased)"
      ]
    },
    {
      "cell_type": "markdown",
      "metadata": {
        "id": "z00eqTLgZUjz"
      },
      "source": [
        "OUR METHOD"
      ]
    },
    {
      "cell_type": "code",
      "execution_count": 135,
      "metadata": {},
      "outputs": [],
      "source": [
        "def continuos_information(total_hessian, hessian_derivative):\n",
        "    information = []\n",
        "    for k in total_hessian.keys():\n",
        "        I = 0.5 * torch.pow(hessian_derivative[k]/total_hessian[k], 2)\n",
        "        I[total_hessian[k] == 0] = 0\n",
        "        information.append(I)\n",
        "    return information"
      ]
    },
    {
      "cell_type": "code",
      "execution_count": 136,
      "metadata": {
        "colab": {
          "base_uri": "https://localhost:8080/"
        },
        "collapsed": true,
        "id": "mgeUVILJZbnd",
        "outputId": "29f4735c-7cd4-4709-8179-b44b3728eef7"
      },
      "outputs": [],
      "source": [
        "if COMPUTE_HESSIAN:  \n",
        "    info_true = continuos_information(total_hessian, hessian_derivative)"
      ]
    },
    {
      "cell_type": "code",
      "execution_count": 137,
      "metadata": {},
      "outputs": [],
      "source": [
        "if COMPUTE_HESSIAN:\n",
        "    import pickle\n",
        "\n",
        "    with open('cached/info_true.pkl', 'wb') as f:\n",
        "        pickle.dump(info_true, f)"
      ]
    },
    {
      "cell_type": "markdown",
      "metadata": {},
      "source": [
        "Load hessians"
      ]
    },
    {
      "cell_type": "code",
      "execution_count": 138,
      "metadata": {},
      "outputs": [],
      "source": [
        "import pickle\n",
        "with open('cached/info_true.pkl', 'rb') as f:\n",
        "    info_true = pickle.load(f)"
      ]
    },
    {
      "cell_type": "code",
      "execution_count": 139,
      "metadata": {
        "id": "ModxW028mf5Y"
      },
      "outputs": [],
      "source": [
        "def sum_information_values(information):\n",
        "    # Initialize an empty list to store all flattened tensors\n",
        "    all_values = []\n",
        "\n",
        "    # Iterate through each parameter's information tensor\n",
        "    for tensor in information:\n",
        "        # Flatten the tensor and add to our list\n",
        "        temp=torch.nan_to_num(tensor.flatten())\n",
        "        temp = temp[torch.isinf(temp)==0]\n",
        "        temp = temp[temp!=0]\n",
        "        all_values.append(temp)\n",
        "\n",
        "    # Concatenate all tensors into one large tensor\n",
        "    combined_tensor = torch.cat(all_values)\n",
        "    print(len(combined_tensor))\n",
        "    return combined_tensor\n",
        "\n",
        "def plot_information(information):\n",
        "    combined_tensor = sum_information_values(information)\n",
        "\n",
        "    # Convert to numpy for plotting\n",
        "    values = combined_tensor.detach().cpu().numpy()\n",
        "\n",
        "    # Create the plot\n",
        "    plt.figure(figsize=(10, 6))\n",
        "\n",
        "    #Histogram\n",
        "    plt.subplot(1, 2, 1)\n",
        "    plt.hist(values, alpha=0.7, bins=50)\n",
        "    plt.title('Distribution of Information Values')\n",
        "    plt.xlabel('Value')\n",
        "    plt.ylabel('Frequency')\n",
        "\n",
        "    # Exclude outliers for the second plot (optional)\n",
        "    q1, q3 = np.percentile(values, [0, 98])\n",
        "    iqr = q3 - q1\n",
        "    # lower_bound = q1 - 1.5 * iqr\n",
        "    # upper_bound = q3 + 1.5 * iqr\n",
        "    lower_bound = q1\n",
        "    upper_bound = q3\n",
        "    filtered_values = values[(values >= lower_bound) & (values <= upper_bound)]\n",
        "    print(f\"Number of outliers: {len(values) - len(filtered_values)}\")\n",
        "\n",
        "    # Filtered histogram (without outliers)\n",
        "    plt.subplot(1, 2, 2)\n",
        "    plt.hist(filtered_values, alpha=0.7, bins=30, color='green')\n",
        "    plt.title('Distribution (Outliers Removed)')\n",
        "    plt.xlabel('Value')\n",
        "\n",
        "    plt.tight_layout()\n",
        "    plt.show()\n",
        "\n",
        "    # Print some statistics\n",
        "    print(f\"Sum of all information values: {combined_tensor.sum().item():.6f}\")\n",
        "    print(f\"Mean: {combined_tensor.mean().item()}\")\n",
        "    print(f\"Min: {combined_tensor.min().item()}\")\n",
        "    print(f\"Max: {combined_tensor.max().item()}\")\n",
        "    print(f\"Total number of values: {len(values)}\")\n",
        "\n",
        "    print(f\"Sum of all information values: {filtered_values.sum().item():.6f}\")\n",
        "    print(f\"Mean: {filtered_values.mean().item()}\")\n",
        "    print(f\"Min: {filtered_values.min().item()}\")\n",
        "    print(f\"Max: {filtered_values.max().item()}\")\n",
        "    print(f\"Total number of values: {len(filtered_values)}\")\n",
        "\n",
        "    return combined_tensor.sum().item(), filtered_values.sum().item()"
      ]
    },
    {
      "cell_type": "code",
      "execution_count": 140,
      "metadata": {
        "colab": {
          "base_uri": "https://localhost:8080/",
          "height": 211
        },
        "id": "F4R6HHhMmlt5",
        "outputId": "2c8b6c11-1b48-4702-86be-64b04f0bb913"
      },
      "outputs": [
        {
          "name": "stdout",
          "output_type": "stream",
          "text": [
            "1517086\n",
            "Number of outliers: 30342\n"
          ]
        },
        {
          "data": {
            "image/png": "[encoded data removed]",
            "text/plain": [
              "<Figure size 1000x600 with 2 Axes>"
            ]
          },
          "metadata": {},
          "output_type": "display_data"
        },
        {
          "name": "stdout",
          "output_type": "stream",
          "text": [
            "Sum of all information values: 62010.214844\n",
            "Mean: 0.040874555706977844\n",
            "Min: 1.401298464324817e-45\n",
            "Max: 0.5\n",
            "Total number of values: 1517086\n",
            "Sum of all information values: 49095.425781\n",
            "Mean: 0.03302210941910744\n",
            "Min: 1.401298464324817e-45\n",
            "Max: 0.31864726543426514\n",
            "Total number of values: 1486744\n"
          ]
        },
        {
          "data": {
            "text/plain": [
              "(62010.21484375, 49095.42578125)"
            ]
          },
          "execution_count": 140,
          "metadata": {},
          "output_type": "execute_result"
        }
      ],
      "source": [
        "plot_information(info_true)"
      ]
    },
    {
      "cell_type": "markdown",
      "metadata": {},
      "source": [
        "Helper Functions"
      ]
    },
    {
      "cell_type": "code",
      "execution_count": 141,
      "metadata": {},
      "outputs": [],
      "source": [
        "import torchmetrics\n",
        "import seaborn as sns\n",
        "\n",
        "# create validation routine\n",
        "def validate(net, dl, n_classes, device):\n",
        "    # create metric objects\n",
        "    tm_acc = torchmetrics.Accuracy(task='multiclass', num_classes=n_classes, average= 'macro', top_k=1)\n",
        "    tm_con = torchmetrics.ConfusionMatrix(task=\"multiclass\", num_classes=n_classes)\n",
        "    # move metric to device\n",
        "    net.to(device)\n",
        "    tm_acc.to(device)\n",
        "    tm_con.to(device)\n",
        "    # set network in eval mode\n",
        "    net.eval()\n",
        "    # at the end of epoch, validate model\n",
        "    for loader_idx, loader in enumerate(dl):\n",
        "        for inputs, targets in loader:\n",
        "        \n",
        "            inputs = inputs.to(device)\n",
        "            targets = targets.to(device)\n",
        "            # remove singleton dimension\n",
        "            targets = targets.squeeze()\n",
        "            # get output\n",
        "            with torch.no_grad():\n",
        "                # perform prediction\n",
        "                logits = net(inputs)\n",
        "            # update metrics\n",
        "            _, predicted = torch.max(logits.data, 1)\n",
        "            tm_acc.update(predicted, targets)\n",
        "            tm_con.update(predicted, targets)\n",
        "\n",
        "    # at the end, compute metric\n",
        "    acc = tm_acc.compute()\n",
        "    con = tm_con.compute()\n",
        "    # set network in training mode\n",
        "    \n",
        "    return acc, con\n",
        "\n",
        "\n",
        "def plot_confusion_matrix(conf_mat):\n",
        "    cm = sns.light_palette(\"blue\", as_cmap=True)\n",
        "    x=pd.DataFrame(conf_mat.cpu())\n",
        "    x=x.style.background_gradient(cmap=cm)\n",
        "    display(x)\n",
        "\n",
        "\n",
        "# Compute accuracy for each client\n",
        "def compute_accuracy(model, testloader):\n",
        "    device = 'cuda' if torch.cuda.is_available() else 'cpu'\n",
        "    model = model.to(device)\n",
        "    correct = 0\n",
        "    total = 0\n",
        "    with torch.no_grad():\n",
        "        for inputs, targets in testloader:\n",
        "            inputs, targets = inputs.to(device), targets.to(device)\n",
        "            outputs = model(inputs)\n",
        "            _, predicted = torch.max(outputs.data, 1)\n",
        "            total += targets.size(0)\n",
        "            correct += (predicted == targets).sum().item()\n",
        "    return 100 * correct / total\n",
        "\n",
        "def compute_accuracy_per_client(model, testloader_list):\n",
        "    for i, testloader in enumerate(testloader_list):\n",
        "        acc = compute_accuracy(model, testloader)\n",
        "        print(f\"Accuracy for class {i}: {acc:.2f}%\")\n"
      ]
    },
    {
      "cell_type": "markdown",
      "metadata": {},
      "source": [
        "Compute information"
      ]
    },
    {
      "cell_type": "code",
      "execution_count": 162,
      "metadata": {},
      "outputs": [
        {
          "data": {
            "image/png": "[encoded data removed]",
            "text/plain": [
              "<Figure size 640x480 with 1 Axes>"
            ]
          },
          "metadata": {},
          "output_type": "display_data"
        }
      ],
      "source": [
        "info_true=[p.cpu() for p in info_true]\n",
        "infocat = torch.cat([p.flatten() for p in info_true])\n",
        "s_infocat = np.sort(torch.nan_to_num(infocat))[::-1]\n",
        "\n",
        "s_infolayers = [np.sort(p.cpu().flatten())[::-1] for p in info_true]\n",
        "\n",
        "plt.plot(s_infocat)\n",
        "plt.title('Sorted Information Values for All Parameters')\n",
        "plt.show()\n",
        "\n",
        "# from kneed import KneeLocator\n",
        "# start = [0, 0, 0, 0, 0, 0, 0, 0]\n",
        "# end = [-1, -1, -10000, -30, -1, -1, -1, -1]\n",
        "# step = [1, 1, 1, 1, 100, 1, 1, 1]\n",
        "# auto_thresholds = []\n",
        "# for i in range(len(s_infolayers)):\n",
        "#     kneedle = KneeLocator(range(len(s_infolayers[i][start[i]:end[i]:step[i]])), s_infolayers[i][start[i]:end[i]:step[i]], curve='convex', direction='decreasing', online=True)\n",
        "#     auto_thresholds.append(start[i]+kneedle.knee*step[i])\n",
        "#     print(f'Layer {i} knee:', auto_thresholds[i])\n",
        "\n",
        "auto_percentage = 8\n",
        "custom_percentages = [None, None, None, None, None, None, None, None]\n",
        "\n",
        "percentages = [auto_percentage if custom_percentages[i] is None else custom_percentages[i] for i in range(len(custom_percentages))]\n",
        "\n",
        "auto_thresholds = [len(s_infolayers[i]) // 100 * percentages[i] for i in range(len(s_infolayers))]\n",
        "\n",
        "custom_thresholds = [None, None, None, None, None, None, None, None]\n",
        "\n",
        "thresholds = [auto_thresholds[i] if custom_thresholds[i] is None else custom_thresholds[i] for i in range(len(custom_thresholds))]\n",
        "\n",
        "# for i in range(len(s_infolayers)):\n",
        "#     fig, axs = plt.subplots(1, 1, figsize=(14, 5))\n",
        "#     axs.plot(s_infolayers[i])\n",
        "#     axs.axvline(auto_thresholds[i], color='red', linestyle='--', label='Auto threshold')\n",
        "#     axs.axvline(thresholds[i], color='green', linestyle='--', label='Custom threshold')\n",
        "#     axs.legend()\n",
        "#     axs.set_title(f'Thresholds for layer {i}')\n",
        "#     fig.show()\n",
        "\n",
        "    \n"
      ]
    },
    {
      "cell_type": "markdown",
      "metadata": {},
      "source": [
        "Parameters reset unlearning"
      ]
    },
    {
      "cell_type": "code",
      "execution_count": 163,
      "metadata": {},
      "outputs": [
        {
          "name": "stdout",
          "output_type": "stream",
          "text": [
            "Accuracy before resetting:\n",
            "Accuracy for class 0: 100.00%\n",
            "Accuracy for class 1: 100.00%\n",
            "Accuracy for class 2: 100.00%\n",
            "Accuracy for class 3: 99.98%\n",
            "Accuracy for class 4: 99.95%\n",
            "Accuracy for class 5: 97.16%\n",
            "Accuracy for class 6: 98.94%\n",
            "Accuracy for class 7: 98.52%\n",
            "Accuracy for class 8: 95.97%\n",
            "Accuracy for class 9: 96.22%\n",
            "Accuracy after resetting:\n",
            "Accuracy for class 0: 99.78%\n",
            "Accuracy for class 1: 99.58%\n",
            "Accuracy for class 2: 99.80%\n",
            "Accuracy for class 3: 99.95%\n",
            "Accuracy for class 4: 97.64%\n",
            "Accuracy for class 5: 91.96%\n",
            "Accuracy for class 6: 98.38%\n",
            "Accuracy for class 7: 98.36%\n",
            "Accuracy for class 8: 92.84%\n",
            "Accuracy for class 9: 0.00%\n"
          ]
        }
      ],
      "source": [
        "thresholds_values = [p[thresholds[i]] for i,p in enumerate(s_infolayers)]\n",
        "retrain_param_indices = []\n",
        "for i, p in enumerate(info_true):\n",
        "    if custom_thresholds[i] != 0:\n",
        "        indices = torch.argwhere(p > thresholds_values[i])\n",
        "        retrain_param_indices.append(indices)\n",
        "    else:\n",
        "        retrain_param_indices.append(torch.empty(size=[0 for _ in range(p.dim())]))\n",
        "\n",
        "model_reset = copy.deepcopy(saved_model).cpu()\n",
        "model_null = FLNet2()\n",
        "\n",
        "original_parameters = model_reset.state_dict()\n",
        "null_parameters = model_null.state_dict()\n",
        "\n",
        "reset_parameters = {}\n",
        "for i, (name, p) in enumerate(model_reset.named_parameters()):\n",
        "    new_p = original_parameters[name].clone()\n",
        "    null_p = null_parameters[name].clone()\n",
        "    #new_p[tuple(retrain_param_indices[i].t())] = null_p[tuple(retrain_param_indices[i].t())]\n",
        "    new_p[tuple(retrain_param_indices[i].t())] = 0\n",
        "    reset_parameters[name] = new_p\n",
        "\n",
        "model_reset.load_state_dict(reset_parameters)\n",
        "\n",
        "print(\"Accuracy before resetting:\")\n",
        "compute_accuracy_per_client(saved_model, trainloader_class_list)\n",
        "print(\"Accuracy after resetting:\")\n",
        "compute_accuracy_per_client(model_reset, trainloader_class_list)\n",
        "\n"
      ]
    },
    {
      "cell_type": "code",
      "execution_count": 164,
      "metadata": {},
      "outputs": [
        {
          "name": "stdout",
          "output_type": "stream",
          "text": [
            "Confusion matrix before resetting:\n"
          ]
        },
        {
          "ename": "KeyboardInterrupt",
          "evalue": "",
          "output_type": "error",
          "traceback": [
            "\u001b[1;31m---------------------------------------------------------------------------\u001b[0m",
            "\u001b[1;31mKeyboardInterrupt\u001b[0m                         Traceback (most recent call last)",
            "Cell \u001b[1;32mIn[164], line 2\u001b[0m\n\u001b[0;32m      1\u001b[0m \u001b[38;5;28mprint\u001b[39m(\u001b[38;5;124m\"\u001b[39m\u001b[38;5;124mConfusion matrix before resetting:\u001b[39m\u001b[38;5;124m\"\u001b[39m)\n\u001b[1;32m----> 2\u001b[0m acc, conf_mat \u001b[38;5;241m=\u001b[39m validate(saved_model, trainloader_class_list, \u001b[38;5;241m10\u001b[39m, device)\n\u001b[0;32m      3\u001b[0m plot_confusion_matrix(conf_mat)\n\u001b[0;32m      4\u001b[0m \u001b[38;5;28mprint\u001b[39m(\u001b[38;5;124m\"\u001b[39m\u001b[38;5;124mConfusion matrix after resetting:\u001b[39m\u001b[38;5;124m\"\u001b[39m)\n",
            "Cell \u001b[1;32mIn[141], line 29\u001b[0m, in \u001b[0;36mvalidate\u001b[1;34m(net, dl, n_classes, device)\u001b[0m\n\u001b[0;32m     27\u001b[0m         \u001b[38;5;66;03m# update metrics\u001b[39;00m\n\u001b[0;32m     28\u001b[0m         _, predicted \u001b[38;5;241m=\u001b[39m torch\u001b[38;5;241m.\u001b[39mmax(logits\u001b[38;5;241m.\u001b[39mdata, \u001b[38;5;241m1\u001b[39m)\n\u001b[1;32m---> 29\u001b[0m         tm_acc\u001b[38;5;241m.\u001b[39mupdate(predicted, targets)\n\u001b[0;32m     30\u001b[0m         tm_con\u001b[38;5;241m.\u001b[39mupdate(predicted, targets)\n\u001b[0;32m     32\u001b[0m \u001b[38;5;66;03m# at the end, compute metric\u001b[39;00m\n",
            "File \u001b[1;32mc:\\Users\\loren\\anaconda3\\envs\\fed-learn\\Lib\\site-packages\\torchmetrics\\metric.py:482\u001b[0m, in \u001b[0;36mMetric._wrap_update.<locals>.wrapped_func\u001b[1;34m(*args, **kwargs)\u001b[0m\n\u001b[0;32m    480\u001b[0m \u001b[38;5;28;01mwith\u001b[39;00m torch\u001b[38;5;241m.\u001b[39mset_grad_enabled(\u001b[38;5;28mself\u001b[39m\u001b[38;5;241m.\u001b[39m_enable_grad):\n\u001b[0;32m    481\u001b[0m     \u001b[38;5;28;01mtry\u001b[39;00m:\n\u001b[1;32m--> 482\u001b[0m         update(\u001b[38;5;241m*\u001b[39margs, \u001b[38;5;241m*\u001b[39m\u001b[38;5;241m*\u001b[39mkwargs)\n\u001b[0;32m    483\u001b[0m     \u001b[38;5;28;01mexcept\u001b[39;00m \u001b[38;5;167;01mRuntimeError\u001b[39;00m \u001b[38;5;28;01mas\u001b[39;00m err:\n\u001b[0;32m    484\u001b[0m         \u001b[38;5;28;01mif\u001b[39;00m \u001b[38;5;124m\"\u001b[39m\u001b[38;5;124mExpected all tensors to be on\u001b[39m\u001b[38;5;124m\"\u001b[39m \u001b[38;5;129;01min\u001b[39;00m \u001b[38;5;28mstr\u001b[39m(err):\n",
            "File \u001b[1;32mc:\\Users\\loren\\anaconda3\\envs\\fed-learn\\Lib\\site-packages\\torchmetrics\\classification\\stat_scores.py:339\u001b[0m, in \u001b[0;36mMulticlassStatScores.update\u001b[1;34m(self, preds, target)\u001b[0m\n\u001b[0;32m    337\u001b[0m \u001b[38;5;250m\u001b[39m\u001b[38;5;124;03m\"\"\"Update state with predictions and targets.\"\"\"\u001b[39;00m\n\u001b[0;32m    338\u001b[0m \u001b[38;5;28;01mif\u001b[39;00m \u001b[38;5;28mself\u001b[39m\u001b[38;5;241m.\u001b[39mvalidate_args:\n\u001b[1;32m--> 339\u001b[0m     _multiclass_stat_scores_tensor_validation(\n\u001b[0;32m    340\u001b[0m         preds, target, \u001b[38;5;28mself\u001b[39m\u001b[38;5;241m.\u001b[39mnum_classes, \u001b[38;5;28mself\u001b[39m\u001b[38;5;241m.\u001b[39mmultidim_average, \u001b[38;5;28mself\u001b[39m\u001b[38;5;241m.\u001b[39mignore_index\n\u001b[0;32m    341\u001b[0m     )\n\u001b[0;32m    342\u001b[0m preds, target \u001b[38;5;241m=\u001b[39m _multiclass_stat_scores_format(preds, target, \u001b[38;5;28mself\u001b[39m\u001b[38;5;241m.\u001b[39mtop_k)\n\u001b[0;32m    343\u001b[0m tp, fp, tn, fn \u001b[38;5;241m=\u001b[39m _multiclass_stat_scores_update(\n\u001b[0;32m    344\u001b[0m     preds, target, \u001b[38;5;28mself\u001b[39m\u001b[38;5;241m.\u001b[39mnum_classes, \u001b[38;5;28mself\u001b[39m\u001b[38;5;241m.\u001b[39mtop_k, \u001b[38;5;28mself\u001b[39m\u001b[38;5;241m.\u001b[39maverage, \u001b[38;5;28mself\u001b[39m\u001b[38;5;241m.\u001b[39mmultidim_average, \u001b[38;5;28mself\u001b[39m\u001b[38;5;241m.\u001b[39mignore_index\n\u001b[0;32m    345\u001b[0m )\n",
            "File \u001b[1;32mc:\\Users\\loren\\anaconda3\\envs\\fed-learn\\Lib\\site-packages\\torchmetrics\\functional\\classification\\stat_scores.py:318\u001b[0m, in \u001b[0;36m_multiclass_stat_scores_tensor_validation\u001b[1;34m(preds, target, num_classes, multidim_average, ignore_index)\u001b[0m\n\u001b[0;32m    316\u001b[0m \u001b[38;5;28;01mfor\u001b[39;00m t, name \u001b[38;5;129;01min\u001b[39;00m ((target, \u001b[38;5;124m\"\u001b[39m\u001b[38;5;124mtarget\u001b[39m\u001b[38;5;124m\"\u001b[39m),) \u001b[38;5;241m+\u001b[39m ((preds, \u001b[38;5;124m\"\u001b[39m\u001b[38;5;124mpreds\u001b[39m\u001b[38;5;124m\"\u001b[39m),) \u001b[38;5;28;01mif\u001b[39;00m \u001b[38;5;129;01mnot\u001b[39;00m preds\u001b[38;5;241m.\u001b[39mis_floating_point() \u001b[38;5;28;01melse\u001b[39;00m ():  \u001b[38;5;66;03m# noqa: RUF005\u001b[39;00m\n\u001b[0;32m    317\u001b[0m     num_unique_values \u001b[38;5;241m=\u001b[39m \u001b[38;5;28mlen\u001b[39m(torch\u001b[38;5;241m.\u001b[39munique(t))\n\u001b[1;32m--> 318\u001b[0m     \u001b[38;5;28;01mif\u001b[39;00m num_unique_values \u001b[38;5;241m>\u001b[39m check_value:\n\u001b[0;32m    319\u001b[0m         \u001b[38;5;28;01mraise\u001b[39;00m \u001b[38;5;167;01mRuntimeError\u001b[39;00m(\n\u001b[0;32m    320\u001b[0m             \u001b[38;5;124mf\u001b[39m\u001b[38;5;124m\"\u001b[39m\u001b[38;5;124mDetected more unique values in `\u001b[39m\u001b[38;5;132;01m{\u001b[39;00mname\u001b[38;5;132;01m}\u001b[39;00m\u001b[38;5;124m` than expected. Expected only \u001b[39m\u001b[38;5;132;01m{\u001b[39;00mcheck_value\u001b[38;5;132;01m}\u001b[39;00m\u001b[38;5;124m but found\u001b[39m\u001b[38;5;124m\"\u001b[39m\n\u001b[0;32m    321\u001b[0m             \u001b[38;5;124mf\u001b[39m\u001b[38;5;124m\"\u001b[39m\u001b[38;5;124m \u001b[39m\u001b[38;5;132;01m{\u001b[39;00mnum_unique_values\u001b[38;5;132;01m}\u001b[39;00m\u001b[38;5;124m in `target`.\u001b[39m\u001b[38;5;124m\"\u001b[39m\n\u001b[0;32m    322\u001b[0m         )\n",
            "\u001b[1;31mKeyboardInterrupt\u001b[0m: "
          ]
        }
      ],
      "source": [
        "print(\"Confusion matrix before resetting:\")\n",
        "acc, conf_mat = validate(saved_model, trainloader_class_list, 10, device)\n",
        "plot_confusion_matrix(conf_mat)\n",
        "print(\"Confusion matrix after resetting:\")\n",
        "acc, conf_mat = validate(model_reset, trainloader_class_list, 10, device)\n",
        "plot_confusion_matrix(conf_mat)"
      ]
    },
    {
      "cell_type": "code",
      "execution_count": null,
      "metadata": {},
      "outputs": [
        {
          "name": "stdout",
          "output_type": "stream",
          "text": [
            "Information before resetting:\n",
            "Layer 0 - Total Information: 27.7962\n",
            "Layer 1 - Total Information: 1.4031\n",
            "Layer 2 - Total Information: 1987.1033\n",
            "Layer 3 - Total Information: 2.3684\n",
            "Layer 4 - Total Information: 59712.2422\n",
            "Layer 5 - Total Information: 20.1127\n",
            "Layer 6 - Total Information: 258.7061\n",
            "Layer 7 - Total Information: 0.4842\n",
            "Total Information: 62010.2188\n",
            "Information after resetting:\n",
            "Layer 0 - Total Information: 20.3885\n",
            "Layer 1 - Total Information: 1.4031\n",
            "Layer 2 - Total Information: 1366.3354\n",
            "Layer 3 - Total Information: 2.3684\n",
            "Layer 4 - Total Information: 19738.1660\n",
            "Layer 5 - Total Information: 11.2264\n",
            "Layer 6 - Total Information: 88.9422\n",
            "Layer 7 - Total Information: 0.4842\n",
            "Total Information: 21229.3145\n"
          ]
        }
      ],
      "source": [
        "def print_info_stats(information):\n",
        "    \"\"\"\n",
        "    Compute statistics for the information values.\n",
        "    \"\"\"\n",
        "    # Flatten the information values and convert to numpy\n",
        "    layers_total_information = [torch.sum(p) for p in information]\n",
        "\n",
        "    for i, info in enumerate(layers_total_information):\n",
        "        print(f\"Layer {i} - Total Information: {info:.4f}\")\n",
        "    \n",
        "    print(f\"Total Information: {sum(layers_total_information):.4f}\")\n",
        "\n",
        "print(\"Information before resetting:\")\n",
        "print_info_stats(info_true)\n",
        "\n",
        "reset_info_true = copy.deepcopy(info_true)\n",
        "for i in range(len(reset_info_true)):\n",
        "    reset_info_true[i][tuple(retrain_param_indices[i].t())] = 0\n",
        "print(\"Information after resetting:\")\n",
        "print_info_stats(reset_info_true)"
      ]
    },
    {
      "cell_type": "code",
      "execution_count": null,
      "metadata": {},
      "outputs": [],
      "source": [
        "class UnlearnNet(nn.Module):\n",
        "    \"\"\"\n",
        "    A module that wraps an existing model and selectively retrains individual \n",
        "    scalar elements (indices) of its parameters while keeping the rest fixed.\n",
        "    \"\"\"\n",
        "\n",
        "    def __init__(self, base_model, indices_to_retrain):\n",
        "        \"\"\"\n",
        "        Args:\n",
        "            base_model (nn.Module): The original model whose parameters \n",
        "                                    we want to partially retrain.\n",
        "            indices_to_retrain (List[torch.Tensor]): For each parameter of \n",
        "                                    'base_model', a tensor of indices indicating \n",
        "                                    which scalar values should be retrained.\n",
        "        \"\"\"\n",
        "        super().__init__()\n",
        "\n",
        "        # We store the base model inside a dictionary to allow\n",
        "        # functional calls later without overshadowing state_dict keys.\n",
        "        self.inner_model = {\"model\": base_model}\n",
        "\n",
        "        # Move any index tensors to CPU and store them.\n",
        "        self.indices_to_retrain = [idx.cpu() for idx in indices_to_retrain]\n",
        "\n",
        "        # Create a copy of the base model's parameters as buffers, where\n",
        "        # we zero out the positions that will be retrained.\n",
        "        base_params = {}\n",
        "        for i, (param_name, param) in enumerate(base_model.named_parameters()):\n",
        "            # Detach a clone of the original parameter\n",
        "            cloned_param = param.clone().detach()\n",
        "            # Zero-out the entries we plan to retrain\n",
        "            if len(self.indices_to_retrain[i]) > 0:\n",
        "                cloned_param[tuple(self.indices_to_retrain[i].t())] = 0\n",
        "            base_params[param_name] = cloned_param\n",
        "\n",
        "        # Register these base parameters as buffers so they are not optimized\n",
        "        for param_name, buf in base_params.items():\n",
        "            buf_name = param_name.replace(\".\", \"_\")\n",
        "            self.register_buffer(f\"base_{buf_name}\", buf)\n",
        "\n",
        "        # Create the new learnable parameters for only the chosen indices\n",
        "        retrain_params_dict = {}\n",
        "        for i, (param_name, param) in enumerate(base_model.named_parameters()):\n",
        "            if len(self.indices_to_retrain[i]) == 0:\n",
        "                continue\n",
        "            # We create a 1D tensor (one entry per retrained element)\n",
        "            key = param_name.replace(\".\", \"_\")\n",
        "            retrain_params_dict[key] = nn.Parameter(\n",
        "                torch.zeros(len(self.indices_to_retrain[i]))\n",
        "            )\n",
        "        self.retrain_params = nn.ParameterDict(retrain_params_dict)\n",
        "\n",
        "        # Build sparse masks to apply the learnable values at the correct indices\n",
        "        sparse_masks = {}\n",
        "        for i, (param_name, param) in enumerate(base_model.named_parameters()):\n",
        "            if len(self.indices_to_retrain[i]) == 0:\n",
        "                continue\n",
        "            # 'retrain_indices' has shape (k, n_dims). Add a final dim to index positions in the retrain-param vector.\n",
        "            retrain_indices = indices_to_retrain[i]\n",
        "            k = retrain_indices.size(0)\n",
        "\n",
        "            # Create an index column [0..k-1], then concatenate it with 'retrain_indices'.\n",
        "            row_idx = torch.arange(k).unsqueeze(1)\n",
        "            final_idx_matrix = torch.cat([retrain_indices, row_idx], dim=1)\n",
        "\n",
        "            # A sparse_coo_tensor expects indices with shape (ndim, nnz). Transpose to (n_dims+1, k).\n",
        "            indices_for_sparse = final_idx_matrix.t().contiguous()\n",
        "\n",
        "            # Append k as the final dimension so each retrained element indexes differently.\n",
        "            mask_shape = tuple(param.size()) + (k,)\n",
        "\n",
        "            # Build the sparse mask with 1.0 at the retrained indices.\n",
        "            key = f\"mask_{param_name.replace('.', '_')}\"\n",
        "            sparse_masks[key] = torch.sparse_coo_tensor(\n",
        "                indices_for_sparse,\n",
        "                torch.ones(k, dtype=torch.float32),\n",
        "                size=mask_shape\n",
        "            )\n",
        "        \n",
        "        # Register these sparse masks as buffers\n",
        "        for mask_name, mask in sparse_masks.items():\n",
        "            self.register_buffer(mask_name, mask.coalesce())\n",
        "\n",
        "    def contract_last_dim_with_vector(self, sp_tensor: torch.Tensor, vec: torch.Tensor) -> torch.Tensor:\n",
        "        \"\"\"\n",
        "        Contract the last dimension of a sparse tensor (shape [..., N]) with\n",
        "        a dense vector of shape (N,), returning a sparse tensor of shape [...].\n",
        "\n",
        "        This effectively applies elementwise multiplication with 'vec'\n",
        "        across the last dimension of 'sp_tensor'.\n",
        "        \"\"\"\n",
        "\n",
        "        # Extract indices (shape [ndim, nnz]) and values (shape [nnz])\n",
        "        indices = sp_tensor.indices()\n",
        "        values = sp_tensor.values()\n",
        "\n",
        "        # Multiply each sparse value by the corresponding element in 'vec'\n",
        "        # indices[-1] indicates which element in 'vec' to use per sparse entry\n",
        "        new_values = values * vec[indices[-1]]\n",
        "\n",
        "        # Create a new sparse_coo_tensor with one fewer dimension\n",
        "        new_shape = sp_tensor.shape[:-1]\n",
        "        new_indices = indices[:-1, :]  # drop the last dimension index row\n",
        "\n",
        "        result_tensor = torch.sparse_coo_tensor(\n",
        "            new_indices,\n",
        "            new_values,\n",
        "            size=new_shape,\n",
        "            dtype=sp_tensor.dtype,\n",
        "            device=sp_tensor.device\n",
        "        )\n",
        "\n",
        "        return result_tensor\n",
        "\n",
        "    def forward(self, x):\n",
        "        \"\"\"\n",
        "        Forward pass using a functional call to the base model. We reconstruct \n",
        "        final parameters by adding the base buffers and the contracted retrain \n",
        "        parameters at the relevant indices.\n",
        "        \"\"\"\n",
        "        model = self.inner_model[\"model\"]\n",
        "        current_state = self.state_dict()\n",
        "\n",
        "        # Rebuild parameter dict from buffers (base params)\n",
        "        final_params = {}\n",
        "        for param_name in model.state_dict().keys():\n",
        "            buf_name = param_name.replace(\".\", \"_\")\n",
        "            final_params[param_name] = current_state[f\"base_{buf_name}\"]\n",
        "\n",
        "        # Add in the learnable values at specified indices\n",
        "        for key, param_vector in self.retrain_params.items():\n",
        "            mask_key = f\"mask_{key}\"\n",
        "            base_key = f\"base_{key}\"\n",
        "            original_param_name = key.replace(\"_\", \".\")\n",
        "\n",
        "            # Convert sparse mask to shape that can be added to base param\n",
        "            sparse_update = self.contract_last_dim_with_vector(\n",
        "                current_state[mask_key], param_vector\n",
        "            )\n",
        "\n",
        "            # Add the sparse update to the base buffer\n",
        "            final_params[original_param_name] = (\n",
        "                current_state[base_key] + sparse_update\n",
        "            )\n",
        "\n",
        "        # Perform a functional forward pass with the reconstructed parameters\n",
        "        return torch.func.functional_call(model, final_params, x)\n",
        "    \n",
        "    def get_retrained_params(self):\n",
        "        \"\"\"\n",
        "        Returns the retrained parameters of the model.\n",
        "        \"\"\"\n",
        "        model = self.inner_model[\"model\"]\n",
        "        current_state = self.state_dict()\n",
        "\n",
        "        # Rebuild parameter dict from buffers (base params)\n",
        "        final_params = {}\n",
        "        for param_name in model.state_dict().keys():\n",
        "            buf_name = param_name.replace(\".\", \"_\")\n",
        "            final_params[param_name] = current_state[f\"base_{buf_name}\"]\n",
        "\n",
        "        # Add in the learnable values at specified indices\n",
        "        for key, param_vector in self.retrain_params.items():\n",
        "            mask_key = f\"mask_{key}\"\n",
        "            base_key = f\"base_{key}\"\n",
        "            original_param_name = key.replace(\"_\", \".\")\n",
        "\n",
        "            # Convert sparse mask to shape that can be added to base param\n",
        "            sparse_update = self.contract_last_dim_with_vector(\n",
        "                current_state[mask_key], param_vector\n",
        "            )\n",
        "\n",
        "            # Add the sparse update to the base buffer\n",
        "            final_params[original_param_name] = (\n",
        "                current_state[base_key] + sparse_update\n",
        "            )\n",
        "        \n",
        "        detached_params = {}\n",
        "        for key, value in final_params.items():\n",
        "            detached_params[key] = value.cpu().detach()\n",
        "        return detached_params\n",
        "    "
      ]
    },
    {
      "cell_type": "code",
      "execution_count": null,
      "metadata": {},
      "outputs": [
        {
          "name": "stdout",
          "output_type": "stream",
          "text": [
            "Unlearn model parameters:\n",
            "retrain_params.0_weight torch.Size([96])\n",
            "retrain_params.3_weight torch.Size([6144])\n",
            "retrain_params.7_bias torch.Size([60])\n",
            "retrain_params.7_weight torch.Size([192672])\n",
            "retrain_params.9_weight torch.Size([612])\n"
          ]
        }
      ],
      "source": [
        "assert RETRAIN\n",
        "#Test\n",
        "unlearn_model = UnlearnNet(model_reset, retrain_param_indices)\n",
        "\n",
        "print(\"Unlearn model parameters:\")\n",
        "for name , param in unlearn_model.named_parameters():\n",
        "    print(name, param.shape)\n",
        "\n",
        "# print(\"Accuracy (reset before retrain)\")\n",
        "# compute_accuracy_per_client(unlearn_model, trainloader_class_list)\n"
      ]
    },
    {
      "cell_type": "code",
      "execution_count": null,
      "metadata": {},
      "outputs": [],
      "source": [
        "num_of_repeats = 1\n",
        "num_fl_rounds = 1\n",
        "\n",
        "#fusion_types = ['FedAvg','Retrain']\n",
        "fusion_types = ['FedAvg']\n",
        "fusion_types_unlearn = ['Retrain', 'Unlearn']\n",
        "\n",
        "num_updates_in_epoch = None\n",
        "num_local_epochs = 2\n",
        "\n",
        "dist_Retrain = {}\n",
        "loss_fed = {}\n",
        "grad_fed = {}\n",
        "clean_accuracy = {}\n",
        "pois_accuracy = {}\n",
        "for fusion_key in fusion_types:\n",
        "    loss_fed[fusion_key] = np.zeros(num_fl_rounds)\n",
        "    grad_fed[fusion_key] = np.zeros(num_fl_rounds)\n",
        "    clean_accuracy[fusion_key] = np.zeros(num_fl_rounds)\n",
        "    pois_accuracy[fusion_key] = np.zeros(num_fl_rounds)\n",
        "    if fusion_key != 'Retrain':\n",
        "        dist_Retrain[fusion_key] = np.zeros(num_fl_rounds)"
      ]
    },
    {
      "cell_type": "code",
      "execution_count": null,
      "metadata": {},
      "outputs": [
        {
          "name": "stdout",
          "output_type": "stream",
          "text": [
            "Training party 0\n",
            "Training party 1\n",
            "Training party 2\n"
          ]
        },
        {
          "ename": "KeyboardInterrupt",
          "evalue": "",
          "output_type": "error",
          "traceback": [
            "\u001b[1;31m---------------------------------------------------------------------------\u001b[0m",
            "\u001b[1;31mKeyboardInterrupt\u001b[0m                         Traceback (most recent call last)",
            "Cell \u001b[1;32mIn[149], line 37\u001b[0m\n\u001b[0;32m     35\u001b[0m model\u001b[38;5;241m.\u001b[39mload_state_dict(current_model_state_dict)\n\u001b[0;32m     36\u001b[0m model\u001b[38;5;241m.\u001b[39mto(device)\n\u001b[1;32m---> 37\u001b[0m model_update, party_loss \u001b[38;5;241m=\u001b[39m local_training\u001b[38;5;241m.\u001b[39mtrain(model\u001b[38;5;241m=\u001b[39mmodel,\n\u001b[0;32m     38\u001b[0m                             trainloader\u001b[38;5;241m=\u001b[39mtrainloader_lst[party_id],\n\u001b[0;32m     39\u001b[0m                             device \u001b[38;5;241m=\u001b[39m device,\n\u001b[0;32m     40\u001b[0m                             criterion\u001b[38;5;241m=\u001b[39m\u001b[38;5;28;01mNone\u001b[39;00m, opt\u001b[38;5;241m=\u001b[39m\u001b[38;5;28;01mNone\u001b[39;00m)\n\u001b[0;32m     41\u001b[0m model_update_copy \u001b[38;5;241m=\u001b[39m UnlearnNet(model_reset, retrain_param_indices)\n\u001b[0;32m     42\u001b[0m model_update_copy\u001b[38;5;241m.\u001b[39mload_state_dict(model_update\u001b[38;5;241m.\u001b[39mstate_dict())\n",
            "File \u001b[1;32mc:\\Users\\loren\\Documents\\Personale\\Programmazione\\FisherUnlearning\\utils\\local_train.py:40\u001b[0m, in \u001b[0;36mLocalTraining.train\u001b[1;34m(self, model, trainloader, criterion, opt, lr, device)\u001b[0m\n\u001b[0;32m     37\u001b[0m opt\u001b[38;5;241m.\u001b[39mzero_grad()\n\u001b[0;32m     39\u001b[0m outputs \u001b[38;5;241m=\u001b[39m model(x_batch)\n\u001b[1;32m---> 40\u001b[0m loss \u001b[38;5;241m=\u001b[39m criterion(outputs, y_batch)\n\u001b[0;32m     42\u001b[0m loss\u001b[38;5;241m.\u001b[39mbackward()\n\u001b[0;32m     43\u001b[0m opt\u001b[38;5;241m.\u001b[39mstep()\n",
            "File \u001b[1;32mc:\\Users\\loren\\anaconda3\\envs\\fed-learn\\Lib\\site-packages\\torch\\nn\\modules\\module.py:1736\u001b[0m, in \u001b[0;36mModule._wrapped_call_impl\u001b[1;34m(self, *args, **kwargs)\u001b[0m\n\u001b[0;32m   1734\u001b[0m     \u001b[38;5;28;01mreturn\u001b[39;00m \u001b[38;5;28mself\u001b[39m\u001b[38;5;241m.\u001b[39m_compiled_call_impl(\u001b[38;5;241m*\u001b[39margs, \u001b[38;5;241m*\u001b[39m\u001b[38;5;241m*\u001b[39mkwargs)  \u001b[38;5;66;03m# type: ignore[misc]\u001b[39;00m\n\u001b[0;32m   1735\u001b[0m \u001b[38;5;28;01melse\u001b[39;00m:\n\u001b[1;32m-> 1736\u001b[0m     \u001b[38;5;28;01mreturn\u001b[39;00m \u001b[38;5;28mself\u001b[39m\u001b[38;5;241m.\u001b[39m_call_impl(\u001b[38;5;241m*\u001b[39margs, \u001b[38;5;241m*\u001b[39m\u001b[38;5;241m*\u001b[39mkwargs)\n",
            "File \u001b[1;32mc:\\Users\\loren\\anaconda3\\envs\\fed-learn\\Lib\\site-packages\\torch\\nn\\modules\\module.py:1747\u001b[0m, in \u001b[0;36mModule._call_impl\u001b[1;34m(self, *args, **kwargs)\u001b[0m\n\u001b[0;32m   1742\u001b[0m \u001b[38;5;66;03m# If we don't have any hooks, we want to skip the rest of the logic in\u001b[39;00m\n\u001b[0;32m   1743\u001b[0m \u001b[38;5;66;03m# this function, and just call forward.\u001b[39;00m\n\u001b[0;32m   1744\u001b[0m \u001b[38;5;28;01mif\u001b[39;00m \u001b[38;5;129;01mnot\u001b[39;00m (\u001b[38;5;28mself\u001b[39m\u001b[38;5;241m.\u001b[39m_backward_hooks \u001b[38;5;129;01mor\u001b[39;00m \u001b[38;5;28mself\u001b[39m\u001b[38;5;241m.\u001b[39m_backward_pre_hooks \u001b[38;5;129;01mor\u001b[39;00m \u001b[38;5;28mself\u001b[39m\u001b[38;5;241m.\u001b[39m_forward_hooks \u001b[38;5;129;01mor\u001b[39;00m \u001b[38;5;28mself\u001b[39m\u001b[38;5;241m.\u001b[39m_forward_pre_hooks\n\u001b[0;32m   1745\u001b[0m         \u001b[38;5;129;01mor\u001b[39;00m _global_backward_pre_hooks \u001b[38;5;129;01mor\u001b[39;00m _global_backward_hooks\n\u001b[0;32m   1746\u001b[0m         \u001b[38;5;129;01mor\u001b[39;00m _global_forward_hooks \u001b[38;5;129;01mor\u001b[39;00m _global_forward_pre_hooks):\n\u001b[1;32m-> 1747\u001b[0m     \u001b[38;5;28;01mreturn\u001b[39;00m forward_call(\u001b[38;5;241m*\u001b[39margs, \u001b[38;5;241m*\u001b[39m\u001b[38;5;241m*\u001b[39mkwargs)\n\u001b[0;32m   1749\u001b[0m result \u001b[38;5;241m=\u001b[39m \u001b[38;5;28;01mNone\u001b[39;00m\n\u001b[0;32m   1750\u001b[0m called_always_called_hooks \u001b[38;5;241m=\u001b[39m \u001b[38;5;28mset\u001b[39m()\n",
            "File \u001b[1;32mc:\\Users\\loren\\anaconda3\\envs\\fed-learn\\Lib\\site-packages\\torch\\nn\\modules\\loss.py:1293\u001b[0m, in \u001b[0;36mCrossEntropyLoss.forward\u001b[1;34m(self, input, target)\u001b[0m\n\u001b[0;32m   1292\u001b[0m \u001b[38;5;28;01mdef\u001b[39;00m \u001b[38;5;21mforward\u001b[39m(\u001b[38;5;28mself\u001b[39m, \u001b[38;5;28minput\u001b[39m: Tensor, target: Tensor) \u001b[38;5;241m-\u001b[39m\u001b[38;5;241m>\u001b[39m Tensor:\n\u001b[1;32m-> 1293\u001b[0m     \u001b[38;5;28;01mreturn\u001b[39;00m F\u001b[38;5;241m.\u001b[39mcross_entropy(\n\u001b[0;32m   1294\u001b[0m         \u001b[38;5;28minput\u001b[39m,\n\u001b[0;32m   1295\u001b[0m         target,\n\u001b[0;32m   1296\u001b[0m         weight\u001b[38;5;241m=\u001b[39m\u001b[38;5;28mself\u001b[39m\u001b[38;5;241m.\u001b[39mweight,\n\u001b[0;32m   1297\u001b[0m         ignore_index\u001b[38;5;241m=\u001b[39m\u001b[38;5;28mself\u001b[39m\u001b[38;5;241m.\u001b[39mignore_index,\n\u001b[0;32m   1298\u001b[0m         reduction\u001b[38;5;241m=\u001b[39m\u001b[38;5;28mself\u001b[39m\u001b[38;5;241m.\u001b[39mreduction,\n\u001b[0;32m   1299\u001b[0m         label_smoothing\u001b[38;5;241m=\u001b[39m\u001b[38;5;28mself\u001b[39m\u001b[38;5;241m.\u001b[39mlabel_smoothing,\n\u001b[0;32m   1300\u001b[0m     )\n",
            "File \u001b[1;32mc:\\Users\\loren\\anaconda3\\envs\\fed-learn\\Lib\\site-packages\\torch\\nn\\functional.py:3479\u001b[0m, in \u001b[0;36mcross_entropy\u001b[1;34m(input, target, weight, size_average, ignore_index, reduce, reduction, label_smoothing)\u001b[0m\n\u001b[0;32m   3477\u001b[0m \u001b[38;5;28;01mif\u001b[39;00m size_average \u001b[38;5;129;01mis\u001b[39;00m \u001b[38;5;129;01mnot\u001b[39;00m \u001b[38;5;28;01mNone\u001b[39;00m \u001b[38;5;129;01mor\u001b[39;00m reduce \u001b[38;5;129;01mis\u001b[39;00m \u001b[38;5;129;01mnot\u001b[39;00m \u001b[38;5;28;01mNone\u001b[39;00m:\n\u001b[0;32m   3478\u001b[0m     reduction \u001b[38;5;241m=\u001b[39m _Reduction\u001b[38;5;241m.\u001b[39mlegacy_get_string(size_average, reduce)\n\u001b[1;32m-> 3479\u001b[0m \u001b[38;5;28;01mreturn\u001b[39;00m torch\u001b[38;5;241m.\u001b[39m_C\u001b[38;5;241m.\u001b[39m_nn\u001b[38;5;241m.\u001b[39mcross_entropy_loss(\n\u001b[0;32m   3480\u001b[0m     \u001b[38;5;28minput\u001b[39m,\n\u001b[0;32m   3481\u001b[0m     target,\n\u001b[0;32m   3482\u001b[0m     weight,\n\u001b[0;32m   3483\u001b[0m     _Reduction\u001b[38;5;241m.\u001b[39mget_enum(reduction),\n\u001b[0;32m   3484\u001b[0m     ignore_index,\n\u001b[0;32m   3485\u001b[0m     label_smoothing,\n\u001b[0;32m   3486\u001b[0m )\n",
            "\u001b[1;31mKeyboardInterrupt\u001b[0m: "
          ]
        }
      ],
      "source": [
        "device= 'cuda' if torch.cuda.is_available() else 'cpu'\n",
        "if device == 'cuda':\n",
        "    torch.cuda.empty_cache()\n",
        "\n",
        "party_models_dict = {}\n",
        "initial_model = unlearn_model\n",
        "model_dict = {}\n",
        "parties = list(range(5))\n",
        "del parties[party_to_be_erased]\n",
        "\n",
        "for fusion_key in fusion_types:\n",
        "    model_dict[fusion_key] = copy.deepcopy(initial_model.state_dict())\n",
        "\n",
        "for round_num in range(num_fl_rounds):\n",
        "    local_training = LocalTraining(num_updates_in_epoch=num_updates_in_epoch, num_local_epochs=num_local_epochs)\n",
        "\n",
        "    for fusion_key in fusion_types:\n",
        "        fusion = FL_round_fusion_selection(num_parties=len(parties), fusion_key=fusion_key)\n",
        "\n",
        "        current_model_state_dict = copy.deepcopy(model_dict[fusion_key])\n",
        "        model = copy.deepcopy(initial_model)\n",
        "        model.load_state_dict(current_model_state_dict)\n",
        "\n",
        "        ##################### Local Training Round #############################\n",
        "        party_models = []\n",
        "        party_losses = []\n",
        "        party_grad   = []        \n",
        "        for party_id in parties:\n",
        "\n",
        "            if fusion_key == 'Retrain':\n",
        "                break\n",
        "            else:\n",
        "                print(f\"Training party {party_id}\")\n",
        "                model = UnlearnNet(model_reset, retrain_param_indices)\n",
        "                model.load_state_dict(current_model_state_dict)\n",
        "                model.to(device)\n",
        "                model_update, party_loss = local_training.train(model=model,\n",
        "                                            trainloader=trainloader_lst[party_id],\n",
        "                                            device = device,\n",
        "                                            criterion=None, opt=None)\n",
        "                model_update_copy = UnlearnNet(model_reset, retrain_param_indices)\n",
        "                model_update_copy.load_state_dict(model_update.state_dict())\n",
        "                model_update_copy.to(\"cpu\")\n",
        "                party_models.append(model_update_copy)\n",
        "                party_losses.append(party_loss)\n",
        "\n",
        "            grad_norm = 0.0\n",
        "            for name,param in model_update.named_parameters():\n",
        "                if param.grad is not None:\n",
        "                    grad_norm += torch.norm(param.grad).cpu().item()\n",
        "                    #print(f\"Gradient norm for {name}: {grad_norm}\")\n",
        "                else:\n",
        "                    #print(f\"Gradient is None for {name}\")\n",
        "                    pass\n",
        "        \n",
        "            party_grad.append(grad_norm)   \n",
        "        \n",
        "        grad_fed[fusion_key][round_num] += (np.mean(party_grad)/num_of_repeats) \n",
        "\n",
        "        loss_fed[fusion_key][round_num] += (np.mean(party_losses)/num_of_repeats)\n",
        "        ######################################################################\n",
        "\n",
        "        current_model_state_dict = fusion.fusion_algo(party_models=party_models, current_model=model)\n",
        "\n",
        "        eval_model = copy.deepcopy(initial_model).to(\"cpu\")\n",
        "        eval_model.load_state_dict(current_model_state_dict)\n",
        "        clean_acc = Utils.evaluate(testloader, eval_model)\n",
        "        clean_accuracy[fusion_key][round_num] = clean_acc\n",
        "        print(f'Global Clean Accuracy {fusion_key}, round {round_num} = {clean_acc}')"
      ]
    },
    {
      "cell_type": "code",
      "execution_count": null,
      "metadata": {},
      "outputs": [
        {
          "name": "stdout",
          "output_type": "stream",
          "text": [
            "Accuracy after retrain\n",
            "Accuracy for class 0: 87.02%\n",
            "Accuracy for class 1: 97.82%\n",
            "Accuracy for class 2: 75.21%\n",
            "Accuracy for class 3: 48.83%\n",
            "Accuracy for class 4: 88.29%\n",
            "Accuracy for class 5: 0.00%\n",
            "Accuracy for class 6: 0.00%\n",
            "Accuracy for class 7: 0.00%\n",
            "Accuracy for class 8: 0.00%\n",
            "Accuracy for class 9: 0.00%\n"
          ]
        }
      ],
      "source": [
        "print(\"Accuracy after retrain\")\n",
        "compute_accuracy_per_client(eval_model, trainloader_class_list)\n"
      ]
    },
    {
      "cell_type": "code",
      "execution_count": null,
      "metadata": {},
      "outputs": [
        {
          "name": "stdout",
          "output_type": "stream",
          "text": [
            "Confusion matrix after retrain:\n"
          ]
        },
        {
          "ename": "KeyboardInterrupt",
          "evalue": "",
          "output_type": "error",
          "traceback": [
            "\u001b[1;31m---------------------------------------------------------------------------\u001b[0m",
            "\u001b[1;31mKeyboardInterrupt\u001b[0m                         Traceback (most recent call last)",
            "Cell \u001b[1;32mIn[115], line 2\u001b[0m\n\u001b[0;32m      1\u001b[0m \u001b[38;5;28mprint\u001b[39m(\u001b[38;5;124m\"\u001b[39m\u001b[38;5;124mConfusion matrix after retrain:\u001b[39m\u001b[38;5;124m\"\u001b[39m)\n\u001b[1;32m----> 2\u001b[0m acc, conf_mat \u001b[38;5;241m=\u001b[39m validate(eval_model, trainloader_class_list, \u001b[38;5;241m10\u001b[39m, \u001b[38;5;124m\"\u001b[39m\u001b[38;5;124mcuda\u001b[39m\u001b[38;5;124m\"\u001b[39m)\n\u001b[0;32m      3\u001b[0m plot_confusion_matrix(conf_mat)\n",
            "Cell \u001b[1;32mIn[105], line 26\u001b[0m, in \u001b[0;36mvalidate\u001b[1;34m(net, dl, n_classes, device)\u001b[0m\n\u001b[0;32m     23\u001b[0m \u001b[38;5;66;03m# get output\u001b[39;00m\n\u001b[0;32m     24\u001b[0m \u001b[38;5;28;01mwith\u001b[39;00m torch\u001b[38;5;241m.\u001b[39mno_grad():\n\u001b[0;32m     25\u001b[0m     \u001b[38;5;66;03m# perform prediction\u001b[39;00m\n\u001b[1;32m---> 26\u001b[0m     logits \u001b[38;5;241m=\u001b[39m net(inputs)\n\u001b[0;32m     27\u001b[0m \u001b[38;5;66;03m# update metrics\u001b[39;00m\n\u001b[0;32m     28\u001b[0m _, predicted \u001b[38;5;241m=\u001b[39m torch\u001b[38;5;241m.\u001b[39mmax(logits\u001b[38;5;241m.\u001b[39mdata, \u001b[38;5;241m1\u001b[39m)\n",
            "File \u001b[1;32mc:\\Users\\loren\\anaconda3\\envs\\fed-learn\\Lib\\site-packages\\torch\\nn\\modules\\module.py:1736\u001b[0m, in \u001b[0;36mModule._wrapped_call_impl\u001b[1;34m(self, *args, **kwargs)\u001b[0m\n\u001b[0;32m   1734\u001b[0m     \u001b[38;5;28;01mreturn\u001b[39;00m \u001b[38;5;28mself\u001b[39m\u001b[38;5;241m.\u001b[39m_compiled_call_impl(\u001b[38;5;241m*\u001b[39margs, \u001b[38;5;241m*\u001b[39m\u001b[38;5;241m*\u001b[39mkwargs)  \u001b[38;5;66;03m# type: ignore[misc]\u001b[39;00m\n\u001b[0;32m   1735\u001b[0m \u001b[38;5;28;01melse\u001b[39;00m:\n\u001b[1;32m-> 1736\u001b[0m     \u001b[38;5;28;01mreturn\u001b[39;00m \u001b[38;5;28mself\u001b[39m\u001b[38;5;241m.\u001b[39m_call_impl(\u001b[38;5;241m*\u001b[39margs, \u001b[38;5;241m*\u001b[39m\u001b[38;5;241m*\u001b[39mkwargs)\n",
            "File \u001b[1;32mc:\\Users\\loren\\anaconda3\\envs\\fed-learn\\Lib\\site-packages\\torch\\nn\\modules\\module.py:1747\u001b[0m, in \u001b[0;36mModule._call_impl\u001b[1;34m(self, *args, **kwargs)\u001b[0m\n\u001b[0;32m   1742\u001b[0m \u001b[38;5;66;03m# If we don't have any hooks, we want to skip the rest of the logic in\u001b[39;00m\n\u001b[0;32m   1743\u001b[0m \u001b[38;5;66;03m# this function, and just call forward.\u001b[39;00m\n\u001b[0;32m   1744\u001b[0m \u001b[38;5;28;01mif\u001b[39;00m \u001b[38;5;129;01mnot\u001b[39;00m (\u001b[38;5;28mself\u001b[39m\u001b[38;5;241m.\u001b[39m_backward_hooks \u001b[38;5;129;01mor\u001b[39;00m \u001b[38;5;28mself\u001b[39m\u001b[38;5;241m.\u001b[39m_backward_pre_hooks \u001b[38;5;129;01mor\u001b[39;00m \u001b[38;5;28mself\u001b[39m\u001b[38;5;241m.\u001b[39m_forward_hooks \u001b[38;5;129;01mor\u001b[39;00m \u001b[38;5;28mself\u001b[39m\u001b[38;5;241m.\u001b[39m_forward_pre_hooks\n\u001b[0;32m   1745\u001b[0m         \u001b[38;5;129;01mor\u001b[39;00m _global_backward_pre_hooks \u001b[38;5;129;01mor\u001b[39;00m _global_backward_hooks\n\u001b[0;32m   1746\u001b[0m         \u001b[38;5;129;01mor\u001b[39;00m _global_forward_hooks \u001b[38;5;129;01mor\u001b[39;00m _global_forward_pre_hooks):\n\u001b[1;32m-> 1747\u001b[0m     \u001b[38;5;28;01mreturn\u001b[39;00m forward_call(\u001b[38;5;241m*\u001b[39margs, \u001b[38;5;241m*\u001b[39m\u001b[38;5;241m*\u001b[39mkwargs)\n\u001b[0;32m   1749\u001b[0m result \u001b[38;5;241m=\u001b[39m \u001b[38;5;28;01mNone\u001b[39;00m\n\u001b[0;32m   1750\u001b[0m called_always_called_hooks \u001b[38;5;241m=\u001b[39m \u001b[38;5;28mset\u001b[39m()\n",
            "Cell \u001b[1;32mIn[110], line 142\u001b[0m, in \u001b[0;36mUnlearnNet.forward\u001b[1;34m(self, x)\u001b[0m\n\u001b[0;32m    137\u001b[0m     sparse_update \u001b[38;5;241m=\u001b[39m \u001b[38;5;28mself\u001b[39m\u001b[38;5;241m.\u001b[39mcontract_last_dim_with_vector(\n\u001b[0;32m    138\u001b[0m         current_state[mask_key], param_vector\n\u001b[0;32m    139\u001b[0m     )\n\u001b[0;32m    141\u001b[0m     \u001b[38;5;66;03m# Add the sparse update to the base buffer\u001b[39;00m\n\u001b[1;32m--> 142\u001b[0m     final_params[original_param_name] \u001b[38;5;241m=\u001b[39m (\n\u001b[0;32m    143\u001b[0m         current_state[base_key] \u001b[38;5;241m+\u001b[39m sparse_update\n\u001b[0;32m    144\u001b[0m     )\n\u001b[0;32m    146\u001b[0m \u001b[38;5;66;03m# Perform a functional forward pass with the reconstructed parameters\u001b[39;00m\n\u001b[0;32m    147\u001b[0m \u001b[38;5;28;01mreturn\u001b[39;00m torch\u001b[38;5;241m.\u001b[39mfunc\u001b[38;5;241m.\u001b[39mfunctional_call(model, final_params, x)\n",
            "\u001b[1;31mKeyboardInterrupt\u001b[0m: "
          ]
        }
      ],
      "source": [
        "print(\"Confusion matrix after retrain:\")\n",
        "acc, conf_mat = validate(eval_model, trainloader_class_list, 10, \"cuda\")\n",
        "plot_confusion_matrix(conf_mat)"
      ]
    },
    {
      "cell_type": "code",
      "execution_count": null,
      "metadata": {},
      "outputs": [
        {
          "ename": "NameError",
          "evalue": "name 'calculate_accumulated_diag_hessian' is not defined",
          "output_type": "error",
          "traceback": [
            "\u001b[1;31m---------------------------------------------------------------------------\u001b[0m",
            "\u001b[1;31mNameError\u001b[0m                                 Traceback (most recent call last)",
            "Cell \u001b[1;32mIn[79], line 26\u001b[0m\n\u001b[0;32m     23\u001b[0m weights_unlearned\u001b[38;5;241m=\u001b[39mtorch\u001b[38;5;241m.\u001b[39mtensor(weights_unlearned, dtype\u001b[38;5;241m=\u001b[39mtorch\u001b[38;5;241m.\u001b[39mfloat32)\n\u001b[0;32m     24\u001b[0m weights_delta\u001b[38;5;241m=\u001b[39mtorch\u001b[38;5;241m.\u001b[39mtensor(weights_delta, dtype\u001b[38;5;241m=\u001b[39mtorch\u001b[38;5;241m.\u001b[39mfloat32)\n\u001b[1;32m---> 26\u001b[0m accumulated_diag_h_retrain \u001b[38;5;241m=\u001b[39m calculate_accumulated_diag_hessian(trainloader_list, final_model, criterion, weights_unlearned)\n\u001b[0;32m     27\u001b[0m accumulated_diag_h_removed_retrain \u001b[38;5;241m=\u001b[39m calculate_accumulated_diag_hessian(trainloader_list, final_model, criterion, weights_delta)\n",
            "\u001b[1;31mNameError\u001b[0m: name 'calculate_accumulated_diag_hessian' is not defined"
          ]
        }
      ],
      "source": [
        "trainloader_list = [DataLoader(dloader.dataset, batch_size=128) for dloader in trainloader_lst]\n",
        "#trainloader_list_removed, num_removed = create_dataloader(party_to_be_erased, trainloader_list, 0.8) \n",
        "\n",
        "\n",
        "final_model = FLNet2()\n",
        "unlearned_params = eval_model.get_retrained_params()\n",
        "\n",
        "\n",
        "final_model.load_state_dict(unlearned_params)\n",
        "final_model = extend(final_model)\n",
        "\n",
        "criterion = nn.CrossEntropyLoss()\n",
        "criterion = extend(criterion)\n",
        "\n",
        "delta = 0.01\n",
        "\n",
        "# Create weights list\n",
        "weights_unlearned = [1] * len(trainloader_list)\n",
        "weights_unlearned[party_to_be_erased] = 0\n",
        "weights_delta = weights_unlearned.copy()\n",
        "weights_delta[party_to_be_erased] = delta\n",
        "\n",
        "weights_unlearned=torch.tensor(weights_unlearned, dtype=torch.float32)\n",
        "weights_delta=torch.tensor(weights_delta, dtype=torch.float32)\n",
        "\n",
        "accumulated_diag_h_retrain = calculate_accumulated_diag_hessian(trainloader_list, final_model, criterion, weights_unlearned)\n",
        "accumulated_diag_h_removed_retrain = calculate_accumulated_diag_hessian(trainloader_list, final_model, criterion, weights_delta)\n"
      ]
    },
    {
      "cell_type": "code",
      "execution_count": null,
      "metadata": {},
      "outputs": [
        {
          "name": "stdout",
          "output_type": "stream",
          "text": [
            "0.weight\n",
            "Number of degenaracies: 0\n",
            "0.bias\n",
            "Number of degenaracies: 0\n",
            "3.weight\n",
            "Number of degenaracies: 0\n",
            "3.bias\n",
            "Number of degenaracies: 0\n",
            "7.weight\n",
            "Number of degenaracies: 75849\n",
            "7.bias\n",
            "Number of degenaracies: 11\n",
            "9.weight\n",
            "Number of degenaracies: 110\n",
            "9.bias\n",
            "Number of degenaracies: 0\n",
            "1541347\n",
            "Number of outliers: 30827\n"
          ]
        },
        {
          "data": {
            "image/png": "[encoded data removed]",
            "text/plain": [
              "<Figure size 1000x600 with 2 Axes>"
            ]
          },
          "metadata": {},
          "output_type": "display_data"
        },
        {
          "name": "stdout",
          "output_type": "stream",
          "text": [
            "Sum of all information values: 76330996673945016467456.000000\n",
            "Mean: 4.95222657080361e+16\n",
            "Min: 7.105427357601002e-11\n",
            "Max: 7.096975855513585e+22\n",
            "Total number of values: 1541347\n",
            "Sum of all information values: 612031161958400.000000\n",
            "Mean: 405179104.0\n",
            "Min: 7.105427357601002e-11\n",
            "Max: 17778028544.0\n",
            "Total number of values: 1510520\n"
          ]
        },
        {
          "data": {
            "text/plain": [
              "(7.633099667394502e+22, 612031161958400.0)"
            ]
          },
          "execution_count": 36,
          "metadata": {},
          "output_type": "execute_result"
        }
      ],
      "source": [
        "\n",
        "device = 'cuda' if torch.cuda.is_available() else 'cpu'\n",
        "info_true = compute_true_info(accumulated_diag_h_retrain, accumulated_diag_h_removed_retrain, torch.as_tensor([delta]).to(device))\n",
        "\n",
        "plot_information(info_true)"
      ]
    },
    {
      "cell_type": "code",
      "execution_count": null,
      "metadata": {},
      "outputs": [
        {
          "ename": "FileNotFoundError",
          "evalue": "[Errno 2] No such file or directory: 'client0'",
          "output_type": "error",
          "traceback": [
            "\u001b[1;31m---------------------------------------------------------------------------\u001b[0m",
            "\u001b[1;31mFileNotFoundError\u001b[0m                         Traceback (most recent call last)",
            "Cell \u001b[1;32mIn[37], line 1\u001b[0m\n\u001b[1;32m----> 1\u001b[0m client0 \u001b[38;5;241m=\u001b[39m torch\u001b[38;5;241m.\u001b[39mload(\u001b[38;5;124m\"\u001b[39m\u001b[38;5;124mclient0\u001b[39m\u001b[38;5;124m\"\u001b[39m)\n\u001b[0;32m      2\u001b[0m client1 \u001b[38;5;241m=\u001b[39m torch\u001b[38;5;241m.\u001b[39mload(\u001b[38;5;124m\"\u001b[39m\u001b[38;5;124mclient1\u001b[39m\u001b[38;5;124m\"\u001b[39m)\n\u001b[0;32m      3\u001b[0m client2 \u001b[38;5;241m=\u001b[39m torch\u001b[38;5;241m.\u001b[39mload(\u001b[38;5;124m\"\u001b[39m\u001b[38;5;124mclient2\u001b[39m\u001b[38;5;124m\"\u001b[39m)\n",
            "File \u001b[1;32mt:\\Programmi\\envs\\pytorch\\Lib\\site-packages\\torch\\serialization.py:1425\u001b[0m, in \u001b[0;36mload\u001b[1;34m(f, map_location, pickle_module, weights_only, mmap, **pickle_load_args)\u001b[0m\n\u001b[0;32m   1422\u001b[0m \u001b[38;5;28;01mif\u001b[39;00m \u001b[38;5;124m\"\u001b[39m\u001b[38;5;124mencoding\u001b[39m\u001b[38;5;124m\"\u001b[39m \u001b[38;5;129;01mnot\u001b[39;00m \u001b[38;5;129;01min\u001b[39;00m pickle_load_args\u001b[38;5;241m.\u001b[39mkeys():\n\u001b[0;32m   1423\u001b[0m     pickle_load_args[\u001b[38;5;124m\"\u001b[39m\u001b[38;5;124mencoding\u001b[39m\u001b[38;5;124m\"\u001b[39m] \u001b[38;5;241m=\u001b[39m \u001b[38;5;124m\"\u001b[39m\u001b[38;5;124mutf-8\u001b[39m\u001b[38;5;124m\"\u001b[39m\n\u001b[1;32m-> 1425\u001b[0m \u001b[38;5;28;01mwith\u001b[39;00m _open_file_like(f, \u001b[38;5;124m\"\u001b[39m\u001b[38;5;124mrb\u001b[39m\u001b[38;5;124m\"\u001b[39m) \u001b[38;5;28;01mas\u001b[39;00m opened_file:\n\u001b[0;32m   1426\u001b[0m     \u001b[38;5;28;01mif\u001b[39;00m _is_zipfile(opened_file):\n\u001b[0;32m   1427\u001b[0m         \u001b[38;5;66;03m# The zipfile reader is going to advance the current file position.\u001b[39;00m\n\u001b[0;32m   1428\u001b[0m         \u001b[38;5;66;03m# If we want to actually tail call to torch.jit.load, we need to\u001b[39;00m\n\u001b[0;32m   1429\u001b[0m         \u001b[38;5;66;03m# reset back to the original position.\u001b[39;00m\n\u001b[0;32m   1430\u001b[0m         orig_position \u001b[38;5;241m=\u001b[39m opened_file\u001b[38;5;241m.\u001b[39mtell()\n",
            "File \u001b[1;32mt:\\Programmi\\envs\\pytorch\\Lib\\site-packages\\torch\\serialization.py:751\u001b[0m, in \u001b[0;36m_open_file_like\u001b[1;34m(name_or_buffer, mode)\u001b[0m\n\u001b[0;32m    749\u001b[0m \u001b[38;5;28;01mdef\u001b[39;00m \u001b[38;5;21m_open_file_like\u001b[39m(name_or_buffer, mode):\n\u001b[0;32m    750\u001b[0m     \u001b[38;5;28;01mif\u001b[39;00m _is_path(name_or_buffer):\n\u001b[1;32m--> 751\u001b[0m         \u001b[38;5;28;01mreturn\u001b[39;00m _open_file(name_or_buffer, mode)\n\u001b[0;32m    752\u001b[0m     \u001b[38;5;28;01melse\u001b[39;00m:\n\u001b[0;32m    753\u001b[0m         \u001b[38;5;28;01mif\u001b[39;00m \u001b[38;5;124m\"\u001b[39m\u001b[38;5;124mw\u001b[39m\u001b[38;5;124m\"\u001b[39m \u001b[38;5;129;01min\u001b[39;00m mode:\n",
            "File \u001b[1;32mt:\\Programmi\\envs\\pytorch\\Lib\\site-packages\\torch\\serialization.py:732\u001b[0m, in \u001b[0;36m_open_file.__init__\u001b[1;34m(self, name, mode)\u001b[0m\n\u001b[0;32m    731\u001b[0m \u001b[38;5;28;01mdef\u001b[39;00m \u001b[38;5;21m__init__\u001b[39m(\u001b[38;5;28mself\u001b[39m, name, mode):\n\u001b[1;32m--> 732\u001b[0m     \u001b[38;5;28msuper\u001b[39m()\u001b[38;5;241m.\u001b[39m\u001b[38;5;21m__init__\u001b[39m(\u001b[38;5;28mopen\u001b[39m(name, mode))\n",
            "\u001b[1;31mFileNotFoundError\u001b[0m: [Errno 2] No such file or directory: 'client0'"
          ]
        }
      ],
      "source": [
        "client0 = torch.load(\"client0\")\n",
        "client1 = torch.load(\"client1\")\n",
        "client2 = torch.load(\"client2\")\n",
        "client3 = torch.load(\"client3\")\n",
        "client4 = torch.load(\"client4\")\n",
        "\n",
        "# For NumPy arrays\n",
        "import numpy as np\n",
        "\n",
        "def count_equal_arrays(list1, list2):\n",
        "    equal_count = 0\n",
        "    min_length = min(len(list1), len(list2))\n",
        "    \n",
        "    for i in range(min_length):\n",
        "        if np.array_equal(list1[i], list2[i]):\n",
        "            print(list1[i])\n",
        "            equal_count += 1\n",
        "    \n",
        "    return equal_count\n",
        "\n",
        "count_equal_arrays(client4[6], client4[6])\n",
        "\n",
        "import torch\n",
        "import numpy as np\n",
        "\n",
        "def tensor_list_distance(list1, list2, metric='euclidean'):\n",
        "    \"\"\"\n",
        "    Compute various distance metrics between two lists of tensors.\n",
        "    \n",
        "    Args:\n",
        "        list1: First list of tensors\n",
        "        list2: Second list of tensors\n",
        "        metric: Distance metric to use ('euclidean', 'manhattan', 'cosine', 'mean_squared', 'element_diff')\n",
        "        \n",
        "    Returns:\n",
        "        float: The computed distance between the two tensor lists\n",
        "    \"\"\"\n",
        "    # Make sure we only compare up to the length of the shorter list\n",
        "    min_length = min(len(list1), len(list2))\n",
        "    \n",
        "    if min_length == 0:\n",
        "        raise ValueError(\"At least one of the lists is empty\")\n",
        "        \n",
        "    # Initialize distance\n",
        "    distances = []\n",
        "    \n",
        "    # Compute distance for each pair of tensors\n",
        "    for i in range(min_length):\n",
        "        tensor1 = list1[i].float()  # Ensure tensors are float type\n",
        "        tensor2 = list2[i].float()\n",
        "        \n",
        "        if metric == 'euclidean':\n",
        "            # Euclidean distance\n",
        "            dist = torch.sqrt(torch.sum((tensor1 - tensor2) ** 2)).item()\n",
        "            distances.append(dist)\n",
        "            \n",
        "        elif metric == 'manhattan':\n",
        "            # Manhattan (L1) distance\n",
        "            dist = torch.sum(torch.abs(tensor1 - tensor2)).item()\n",
        "            distances.append(dist)\n",
        "            \n",
        "        elif metric == 'cosine':\n",
        "            # Cosine distance (1 - cosine similarity)\n",
        "            dot_product = torch.sum(tensor1 * tensor2)\n",
        "            norm1 = torch.sqrt(torch.sum(tensor1 ** 2))\n",
        "            norm2 = torch.sqrt(torch.sum(tensor2 ** 2))\n",
        "            \n",
        "            # Avoid division by zero\n",
        "            if norm1 == 0 or norm2 == 0:\n",
        "                dist = 1.0  # Maximum distance\n",
        "            else:\n",
        "                cosine_sim = dot_product / (norm1 * norm2)\n",
        "                # Clip to handle floating point errors\n",
        "                cosine_sim = torch.clamp(cosine_sim, -1.0, 1.0)\n",
        "                dist = 1.0 - cosine_sim.item()\n",
        "                \n",
        "            distances.append(dist)\n",
        "            \n",
        "        elif metric == 'mean_squared':\n",
        "            # Mean squared error\n",
        "            dist = torch.mean((tensor1 - tensor2) ** 2).item()\n",
        "            distances.append(dist)\n",
        "            \n",
        "        elif metric == 'element_diff':\n",
        "            # Count of different elements\n",
        "            diff_count = torch.sum(tensor1 != tensor2).item()\n",
        "            distances.append(diff_count)\n",
        "            \n",
        "        else:\n",
        "            raise ValueError(f\"Unknown distance metric: {metric}\")\n",
        "    \n",
        "    # Compute average distance across all tensor pairs\n",
        "    avg_distance = np.mean(distances)\n",
        "    \n",
        "    # Calculate additional statistics\n",
        "    stats = {\n",
        "        \"mean\": avg_distance,\n",
        "        \"median\": np.median(distances),\n",
        "        \"min\": np.min(distances),\n",
        "        \"max\": np.max(distances),\n",
        "        \"std\": np.std(distances),\n",
        "        \"distances\": distances  # List of all pairwise distances\n",
        "    }\n",
        "    \n",
        "    return stats\n",
        "\n",
        "    \n",
        "# Compute distances using different metrics\n",
        "for metric in ['euclidean', 'element_diff']:\n",
        "    result = tensor_list_distance(client0[4], client1[4], metric=metric)\n",
        "    print(f\"\\n{metric.upper()} Distance:\")\n",
        "    print(f\"Mean: {result['mean']:.6f}\")\n",
        "    print(f\"Median: {result['median']:.6f}\")\n",
        "    print(f\"Min: {result['min']:.6f}\")\n",
        "    print(f\"Max: {result['max']:.6f}\")\n",
        "    print(f\"Std: {result['std']:.6f}\")\n"
      ]
    }
  ],
  "metadata": {
    "accelerator": "GPU",
    "colab": {
      "collapsed_sections": [
        "9GexoT5UbGQl"
      ],
      "gpuType": "T4",
      "provenance": []
    },
    "kernelspec": {
      "display_name": "fed-learn",
      "language": "python",
      "name": "python3"
    },
    "language_info": {
      "codemirror_mode": {
        "name": "ipython",
        "version": 3
      },
      "file_extension": ".py",
      "mimetype": "text/x-python",
      "name": "python",
      "nbconvert_exporter": "python",
      "pygments_lexer": "ipython3",
      "version": "3.11.9"
    }
  },
  "nbformat": 4,
  "nbformat_minor": 0
}
