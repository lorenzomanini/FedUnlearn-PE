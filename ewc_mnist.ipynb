{
 "cells": [
  {
   "cell_type": "code",
   "execution_count": 45,
   "id": "dca3386a",
   "metadata": {},
   "outputs": [
    {
     "name": "stdout",
     "output_type": "stream",
     "text": [
      "The autoreload extension is already loaded. To reload it, use:\n",
      "  %reload_ext autoreload\n"
     ]
    }
   ],
   "source": [
    "%load_ext autoreload\n",
    "%autoreload 2"
   ]
  },
  {
   "cell_type": "code",
   "execution_count": 46,
   "id": "57146339",
   "metadata": {},
   "outputs": [],
   "source": [
    "import torch\n",
    "from torch import nn\n",
    "from torchvision import datasets, transforms, models\n",
    "from torch.utils.data import DataLoader, Dataset\n",
    "import torchmetrics\n",
    "\n",
    "import numpy as np\n",
    "import pandas as pd\n",
    "import seaborn as sns\n",
    "import matplotlib.pyplot as plt\n",
    "\n",
    "import os\n",
    "os.environ[\"KMP_DUPLICATE_LIB_OK\"] = \"TRUE\"\n",
    "import pickle"
   ]
  },
  {
   "cell_type": "code",
   "execution_count": 47,
   "id": "09c79b87",
   "metadata": {},
   "outputs": [],
   "source": [
    "class EWC_loss(nn.Module):\n",
    "    def __init__(self, model: nn.Module, information_matrix, lambda_ewc, loss_fn):\n",
    "        super(EWC_loss, self).__init__()\n",
    "        for name, param in model.named_parameters():\n",
    "            self.register_buffer(self.get_orig_name(name), param.detach().clone())\n",
    "            self.register_buffer(self.get_info_name(name), information_matrix[name])\n",
    "        \n",
    "        self.lambda_ewc = lambda_ewc\n",
    "        self.loss_fn = loss_fn\n",
    "\n",
    "    def get_orig_name(self, name):\n",
    "        return f\"orig_{name.replace('.', '_')}\"\n",
    "    \n",
    "    def get_info_name(self, name):\n",
    "        return f\"info_{name.replace('.', '_')}\"\n",
    "    \n",
    "    def forward(self, model, pred, target):\n",
    "        # Compute the loss\n",
    "        loss = self.loss_fn(pred, target)\n",
    "        buffer = self.state_dict()\n",
    "        \n",
    "        # Compute the EWC penalty\n",
    "        ewc_penalty = 0\n",
    "        for name, param in model.named_parameters():\n",
    "            old_param = buffer[self.get_orig_name(name)]\n",
    "            information = buffer[self.get_info_name(name)]\n",
    "            ewc_penalty += (information * (param - old_param) ** 2).sum()    \n",
    "        # Combine the loss and the EWC penalty\n",
    "        total_loss = loss + self.lambda_ewc * ewc_penalty\n",
    "        \n",
    "        return total_loss"
   ]
  },
  {
   "cell_type": "code",
   "execution_count": 48,
   "id": "dcc8917d",
   "metadata": {},
   "outputs": [],
   "source": [
    "class PermutedMNIST(Dataset):\n",
    "    def __init__(self, base_dataset, permutation=None):\n",
    "        self.base_dataset = base_dataset\n",
    "        self.permutation = permutation\n",
    "        self.targets = base_dataset.targets\n",
    "\n",
    "    def __len__(self):\n",
    "        return len(self.base_dataset)\n",
    "\n",
    "    def __getitem__(self, idx):\n",
    "        image, label = self.base_dataset[idx]\n",
    "        if self.permutation is not None:\n",
    "            # Flatten, permute, then reshape back to [1, 28, 28]\n",
    "            image = image.view(-1)[self.permutation].view(1, 28, 28)\n",
    "        return image, label"
   ]
  },
  {
   "cell_type": "code",
   "execution_count": 49,
   "id": "8d45c593",
   "metadata": {},
   "outputs": [],
   "source": [
    "transform = transforms.ToTensor()\n",
    "dataset = datasets.MNIST(root='./data', train=True, download=True, transform=transform)\n",
    "test_dataset = datasets.MNIST(root='./data', train=False, download=True, transform=transform)\n",
    "\n",
    "perm = np.random.permutation(28 * 28)\n",
    "task1_dataset = PermutedMNIST(dataset, permutation=None)\n",
    "task2_dataset = PermutedMNIST(dataset, permutation=perm)\n",
    "task1_test_dataset = PermutedMNIST(test_dataset, permutation=None)\n",
    "task2_test_dataset = PermutedMNIST(test_dataset, permutation=perm)"
   ]
  },
  {
   "cell_type": "code",
   "execution_count": 50,
   "id": "3a7320b4",
   "metadata": {},
   "outputs": [
    {
     "data": {
      "image/png": "[encoded data removed]",
      "text/plain": [
       "<Figure size 1000x400 with 10 Axes>"
      ]
     },
     "metadata": {},
     "output_type": "display_data"
    }
   ],
   "source": [
    "import matplotlib.pyplot as plt\n",
    "import torchvision\n",
    "\n",
    "def show_task_examples_from_dataloaders(task1_loader, task2_loader, n=5):\n",
    "    # Get the first batch from each DataLoader\n",
    "    task1_batch = next(iter(task1_loader))\n",
    "    task2_batch = next(iter(task2_loader))\n",
    "\n",
    "    images1, labels1 = task1_batch\n",
    "    images2, labels2 = task2_batch\n",
    "\n",
    "    plt.figure(figsize=(2 * n, 4))\n",
    "\n",
    "    for i in range(n):\n",
    "        # Task 1: Original\n",
    "        plt.subplot(2, n, i + 1)\n",
    "        plt.imshow(images1[i].squeeze(0), cmap='gray')\n",
    "        plt.title(f\"Orig: {labels1[i].item()}\")\n",
    "        plt.axis('off')\n",
    "\n",
    "        # Task 2: Permuted\n",
    "        plt.subplot(2, n, i + 1 + n)\n",
    "        plt.imshow(images2[i].squeeze(0), cmap='gray')\n",
    "        plt.title(f\"Perm: {labels2[i].item()}\")\n",
    "        plt.axis('off')\n",
    "\n",
    "    plt.suptitle(\"Top: Original MNIST | Bottom: Permuted MNIST\", fontsize=14)\n",
    "    plt.tight_layout()\n",
    "    plt.show()\n",
    "\n",
    "\n",
    "task1_loader = DataLoader(task1_test_dataset, batch_size=64, shuffle=True)\n",
    "task2_loader = DataLoader(task2_test_dataset, batch_size=64, shuffle=True)\n",
    "show_task_examples_from_dataloaders(task1_loader, task2_loader, n=5)\n"
   ]
  },
  {
   "cell_type": "code",
   "execution_count": 51,
   "id": "83468529",
   "metadata": {},
   "outputs": [
    {
     "name": "stdout",
     "output_type": "stream",
     "text": [
      "Number of parameters in the model: 1663370\n"
     ]
    }
   ],
   "source": [
    "class FLNet(nn.Sequential):\n",
    "    def __init__(self):\n",
    "        super(FLNet, self).__init__(\n",
    "            nn.Conv2d(1, 32, 5, padding=2),\n",
    "            nn.ReLU(),\n",
    "            nn.MaxPool2d(2),\n",
    "            nn.Conv2d(32, 64, 5, padding=2),\n",
    "            nn.ReLU(),\n",
    "            nn.MaxPool2d(2),\n",
    "            nn.Flatten(),\n",
    "            nn.Linear(64 * 7 * 7, 512),\n",
    "            nn.ReLU(),\n",
    "            nn.Linear(512, 10)\n",
    "        )\n",
    "\n",
    "test_model = FLNet()\n",
    "model_parameters = filter(lambda p: p.requires_grad, test_model.parameters())\n",
    "params = sum([np.prod(p.size()) for p in model_parameters])\n",
    "print(f\"Number of parameters in the model: {params}\")"
   ]
  },
  {
   "cell_type": "code",
   "execution_count": 52,
   "id": "cc63b3ed",
   "metadata": {},
   "outputs": [],
   "source": [
    "def compute_accuracy(model, dataloader, device=None):\n",
    "    if device is None:\n",
    "        device_ = torch.device(\"cuda\" if torch.cuda.is_available() else \"cpu\")\n",
    "    else:\n",
    "        device_ = device\n",
    "        \n",
    "    model.to(device_)\n",
    "    model.eval()\n",
    "    correct = 0\n",
    "    total = 0\n",
    "    with torch.no_grad():\n",
    "        for images, labels in dataloader:\n",
    "            images, labels = images.to(device_), labels.to(device_)\n",
    "            outputs = model(images)\n",
    "            _, predicted = torch.max(outputs.data, 1)\n",
    "            total += labels.size(0)\n",
    "            correct += (predicted == labels).sum().item()\n",
    "\n",
    "    if device is None:\n",
    "        model.cpu()\n",
    "\n",
    "    return correct / total\n",
    "\n",
    "def compute_dataloaders_accuracy(model, dataloaders):\n",
    "    accuracies = []\n",
    "    for idx, dataloader in enumerate(dataloaders):\n",
    "        accuracy = compute_accuracy(model, dataloader)\n",
    "        accuracies.append(accuracy)\n",
    "    return accuracies\n",
    "\n",
    "# create validation routine\n",
    "def validate(model, dataloaders, num_classes, device=None):\n",
    "    if device is None:\n",
    "        device = torch.device(\"cuda\" if torch.cuda.is_available() else \"cpu\")\n",
    "        \n",
    "    # create metric objects\n",
    "    tm_acc = torchmetrics.Accuracy(task='multiclass', num_classes=num_classes, average= 'macro', top_k=1)\n",
    "    tm_con = torchmetrics.ConfusionMatrix(task=\"multiclass\", num_classes=num_classes)\n",
    "    # move metric to device\n",
    "    model.to(device)\n",
    "    tm_acc.to(device)\n",
    "    tm_con.to(device)\n",
    "    # set network in eval mode\n",
    "    model.eval()\n",
    "    # at the end of epoch, validate model\n",
    "    for loader_idx, loader in enumerate(dataloaders):\n",
    "        for inputs, targets in loader:\n",
    "        \n",
    "            inputs = inputs.to(device)\n",
    "            targets = targets.to(device)\n",
    "            # remove singleton dimension\n",
    "            targets = targets.squeeze()\n",
    "            # get output\n",
    "            with torch.no_grad():\n",
    "                # perform prediction\n",
    "                logits = model(inputs)\n",
    "            # update metrics\n",
    "            _, predicted = torch.max(logits.data, 1)\n",
    "            tm_acc.update(predicted, targets)\n",
    "            tm_con.update(predicted, targets)\n",
    "\n",
    "    # at the end, compute metric\n",
    "    acc = tm_acc.compute()\n",
    "    con = tm_con.compute()\n",
    "    # set network in training mode\n",
    "    \n",
    "    return acc, con\n",
    "\n",
    "\n",
    "def plot_confusion_matrix(conf_mat):\n",
    "    cm = sns.light_palette(\"blue\", as_cmap=True)\n",
    "    x=pd.DataFrame(conf_mat.cpu())\n",
    "    x=x.style.background_gradient(cmap=cm)\n",
    "    display(x)"
   ]
  },
  {
   "cell_type": "code",
   "execution_count": 53,
   "id": "80a652ae",
   "metadata": {},
   "outputs": [],
   "source": [
    "def trainer(model, loss_fn, dataloader, epochs):\n",
    "    torch.cuda.empty_cache()\n",
    "    # Training loop\n",
    "    optimizer = torch.optim.Adam(model.parameters(), lr=1e-3)\n",
    "\n",
    "    device = torch.device(\"cuda\" if torch.cuda.is_available() else \"cpu\")\n",
    "    print(device)\n",
    "    #device = \"cpu\"\n",
    "    model.to(device)\n",
    "\n",
    "    for epoch in range(epochs):\n",
    "        for imgs, labels in dataloader:\n",
    "            imgs, labels = imgs.to(device), labels.to(device)\n",
    "            preds = model(imgs)\n",
    "            loss = loss_fn(preds, labels)\n",
    "            loss.backward()\n",
    "            optimizer.step()\n",
    "            optimizer.zero_grad()\n",
    "        # Evaluate on test set\n",
    "        print(f\"Epoch {epoch + 1}/{epochs}, Loss: {loss.item():.4f}\")\n",
    "        \n",
    "    return model\n",
    "\n",
    "def trainer_ewc(model, loss_fn, dataloader, epochs):\n",
    "    torch.cuda.empty_cache()\n",
    "    # Training loop\n",
    "    optimizer = torch.optim.Adam(model.parameters(), lr=1e-3)\n",
    "\n",
    "    device = torch.device(\"cuda\" if torch.cuda.is_available() else \"cpu\")\n",
    "    print(device)\n",
    "    #device = \"cpu\"\n",
    "    model.to(device)\n",
    "    loss_fn.to(device)\n",
    "\n",
    "    for epoch in range(epochs):\n",
    "        for imgs, labels in dataloader:\n",
    "            imgs, labels = imgs.to(device), labels.to(device)\n",
    "            preds = model(imgs)\n",
    "            loss = loss_fn(model, preds, labels)\n",
    "            loss.backward()\n",
    "            optimizer.step()\n",
    "            optimizer.zero_grad()\n",
    "        # Evaluate on test set\n",
    "        print(f\"Epoch {epoch + 1}/{epochs}, Loss: {loss.item():.4f}\")\n",
    "        \n",
    "    return model"
   ]
  },
  {
   "cell_type": "code",
   "execution_count": 54,
   "id": "c6a579fe",
   "metadata": {},
   "outputs": [],
   "source": [
    "def get_normalized_avg_information(informations):\n",
    "    normalized_info = {name : torch.zeros_like(param) for name, param in informations[0].items()}\n",
    "    total_num_params = sum([param.numel() for name, param in informations[0].items()])\n",
    "    for information in informations:\n",
    "        for name, param in information.items():\n",
    "            normalized_info[name] += param\n",
    "    for name, param in normalized_info.items():\n",
    "        info = normalized_info[name]\n",
    "        info = info / len(informations)\n",
    "        info = torch.exp(info) / torch.sum(torch.exp(info))\n",
    "        info = info * info.numel() / total_num_params\n",
    "        normalized_info[name] = info\n",
    "    \n",
    "    return normalized_info"
   ]
  },
  {
   "cell_type": "code",
   "execution_count": 55,
   "id": "e71073cc",
   "metadata": {},
   "outputs": [
    {
     "name": "stdout",
     "output_type": "stream",
     "text": [
      "cuda\n",
      "Epoch 1/5, Loss: 0.0625\n",
      "Epoch 2/5, Loss: 0.0004\n",
      "Epoch 3/5, Loss: 0.0070\n",
      "Epoch 4/5, Loss: 0.0009\n",
      "Epoch 5/5, Loss: 0.0020\n",
      "Task 1 accuracy after Task 1 training: 0.9919\n",
      "Task 2 accuracy after Task 1 training: 0.1150\n",
      "cuda\n",
      "Epoch 1/5, Loss: 0.1979\n",
      "Epoch 2/5, Loss: 0.0147\n",
      "Epoch 3/5, Loss: 0.1227\n",
      "Epoch 4/5, Loss: 0.0852\n",
      "Epoch 5/5, Loss: 0.0752\n",
      "cuda\n",
      "Epoch 1/5, Loss: 0.0724\n",
      "Epoch 2/5, Loss: 0.0729\n",
      "Epoch 3/5, Loss: 0.0220\n",
      "Epoch 4/5, Loss: 0.0450\n",
      "Epoch 5/5, Loss: 0.0021\n"
     ]
    },
    {
     "data": {
      "application/vnd.jupyter.widget-view+json": {
       "model_id": "67246219fd9f425f82a6856b1cfab26e",
       "version_major": 2,
       "version_minor": 0
      },
      "text/plain": [
       "Computing clients information:   0%|          | 0/850 [00:00<?, ?batch/s]"
      ]
     },
     "metadata": {},
     "output_type": "display_data"
    }
   ],
   "source": [
    "from fisherunlearn import compute_informations\n",
    "from fisherunlearn.clients_utils import split_dataset_by_class_distribution\n",
    "\n",
    "# Model\n",
    "model = FLNet()\n",
    "model_naive = FLNet()\n",
    "model_benchmark = FLNet()\n",
    "loss_fn = nn.CrossEntropyLoss()\n",
    "\n",
    "task1_dataloader = DataLoader(task1_dataset, batch_size=64, shuffle=True)\n",
    "task2_dataloader = DataLoader(task2_dataset, batch_size=64, shuffle=True)\n",
    "task1_test_dataloader = DataLoader(task1_test_dataset, batch_size=64, shuffle=False)\n",
    "task2_test_dataloader = DataLoader(task2_test_dataset, batch_size=64, shuffle=False)\n",
    "classes_datasets = split_dataset_by_class_distribution(task1_dataset, np.identity(10))\n",
    "classes_dataloaders = [DataLoader(dataset, batch_size=64, shuffle=False) for dataset in classes_datasets]\n",
    "\n",
    "full_dataset = torch.utils.data.ConcatDataset([task1_dataset, task2_dataset])\n",
    "full_dataloader = DataLoader(full_dataset, batch_size=64, shuffle=True)\n",
    "\n",
    "\n",
    "model = trainer(model, loss_fn, task1_dataloader, epochs=5)\n",
    "model_naive.load_state_dict(model.state_dict())\n",
    "\n",
    "print(f\"Task 1 accuracy after Task 1 training: {compute_accuracy(model, task1_test_dataloader):.4f}\")\n",
    "print(f\"Task 2 accuracy after Task 1 training: {compute_accuracy(model, task2_test_dataloader):.4f}\")\n",
    "\n",
    "model_naive = trainer(model_naive, loss_fn, task2_dataloader, epochs=5)\n",
    "model_benchmark = trainer(model_benchmark, loss_fn, full_dataloader, epochs=5)\n",
    "\n",
    "# Compute the Fisher information matrix\n",
    "informations = compute_informations(model, loss_fn, classes_dataloaders)"
   ]
  },
  {
   "cell_type": "code",
   "execution_count": 56,
   "id": "6e5530be",
   "metadata": {},
   "outputs": [
    {
     "name": "stdout",
     "output_type": "stream",
     "text": [
      "cuda\n",
      "Epoch 1/5, Loss: 0.5871\n",
      "Epoch 2/5, Loss: 0.2192\n",
      "Epoch 3/5, Loss: 0.1923\n",
      "Epoch 4/5, Loss: 0.1864\n",
      "Epoch 5/5, Loss: 0.1868\n"
     ]
    }
   ],
   "source": [
    "model_ewc = FLNet()\n",
    "model_ewc.load_state_dict(model.state_dict())\n",
    "info_params = get_normalized_avg_information(informations)\n",
    "\n",
    "# Train the models on task 2\n",
    "ewc_loss_fn = EWC_loss(model_ewc, info_params, lambda_ewc=400, loss_fn=loss_fn)\n",
    "model_ewc = trainer_ewc(model_ewc, ewc_loss_fn, task2_dataloader, epochs=5)"
   ]
  },
  {
   "cell_type": "code",
   "execution_count": 57,
   "id": "b7e58720",
   "metadata": {},
   "outputs": [
    {
     "name": "stdout",
     "output_type": "stream",
     "text": [
      "Task 1 ewc model accuracy: 0.9327\n",
      "Task 1 naive model accuracy: 0.8041\n",
      "Task 1 benchmark model accuracy: 0.9906\n",
      "Task 2 ewc model accuracy: 0.9654\n",
      "Task 2 naive model accuracy: 0.9649\n",
      "Task 2 benchmark model accuracy: 0.9733\n"
     ]
    }
   ],
   "source": [
    "# Evaluate the models\n",
    "print(f\"Task 1 ewc model accuracy: {compute_accuracy(model_ewc, task1_test_dataloader):.4f}\")\n",
    "print(f\"Task 1 naive model accuracy: {compute_accuracy(model_naive, task1_test_dataloader):.4f}\")\n",
    "print(f\"Task 1 benchmark model accuracy: {compute_accuracy(model_benchmark, task1_test_dataloader):.4f}\")\n",
    "print(f\"Task 2 ewc model accuracy: {compute_accuracy(model_ewc, task2_test_dataloader):.4f}\")\n",
    "print(f\"Task 2 naive model accuracy: {compute_accuracy(model_naive, task2_test_dataloader):.4f}\")\n",
    "print(f\"Task 2 benchmark model accuracy: {compute_accuracy(model_benchmark, task2_test_dataloader):.4f}\")"
   ]
  }
 ],
 "metadata": {
  "kernelspec": {
   "display_name": "fed-learn",
   "language": "python",
   "name": "python3"
  },
  "language_info": {
   "codemirror_mode": {
    "name": "ipython",
    "version": 3
   },
   "file_extension": ".py",
   "mimetype": "text/x-python",
   "name": "python",
   "nbconvert_exporter": "python",
   "pygments_lexer": "ipython3",
   "version": "3.11.9"
  }
 },
 "nbformat": 4,
 "nbformat_minor": 5
}
