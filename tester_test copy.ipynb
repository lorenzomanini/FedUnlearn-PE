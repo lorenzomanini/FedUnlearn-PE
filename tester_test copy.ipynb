{
 "cells": [
  {
   "cell_type": "code",
   "execution_count": 1,
   "id": "f265c6c0",
   "metadata": {},
   "outputs": [],
   "source": [
    "import numpy as np\n",
    "from tester import run_repeated_tests, InitParamsDict, TestParamsDict"
   ]
  },
  {
   "cell_type": "code",
   "execution_count": 2,
   "id": "3e7de912",
   "metadata": {},
   "outputs": [],
   "source": [
    "save_path = '.\\stat_tests'\n",
    "workers = 1"
   ]
  },
  {
   "cell_type": "code",
   "execution_count": 3,
   "id": "2a12678e",
   "metadata": {},
   "outputs": [
    {
     "name": "stderr",
     "output_type": "stream",
     "text": [
      "2025-05-17 14:06:14,568 - INFO - Starting test suite: test_mnist_random_FIM\n",
      "2025-05-17 14:06:14,570 - INFO - Created test suite directory: .\\stat_tests\\test_mnist_random_FIM\n",
      "2025-05-17 14:06:14,572 - INFO - Initial Configuration:\n",
      "2025-05-17 14:06:14,573 - INFO -   test_name: test_mnist_random_FIM\n",
      "2025-05-17 14:06:14,574 - INFO -   dataset_name: mnist\n",
      "2025-05-17 14:06:14,575 - INFO -   num_clients: 5\n",
      "2025-05-17 14:06:14,576 - INFO -   num_classes: 10\n",
      "2025-05-17 14:06:14,577 - INFO -   distribution_type: random\n",
      "2025-05-17 14:06:14,578 - INFO -   model_name: simple_cnn\n",
      "2025-05-17 14:06:14,579 - INFO -   loss_name: cross_entropy\n",
      "2025-05-17 14:06:14,580 - INFO -   trainer_name: sgd\n",
      "2025-05-17 14:06:14,581 - INFO -   train_epochs: 5\n",
      "2025-05-17 14:06:14,582 - INFO -   target_client: 0\n",
      "2025-05-17 14:06:14,583 - INFO -   num_tests: 1\n",
      "2025-05-17 14:06:14,584 - INFO -   use_FIM: True\n",
      "2025-05-17 14:06:14,585 - INFO - ------------------------------\n"
     ]
    },
    {
     "data": {
      "application/vnd.jupyter.widget-view+json": {
       "model_id": "83220b3ad56644bba5a0ef156d10119a",
       "version_major": 2,
       "version_minor": 0
      },
      "text/plain": [
       "Running repeated tests:   0%|          | 0/1 [00:00<?, ?it/s]"
      ]
     },
     "metadata": {},
     "output_type": "display_data"
    },
    {
     "name": "stderr",
     "output_type": "stream",
     "text": [
      "2025-05-17 14:06:14,647 - INFO - --- Starting Test Iteration 0 ---\n",
      "2025-05-17 14:06:14,648 - INFO - Using device: cuda\n",
      "2025-05-17 14:06:14,653 - INFO - Training model...\n"
     ]
    },
    {
     "data": {
      "application/vnd.jupyter.widget-view+json": {
       "model_id": "62afdc29288b487b9e963d3240bba7d6",
       "version_major": 2,
       "version_minor": 0
      },
      "text/plain": [
       "Training:   0%|          | 0/5 [00:00<?, ?epoch/s]"
      ]
     },
     "metadata": {},
     "output_type": "display_data"
    },
    {
     "name": "stderr",
     "output_type": "stream",
     "text": [
      "2025-05-17 14:06:30,630 - INFO - Epoch 1/5, Loss: 0.002297409111633897\n",
      "2025-05-17 14:06:46,182 - INFO - Epoch 2/5, Loss: 0.03559305518865585\n",
      "2025-05-17 14:07:01,633 - INFO - Epoch 3/5, Loss: 0.004897982347756624\n",
      "2025-05-17 14:07:16,718 - INFO - Epoch 4/5, Loss: 0.018582111224532127\n",
      "2025-05-17 14:07:31,889 - INFO - Epoch 5/5, Loss: 0.1522694230079651\n",
      "2025-05-17 14:07:31,901 - INFO - Training benchmark model...\n"
     ]
    },
    {
     "data": {
      "application/vnd.jupyter.widget-view+json": {
       "model_id": "b9beabb0534546aa8cfb2d372819771d",
       "version_major": 2,
       "version_minor": 0
      },
      "text/plain": [
       "Training:   0%|          | 0/5 [00:00<?, ?epoch/s]"
      ]
     },
     "metadata": {},
     "output_type": "display_data"
    },
    {
     "name": "stderr",
     "output_type": "stream",
     "text": [
      "2025-05-17 14:07:43,946 - INFO - Epoch 1/5, Loss: 0.008043701760470867\n",
      "2025-05-17 14:07:58,203 - INFO - Epoch 2/5, Loss: 0.0017152602085843682\n",
      "2025-05-17 14:08:35,911 - INFO - Epoch 3/5, Loss: 0.0410308763384819\n",
      "2025-05-17 14:08:48,683 - INFO - Epoch 4/5, Loss: 0.006483832374215126\n",
      "2025-05-17 14:09:00,880 - INFO - Epoch 5/5, Loss: 0.0002164220786653459\n",
      "2025-05-17 14:09:00,895 - INFO - Computing information...\n",
      "2025-05-17 14:09:00,897 - INFO - Using FIM for information computation...\n"
     ]
    },
    {
     "data": {
      "application/vnd.jupyter.widget-view+json": {
       "model_id": "b4da2125376e4c639487e5b779f6edef",
       "version_major": 2,
       "version_minor": 0
      },
      "text/plain": [
       "Computing clients information:   0%|          | 0/4000 [00:00<?, ?batch/s]"
      ]
     },
     "metadata": {},
     "output_type": "display_data"
    },
    {
     "data": {
      "application/vnd.jupyter.widget-view+json": {
       "model_id": "a650e2619eb34bc99a6ea5ac72c41b1d",
       "version_major": 2,
       "version_minor": 0
      },
      "text/plain": [
       "Unlearning tests:   0%|          | 0/18 [00:00<?, ?it/s]"
      ]
     },
     "metadata": {},
     "output_type": "display_data"
    },
    {
     "name": "stderr",
     "output_type": "stream",
     "text": [
      "2025-05-17 14:10:07,721 - INFO - Unlearning: Method=information, Percentage=5, RetrainEpochs=1\n"
     ]
    },
    {
     "data": {
      "application/vnd.jupyter.widget-view+json": {
       "model_id": "c076c1a8fefd4360be2e454d1389e6e4",
       "version_major": 2,
       "version_minor": 0
      },
      "text/plain": [
       "Training:   0%|          | 0/1 [00:00<?, ?epoch/s]"
      ]
     },
     "metadata": {},
     "output_type": "display_data"
    },
    {
     "name": "stderr",
     "output_type": "stream",
     "text": [
      "2025-05-17 14:10:25,629 - INFO - Epoch 1/1, Loss: 0.0003361960989423096\n",
      "2025-05-17 14:10:25,660 - INFO - Computing test accuracies...\n"
     ]
    },
    {
     "data": {
      "application/vnd.jupyter.widget-view+json": {
       "model_id": "c5832ae3aed9431ab64f288912cf0d28",
       "version_major": 2,
       "version_minor": 0
      },
      "text/plain": [
       "Computing accuracy:   0%|          | 0/313 [00:00<?, ?batch/s]"
      ]
     },
     "metadata": {},
     "output_type": "display_data"
    },
    {
     "data": {
      "application/vnd.jupyter.widget-view+json": {
       "model_id": "ff1e8baf0994447192d1915b5ff0d723",
       "version_major": 2,
       "version_minor": 0
      },
      "text/plain": [
       "Computing accuracy:   0%|          | 0/313 [00:00<?, ?batch/s]"
      ]
     },
     "metadata": {},
     "output_type": "display_data"
    },
    {
     "data": {
      "application/vnd.jupyter.widget-view+json": {
       "model_id": "382583859beb4a8cb0dc0ab1dc8fd3c1",
       "version_major": 2,
       "version_minor": 0
      },
      "text/plain": [
       "Computing accuracy:   0%|          | 0/313 [00:00<?, ?batch/s]"
      ]
     },
     "metadata": {},
     "output_type": "display_data"
    },
    {
     "data": {
      "application/vnd.jupyter.widget-view+json": {
       "model_id": "ad91eb23ace548918d99a1027651bb64",
       "version_major": 2,
       "version_minor": 0
      },
      "text/plain": [
       "Computing accuracy:   0%|          | 0/313 [00:00<?, ?batch/s]"
      ]
     },
     "metadata": {},
     "output_type": "display_data"
    },
    {
     "name": "stderr",
     "output_type": "stream",
     "text": [
      "2025-05-17 14:10:37,021 - INFO - Computing clients accuracies...\n"
     ]
    },
    {
     "data": {
      "application/vnd.jupyter.widget-view+json": {
       "model_id": "b8b78bfafcbb4e57a97fe915f1c65d8a",
       "version_major": 2,
       "version_minor": 0
      },
      "text/plain": [
       "Computing accuracy:   0%|          | 0/375 [00:00<?, ?batch/s]"
      ]
     },
     "metadata": {},
     "output_type": "display_data"
    },
    {
     "data": {
      "application/vnd.jupyter.widget-view+json": {
       "model_id": "176ae6a4059e46a1a8a147a185033257",
       "version_major": 2,
       "version_minor": 0
      },
      "text/plain": [
       "Computing accuracy:   0%|          | 0/375 [00:00<?, ?batch/s]"
      ]
     },
     "metadata": {},
     "output_type": "display_data"
    },
    {
     "data": {
      "application/vnd.jupyter.widget-view+json": {
       "model_id": "13cdae01b5a04778a7887eb45e025e1a",
       "version_major": 2,
       "version_minor": 0
      },
      "text/plain": [
       "Computing accuracy:   0%|          | 0/375 [00:00<?, ?batch/s]"
      ]
     },
     "metadata": {},
     "output_type": "display_data"
    },
    {
     "data": {
      "application/vnd.jupyter.widget-view+json": {
       "model_id": "ae6ebd825065466781b9a201b00693e1",
       "version_major": 2,
       "version_minor": 0
      },
      "text/plain": [
       "Computing accuracy:   0%|          | 0/375 [00:00<?, ?batch/s]"
      ]
     },
     "metadata": {},
     "output_type": "display_data"
    },
    {
     "data": {
      "application/vnd.jupyter.widget-view+json": {
       "model_id": "bea425dd3fb54ecb84b3ce595757350d",
       "version_major": 2,
       "version_minor": 0
      },
      "text/plain": [
       "Computing accuracy:   0%|          | 0/375 [00:00<?, ?batch/s]"
      ]
     },
     "metadata": {},
     "output_type": "display_data"
    },
    {
     "data": {
      "application/vnd.jupyter.widget-view+json": {
       "model_id": "993e25df5417461d94a73486f8b37789",
       "version_major": 2,
       "version_minor": 0
      },
      "text/plain": [
       "Computing accuracy:   0%|          | 0/375 [00:00<?, ?batch/s]"
      ]
     },
     "metadata": {},
     "output_type": "display_data"
    },
    {
     "data": {
      "application/vnd.jupyter.widget-view+json": {
       "model_id": "ceb8e8d703164afea1d4fa46ef489347",
       "version_major": 2,
       "version_minor": 0
      },
      "text/plain": [
       "Computing accuracy:   0%|          | 0/375 [00:00<?, ?batch/s]"
      ]
     },
     "metadata": {},
     "output_type": "display_data"
    },
    {
     "data": {
      "application/vnd.jupyter.widget-view+json": {
       "model_id": "6aa5fa0c4e7e4c8abd8110da3d9e2eca",
       "version_major": 2,
       "version_minor": 0
      },
      "text/plain": [
       "Computing accuracy:   0%|          | 0/375 [00:00<?, ?batch/s]"
      ]
     },
     "metadata": {},
     "output_type": "display_data"
    },
    {
     "data": {
      "application/vnd.jupyter.widget-view+json": {
       "model_id": "01ab8932557d44c9b0f7657f5aeaf5d5",
       "version_major": 2,
       "version_minor": 0
      },
      "text/plain": [
       "Computing accuracy:   0%|          | 0/375 [00:00<?, ?batch/s]"
      ]
     },
     "metadata": {},
     "output_type": "display_data"
    },
    {
     "data": {
      "application/vnd.jupyter.widget-view+json": {
       "model_id": "7c99f18d5e664f0fbb0c5f772022c31d",
       "version_major": 2,
       "version_minor": 0
      },
      "text/plain": [
       "Computing accuracy:   0%|          | 0/375 [00:00<?, ?batch/s]"
      ]
     },
     "metadata": {},
     "output_type": "display_data"
    },
    {
     "data": {
      "application/vnd.jupyter.widget-view+json": {
       "model_id": "460c87e5a2cf4ccaa5bbde3bb15123a0",
       "version_major": 2,
       "version_minor": 0
      },
      "text/plain": [
       "Computing accuracy:   0%|          | 0/375 [00:00<?, ?batch/s]"
      ]
     },
     "metadata": {},
     "output_type": "display_data"
    },
    {
     "data": {
      "application/vnd.jupyter.widget-view+json": {
       "model_id": "409e8bd16094483588937e9fa609a6af",
       "version_major": 2,
       "version_minor": 0
      },
      "text/plain": [
       "Computing accuracy:   0%|          | 0/375 [00:00<?, ?batch/s]"
      ]
     },
     "metadata": {},
     "output_type": "display_data"
    },
    {
     "data": {
      "application/vnd.jupyter.widget-view+json": {
       "model_id": "91ef9a2c16ea410bb04cf7d9c28528a4",
       "version_major": 2,
       "version_minor": 0
      },
      "text/plain": [
       "Computing accuracy:   0%|          | 0/375 [00:00<?, ?batch/s]"
      ]
     },
     "metadata": {},
     "output_type": "display_data"
    },
    {
     "data": {
      "application/vnd.jupyter.widget-view+json": {
       "model_id": "69eeb61d230e49158fde541f81e63b67",
       "version_major": 2,
       "version_minor": 0
      },
      "text/plain": [
       "Computing accuracy:   0%|          | 0/375 [00:00<?, ?batch/s]"
      ]
     },
     "metadata": {},
     "output_type": "display_data"
    },
    {
     "data": {
      "application/vnd.jupyter.widget-view+json": {
       "model_id": "6fed8b24f6f64adaa43952ff1bbc3f47",
       "version_major": 2,
       "version_minor": 0
      },
      "text/plain": [
       "Computing accuracy:   0%|          | 0/375 [00:00<?, ?batch/s]"
      ]
     },
     "metadata": {},
     "output_type": "display_data"
    },
    {
     "data": {
      "application/vnd.jupyter.widget-view+json": {
       "model_id": "d339ce5b296d4f3d997478f65d3f01fb",
       "version_major": 2,
       "version_minor": 0
      },
      "text/plain": [
       "Computing accuracy:   0%|          | 0/375 [00:00<?, ?batch/s]"
      ]
     },
     "metadata": {},
     "output_type": "display_data"
    },
    {
     "data": {
      "application/vnd.jupyter.widget-view+json": {
       "model_id": "f58d63aad6f2492c94a36074bb060bcc",
       "version_major": 2,
       "version_minor": 0
      },
      "text/plain": [
       "Computing accuracy:   0%|          | 0/375 [00:00<?, ?batch/s]"
      ]
     },
     "metadata": {},
     "output_type": "display_data"
    },
    {
     "data": {
      "application/vnd.jupyter.widget-view+json": {
       "model_id": "89b64415be3744f89572a520e892a352",
       "version_major": 2,
       "version_minor": 0
      },
      "text/plain": [
       "Computing accuracy:   0%|          | 0/375 [00:00<?, ?batch/s]"
      ]
     },
     "metadata": {},
     "output_type": "display_data"
    },
    {
     "data": {
      "application/vnd.jupyter.widget-view+json": {
       "model_id": "edb4a3887c994d47ba1141b7278f9d46",
       "version_major": 2,
       "version_minor": 0
      },
      "text/plain": [
       "Computing accuracy:   0%|          | 0/375 [00:00<?, ?batch/s]"
      ]
     },
     "metadata": {},
     "output_type": "display_data"
    },
    {
     "data": {
      "application/vnd.jupyter.widget-view+json": {
       "model_id": "788993aa7204408b99ff0a1e5e848288",
       "version_major": 2,
       "version_minor": 0
      },
      "text/plain": [
       "Computing accuracy:   0%|          | 0/375 [00:00<?, ?batch/s]"
      ]
     },
     "metadata": {},
     "output_type": "display_data"
    },
    {
     "name": "stderr",
     "output_type": "stream",
     "text": [
      "2025-05-17 14:12:07,220 - INFO - Running MIA...\n",
      "2025-05-17 14:12:07,228 - INFO - Classifier type: nn\n",
      "2025-05-17 14:12:40,750 - INFO - Classifier type: logistic\n",
      "2025-05-17 14:12:58,592 - INFO - Unlearning: Method=information, Percentage=10, RetrainEpochs=1\n"
     ]
    },
    {
     "data": {
      "application/vnd.jupyter.widget-view+json": {
       "model_id": "ce24a62438a6467d85436a45bc69a90f",
       "version_major": 2,
       "version_minor": 0
      },
      "text/plain": [
       "Training:   0%|          | 0/1 [00:00<?, ?epoch/s]"
      ]
     },
     "metadata": {},
     "output_type": "display_data"
    },
    {
     "name": "stderr",
     "output_type": "stream",
     "text": [
      "2025-05-17 14:13:25,791 - INFO - Epoch 1/1, Loss: 0.0038521953392773867\n",
      "2025-05-17 14:13:25,825 - INFO - Computing test accuracies...\n"
     ]
    },
    {
     "data": {
      "application/vnd.jupyter.widget-view+json": {
       "model_id": "c0943573e8694156bcd50040c731cbe6",
       "version_major": 2,
       "version_minor": 0
      },
      "text/plain": [
       "Computing accuracy:   0%|          | 0/313 [00:00<?, ?batch/s]"
      ]
     },
     "metadata": {},
     "output_type": "display_data"
    },
    {
     "data": {
      "application/vnd.jupyter.widget-view+json": {
       "model_id": "726c56e3ea0d4989a9bd8b3e9b738e56",
       "version_major": 2,
       "version_minor": 0
      },
      "text/plain": [
       "Computing accuracy:   0%|          | 0/313 [00:00<?, ?batch/s]"
      ]
     },
     "metadata": {},
     "output_type": "display_data"
    },
    {
     "name": "stderr",
     "output_type": "stream",
     "text": [
      "2025-05-17 14:13:35,777 - INFO - Computing clients accuracies...\n"
     ]
    },
    {
     "data": {
      "application/vnd.jupyter.widget-view+json": {
       "model_id": "d22bd2f4cd954c89acda0329bc268c71",
       "version_major": 2,
       "version_minor": 0
      },
      "text/plain": [
       "Computing accuracy:   0%|          | 0/375 [00:00<?, ?batch/s]"
      ]
     },
     "metadata": {},
     "output_type": "display_data"
    },
    {
     "data": {
      "application/vnd.jupyter.widget-view+json": {
       "model_id": "79c64f16bd8e4605bd72d906f4ed4916",
       "version_major": 2,
       "version_minor": 0
      },
      "text/plain": [
       "Computing accuracy:   0%|          | 0/375 [00:00<?, ?batch/s]"
      ]
     },
     "metadata": {},
     "output_type": "display_data"
    },
    {
     "data": {
      "application/vnd.jupyter.widget-view+json": {
       "model_id": "717b4e75203c41bc9e6522ab0df01a1f",
       "version_major": 2,
       "version_minor": 0
      },
      "text/plain": [
       "Computing accuracy:   0%|          | 0/375 [00:00<?, ?batch/s]"
      ]
     },
     "metadata": {},
     "output_type": "display_data"
    },
    {
     "data": {
      "application/vnd.jupyter.widget-view+json": {
       "model_id": "e797895ecb304fbebc801df15945bc5a",
       "version_major": 2,
       "version_minor": 0
      },
      "text/plain": [
       "Computing accuracy:   0%|          | 0/375 [00:00<?, ?batch/s]"
      ]
     },
     "metadata": {},
     "output_type": "display_data"
    },
    {
     "data": {
      "application/vnd.jupyter.widget-view+json": {
       "model_id": "e0051c60b86949aa90e7b0c378fd8bda",
       "version_major": 2,
       "version_minor": 0
      },
      "text/plain": [
       "Computing accuracy:   0%|          | 0/375 [00:00<?, ?batch/s]"
      ]
     },
     "metadata": {},
     "output_type": "display_data"
    },
    {
     "data": {
      "application/vnd.jupyter.widget-view+json": {
       "model_id": "be0deead2c2c431e940e6d4f94e5bf29",
       "version_major": 2,
       "version_minor": 0
      },
      "text/plain": [
       "Computing accuracy:   0%|          | 0/375 [00:00<?, ?batch/s]"
      ]
     },
     "metadata": {},
     "output_type": "display_data"
    },
    {
     "data": {
      "application/vnd.jupyter.widget-view+json": {
       "model_id": "2ca80b7ea45d42dc86df0bb78545bbbb",
       "version_major": 2,
       "version_minor": 0
      },
      "text/plain": [
       "Computing accuracy:   0%|          | 0/375 [00:00<?, ?batch/s]"
      ]
     },
     "metadata": {},
     "output_type": "display_data"
    },
    {
     "data": {
      "application/vnd.jupyter.widget-view+json": {
       "model_id": "6c676bd144b54b3a91c2e9b1f2d5b325",
       "version_major": 2,
       "version_minor": 0
      },
      "text/plain": [
       "Computing accuracy:   0%|          | 0/375 [00:00<?, ?batch/s]"
      ]
     },
     "metadata": {},
     "output_type": "display_data"
    },
    {
     "data": {
      "application/vnd.jupyter.widget-view+json": {
       "model_id": "d052f3cd7a494d3284a64259fdbf7b3d",
       "version_major": 2,
       "version_minor": 0
      },
      "text/plain": [
       "Computing accuracy:   0%|          | 0/375 [00:00<?, ?batch/s]"
      ]
     },
     "metadata": {},
     "output_type": "display_data"
    },
    {
     "data": {
      "application/vnd.jupyter.widget-view+json": {
       "model_id": "bbdd918b78d64d1ca0574d224b0289f4",
       "version_major": 2,
       "version_minor": 0
      },
      "text/plain": [
       "Computing accuracy:   0%|          | 0/375 [00:00<?, ?batch/s]"
      ]
     },
     "metadata": {},
     "output_type": "display_data"
    },
    {
     "name": "stderr",
     "output_type": "stream",
     "text": [
      "2025-05-17 14:14:34,050 - INFO - Running MIA...\n",
      "2025-05-17 14:14:34,050 - INFO - Classifier type: nn\n",
      "2025-05-17 14:14:53,711 - INFO - Classifier type: logistic\n",
      "2025-05-17 14:15:10,757 - INFO - Unlearning: Method=information, Percentage=15, RetrainEpochs=1\n"
     ]
    },
    {
     "data": {
      "application/vnd.jupyter.widget-view+json": {
       "model_id": "1e104cc74aa24e97ab95db046c45fa00",
       "version_major": 2,
       "version_minor": 0
      },
      "text/plain": [
       "Training:   0%|          | 0/1 [00:00<?, ?epoch/s]"
      ]
     },
     "metadata": {},
     "output_type": "display_data"
    },
    {
     "name": "stderr",
     "output_type": "stream",
     "text": [
      "2025-05-17 14:15:32,331 - INFO - Epoch 1/1, Loss: 7.811075920471922e-05\n",
      "2025-05-17 14:15:32,364 - INFO - Computing test accuracies...\n"
     ]
    },
    {
     "data": {
      "application/vnd.jupyter.widget-view+json": {
       "model_id": "b41fa9bccb294a8f9eba66b2741bc6d4",
       "version_major": 2,
       "version_minor": 0
      },
      "text/plain": [
       "Computing accuracy:   0%|          | 0/313 [00:00<?, ?batch/s]"
      ]
     },
     "metadata": {},
     "output_type": "display_data"
    },
    {
     "data": {
      "application/vnd.jupyter.widget-view+json": {
       "model_id": "4bb7a83096ac4debaca0a5a738738724",
       "version_major": 2,
       "version_minor": 0
      },
      "text/plain": [
       "Computing accuracy:   0%|          | 0/313 [00:00<?, ?batch/s]"
      ]
     },
     "metadata": {},
     "output_type": "display_data"
    },
    {
     "name": "stderr",
     "output_type": "stream",
     "text": [
      "2025-05-17 14:15:38,485 - INFO - Computing clients accuracies...\n"
     ]
    },
    {
     "data": {
      "application/vnd.jupyter.widget-view+json": {
       "model_id": "5bfbc6d114e94b0c934fb818d29d4837",
       "version_major": 2,
       "version_minor": 0
      },
      "text/plain": [
       "Computing accuracy:   0%|          | 0/375 [00:00<?, ?batch/s]"
      ]
     },
     "metadata": {},
     "output_type": "display_data"
    },
    {
     "data": {
      "application/vnd.jupyter.widget-view+json": {
       "model_id": "6768c266342946cab51c99cf1ddee057",
       "version_major": 2,
       "version_minor": 0
      },
      "text/plain": [
       "Computing accuracy:   0%|          | 0/375 [00:00<?, ?batch/s]"
      ]
     },
     "metadata": {},
     "output_type": "display_data"
    },
    {
     "data": {
      "application/vnd.jupyter.widget-view+json": {
       "model_id": "9945c38bc90640dd881bdbfd4b8d6f04",
       "version_major": 2,
       "version_minor": 0
      },
      "text/plain": [
       "Computing accuracy:   0%|          | 0/375 [00:00<?, ?batch/s]"
      ]
     },
     "metadata": {},
     "output_type": "display_data"
    },
    {
     "data": {
      "application/vnd.jupyter.widget-view+json": {
       "model_id": "59210981148e410dbde723f4fbce24d8",
       "version_major": 2,
       "version_minor": 0
      },
      "text/plain": [
       "Computing accuracy:   0%|          | 0/375 [00:00<?, ?batch/s]"
      ]
     },
     "metadata": {},
     "output_type": "display_data"
    },
    {
     "data": {
      "application/vnd.jupyter.widget-view+json": {
       "model_id": "c2b4250dcc1c40a8bf67209bdc7bd1fd",
       "version_major": 2,
       "version_minor": 0
      },
      "text/plain": [
       "Computing accuracy:   0%|          | 0/375 [00:00<?, ?batch/s]"
      ]
     },
     "metadata": {},
     "output_type": "display_data"
    },
    {
     "data": {
      "application/vnd.jupyter.widget-view+json": {
       "model_id": "4bcf59a688f9465ca187da8c4f7118de",
       "version_major": 2,
       "version_minor": 0
      },
      "text/plain": [
       "Computing accuracy:   0%|          | 0/375 [00:00<?, ?batch/s]"
      ]
     },
     "metadata": {},
     "output_type": "display_data"
    },
    {
     "data": {
      "application/vnd.jupyter.widget-view+json": {
       "model_id": "58afa6bd804642a9a8108b7a217fe526",
       "version_major": 2,
       "version_minor": 0
      },
      "text/plain": [
       "Computing accuracy:   0%|          | 0/375 [00:00<?, ?batch/s]"
      ]
     },
     "metadata": {},
     "output_type": "display_data"
    },
    {
     "data": {
      "application/vnd.jupyter.widget-view+json": {
       "model_id": "48ed522c57574ebf93d32215de491c94",
       "version_major": 2,
       "version_minor": 0
      },
      "text/plain": [
       "Computing accuracy:   0%|          | 0/375 [00:00<?, ?batch/s]"
      ]
     },
     "metadata": {},
     "output_type": "display_data"
    },
    {
     "data": {
      "application/vnd.jupyter.widget-view+json": {
       "model_id": "aa16067d71734567b990af26ba6450e2",
       "version_major": 2,
       "version_minor": 0
      },
      "text/plain": [
       "Computing accuracy:   0%|          | 0/375 [00:00<?, ?batch/s]"
      ]
     },
     "metadata": {},
     "output_type": "display_data"
    },
    {
     "data": {
      "application/vnd.jupyter.widget-view+json": {
       "model_id": "b2eb8a0104f7492381d583e0c20973f2",
       "version_major": 2,
       "version_minor": 0
      },
      "text/plain": [
       "Computing accuracy:   0%|          | 0/375 [00:00<?, ?batch/s]"
      ]
     },
     "metadata": {},
     "output_type": "display_data"
    },
    {
     "name": "stderr",
     "output_type": "stream",
     "text": [
      "2025-05-17 14:16:18,873 - INFO - Running MIA...\n",
      "2025-05-17 14:16:18,873 - INFO - Classifier type: nn\n",
      "2025-05-17 14:16:28,695 - INFO - Classifier type: logistic\n",
      "2025-05-17 14:16:38,558 - INFO - Unlearning: Method=information, Percentage=20, RetrainEpochs=1\n"
     ]
    },
    {
     "data": {
      "application/vnd.jupyter.widget-view+json": {
       "model_id": "e22a274933dd42dea12221006bc89d58",
       "version_major": 2,
       "version_minor": 0
      },
      "text/plain": [
       "Training:   0%|          | 0/1 [00:00<?, ?epoch/s]"
      ]
     },
     "metadata": {},
     "output_type": "display_data"
    },
    {
     "name": "stderr",
     "output_type": "stream",
     "text": [
      "2025-05-17 14:16:58,115 - INFO - Epoch 1/1, Loss: 0.009222411550581455\n",
      "2025-05-17 14:16:58,149 - INFO - Computing test accuracies...\n"
     ]
    },
    {
     "data": {
      "application/vnd.jupyter.widget-view+json": {
       "model_id": "f8311f5e4689408daa6579e7974e0f22",
       "version_major": 2,
       "version_minor": 0
      },
      "text/plain": [
       "Computing accuracy:   0%|          | 0/313 [00:00<?, ?batch/s]"
      ]
     },
     "metadata": {},
     "output_type": "display_data"
    },
    {
     "data": {
      "application/vnd.jupyter.widget-view+json": {
       "model_id": "57d41b56d804435fa34bb80a77c6b082",
       "version_major": 2,
       "version_minor": 0
      },
      "text/plain": [
       "Computing accuracy:   0%|          | 0/313 [00:00<?, ?batch/s]"
      ]
     },
     "metadata": {},
     "output_type": "display_data"
    },
    {
     "name": "stderr",
     "output_type": "stream",
     "text": [
      "2025-05-17 14:17:04,496 - INFO - Computing clients accuracies...\n"
     ]
    },
    {
     "data": {
      "application/vnd.jupyter.widget-view+json": {
       "model_id": "c2ebd0434e114603bebd7b47e655a18f",
       "version_major": 2,
       "version_minor": 0
      },
      "text/plain": [
       "Computing accuracy:   0%|          | 0/375 [00:00<?, ?batch/s]"
      ]
     },
     "metadata": {},
     "output_type": "display_data"
    },
    {
     "data": {
      "application/vnd.jupyter.widget-view+json": {
       "model_id": "d43923ede62a4155817ae1654d90d14b",
       "version_major": 2,
       "version_minor": 0
      },
      "text/plain": [
       "Computing accuracy:   0%|          | 0/375 [00:00<?, ?batch/s]"
      ]
     },
     "metadata": {},
     "output_type": "display_data"
    },
    {
     "data": {
      "application/vnd.jupyter.widget-view+json": {
       "model_id": "8662c017db8f42d78185f18a35f4b07e",
       "version_major": 2,
       "version_minor": 0
      },
      "text/plain": [
       "Computing accuracy:   0%|          | 0/375 [00:00<?, ?batch/s]"
      ]
     },
     "metadata": {},
     "output_type": "display_data"
    },
    {
     "data": {
      "application/vnd.jupyter.widget-view+json": {
       "model_id": "02caf2380a1449b6a2dba0fc4b78c957",
       "version_major": 2,
       "version_minor": 0
      },
      "text/plain": [
       "Computing accuracy:   0%|          | 0/375 [00:00<?, ?batch/s]"
      ]
     },
     "metadata": {},
     "output_type": "display_data"
    },
    {
     "data": {
      "application/vnd.jupyter.widget-view+json": {
       "model_id": "8cee78b16b2148eab2b0cd43c3d9954d",
       "version_major": 2,
       "version_minor": 0
      },
      "text/plain": [
       "Computing accuracy:   0%|          | 0/375 [00:00<?, ?batch/s]"
      ]
     },
     "metadata": {},
     "output_type": "display_data"
    },
    {
     "data": {
      "application/vnd.jupyter.widget-view+json": {
       "model_id": "c5a2cc22b87e4178a6930360b8b1ebc3",
       "version_major": 2,
       "version_minor": 0
      },
      "text/plain": [
       "Computing accuracy:   0%|          | 0/375 [00:00<?, ?batch/s]"
      ]
     },
     "metadata": {},
     "output_type": "display_data"
    },
    {
     "data": {
      "application/vnd.jupyter.widget-view+json": {
       "model_id": "ea9f50f477954700aab1068643fef673",
       "version_major": 2,
       "version_minor": 0
      },
      "text/plain": [
       "Computing accuracy:   0%|          | 0/375 [00:00<?, ?batch/s]"
      ]
     },
     "metadata": {},
     "output_type": "display_data"
    },
    {
     "data": {
      "application/vnd.jupyter.widget-view+json": {
       "model_id": "51b991c0073f4d19b31e406a2aa8c716",
       "version_major": 2,
       "version_minor": 0
      },
      "text/plain": [
       "Computing accuracy:   0%|          | 0/375 [00:00<?, ?batch/s]"
      ]
     },
     "metadata": {},
     "output_type": "display_data"
    },
    {
     "data": {
      "application/vnd.jupyter.widget-view+json": {
       "model_id": "322ec5c48c8a42f794f7a3889f728ae1",
       "version_major": 2,
       "version_minor": 0
      },
      "text/plain": [
       "Computing accuracy:   0%|          | 0/375 [00:00<?, ?batch/s]"
      ]
     },
     "metadata": {},
     "output_type": "display_data"
    },
    {
     "data": {
      "application/vnd.jupyter.widget-view+json": {
       "model_id": "03910ee62f0a4b54acbd66e217a7b4ad",
       "version_major": 2,
       "version_minor": 0
      },
      "text/plain": [
       "Computing accuracy:   0%|          | 0/375 [00:00<?, ?batch/s]"
      ]
     },
     "metadata": {},
     "output_type": "display_data"
    },
    {
     "name": "stderr",
     "output_type": "stream",
     "text": [
      "2025-05-17 14:17:45,173 - INFO - Running MIA...\n",
      "2025-05-17 14:17:45,175 - INFO - Classifier type: nn\n",
      "2025-05-17 14:17:58,161 - INFO - Classifier type: logistic\n",
      "2025-05-17 14:18:09,004 - INFO - Unlearning: Method=information, Percentage=25, RetrainEpochs=1\n"
     ]
    },
    {
     "data": {
      "application/vnd.jupyter.widget-view+json": {
       "model_id": "a89be68d7ae144d08597c6837b301b79",
       "version_major": 2,
       "version_minor": 0
      },
      "text/plain": [
       "Training:   0%|          | 0/1 [00:00<?, ?epoch/s]"
      ]
     },
     "metadata": {},
     "output_type": "display_data"
    },
    {
     "name": "stderr",
     "output_type": "stream",
     "text": [
      "2025-05-17 14:18:28,529 - INFO - Epoch 1/1, Loss: 0.0026663292665034533\n",
      "2025-05-17 14:18:28,563 - INFO - Computing test accuracies...\n"
     ]
    },
    {
     "data": {
      "application/vnd.jupyter.widget-view+json": {
       "model_id": "e068113a1879492282cf7cfca927ca2c",
       "version_major": 2,
       "version_minor": 0
      },
      "text/plain": [
       "Computing accuracy:   0%|          | 0/313 [00:00<?, ?batch/s]"
      ]
     },
     "metadata": {},
     "output_type": "display_data"
    },
    {
     "data": {
      "application/vnd.jupyter.widget-view+json": {
       "model_id": "8d0498b656a74a81b36f00c0bb69b058",
       "version_major": 2,
       "version_minor": 0
      },
      "text/plain": [
       "Computing accuracy:   0%|          | 0/313 [00:00<?, ?batch/s]"
      ]
     },
     "metadata": {},
     "output_type": "display_data"
    },
    {
     "name": "stderr",
     "output_type": "stream",
     "text": [
      "2025-05-17 14:18:32,772 - INFO - Computing clients accuracies...\n"
     ]
    },
    {
     "data": {
      "application/vnd.jupyter.widget-view+json": {
       "model_id": "45a88cd61dec479dac495066f621bb3e",
       "version_major": 2,
       "version_minor": 0
      },
      "text/plain": [
       "Computing accuracy:   0%|          | 0/375 [00:00<?, ?batch/s]"
      ]
     },
     "metadata": {},
     "output_type": "display_data"
    },
    {
     "data": {
      "application/vnd.jupyter.widget-view+json": {
       "model_id": "9312b1d5d51c478c908e14edfe48adf4",
       "version_major": 2,
       "version_minor": 0
      },
      "text/plain": [
       "Computing accuracy:   0%|          | 0/375 [00:00<?, ?batch/s]"
      ]
     },
     "metadata": {},
     "output_type": "display_data"
    },
    {
     "data": {
      "application/vnd.jupyter.widget-view+json": {
       "model_id": "13f8f1801fa9402b925369f8eb08c4d5",
       "version_major": 2,
       "version_minor": 0
      },
      "text/plain": [
       "Computing accuracy:   0%|          | 0/375 [00:00<?, ?batch/s]"
      ]
     },
     "metadata": {},
     "output_type": "display_data"
    },
    {
     "data": {
      "application/vnd.jupyter.widget-view+json": {
       "model_id": "466d31446d014ee3a6f974c95c016daf",
       "version_major": 2,
       "version_minor": 0
      },
      "text/plain": [
       "Computing accuracy:   0%|          | 0/375 [00:00<?, ?batch/s]"
      ]
     },
     "metadata": {},
     "output_type": "display_data"
    },
    {
     "data": {
      "application/vnd.jupyter.widget-view+json": {
       "model_id": "06c7ffc67da74df3ae98c59a15b1d240",
       "version_major": 2,
       "version_minor": 0
      },
      "text/plain": [
       "Computing accuracy:   0%|          | 0/375 [00:00<?, ?batch/s]"
      ]
     },
     "metadata": {},
     "output_type": "display_data"
    },
    {
     "data": {
      "application/vnd.jupyter.widget-view+json": {
       "model_id": "4c87dbf648914080847478e5cad69371",
       "version_major": 2,
       "version_minor": 0
      },
      "text/plain": [
       "Computing accuracy:   0%|          | 0/375 [00:00<?, ?batch/s]"
      ]
     },
     "metadata": {},
     "output_type": "display_data"
    },
    {
     "data": {
      "application/vnd.jupyter.widget-view+json": {
       "model_id": "f5fd83857ecc48c08c65b0c2429ac9ac",
       "version_major": 2,
       "version_minor": 0
      },
      "text/plain": [
       "Computing accuracy:   0%|          | 0/375 [00:00<?, ?batch/s]"
      ]
     },
     "metadata": {},
     "output_type": "display_data"
    },
    {
     "data": {
      "application/vnd.jupyter.widget-view+json": {
       "model_id": "eb059202b9744987ae0a03fbc9962f58",
       "version_major": 2,
       "version_minor": 0
      },
      "text/plain": [
       "Computing accuracy:   0%|          | 0/375 [00:00<?, ?batch/s]"
      ]
     },
     "metadata": {},
     "output_type": "display_data"
    },
    {
     "data": {
      "application/vnd.jupyter.widget-view+json": {
       "model_id": "dcac2c62fc83437baa7fb7e4c2188160",
       "version_major": 2,
       "version_minor": 0
      },
      "text/plain": [
       "Computing accuracy:   0%|          | 0/375 [00:00<?, ?batch/s]"
      ]
     },
     "metadata": {},
     "output_type": "display_data"
    },
    {
     "data": {
      "application/vnd.jupyter.widget-view+json": {
       "model_id": "fe5737f3d5824fcb92a15cccfd1f6c3f",
       "version_major": 2,
       "version_minor": 0
      },
      "text/plain": [
       "Computing accuracy:   0%|          | 0/375 [00:00<?, ?batch/s]"
      ]
     },
     "metadata": {},
     "output_type": "display_data"
    },
    {
     "name": "stderr",
     "output_type": "stream",
     "text": [
      "2025-05-17 14:19:29,663 - INFO - Running MIA...\n",
      "2025-05-17 14:19:29,666 - INFO - Classifier type: nn\n",
      "2025-05-17 14:19:48,681 - INFO - Classifier type: logistic\n",
      "2025-05-17 14:20:06,641 - INFO - Unlearning: Method=information, Percentage=30, RetrainEpochs=1\n"
     ]
    },
    {
     "data": {
      "application/vnd.jupyter.widget-view+json": {
       "model_id": "1f39f6f6329c47a2a4cb61fb914713e1",
       "version_major": 2,
       "version_minor": 0
      },
      "text/plain": [
       "Training:   0%|          | 0/1 [00:00<?, ?epoch/s]"
      ]
     },
     "metadata": {},
     "output_type": "display_data"
    },
    {
     "name": "stderr",
     "output_type": "stream",
     "text": [
      "2025-05-17 14:20:34,030 - INFO - Epoch 1/1, Loss: 0.004749754909425974\n",
      "2025-05-17 14:20:34,080 - INFO - Computing test accuracies...\n"
     ]
    },
    {
     "data": {
      "application/vnd.jupyter.widget-view+json": {
       "model_id": "054d2df1db05435ca68711619ca0a27b",
       "version_major": 2,
       "version_minor": 0
      },
      "text/plain": [
       "Computing accuracy:   0%|          | 0/313 [00:00<?, ?batch/s]"
      ]
     },
     "metadata": {},
     "output_type": "display_data"
    },
    {
     "data": {
      "application/vnd.jupyter.widget-view+json": {
       "model_id": "84300c06fc7c4c44860b78c6b8147888",
       "version_major": 2,
       "version_minor": 0
      },
      "text/plain": [
       "Computing accuracy:   0%|          | 0/313 [00:00<?, ?batch/s]"
      ]
     },
     "metadata": {},
     "output_type": "display_data"
    },
    {
     "name": "stderr",
     "output_type": "stream",
     "text": [
      "2025-05-17 14:20:43,161 - INFO - Computing clients accuracies...\n"
     ]
    },
    {
     "data": {
      "application/vnd.jupyter.widget-view+json": {
       "model_id": "12d727d0e28e43429354408878b1fb24",
       "version_major": 2,
       "version_minor": 0
      },
      "text/plain": [
       "Computing accuracy:   0%|          | 0/375 [00:00<?, ?batch/s]"
      ]
     },
     "metadata": {},
     "output_type": "display_data"
    },
    {
     "data": {
      "application/vnd.jupyter.widget-view+json": {
       "model_id": "005b425597af48058a2171519e9bedea",
       "version_major": 2,
       "version_minor": 0
      },
      "text/plain": [
       "Computing accuracy:   0%|          | 0/375 [00:00<?, ?batch/s]"
      ]
     },
     "metadata": {},
     "output_type": "display_data"
    },
    {
     "data": {
      "application/vnd.jupyter.widget-view+json": {
       "model_id": "1803ce11302d4b769af133973978e9d1",
       "version_major": 2,
       "version_minor": 0
      },
      "text/plain": [
       "Computing accuracy:   0%|          | 0/375 [00:00<?, ?batch/s]"
      ]
     },
     "metadata": {},
     "output_type": "display_data"
    },
    {
     "data": {
      "application/vnd.jupyter.widget-view+json": {
       "model_id": "b71d96613c2f4a349398105a4af71b6f",
       "version_major": 2,
       "version_minor": 0
      },
      "text/plain": [
       "Computing accuracy:   0%|          | 0/375 [00:00<?, ?batch/s]"
      ]
     },
     "metadata": {},
     "output_type": "display_data"
    },
    {
     "data": {
      "application/vnd.jupyter.widget-view+json": {
       "model_id": "d240ac343131422aaab87ab3401c8078",
       "version_major": 2,
       "version_minor": 0
      },
      "text/plain": [
       "Computing accuracy:   0%|          | 0/375 [00:00<?, ?batch/s]"
      ]
     },
     "metadata": {},
     "output_type": "display_data"
    },
    {
     "data": {
      "application/vnd.jupyter.widget-view+json": {
       "model_id": "00992b876c0f47c0bbfe39e4a49a4a7e",
       "version_major": 2,
       "version_minor": 0
      },
      "text/plain": [
       "Computing accuracy:   0%|          | 0/375 [00:00<?, ?batch/s]"
      ]
     },
     "metadata": {},
     "output_type": "display_data"
    },
    {
     "data": {
      "application/vnd.jupyter.widget-view+json": {
       "model_id": "2f956bc398c7472aa0123bc3441f0519",
       "version_major": 2,
       "version_minor": 0
      },
      "text/plain": [
       "Computing accuracy:   0%|          | 0/375 [00:00<?, ?batch/s]"
      ]
     },
     "metadata": {},
     "output_type": "display_data"
    },
    {
     "data": {
      "application/vnd.jupyter.widget-view+json": {
       "model_id": "28f8d3b7171b47fe9787051fb28939c5",
       "version_major": 2,
       "version_minor": 0
      },
      "text/plain": [
       "Computing accuracy:   0%|          | 0/375 [00:00<?, ?batch/s]"
      ]
     },
     "metadata": {},
     "output_type": "display_data"
    },
    {
     "data": {
      "application/vnd.jupyter.widget-view+json": {
       "model_id": "c8a6fa309d384d31b1f2de9346451f28",
       "version_major": 2,
       "version_minor": 0
      },
      "text/plain": [
       "Computing accuracy:   0%|          | 0/375 [00:00<?, ?batch/s]"
      ]
     },
     "metadata": {},
     "output_type": "display_data"
    },
    {
     "data": {
      "application/vnd.jupyter.widget-view+json": {
       "model_id": "162fcb4db87b4dd4b8febc23afe2120d",
       "version_major": 2,
       "version_minor": 0
      },
      "text/plain": [
       "Computing accuracy:   0%|          | 0/375 [00:00<?, ?batch/s]"
      ]
     },
     "metadata": {},
     "output_type": "display_data"
    },
    {
     "name": "stderr",
     "output_type": "stream",
     "text": [
      "2025-05-17 14:21:26,131 - INFO - Running MIA...\n",
      "2025-05-17 14:21:26,131 - INFO - Classifier type: nn\n",
      "2025-05-17 14:21:37,768 - INFO - Classifier type: logistic\n",
      "2025-05-17 14:21:49,665 - INFO - Unlearning: Method=information, Percentage=35, RetrainEpochs=1\n"
     ]
    },
    {
     "data": {
      "application/vnd.jupyter.widget-view+json": {
       "model_id": "c67b43db7c804ea093bcb40e41971c74",
       "version_major": 2,
       "version_minor": 0
      },
      "text/plain": [
       "Training:   0%|          | 0/1 [00:00<?, ?epoch/s]"
      ]
     },
     "metadata": {},
     "output_type": "display_data"
    },
    {
     "name": "stderr",
     "output_type": "stream",
     "text": [
      "2025-05-17 14:22:10,584 - INFO - Epoch 1/1, Loss: 0.0026762010529637337\n",
      "2025-05-17 14:22:10,619 - INFO - Computing test accuracies...\n"
     ]
    },
    {
     "data": {
      "application/vnd.jupyter.widget-view+json": {
       "model_id": "f48e607102e449c88adc3e2c6eacc9eb",
       "version_major": 2,
       "version_minor": 0
      },
      "text/plain": [
       "Computing accuracy:   0%|          | 0/313 [00:00<?, ?batch/s]"
      ]
     },
     "metadata": {},
     "output_type": "display_data"
    },
    {
     "data": {
      "application/vnd.jupyter.widget-view+json": {
       "model_id": "ba0366be02f046cf96363c2a6d386b2c",
       "version_major": 2,
       "version_minor": 0
      },
      "text/plain": [
       "Computing accuracy:   0%|          | 0/313 [00:00<?, ?batch/s]"
      ]
     },
     "metadata": {},
     "output_type": "display_data"
    },
    {
     "name": "stderr",
     "output_type": "stream",
     "text": [
      "2025-05-17 14:22:16,869 - INFO - Computing clients accuracies...\n"
     ]
    },
    {
     "data": {
      "application/vnd.jupyter.widget-view+json": {
       "model_id": "176769eec614432285b70a7c7e353747",
       "version_major": 2,
       "version_minor": 0
      },
      "text/plain": [
       "Computing accuracy:   0%|          | 0/375 [00:00<?, ?batch/s]"
      ]
     },
     "metadata": {},
     "output_type": "display_data"
    },
    {
     "data": {
      "application/vnd.jupyter.widget-view+json": {
       "model_id": "dac2428cc90542909f3b301f3fc84f37",
       "version_major": 2,
       "version_minor": 0
      },
      "text/plain": [
       "Computing accuracy:   0%|          | 0/375 [00:00<?, ?batch/s]"
      ]
     },
     "metadata": {},
     "output_type": "display_data"
    },
    {
     "data": {
      "application/vnd.jupyter.widget-view+json": {
       "model_id": "2dd37928108444849fb1464378a89356",
       "version_major": 2,
       "version_minor": 0
      },
      "text/plain": [
       "Computing accuracy:   0%|          | 0/375 [00:00<?, ?batch/s]"
      ]
     },
     "metadata": {},
     "output_type": "display_data"
    },
    {
     "data": {
      "application/vnd.jupyter.widget-view+json": {
       "model_id": "db5469cbf53e4c1f9ae2e3472933e25a",
       "version_major": 2,
       "version_minor": 0
      },
      "text/plain": [
       "Computing accuracy:   0%|          | 0/375 [00:00<?, ?batch/s]"
      ]
     },
     "metadata": {},
     "output_type": "display_data"
    },
    {
     "data": {
      "application/vnd.jupyter.widget-view+json": {
       "model_id": "c9cb668b12de423f9bb32d7a883f9fbc",
       "version_major": 2,
       "version_minor": 0
      },
      "text/plain": [
       "Computing accuracy:   0%|          | 0/375 [00:00<?, ?batch/s]"
      ]
     },
     "metadata": {},
     "output_type": "display_data"
    },
    {
     "data": {
      "application/vnd.jupyter.widget-view+json": {
       "model_id": "b863ce39d8b743dbb07b7937b9baaa1a",
       "version_major": 2,
       "version_minor": 0
      },
      "text/plain": [
       "Computing accuracy:   0%|          | 0/375 [00:00<?, ?batch/s]"
      ]
     },
     "metadata": {},
     "output_type": "display_data"
    },
    {
     "data": {
      "application/vnd.jupyter.widget-view+json": {
       "model_id": "28d69a80a6624b0baac74319f37dcc79",
       "version_major": 2,
       "version_minor": 0
      },
      "text/plain": [
       "Computing accuracy:   0%|          | 0/375 [00:00<?, ?batch/s]"
      ]
     },
     "metadata": {},
     "output_type": "display_data"
    },
    {
     "data": {
      "application/vnd.jupyter.widget-view+json": {
       "model_id": "e648fcb9044b4cfd943463af6a8fefc9",
       "version_major": 2,
       "version_minor": 0
      },
      "text/plain": [
       "Computing accuracy:   0%|          | 0/375 [00:00<?, ?batch/s]"
      ]
     },
     "metadata": {},
     "output_type": "display_data"
    },
    {
     "data": {
      "application/vnd.jupyter.widget-view+json": {
       "model_id": "38c472ff67a94a2f8506422133123cbb",
       "version_major": 2,
       "version_minor": 0
      },
      "text/plain": [
       "Computing accuracy:   0%|          | 0/375 [00:00<?, ?batch/s]"
      ]
     },
     "metadata": {},
     "output_type": "display_data"
    },
    {
     "data": {
      "application/vnd.jupyter.widget-view+json": {
       "model_id": "36a4e1cecc444f4eb7d47bed60c0ca14",
       "version_major": 2,
       "version_minor": 0
      },
      "text/plain": [
       "Computing accuracy:   0%|          | 0/375 [00:00<?, ?batch/s]"
      ]
     },
     "metadata": {},
     "output_type": "display_data"
    },
    {
     "name": "stderr",
     "output_type": "stream",
     "text": [
      "2025-05-17 14:23:07,141 - INFO - Running MIA...\n",
      "2025-05-17 14:23:07,151 - INFO - Classifier type: nn\n",
      "2025-05-17 14:23:26,390 - INFO - Classifier type: logistic\n",
      "2025-05-17 14:23:44,063 - INFO - Unlearning: Method=information, Percentage=40, RetrainEpochs=1\n"
     ]
    },
    {
     "data": {
      "application/vnd.jupyter.widget-view+json": {
       "model_id": "047dc906c4744f9a8942470a05724f3c",
       "version_major": 2,
       "version_minor": 0
      },
      "text/plain": [
       "Training:   0%|          | 0/1 [00:00<?, ?epoch/s]"
      ]
     },
     "metadata": {},
     "output_type": "display_data"
    },
    {
     "name": "stderr",
     "output_type": "stream",
     "text": [
      "2025-05-17 14:24:12,801 - INFO - Epoch 1/1, Loss: 0.009110178798437119\n",
      "2025-05-17 14:24:12,841 - INFO - Computing test accuracies...\n"
     ]
    },
    {
     "data": {
      "application/vnd.jupyter.widget-view+json": {
       "model_id": "171fa8fa63b84d1f91cf5a413e910d91",
       "version_major": 2,
       "version_minor": 0
      },
      "text/plain": [
       "Computing accuracy:   0%|          | 0/313 [00:00<?, ?batch/s]"
      ]
     },
     "metadata": {},
     "output_type": "display_data"
    },
    {
     "data": {
      "application/vnd.jupyter.widget-view+json": {
       "model_id": "aaf6d2108e1a43d3bf4cc695a577457d",
       "version_major": 2,
       "version_minor": 0
      },
      "text/plain": [
       "Computing accuracy:   0%|          | 0/313 [00:00<?, ?batch/s]"
      ]
     },
     "metadata": {},
     "output_type": "display_data"
    },
    {
     "name": "stderr",
     "output_type": "stream",
     "text": [
      "2025-05-17 14:24:22,639 - INFO - Computing clients accuracies...\n"
     ]
    },
    {
     "data": {
      "application/vnd.jupyter.widget-view+json": {
       "model_id": "e5a1d209275a4b448ed085ef3ffe1a8d",
       "version_major": 2,
       "version_minor": 0
      },
      "text/plain": [
       "Computing accuracy:   0%|          | 0/375 [00:00<?, ?batch/s]"
      ]
     },
     "metadata": {},
     "output_type": "display_data"
    },
    {
     "data": {
      "application/vnd.jupyter.widget-view+json": {
       "model_id": "e467e070a3fa478e8cc5be5a4a9c359b",
       "version_major": 2,
       "version_minor": 0
      },
      "text/plain": [
       "Computing accuracy:   0%|          | 0/375 [00:00<?, ?batch/s]"
      ]
     },
     "metadata": {},
     "output_type": "display_data"
    },
    {
     "data": {
      "application/vnd.jupyter.widget-view+json": {
       "model_id": "ce7ca79668b74ba2bbfbdaaa490dc2ca",
       "version_major": 2,
       "version_minor": 0
      },
      "text/plain": [
       "Computing accuracy:   0%|          | 0/375 [00:00<?, ?batch/s]"
      ]
     },
     "metadata": {},
     "output_type": "display_data"
    },
    {
     "data": {
      "application/vnd.jupyter.widget-view+json": {
       "model_id": "26f3749b03ae45dab7574d0832e89964",
       "version_major": 2,
       "version_minor": 0
      },
      "text/plain": [
       "Computing accuracy:   0%|          | 0/375 [00:00<?, ?batch/s]"
      ]
     },
     "metadata": {},
     "output_type": "display_data"
    },
    {
     "data": {
      "application/vnd.jupyter.widget-view+json": {
       "model_id": "49471ad4d4184c9ba45ab3f028ef5341",
       "version_major": 2,
       "version_minor": 0
      },
      "text/plain": [
       "Computing accuracy:   0%|          | 0/375 [00:00<?, ?batch/s]"
      ]
     },
     "metadata": {},
     "output_type": "display_data"
    },
    {
     "data": {
      "application/vnd.jupyter.widget-view+json": {
       "model_id": "b7411c8016e74b9bb31aa8dfb88b8813",
       "version_major": 2,
       "version_minor": 0
      },
      "text/plain": [
       "Computing accuracy:   0%|          | 0/375 [00:00<?, ?batch/s]"
      ]
     },
     "metadata": {},
     "output_type": "display_data"
    },
    {
     "data": {
      "application/vnd.jupyter.widget-view+json": {
       "model_id": "f5f9afe68d194ee3954e370eb9480a8e",
       "version_major": 2,
       "version_minor": 0
      },
      "text/plain": [
       "Computing accuracy:   0%|          | 0/375 [00:00<?, ?batch/s]"
      ]
     },
     "metadata": {},
     "output_type": "display_data"
    },
    {
     "data": {
      "application/vnd.jupyter.widget-view+json": {
       "model_id": "486867fa43914b24a527afa5aa4eee74",
       "version_major": 2,
       "version_minor": 0
      },
      "text/plain": [
       "Computing accuracy:   0%|          | 0/375 [00:00<?, ?batch/s]"
      ]
     },
     "metadata": {},
     "output_type": "display_data"
    },
    {
     "data": {
      "application/vnd.jupyter.widget-view+json": {
       "model_id": "8010393dd0c24beb8c802696e49942e8",
       "version_major": 2,
       "version_minor": 0
      },
      "text/plain": [
       "Computing accuracy:   0%|          | 0/375 [00:00<?, ?batch/s]"
      ]
     },
     "metadata": {},
     "output_type": "display_data"
    },
    {
     "data": {
      "application/vnd.jupyter.widget-view+json": {
       "model_id": "1a03396f418f4240bf1cf8e394c9d800",
       "version_major": 2,
       "version_minor": 0
      },
      "text/plain": [
       "Computing accuracy:   0%|          | 0/375 [00:00<?, ?batch/s]"
      ]
     },
     "metadata": {},
     "output_type": "display_data"
    },
    {
     "name": "stderr",
     "output_type": "stream",
     "text": [
      "2025-05-17 14:25:22,506 - INFO - Running MIA...\n",
      "2025-05-17 14:25:22,511 - INFO - Classifier type: nn\n",
      "2025-05-17 14:25:41,531 - INFO - Classifier type: logistic\n",
      "2025-05-17 14:25:58,960 - INFO - Unlearning: Method=information, Percentage=45, RetrainEpochs=1\n"
     ]
    },
    {
     "data": {
      "application/vnd.jupyter.widget-view+json": {
       "model_id": "4279bda794bd4c95854b5dad4bd6cc7e",
       "version_major": 2,
       "version_minor": 0
      },
      "text/plain": [
       "Training:   0%|          | 0/1 [00:00<?, ?epoch/s]"
      ]
     },
     "metadata": {},
     "output_type": "display_data"
    },
    {
     "name": "stderr",
     "output_type": "stream",
     "text": [
      "2025-05-17 14:26:26,382 - INFO - Epoch 1/1, Loss: 0.019826972857117653\n",
      "2025-05-17 14:26:26,419 - INFO - Computing test accuracies...\n"
     ]
    },
    {
     "data": {
      "application/vnd.jupyter.widget-view+json": {
       "model_id": "77d94676e836405dbe245adf305dfc3d",
       "version_major": 2,
       "version_minor": 0
      },
      "text/plain": [
       "Computing accuracy:   0%|          | 0/313 [00:00<?, ?batch/s]"
      ]
     },
     "metadata": {},
     "output_type": "display_data"
    },
    {
     "data": {
      "application/vnd.jupyter.widget-view+json": {
       "model_id": "40c6153193434fb6a5c8af8902c66cea",
       "version_major": 2,
       "version_minor": 0
      },
      "text/plain": [
       "Computing accuracy:   0%|          | 0/313 [00:00<?, ?batch/s]"
      ]
     },
     "metadata": {},
     "output_type": "display_data"
    },
    {
     "name": "stderr",
     "output_type": "stream",
     "text": [
      "2025-05-17 14:26:31,091 - INFO - Computing clients accuracies...\n"
     ]
    },
    {
     "data": {
      "application/vnd.jupyter.widget-view+json": {
       "model_id": "302eac9542ca4926a2a1e5228a2fc613",
       "version_major": 2,
       "version_minor": 0
      },
      "text/plain": [
       "Computing accuracy:   0%|          | 0/375 [00:00<?, ?batch/s]"
      ]
     },
     "metadata": {},
     "output_type": "display_data"
    },
    {
     "data": {
      "application/vnd.jupyter.widget-view+json": {
       "model_id": "1e8c61d9dd2345b89069ab9a6dfd9f19",
       "version_major": 2,
       "version_minor": 0
      },
      "text/plain": [
       "Computing accuracy:   0%|          | 0/375 [00:00<?, ?batch/s]"
      ]
     },
     "metadata": {},
     "output_type": "display_data"
    },
    {
     "data": {
      "application/vnd.jupyter.widget-view+json": {
       "model_id": "84e65c8347364c43a83648e27fb3e018",
       "version_major": 2,
       "version_minor": 0
      },
      "text/plain": [
       "Computing accuracy:   0%|          | 0/375 [00:00<?, ?batch/s]"
      ]
     },
     "metadata": {},
     "output_type": "display_data"
    },
    {
     "data": {
      "application/vnd.jupyter.widget-view+json": {
       "model_id": "434dd3c0f097422eaa8bf011e154fd4e",
       "version_major": 2,
       "version_minor": 0
      },
      "text/plain": [
       "Computing accuracy:   0%|          | 0/375 [00:00<?, ?batch/s]"
      ]
     },
     "metadata": {},
     "output_type": "display_data"
    },
    {
     "data": {
      "application/vnd.jupyter.widget-view+json": {
       "model_id": "e0b06c263d3344f0a0e799686c02a576",
       "version_major": 2,
       "version_minor": 0
      },
      "text/plain": [
       "Computing accuracy:   0%|          | 0/375 [00:00<?, ?batch/s]"
      ]
     },
     "metadata": {},
     "output_type": "display_data"
    },
    {
     "data": {
      "application/vnd.jupyter.widget-view+json": {
       "model_id": "142ebdef77e2413eb6ed21e5c204dca9",
       "version_major": 2,
       "version_minor": 0
      },
      "text/plain": [
       "Computing accuracy:   0%|          | 0/375 [00:00<?, ?batch/s]"
      ]
     },
     "metadata": {},
     "output_type": "display_data"
    },
    {
     "data": {
      "application/vnd.jupyter.widget-view+json": {
       "model_id": "0af88f8de32843819460d62a6a87ad3c",
       "version_major": 2,
       "version_minor": 0
      },
      "text/plain": [
       "Computing accuracy:   0%|          | 0/375 [00:00<?, ?batch/s]"
      ]
     },
     "metadata": {},
     "output_type": "display_data"
    },
    {
     "data": {
      "application/vnd.jupyter.widget-view+json": {
       "model_id": "7514855cd275493983cab9b70a08a66e",
       "version_major": 2,
       "version_minor": 0
      },
      "text/plain": [
       "Computing accuracy:   0%|          | 0/375 [00:00<?, ?batch/s]"
      ]
     },
     "metadata": {},
     "output_type": "display_data"
    },
    {
     "data": {
      "application/vnd.jupyter.widget-view+json": {
       "model_id": "d450f27146df4ba0af6d04ec035e1f54",
       "version_major": 2,
       "version_minor": 0
      },
      "text/plain": [
       "Computing accuracy:   0%|          | 0/375 [00:00<?, ?batch/s]"
      ]
     },
     "metadata": {},
     "output_type": "display_data"
    },
    {
     "data": {
      "application/vnd.jupyter.widget-view+json": {
       "model_id": "5659a92d348c4dc9a2726bd17a38862b",
       "version_major": 2,
       "version_minor": 0
      },
      "text/plain": [
       "Computing accuracy:   0%|          | 0/375 [00:00<?, ?batch/s]"
      ]
     },
     "metadata": {},
     "output_type": "display_data"
    },
    {
     "name": "stderr",
     "output_type": "stream",
     "text": [
      "2025-05-17 14:27:13,801 - INFO - Running MIA...\n",
      "2025-05-17 14:27:13,801 - INFO - Classifier type: nn\n",
      "2025-05-17 14:27:23,331 - INFO - Classifier type: logistic\n",
      "2025-05-17 14:27:32,666 - INFO - Unlearning: Method=parameters, Percentage=5, RetrainEpochs=1\n"
     ]
    },
    {
     "data": {
      "application/vnd.jupyter.widget-view+json": {
       "model_id": "cb493c4362d845d89bdd66a6a0eeeb5a",
       "version_major": 2,
       "version_minor": 0
      },
      "text/plain": [
       "Training:   0%|          | 0/1 [00:00<?, ?epoch/s]"
      ]
     },
     "metadata": {},
     "output_type": "display_data"
    },
    {
     "name": "stderr",
     "output_type": "stream",
     "text": [
      "2025-05-17 14:27:50,523 - INFO - Epoch 1/1, Loss: 0.021727506071329117\n",
      "2025-05-17 14:27:50,547 - INFO - Computing test accuracies...\n"
     ]
    },
    {
     "data": {
      "application/vnd.jupyter.widget-view+json": {
       "model_id": "71dbeadcaca84e0d8358109ee8fd8cd6",
       "version_major": 2,
       "version_minor": 0
      },
      "text/plain": [
       "Computing accuracy:   0%|          | 0/313 [00:00<?, ?batch/s]"
      ]
     },
     "metadata": {},
     "output_type": "display_data"
    },
    {
     "data": {
      "application/vnd.jupyter.widget-view+json": {
       "model_id": "308e0aa6afb2400e9e7d1bf39a4d8be3",
       "version_major": 2,
       "version_minor": 0
      },
      "text/plain": [
       "Computing accuracy:   0%|          | 0/313 [00:00<?, ?batch/s]"
      ]
     },
     "metadata": {},
     "output_type": "display_data"
    },
    {
     "name": "stderr",
     "output_type": "stream",
     "text": [
      "2025-05-17 14:27:54,833 - INFO - Computing clients accuracies...\n"
     ]
    },
    {
     "data": {
      "application/vnd.jupyter.widget-view+json": {
       "model_id": "1cb367759154486abcaa9e242d038cdd",
       "version_major": 2,
       "version_minor": 0
      },
      "text/plain": [
       "Computing accuracy:   0%|          | 0/375 [00:00<?, ?batch/s]"
      ]
     },
     "metadata": {},
     "output_type": "display_data"
    },
    {
     "data": {
      "application/vnd.jupyter.widget-view+json": {
       "model_id": "7db63e18a7734666a11c483b3652709d",
       "version_major": 2,
       "version_minor": 0
      },
      "text/plain": [
       "Computing accuracy:   0%|          | 0/375 [00:00<?, ?batch/s]"
      ]
     },
     "metadata": {},
     "output_type": "display_data"
    },
    {
     "data": {
      "application/vnd.jupyter.widget-view+json": {
       "model_id": "f49bab5bdee0425fa550862c89afabfd",
       "version_major": 2,
       "version_minor": 0
      },
      "text/plain": [
       "Computing accuracy:   0%|          | 0/375 [00:00<?, ?batch/s]"
      ]
     },
     "metadata": {},
     "output_type": "display_data"
    },
    {
     "data": {
      "application/vnd.jupyter.widget-view+json": {
       "model_id": "a2d58f3025594ec08d813a8b2bf226cc",
       "version_major": 2,
       "version_minor": 0
      },
      "text/plain": [
       "Computing accuracy:   0%|          | 0/375 [00:00<?, ?batch/s]"
      ]
     },
     "metadata": {},
     "output_type": "display_data"
    },
    {
     "data": {
      "application/vnd.jupyter.widget-view+json": {
       "model_id": "538d0aab27864ea889f0ec0bc57577ad",
       "version_major": 2,
       "version_minor": 0
      },
      "text/plain": [
       "Computing accuracy:   0%|          | 0/375 [00:00<?, ?batch/s]"
      ]
     },
     "metadata": {},
     "output_type": "display_data"
    },
    {
     "data": {
      "application/vnd.jupyter.widget-view+json": {
       "model_id": "da153d2be6944f279c235948627e44bb",
       "version_major": 2,
       "version_minor": 0
      },
      "text/plain": [
       "Computing accuracy:   0%|          | 0/375 [00:00<?, ?batch/s]"
      ]
     },
     "metadata": {},
     "output_type": "display_data"
    },
    {
     "data": {
      "application/vnd.jupyter.widget-view+json": {
       "model_id": "e74797f344e94623b783a9851319412e",
       "version_major": 2,
       "version_minor": 0
      },
      "text/plain": [
       "Computing accuracy:   0%|          | 0/375 [00:00<?, ?batch/s]"
      ]
     },
     "metadata": {},
     "output_type": "display_data"
    },
    {
     "data": {
      "application/vnd.jupyter.widget-view+json": {
       "model_id": "d94820963f544dd7a86cbabf6f9c31bc",
       "version_major": 2,
       "version_minor": 0
      },
      "text/plain": [
       "Computing accuracy:   0%|          | 0/375 [00:00<?, ?batch/s]"
      ]
     },
     "metadata": {},
     "output_type": "display_data"
    },
    {
     "data": {
      "application/vnd.jupyter.widget-view+json": {
       "model_id": "42c7e20bdb31422ca3acc488078d46c4",
       "version_major": 2,
       "version_minor": 0
      },
      "text/plain": [
       "Computing accuracy:   0%|          | 0/375 [00:00<?, ?batch/s]"
      ]
     },
     "metadata": {},
     "output_type": "display_data"
    },
    {
     "data": {
      "application/vnd.jupyter.widget-view+json": {
       "model_id": "3cafb45a5a9f4974803425ac39dfb9fc",
       "version_major": 2,
       "version_minor": 0
      },
      "text/plain": [
       "Computing accuracy:   0%|          | 0/375 [00:00<?, ?batch/s]"
      ]
     },
     "metadata": {},
     "output_type": "display_data"
    },
    {
     "name": "stderr",
     "output_type": "stream",
     "text": [
      "2025-05-17 14:28:28,539 - INFO - Running MIA...\n",
      "2025-05-17 14:28:28,543 - INFO - Classifier type: nn\n",
      "2025-05-17 14:28:38,204 - INFO - Classifier type: logistic\n",
      "2025-05-17 14:28:47,485 - INFO - Unlearning: Method=parameters, Percentage=10, RetrainEpochs=1\n"
     ]
    },
    {
     "data": {
      "application/vnd.jupyter.widget-view+json": {
       "model_id": "e39fd9cb5ccf45b5abfd5a40f2753fe6",
       "version_major": 2,
       "version_minor": 0
      },
      "text/plain": [
       "Training:   0%|          | 0/1 [00:00<?, ?epoch/s]"
      ]
     },
     "metadata": {},
     "output_type": "display_data"
    },
    {
     "name": "stderr",
     "output_type": "stream",
     "text": [
      "2025-05-17 14:29:06,135 - INFO - Epoch 1/1, Loss: 0.0026347951497882605\n",
      "2025-05-17 14:29:06,173 - INFO - Computing test accuracies...\n"
     ]
    },
    {
     "data": {
      "application/vnd.jupyter.widget-view+json": {
       "model_id": "fccfe248e46a43be97cd96637f72d207",
       "version_major": 2,
       "version_minor": 0
      },
      "text/plain": [
       "Computing accuracy:   0%|          | 0/313 [00:00<?, ?batch/s]"
      ]
     },
     "metadata": {},
     "output_type": "display_data"
    },
    {
     "data": {
      "application/vnd.jupyter.widget-view+json": {
       "model_id": "1f05aa8cf0c94a679e20dccab90bb3a4",
       "version_major": 2,
       "version_minor": 0
      },
      "text/plain": [
       "Computing accuracy:   0%|          | 0/313 [00:00<?, ?batch/s]"
      ]
     },
     "metadata": {},
     "output_type": "display_data"
    },
    {
     "name": "stderr",
     "output_type": "stream",
     "text": [
      "2025-05-17 14:29:10,648 - INFO - Computing clients accuracies...\n"
     ]
    },
    {
     "data": {
      "application/vnd.jupyter.widget-view+json": {
       "model_id": "e3a73bbd95404d529f354c50d7cf3ada",
       "version_major": 2,
       "version_minor": 0
      },
      "text/plain": [
       "Computing accuracy:   0%|          | 0/375 [00:00<?, ?batch/s]"
      ]
     },
     "metadata": {},
     "output_type": "display_data"
    },
    {
     "data": {
      "application/vnd.jupyter.widget-view+json": {
       "model_id": "a06b2b33b3ce4057b635108f3509b71c",
       "version_major": 2,
       "version_minor": 0
      },
      "text/plain": [
       "Computing accuracy:   0%|          | 0/375 [00:00<?, ?batch/s]"
      ]
     },
     "metadata": {},
     "output_type": "display_data"
    },
    {
     "data": {
      "application/vnd.jupyter.widget-view+json": {
       "model_id": "fb45bc662661449d8c7b384b37fa4819",
       "version_major": 2,
       "version_minor": 0
      },
      "text/plain": [
       "Computing accuracy:   0%|          | 0/375 [00:00<?, ?batch/s]"
      ]
     },
     "metadata": {},
     "output_type": "display_data"
    },
    {
     "data": {
      "application/vnd.jupyter.widget-view+json": {
       "model_id": "77adfa30a173497086d9749349f77feb",
       "version_major": 2,
       "version_minor": 0
      },
      "text/plain": [
       "Computing accuracy:   0%|          | 0/375 [00:00<?, ?batch/s]"
      ]
     },
     "metadata": {},
     "output_type": "display_data"
    },
    {
     "data": {
      "application/vnd.jupyter.widget-view+json": {
       "model_id": "210f387e4fef4cae9b47996c6b9e3444",
       "version_major": 2,
       "version_minor": 0
      },
      "text/plain": [
       "Computing accuracy:   0%|          | 0/375 [00:00<?, ?batch/s]"
      ]
     },
     "metadata": {},
     "output_type": "display_data"
    },
    {
     "data": {
      "application/vnd.jupyter.widget-view+json": {
       "model_id": "fda3067ad8324636af8a7cb103de0585",
       "version_major": 2,
       "version_minor": 0
      },
      "text/plain": [
       "Computing accuracy:   0%|          | 0/375 [00:00<?, ?batch/s]"
      ]
     },
     "metadata": {},
     "output_type": "display_data"
    },
    {
     "data": {
      "application/vnd.jupyter.widget-view+json": {
       "model_id": "bf7eb332ee264e4abf0df05ddfaacb1b",
       "version_major": 2,
       "version_minor": 0
      },
      "text/plain": [
       "Computing accuracy:   0%|          | 0/375 [00:00<?, ?batch/s]"
      ]
     },
     "metadata": {},
     "output_type": "display_data"
    },
    {
     "data": {
      "application/vnd.jupyter.widget-view+json": {
       "model_id": "ab58e4c2e4a148d7b200ca586b5a9209",
       "version_major": 2,
       "version_minor": 0
      },
      "text/plain": [
       "Computing accuracy:   0%|          | 0/375 [00:00<?, ?batch/s]"
      ]
     },
     "metadata": {},
     "output_type": "display_data"
    },
    {
     "data": {
      "application/vnd.jupyter.widget-view+json": {
       "model_id": "b247dfcda71b4dc7a45186cbe07319e7",
       "version_major": 2,
       "version_minor": 0
      },
      "text/plain": [
       "Computing accuracy:   0%|          | 0/375 [00:00<?, ?batch/s]"
      ]
     },
     "metadata": {},
     "output_type": "display_data"
    },
    {
     "data": {
      "application/vnd.jupyter.widget-view+json": {
       "model_id": "99f03a580cd6403da26e07ec608feb90",
       "version_major": 2,
       "version_minor": 0
      },
      "text/plain": [
       "Computing accuracy:   0%|          | 0/375 [00:00<?, ?batch/s]"
      ]
     },
     "metadata": {},
     "output_type": "display_data"
    },
    {
     "name": "stderr",
     "output_type": "stream",
     "text": [
      "2025-05-17 14:29:48,584 - INFO - Running MIA...\n",
      "2025-05-17 14:29:48,584 - INFO - Classifier type: nn\n",
      "2025-05-17 14:29:58,723 - INFO - Classifier type: logistic\n",
      "2025-05-17 14:30:08,720 - INFO - Unlearning: Method=parameters, Percentage=15, RetrainEpochs=1\n"
     ]
    },
    {
     "data": {
      "application/vnd.jupyter.widget-view+json": {
       "model_id": "0fe9e5d5b7574377a4c2aaf74a2ae5c4",
       "version_major": 2,
       "version_minor": 0
      },
      "text/plain": [
       "Training:   0%|          | 0/1 [00:00<?, ?epoch/s]"
      ]
     },
     "metadata": {},
     "output_type": "display_data"
    },
    {
     "name": "stderr",
     "output_type": "stream",
     "text": [
      "2025-05-17 14:30:27,145 - INFO - Epoch 1/1, Loss: 0.10115823149681091\n",
      "2025-05-17 14:30:27,184 - INFO - Computing test accuracies...\n"
     ]
    },
    {
     "data": {
      "application/vnd.jupyter.widget-view+json": {
       "model_id": "6d2a62ce2fef4303a06790a80bdcce08",
       "version_major": 2,
       "version_minor": 0
      },
      "text/plain": [
       "Computing accuracy:   0%|          | 0/313 [00:00<?, ?batch/s]"
      ]
     },
     "metadata": {},
     "output_type": "display_data"
    },
    {
     "data": {
      "application/vnd.jupyter.widget-view+json": {
       "model_id": "918044fa1f7d4afc93622849d0019f22",
       "version_major": 2,
       "version_minor": 0
      },
      "text/plain": [
       "Computing accuracy:   0%|          | 0/313 [00:00<?, ?batch/s]"
      ]
     },
     "metadata": {},
     "output_type": "display_data"
    },
    {
     "name": "stderr",
     "output_type": "stream",
     "text": [
      "2025-05-17 14:30:31,331 - INFO - Computing clients accuracies...\n"
     ]
    },
    {
     "data": {
      "application/vnd.jupyter.widget-view+json": {
       "model_id": "febc998bf5dd432db9b073728f869d03",
       "version_major": 2,
       "version_minor": 0
      },
      "text/plain": [
       "Computing accuracy:   0%|          | 0/375 [00:00<?, ?batch/s]"
      ]
     },
     "metadata": {},
     "output_type": "display_data"
    },
    {
     "data": {
      "application/vnd.jupyter.widget-view+json": {
       "model_id": "a42c47e6431a4eaf992692d5f45b762f",
       "version_major": 2,
       "version_minor": 0
      },
      "text/plain": [
       "Computing accuracy:   0%|          | 0/375 [00:00<?, ?batch/s]"
      ]
     },
     "metadata": {},
     "output_type": "display_data"
    },
    {
     "data": {
      "application/vnd.jupyter.widget-view+json": {
       "model_id": "caee1f59682e4638a14d45fc27c3064f",
       "version_major": 2,
       "version_minor": 0
      },
      "text/plain": [
       "Computing accuracy:   0%|          | 0/375 [00:00<?, ?batch/s]"
      ]
     },
     "metadata": {},
     "output_type": "display_data"
    },
    {
     "data": {
      "application/vnd.jupyter.widget-view+json": {
       "model_id": "b819ef2060c6458d8c413f98a3de3a71",
       "version_major": 2,
       "version_minor": 0
      },
      "text/plain": [
       "Computing accuracy:   0%|          | 0/375 [00:00<?, ?batch/s]"
      ]
     },
     "metadata": {},
     "output_type": "display_data"
    },
    {
     "data": {
      "application/vnd.jupyter.widget-view+json": {
       "model_id": "6c534c51c4a0496595c36513c520c0d3",
       "version_major": 2,
       "version_minor": 0
      },
      "text/plain": [
       "Computing accuracy:   0%|          | 0/375 [00:00<?, ?batch/s]"
      ]
     },
     "metadata": {},
     "output_type": "display_data"
    },
    {
     "data": {
      "application/vnd.jupyter.widget-view+json": {
       "model_id": "ca5b7635cad644678e7cd862ba54d2e4",
       "version_major": 2,
       "version_minor": 0
      },
      "text/plain": [
       "Computing accuracy:   0%|          | 0/375 [00:00<?, ?batch/s]"
      ]
     },
     "metadata": {},
     "output_type": "display_data"
    },
    {
     "data": {
      "application/vnd.jupyter.widget-view+json": {
       "model_id": "0219fd3203034d4eac6059e56ce9d238",
       "version_major": 2,
       "version_minor": 0
      },
      "text/plain": [
       "Computing accuracy:   0%|          | 0/375 [00:00<?, ?batch/s]"
      ]
     },
     "metadata": {},
     "output_type": "display_data"
    },
    {
     "data": {
      "application/vnd.jupyter.widget-view+json": {
       "model_id": "486fd5b559c8483dabbe78f5f4810378",
       "version_major": 2,
       "version_minor": 0
      },
      "text/plain": [
       "Computing accuracy:   0%|          | 0/375 [00:00<?, ?batch/s]"
      ]
     },
     "metadata": {},
     "output_type": "display_data"
    },
    {
     "data": {
      "application/vnd.jupyter.widget-view+json": {
       "model_id": "0dc74c942ca24eef82b2b4d37dbf4a21",
       "version_major": 2,
       "version_minor": 0
      },
      "text/plain": [
       "Computing accuracy:   0%|          | 0/375 [00:00<?, ?batch/s]"
      ]
     },
     "metadata": {},
     "output_type": "display_data"
    },
    {
     "data": {
      "application/vnd.jupyter.widget-view+json": {
       "model_id": "a94988900fe040ca92f1a24104f0509b",
       "version_major": 2,
       "version_minor": 0
      },
      "text/plain": [
       "Computing accuracy:   0%|          | 0/375 [00:00<?, ?batch/s]"
      ]
     },
     "metadata": {},
     "output_type": "display_data"
    },
    {
     "name": "stderr",
     "output_type": "stream",
     "text": [
      "2025-05-17 14:30:57,553 - INFO - Running MIA...\n",
      "2025-05-17 14:30:57,553 - INFO - Classifier type: nn\n",
      "2025-05-17 14:31:07,141 - INFO - Classifier type: logistic\n",
      "2025-05-17 14:31:16,385 - INFO - Unlearning: Method=parameters, Percentage=20, RetrainEpochs=1\n"
     ]
    },
    {
     "data": {
      "application/vnd.jupyter.widget-view+json": {
       "model_id": "55c8448dbaaa4f268e9abb6a5912151d",
       "version_major": 2,
       "version_minor": 0
      },
      "text/plain": [
       "Training:   0%|          | 0/1 [00:00<?, ?epoch/s]"
      ]
     },
     "metadata": {},
     "output_type": "display_data"
    },
    {
     "name": "stderr",
     "output_type": "stream",
     "text": [
      "2025-05-17 14:31:33,005 - INFO - Epoch 1/1, Loss: 0.015168344601988792\n",
      "2025-05-17 14:31:33,039 - INFO - Computing test accuracies...\n"
     ]
    },
    {
     "data": {
      "application/vnd.jupyter.widget-view+json": {
       "model_id": "1d72e4d2b65b4d79b30a1d0b904e8e69",
       "version_major": 2,
       "version_minor": 0
      },
      "text/plain": [
       "Computing accuracy:   0%|          | 0/313 [00:00<?, ?batch/s]"
      ]
     },
     "metadata": {},
     "output_type": "display_data"
    },
    {
     "data": {
      "application/vnd.jupyter.widget-view+json": {
       "model_id": "890f585b4e894d76927338a376771dd7",
       "version_major": 2,
       "version_minor": 0
      },
      "text/plain": [
       "Computing accuracy:   0%|          | 0/313 [00:00<?, ?batch/s]"
      ]
     },
     "metadata": {},
     "output_type": "display_data"
    },
    {
     "name": "stderr",
     "output_type": "stream",
     "text": [
      "2025-05-17 14:31:36,764 - INFO - Computing clients accuracies...\n"
     ]
    },
    {
     "data": {
      "application/vnd.jupyter.widget-view+json": {
       "model_id": "182807c0ed3c444fabe1fb4b3d6fe9ac",
       "version_major": 2,
       "version_minor": 0
      },
      "text/plain": [
       "Computing accuracy:   0%|          | 0/375 [00:00<?, ?batch/s]"
      ]
     },
     "metadata": {},
     "output_type": "display_data"
    },
    {
     "data": {
      "application/vnd.jupyter.widget-view+json": {
       "model_id": "84dbf11e7c3c4fa6ac28d254b7277971",
       "version_major": 2,
       "version_minor": 0
      },
      "text/plain": [
       "Computing accuracy:   0%|          | 0/375 [00:00<?, ?batch/s]"
      ]
     },
     "metadata": {},
     "output_type": "display_data"
    },
    {
     "data": {
      "application/vnd.jupyter.widget-view+json": {
       "model_id": "76fb3d82504647bfa0f6da751d0213ea",
       "version_major": 2,
       "version_minor": 0
      },
      "text/plain": [
       "Computing accuracy:   0%|          | 0/375 [00:00<?, ?batch/s]"
      ]
     },
     "metadata": {},
     "output_type": "display_data"
    },
    {
     "data": {
      "application/vnd.jupyter.widget-view+json": {
       "model_id": "5a963308577d4d698e508bc63cebc469",
       "version_major": 2,
       "version_minor": 0
      },
      "text/plain": [
       "Computing accuracy:   0%|          | 0/375 [00:00<?, ?batch/s]"
      ]
     },
     "metadata": {},
     "output_type": "display_data"
    },
    {
     "data": {
      "application/vnd.jupyter.widget-view+json": {
       "model_id": "4239504d0a454c78a2ccd05ec0519ef6",
       "version_major": 2,
       "version_minor": 0
      },
      "text/plain": [
       "Computing accuracy:   0%|          | 0/375 [00:00<?, ?batch/s]"
      ]
     },
     "metadata": {},
     "output_type": "display_data"
    },
    {
     "data": {
      "application/vnd.jupyter.widget-view+json": {
       "model_id": "8771dd78996e4f20a7c8a0d037de84d8",
       "version_major": 2,
       "version_minor": 0
      },
      "text/plain": [
       "Computing accuracy:   0%|          | 0/375 [00:00<?, ?batch/s]"
      ]
     },
     "metadata": {},
     "output_type": "display_data"
    },
    {
     "data": {
      "application/vnd.jupyter.widget-view+json": {
       "model_id": "229db809246541c9a74703051f227a61",
       "version_major": 2,
       "version_minor": 0
      },
      "text/plain": [
       "Computing accuracy:   0%|          | 0/375 [00:00<?, ?batch/s]"
      ]
     },
     "metadata": {},
     "output_type": "display_data"
    },
    {
     "data": {
      "application/vnd.jupyter.widget-view+json": {
       "model_id": "5303472875c8437cab41fc35c79c17b3",
       "version_major": 2,
       "version_minor": 0
      },
      "text/plain": [
       "Computing accuracy:   0%|          | 0/375 [00:00<?, ?batch/s]"
      ]
     },
     "metadata": {},
     "output_type": "display_data"
    },
    {
     "data": {
      "application/vnd.jupyter.widget-view+json": {
       "model_id": "b21b716587ec46ea930dc48c6e416b65",
       "version_major": 2,
       "version_minor": 0
      },
      "text/plain": [
       "Computing accuracy:   0%|          | 0/375 [00:00<?, ?batch/s]"
      ]
     },
     "metadata": {},
     "output_type": "display_data"
    },
    {
     "data": {
      "application/vnd.jupyter.widget-view+json": {
       "model_id": "a29769c7c71d48e085d803a06e5f133a",
       "version_major": 2,
       "version_minor": 0
      },
      "text/plain": [
       "Computing accuracy:   0%|          | 0/375 [00:00<?, ?batch/s]"
      ]
     },
     "metadata": {},
     "output_type": "display_data"
    },
    {
     "name": "stderr",
     "output_type": "stream",
     "text": [
      "2025-05-17 14:32:12,564 - INFO - Running MIA...\n",
      "2025-05-17 14:32:12,566 - INFO - Classifier type: nn\n",
      "2025-05-17 14:32:30,231 - INFO - Classifier type: logistic\n",
      "2025-05-17 14:32:48,225 - INFO - Unlearning: Method=parameters, Percentage=25, RetrainEpochs=1\n"
     ]
    },
    {
     "data": {
      "application/vnd.jupyter.widget-view+json": {
       "model_id": "721daac06d8749a1a35cb5f85f424cf4",
       "version_major": 2,
       "version_minor": 0
      },
      "text/plain": [
       "Training:   0%|          | 0/1 [00:00<?, ?epoch/s]"
      ]
     },
     "metadata": {},
     "output_type": "display_data"
    },
    {
     "name": "stderr",
     "output_type": "stream",
     "text": [
      "2025-05-17 14:33:17,051 - INFO - Epoch 1/1, Loss: 0.23955541849136353\n",
      "2025-05-17 14:33:17,117 - INFO - Computing test accuracies...\n"
     ]
    },
    {
     "data": {
      "application/vnd.jupyter.widget-view+json": {
       "model_id": "c802b2310cd44ea68157ce3fd2ffa1b3",
       "version_major": 2,
       "version_minor": 0
      },
      "text/plain": [
       "Computing accuracy:   0%|          | 0/313 [00:00<?, ?batch/s]"
      ]
     },
     "metadata": {},
     "output_type": "display_data"
    },
    {
     "data": {
      "application/vnd.jupyter.widget-view+json": {
       "model_id": "5a4de2bf87db43218b150b3e7d8a6e63",
       "version_major": 2,
       "version_minor": 0
      },
      "text/plain": [
       "Computing accuracy:   0%|          | 0/313 [00:00<?, ?batch/s]"
      ]
     },
     "metadata": {},
     "output_type": "display_data"
    },
    {
     "name": "stderr",
     "output_type": "stream",
     "text": [
      "2025-05-17 14:33:26,511 - INFO - Computing clients accuracies...\n"
     ]
    },
    {
     "data": {
      "application/vnd.jupyter.widget-view+json": {
       "model_id": "bcce8a756980496cbc4ab4bb48795be2",
       "version_major": 2,
       "version_minor": 0
      },
      "text/plain": [
       "Computing accuracy:   0%|          | 0/375 [00:00<?, ?batch/s]"
      ]
     },
     "metadata": {},
     "output_type": "display_data"
    },
    {
     "data": {
      "application/vnd.jupyter.widget-view+json": {
       "model_id": "2041b1cf318545cf9f90f6ebb14e78c0",
       "version_major": 2,
       "version_minor": 0
      },
      "text/plain": [
       "Computing accuracy:   0%|          | 0/375 [00:00<?, ?batch/s]"
      ]
     },
     "metadata": {},
     "output_type": "display_data"
    },
    {
     "data": {
      "application/vnd.jupyter.widget-view+json": {
       "model_id": "215cce88a8f347d6ad42ced67ae329fd",
       "version_major": 2,
       "version_minor": 0
      },
      "text/plain": [
       "Computing accuracy:   0%|          | 0/375 [00:00<?, ?batch/s]"
      ]
     },
     "metadata": {},
     "output_type": "display_data"
    },
    {
     "data": {
      "application/vnd.jupyter.widget-view+json": {
       "model_id": "04b93f01ca5440ec84a3ccdc9a571557",
       "version_major": 2,
       "version_minor": 0
      },
      "text/plain": [
       "Computing accuracy:   0%|          | 0/375 [00:00<?, ?batch/s]"
      ]
     },
     "metadata": {},
     "output_type": "display_data"
    },
    {
     "data": {
      "application/vnd.jupyter.widget-view+json": {
       "model_id": "0492dae014bc4c83a309d033c882ccd4",
       "version_major": 2,
       "version_minor": 0
      },
      "text/plain": [
       "Computing accuracy:   0%|          | 0/375 [00:00<?, ?batch/s]"
      ]
     },
     "metadata": {},
     "output_type": "display_data"
    },
    {
     "data": {
      "application/vnd.jupyter.widget-view+json": {
       "model_id": "1d861ad4a3da49a4a59b14b0c53dfc23",
       "version_major": 2,
       "version_minor": 0
      },
      "text/plain": [
       "Computing accuracy:   0%|          | 0/375 [00:00<?, ?batch/s]"
      ]
     },
     "metadata": {},
     "output_type": "display_data"
    },
    {
     "data": {
      "application/vnd.jupyter.widget-view+json": {
       "model_id": "bf4096b316a44b6680964f8b88372049",
       "version_major": 2,
       "version_minor": 0
      },
      "text/plain": [
       "Computing accuracy:   0%|          | 0/375 [00:00<?, ?batch/s]"
      ]
     },
     "metadata": {},
     "output_type": "display_data"
    },
    {
     "data": {
      "application/vnd.jupyter.widget-view+json": {
       "model_id": "c9b690c4922f4587ba0cd2d9ddfb92b2",
       "version_major": 2,
       "version_minor": 0
      },
      "text/plain": [
       "Computing accuracy:   0%|          | 0/375 [00:00<?, ?batch/s]"
      ]
     },
     "metadata": {},
     "output_type": "display_data"
    },
    {
     "data": {
      "application/vnd.jupyter.widget-view+json": {
       "model_id": "208eb5e5522a454c8669d3e3f76c0c54",
       "version_major": 2,
       "version_minor": 0
      },
      "text/plain": [
       "Computing accuracy:   0%|          | 0/375 [00:00<?, ?batch/s]"
      ]
     },
     "metadata": {},
     "output_type": "display_data"
    },
    {
     "data": {
      "application/vnd.jupyter.widget-view+json": {
       "model_id": "46f9e6229cb44d18b6f16f159cf34265",
       "version_major": 2,
       "version_minor": 0
      },
      "text/plain": [
       "Computing accuracy:   0%|          | 0/375 [00:00<?, ?batch/s]"
      ]
     },
     "metadata": {},
     "output_type": "display_data"
    },
    {
     "name": "stderr",
     "output_type": "stream",
     "text": [
      "2025-05-17 14:34:28,690 - INFO - Running MIA...\n",
      "2025-05-17 14:34:28,691 - INFO - Classifier type: nn\n",
      "2025-05-17 14:34:47,091 - INFO - Classifier type: logistic\n",
      "2025-05-17 14:35:04,601 - INFO - Unlearning: Method=parameters, Percentage=30, RetrainEpochs=1\n"
     ]
    },
    {
     "data": {
      "application/vnd.jupyter.widget-view+json": {
       "model_id": "600e1c5763e042ce9b326631b07e614a",
       "version_major": 2,
       "version_minor": 0
      },
      "text/plain": [
       "Training:   0%|          | 0/1 [00:00<?, ?epoch/s]"
      ]
     },
     "metadata": {},
     "output_type": "display_data"
    },
    {
     "name": "stderr",
     "output_type": "stream",
     "text": [
      "2025-05-17 14:35:32,013 - INFO - Epoch 1/1, Loss: 0.046659450978040695\n",
      "2025-05-17 14:35:32,073 - INFO - Computing test accuracies...\n"
     ]
    },
    {
     "data": {
      "application/vnd.jupyter.widget-view+json": {
       "model_id": "7ee6cb8404b74163bc59175ded8d3265",
       "version_major": 2,
       "version_minor": 0
      },
      "text/plain": [
       "Computing accuracy:   0%|          | 0/313 [00:00<?, ?batch/s]"
      ]
     },
     "metadata": {},
     "output_type": "display_data"
    },
    {
     "data": {
      "application/vnd.jupyter.widget-view+json": {
       "model_id": "be97224924fa42f5ac388d1d290c4a01",
       "version_major": 2,
       "version_minor": 0
      },
      "text/plain": [
       "Computing accuracy:   0%|          | 0/313 [00:00<?, ?batch/s]"
      ]
     },
     "metadata": {},
     "output_type": "display_data"
    },
    {
     "name": "stderr",
     "output_type": "stream",
     "text": [
      "2025-05-17 14:35:40,834 - INFO - Computing clients accuracies...\n"
     ]
    },
    {
     "data": {
      "application/vnd.jupyter.widget-view+json": {
       "model_id": "9efa5a7912e54140a25a07ea5b75dd9b",
       "version_major": 2,
       "version_minor": 0
      },
      "text/plain": [
       "Computing accuracy:   0%|          | 0/375 [00:00<?, ?batch/s]"
      ]
     },
     "metadata": {},
     "output_type": "display_data"
    },
    {
     "data": {
      "application/vnd.jupyter.widget-view+json": {
       "model_id": "7a3a5da98f4346a8bceb4b06a3e37ff0",
       "version_major": 2,
       "version_minor": 0
      },
      "text/plain": [
       "Computing accuracy:   0%|          | 0/375 [00:00<?, ?batch/s]"
      ]
     },
     "metadata": {},
     "output_type": "display_data"
    },
    {
     "data": {
      "application/vnd.jupyter.widget-view+json": {
       "model_id": "e159c269a634434487a615ea1faf4b39",
       "version_major": 2,
       "version_minor": 0
      },
      "text/plain": [
       "Computing accuracy:   0%|          | 0/375 [00:00<?, ?batch/s]"
      ]
     },
     "metadata": {},
     "output_type": "display_data"
    },
    {
     "data": {
      "application/vnd.jupyter.widget-view+json": {
       "model_id": "e7bbd2b89f9a4a159b309c0f0a5c6e30",
       "version_major": 2,
       "version_minor": 0
      },
      "text/plain": [
       "Computing accuracy:   0%|          | 0/375 [00:00<?, ?batch/s]"
      ]
     },
     "metadata": {},
     "output_type": "display_data"
    },
    {
     "data": {
      "application/vnd.jupyter.widget-view+json": {
       "model_id": "8aa2a424acb84fe689096e5c56f42725",
       "version_major": 2,
       "version_minor": 0
      },
      "text/plain": [
       "Computing accuracy:   0%|          | 0/375 [00:00<?, ?batch/s]"
      ]
     },
     "metadata": {},
     "output_type": "display_data"
    },
    {
     "data": {
      "application/vnd.jupyter.widget-view+json": {
       "model_id": "02556be73be04b1399405df7941e0bba",
       "version_major": 2,
       "version_minor": 0
      },
      "text/plain": [
       "Computing accuracy:   0%|          | 0/375 [00:00<?, ?batch/s]"
      ]
     },
     "metadata": {},
     "output_type": "display_data"
    },
    {
     "data": {
      "application/vnd.jupyter.widget-view+json": {
       "model_id": "741e7ea3b1fb43359dbd2422f37241bb",
       "version_major": 2,
       "version_minor": 0
      },
      "text/plain": [
       "Computing accuracy:   0%|          | 0/375 [00:00<?, ?batch/s]"
      ]
     },
     "metadata": {},
     "output_type": "display_data"
    },
    {
     "data": {
      "application/vnd.jupyter.widget-view+json": {
       "model_id": "7932da58c83945128df8f970124e31c1",
       "version_major": 2,
       "version_minor": 0
      },
      "text/plain": [
       "Computing accuracy:   0%|          | 0/375 [00:00<?, ?batch/s]"
      ]
     },
     "metadata": {},
     "output_type": "display_data"
    },
    {
     "data": {
      "application/vnd.jupyter.widget-view+json": {
       "model_id": "07bc25f830554a1db00472f029209202",
       "version_major": 2,
       "version_minor": 0
      },
      "text/plain": [
       "Computing accuracy:   0%|          | 0/375 [00:00<?, ?batch/s]"
      ]
     },
     "metadata": {},
     "output_type": "display_data"
    },
    {
     "data": {
      "application/vnd.jupyter.widget-view+json": {
       "model_id": "a6c8d2172b66441f9c2784f3ee65c890",
       "version_major": 2,
       "version_minor": 0
      },
      "text/plain": [
       "Computing accuracy:   0%|          | 0/375 [00:00<?, ?batch/s]"
      ]
     },
     "metadata": {},
     "output_type": "display_data"
    },
    {
     "name": "stderr",
     "output_type": "stream",
     "text": [
      "2025-05-17 14:36:40,411 - INFO - Running MIA...\n",
      "2025-05-17 14:36:40,411 - INFO - Classifier type: nn\n",
      "2025-05-17 14:36:59,783 - INFO - Classifier type: logistic\n",
      "2025-05-17 14:37:10,355 - INFO - Unlearning: Method=parameters, Percentage=35, RetrainEpochs=1\n"
     ]
    },
    {
     "data": {
      "application/vnd.jupyter.widget-view+json": {
       "model_id": "029190f3e039459cad910c63fbdaf8b7",
       "version_major": 2,
       "version_minor": 0
      },
      "text/plain": [
       "Training:   0%|          | 0/1 [00:00<?, ?epoch/s]"
      ]
     },
     "metadata": {},
     "output_type": "display_data"
    },
    {
     "name": "stderr",
     "output_type": "stream",
     "text": [
      "2025-05-17 14:37:30,317 - INFO - Epoch 1/1, Loss: 0.02303803712129593\n",
      "2025-05-17 14:37:30,445 - INFO - Computing test accuracies...\n"
     ]
    },
    {
     "data": {
      "application/vnd.jupyter.widget-view+json": {
       "model_id": "acbd0fd821124985b06671fddca76caf",
       "version_major": 2,
       "version_minor": 0
      },
      "text/plain": [
       "Computing accuracy:   0%|          | 0/313 [00:00<?, ?batch/s]"
      ]
     },
     "metadata": {},
     "output_type": "display_data"
    },
    {
     "data": {
      "application/vnd.jupyter.widget-view+json": {
       "model_id": "be3e4d1800e2460ca9402728179850fe",
       "version_major": 2,
       "version_minor": 0
      },
      "text/plain": [
       "Computing accuracy:   0%|          | 0/313 [00:00<?, ?batch/s]"
      ]
     },
     "metadata": {},
     "output_type": "display_data"
    },
    {
     "name": "stderr",
     "output_type": "stream",
     "text": [
      "2025-05-17 14:37:35,698 - INFO - Computing clients accuracies...\n"
     ]
    },
    {
     "data": {
      "application/vnd.jupyter.widget-view+json": {
       "model_id": "ea0283015ae0476d89e72c43ec2976a4",
       "version_major": 2,
       "version_minor": 0
      },
      "text/plain": [
       "Computing accuracy:   0%|          | 0/375 [00:00<?, ?batch/s]"
      ]
     },
     "metadata": {},
     "output_type": "display_data"
    },
    {
     "data": {
      "application/vnd.jupyter.widget-view+json": {
       "model_id": "010e0afb12244a9c95d3cc3943c6e205",
       "version_major": 2,
       "version_minor": 0
      },
      "text/plain": [
       "Computing accuracy:   0%|          | 0/375 [00:00<?, ?batch/s]"
      ]
     },
     "metadata": {},
     "output_type": "display_data"
    },
    {
     "data": {
      "application/vnd.jupyter.widget-view+json": {
       "model_id": "d7e0e71707d94b2194bf2064e226cf0c",
       "version_major": 2,
       "version_minor": 0
      },
      "text/plain": [
       "Computing accuracy:   0%|          | 0/375 [00:00<?, ?batch/s]"
      ]
     },
     "metadata": {},
     "output_type": "display_data"
    },
    {
     "data": {
      "application/vnd.jupyter.widget-view+json": {
       "model_id": "2cdf95a6f3dd4a8c8d6345c60c3e58f4",
       "version_major": 2,
       "version_minor": 0
      },
      "text/plain": [
       "Computing accuracy:   0%|          | 0/375 [00:00<?, ?batch/s]"
      ]
     },
     "metadata": {},
     "output_type": "display_data"
    },
    {
     "data": {
      "application/vnd.jupyter.widget-view+json": {
       "model_id": "c4c78a4be0af4458a2369542e7cdc5ba",
       "version_major": 2,
       "version_minor": 0
      },
      "text/plain": [
       "Computing accuracy:   0%|          | 0/375 [00:00<?, ?batch/s]"
      ]
     },
     "metadata": {},
     "output_type": "display_data"
    },
    {
     "data": {
      "application/vnd.jupyter.widget-view+json": {
       "model_id": "7fe57b94e5f944b3bcb7c2914fedc0dd",
       "version_major": 2,
       "version_minor": 0
      },
      "text/plain": [
       "Computing accuracy:   0%|          | 0/375 [00:00<?, ?batch/s]"
      ]
     },
     "metadata": {},
     "output_type": "display_data"
    },
    {
     "data": {
      "application/vnd.jupyter.widget-view+json": {
       "model_id": "2d0badaa8bbc44468a22cda98eb31791",
       "version_major": 2,
       "version_minor": 0
      },
      "text/plain": [
       "Computing accuracy:   0%|          | 0/375 [00:00<?, ?batch/s]"
      ]
     },
     "metadata": {},
     "output_type": "display_data"
    },
    {
     "data": {
      "application/vnd.jupyter.widget-view+json": {
       "model_id": "f017dcb4da894f63bb751d391b8aa024",
       "version_major": 2,
       "version_minor": 0
      },
      "text/plain": [
       "Computing accuracy:   0%|          | 0/375 [00:00<?, ?batch/s]"
      ]
     },
     "metadata": {},
     "output_type": "display_data"
    },
    {
     "data": {
      "application/vnd.jupyter.widget-view+json": {
       "model_id": "c33f9f22fb684c5ab9d36c6df3a50804",
       "version_major": 2,
       "version_minor": 0
      },
      "text/plain": [
       "Computing accuracy:   0%|          | 0/375 [00:00<?, ?batch/s]"
      ]
     },
     "metadata": {},
     "output_type": "display_data"
    },
    {
     "data": {
      "application/vnd.jupyter.widget-view+json": {
       "model_id": "d8f9821191ed4cc7bcda961d2708a036",
       "version_major": 2,
       "version_minor": 0
      },
      "text/plain": [
       "Computing accuracy:   0%|          | 0/375 [00:00<?, ?batch/s]"
      ]
     },
     "metadata": {},
     "output_type": "display_data"
    },
    {
     "name": "stderr",
     "output_type": "stream",
     "text": [
      "2025-05-17 14:38:18,161 - INFO - Running MIA...\n",
      "2025-05-17 14:38:18,163 - INFO - Classifier type: nn\n",
      "2025-05-17 14:38:37,401 - INFO - Classifier type: logistic\n",
      "2025-05-17 14:38:55,098 - INFO - Unlearning: Method=parameters, Percentage=40, RetrainEpochs=1\n"
     ]
    },
    {
     "data": {
      "application/vnd.jupyter.widget-view+json": {
       "model_id": "b2da94438f694275a98be697e20f32d1",
       "version_major": 2,
       "version_minor": 0
      },
      "text/plain": [
       "Training:   0%|          | 0/1 [00:00<?, ?epoch/s]"
      ]
     },
     "metadata": {},
     "output_type": "display_data"
    },
    {
     "name": "stderr",
     "output_type": "stream",
     "text": [
      "2025-05-17 14:39:22,164 - INFO - Epoch 1/1, Loss: 0.09799007326364517\n",
      "2025-05-17 14:39:22,231 - INFO - Computing test accuracies...\n"
     ]
    },
    {
     "data": {
      "application/vnd.jupyter.widget-view+json": {
       "model_id": "c1792af895824a278c67613513634ee7",
       "version_major": 2,
       "version_minor": 0
      },
      "text/plain": [
       "Computing accuracy:   0%|          | 0/313 [00:00<?, ?batch/s]"
      ]
     },
     "metadata": {},
     "output_type": "display_data"
    },
    {
     "data": {
      "application/vnd.jupyter.widget-view+json": {
       "model_id": "9f3f8ae9990c4a21b8825bedfe3540cb",
       "version_major": 2,
       "version_minor": 0
      },
      "text/plain": [
       "Computing accuracy:   0%|          | 0/313 [00:00<?, ?batch/s]"
      ]
     },
     "metadata": {},
     "output_type": "display_data"
    },
    {
     "name": "stderr",
     "output_type": "stream",
     "text": [
      "2025-05-17 14:39:30,533 - INFO - Computing clients accuracies...\n"
     ]
    },
    {
     "data": {
      "application/vnd.jupyter.widget-view+json": {
       "model_id": "dbd872388c4f48ac962bd50667305ce8",
       "version_major": 2,
       "version_minor": 0
      },
      "text/plain": [
       "Computing accuracy:   0%|          | 0/375 [00:00<?, ?batch/s]"
      ]
     },
     "metadata": {},
     "output_type": "display_data"
    },
    {
     "data": {
      "application/vnd.jupyter.widget-view+json": {
       "model_id": "076523920c404c74a3dceb3bc702bab8",
       "version_major": 2,
       "version_minor": 0
      },
      "text/plain": [
       "Computing accuracy:   0%|          | 0/375 [00:00<?, ?batch/s]"
      ]
     },
     "metadata": {},
     "output_type": "display_data"
    },
    {
     "data": {
      "application/vnd.jupyter.widget-view+json": {
       "model_id": "7dc3012b02fa480e9cf80f45671ff8ee",
       "version_major": 2,
       "version_minor": 0
      },
      "text/plain": [
       "Computing accuracy:   0%|          | 0/375 [00:00<?, ?batch/s]"
      ]
     },
     "metadata": {},
     "output_type": "display_data"
    },
    {
     "data": {
      "application/vnd.jupyter.widget-view+json": {
       "model_id": "9dfd5d99673e4aa7b833a9cf04d94a75",
       "version_major": 2,
       "version_minor": 0
      },
      "text/plain": [
       "Computing accuracy:   0%|          | 0/375 [00:00<?, ?batch/s]"
      ]
     },
     "metadata": {},
     "output_type": "display_data"
    },
    {
     "data": {
      "application/vnd.jupyter.widget-view+json": {
       "model_id": "d5c2ca36343d4f0e8debbd23a8c0044d",
       "version_major": 2,
       "version_minor": 0
      },
      "text/plain": [
       "Computing accuracy:   0%|          | 0/375 [00:00<?, ?batch/s]"
      ]
     },
     "metadata": {},
     "output_type": "display_data"
    },
    {
     "data": {
      "application/vnd.jupyter.widget-view+json": {
       "model_id": "349b3fc25d034a49becbd2519b463e2d",
       "version_major": 2,
       "version_minor": 0
      },
      "text/plain": [
       "Computing accuracy:   0%|          | 0/375 [00:00<?, ?batch/s]"
      ]
     },
     "metadata": {},
     "output_type": "display_data"
    },
    {
     "data": {
      "application/vnd.jupyter.widget-view+json": {
       "model_id": "db5d10ae850042bfad5e5e23d53474c9",
       "version_major": 2,
       "version_minor": 0
      },
      "text/plain": [
       "Computing accuracy:   0%|          | 0/375 [00:00<?, ?batch/s]"
      ]
     },
     "metadata": {},
     "output_type": "display_data"
    },
    {
     "data": {
      "application/vnd.jupyter.widget-view+json": {
       "model_id": "e4528afd714540e7b86361e0b2d5f08d",
       "version_major": 2,
       "version_minor": 0
      },
      "text/plain": [
       "Computing accuracy:   0%|          | 0/375 [00:00<?, ?batch/s]"
      ]
     },
     "metadata": {},
     "output_type": "display_data"
    },
    {
     "data": {
      "application/vnd.jupyter.widget-view+json": {
       "model_id": "1c33ae27b920443fb62980dbdbc9f4f9",
       "version_major": 2,
       "version_minor": 0
      },
      "text/plain": [
       "Computing accuracy:   0%|          | 0/375 [00:00<?, ?batch/s]"
      ]
     },
     "metadata": {},
     "output_type": "display_data"
    },
    {
     "data": {
      "application/vnd.jupyter.widget-view+json": {
       "model_id": "57261a3a6fde4924a936d540df71f24a",
       "version_major": 2,
       "version_minor": 0
      },
      "text/plain": [
       "Computing accuracy:   0%|          | 0/375 [00:00<?, ?batch/s]"
      ]
     },
     "metadata": {},
     "output_type": "display_data"
    },
    {
     "name": "stderr",
     "output_type": "stream",
     "text": [
      "2025-05-17 14:40:29,872 - INFO - Running MIA...\n",
      "2025-05-17 14:40:29,872 - INFO - Classifier type: nn\n",
      "2025-05-17 14:40:46,841 - INFO - Classifier type: logistic\n",
      "2025-05-17 14:41:05,820 - INFO - Unlearning: Method=parameters, Percentage=45, RetrainEpochs=1\n"
     ]
    },
    {
     "data": {
      "application/vnd.jupyter.widget-view+json": {
       "model_id": "e405889acfbb498998b8f4901d62b2f8",
       "version_major": 2,
       "version_minor": 0
      },
      "text/plain": [
       "Training:   0%|          | 0/1 [00:00<?, ?epoch/s]"
      ]
     },
     "metadata": {},
     "output_type": "display_data"
    },
    {
     "name": "stderr",
     "output_type": "stream",
     "text": [
      "2025-05-17 14:41:33,441 - INFO - Epoch 1/1, Loss: 0.1328573077917099\n",
      "2025-05-17 14:41:33,515 - INFO - Computing test accuracies...\n"
     ]
    },
    {
     "data": {
      "application/vnd.jupyter.widget-view+json": {
       "model_id": "f9852dc3c75f4ca5af9befc2e2c8b872",
       "version_major": 2,
       "version_minor": 0
      },
      "text/plain": [
       "Computing accuracy:   0%|          | 0/313 [00:00<?, ?batch/s]"
      ]
     },
     "metadata": {},
     "output_type": "display_data"
    },
    {
     "data": {
      "application/vnd.jupyter.widget-view+json": {
       "model_id": "cb4736f1d101453ba888c2ec4cec320b",
       "version_major": 2,
       "version_minor": 0
      },
      "text/plain": [
       "Computing accuracy:   0%|          | 0/313 [00:00<?, ?batch/s]"
      ]
     },
     "metadata": {},
     "output_type": "display_data"
    },
    {
     "name": "stderr",
     "output_type": "stream",
     "text": [
      "2025-05-17 14:41:42,206 - INFO - Computing clients accuracies...\n"
     ]
    },
    {
     "data": {
      "application/vnd.jupyter.widget-view+json": {
       "model_id": "307108540d69455ebb6a0314a34dda38",
       "version_major": 2,
       "version_minor": 0
      },
      "text/plain": [
       "Computing accuracy:   0%|          | 0/375 [00:00<?, ?batch/s]"
      ]
     },
     "metadata": {},
     "output_type": "display_data"
    },
    {
     "data": {
      "application/vnd.jupyter.widget-view+json": {
       "model_id": "5fac7e930205423e8065e931343f77f5",
       "version_major": 2,
       "version_minor": 0
      },
      "text/plain": [
       "Computing accuracy:   0%|          | 0/375 [00:00<?, ?batch/s]"
      ]
     },
     "metadata": {},
     "output_type": "display_data"
    },
    {
     "data": {
      "application/vnd.jupyter.widget-view+json": {
       "model_id": "ee5a6e85d2eb4b5eadc5a075b63c5cd7",
       "version_major": 2,
       "version_minor": 0
      },
      "text/plain": [
       "Computing accuracy:   0%|          | 0/375 [00:00<?, ?batch/s]"
      ]
     },
     "metadata": {},
     "output_type": "display_data"
    },
    {
     "data": {
      "application/vnd.jupyter.widget-view+json": {
       "model_id": "d2462bb3e96847c194c5547da99a349d",
       "version_major": 2,
       "version_minor": 0
      },
      "text/plain": [
       "Computing accuracy:   0%|          | 0/375 [00:00<?, ?batch/s]"
      ]
     },
     "metadata": {},
     "output_type": "display_data"
    },
    {
     "data": {
      "application/vnd.jupyter.widget-view+json": {
       "model_id": "8192032c10bf4abe925348b45b089650",
       "version_major": 2,
       "version_minor": 0
      },
      "text/plain": [
       "Computing accuracy:   0%|          | 0/375 [00:00<?, ?batch/s]"
      ]
     },
     "metadata": {},
     "output_type": "display_data"
    },
    {
     "data": {
      "application/vnd.jupyter.widget-view+json": {
       "model_id": "001e3f2bb15f4731bdbbb70516f5c3eb",
       "version_major": 2,
       "version_minor": 0
      },
      "text/plain": [
       "Computing accuracy:   0%|          | 0/375 [00:00<?, ?batch/s]"
      ]
     },
     "metadata": {},
     "output_type": "display_data"
    },
    {
     "data": {
      "application/vnd.jupyter.widget-view+json": {
       "model_id": "f30b9f42a2e34c64bf65b7220a375386",
       "version_major": 2,
       "version_minor": 0
      },
      "text/plain": [
       "Computing accuracy:   0%|          | 0/375 [00:00<?, ?batch/s]"
      ]
     },
     "metadata": {},
     "output_type": "display_data"
    },
    {
     "data": {
      "application/vnd.jupyter.widget-view+json": {
       "model_id": "3ff9dc8c2a8544caaa3fb8dfb365e167",
       "version_major": 2,
       "version_minor": 0
      },
      "text/plain": [
       "Computing accuracy:   0%|          | 0/375 [00:00<?, ?batch/s]"
      ]
     },
     "metadata": {},
     "output_type": "display_data"
    },
    {
     "data": {
      "application/vnd.jupyter.widget-view+json": {
       "model_id": "e34534f845dc477a9f0c1d9303c52780",
       "version_major": 2,
       "version_minor": 0
      },
      "text/plain": [
       "Computing accuracy:   0%|          | 0/375 [00:00<?, ?batch/s]"
      ]
     },
     "metadata": {},
     "output_type": "display_data"
    },
    {
     "data": {
      "application/vnd.jupyter.widget-view+json": {
       "model_id": "158eb671ba614cb0acc05e212be064bd",
       "version_major": 2,
       "version_minor": 0
      },
      "text/plain": [
       "Computing accuracy:   0%|          | 0/375 [00:00<?, ?batch/s]"
      ]
     },
     "metadata": {},
     "output_type": "display_data"
    },
    {
     "name": "stderr",
     "output_type": "stream",
     "text": [
      "2025-05-17 14:42:26,554 - INFO - Running MIA...\n",
      "2025-05-17 14:42:26,557 - INFO - Classifier type: nn\n",
      "2025-05-17 14:42:37,904 - INFO - Classifier type: logistic\n",
      "2025-05-17 14:42:47,846 - INFO - --- Finished Test Iteration 0 ---\n",
      "2025-05-17 14:42:47,850 - INFO - Test suite 'test_mnist_random_FIM' completed\n"
     ]
    }
   ],
   "source": [
    "init_params_dict : InitParamsDict = {\n",
    "    'test_name': 'test_mnist_random_FIM', # Changed name slightly\n",
    "\n",
    "    'dataset_name': 'mnist',\n",
    "    'num_clients': 5,\n",
    "    'num_classes': 10,                # Number of classes in the dataset\n",
    "    'distribution_type': 'random',     # Distribution type\n",
    "\n",
    "    'model_name': 'simple_cnn',       # Model architecture\n",
    "    'loss_name': 'cross_entropy',     # Loss function\n",
    "\n",
    "    'trainer_name': 'sgd',            # Trainer type\n",
    "    'train_epochs': 5,                # Initial training epochs\n",
    "\n",
    "    'target_client': 0,               # Client to unlearn\n",
    "    'num_tests': 1,                   # Number of independent repetitions\n",
    "    'use_FIM': True\n",
    "}\n",
    "\n",
    "test_params_dict_0 : TestParamsDict = {\n",
    "        'subtest': 0,\n",
    "        'unlearning_method': 'information',\n",
    "        'tests': ['test_accuracy', 'clients_accuracies', 'mia'],\n",
    "        'mia_classifier_types': ['nn', 'logistic'],\n",
    "        'retrain_epochs': 1\n",
    "    }\n",
    "\n",
    "test_params_dict_1 : TestParamsDict = {\n",
    "        'subtest': 1,\n",
    "        'unlearning_method': 'parameters',\n",
    "        'tests': ['test_accuracy', 'clients_accuracies', 'mia'],\n",
    "        'mia_classifier_types': ['nn', 'logistic'],\n",
    "        'retrain_epochs': 1\n",
    "    } \n",
    "\n",
    "percentages = np.arange(5, 50, 5)\n",
    "test_params_dicts_0 = [test_params_dict_0.copy() for _ in range(len(percentages))]\n",
    "test_params_dicts_1 = [test_params_dict_1.copy() for _ in range(len(percentages))]\n",
    "for i, percentage in enumerate(percentages):\n",
    "    test_params_dicts_0[i]['unlearning_percentage'] = percentage\n",
    "    test_params_dicts_1[i]['unlearning_percentage'] = percentage\n",
    "\n",
    "test_params_dicts = test_params_dicts_0 + test_params_dicts_1\n",
    "\n",
    "run_repeated_tests(init_params_dict, test_params_dicts, save_path, workers)"
   ]
  },
  {
   "cell_type": "code",
   "execution_count": null,
   "id": "ae69b61c",
   "metadata": {},
   "outputs": [
    {
     "name": "stderr",
     "output_type": "stream",
     "text": [
      "2025-05-09 00:33:08,256 - INFO - Starting test suite: test_mnist_pref\n",
      "2025-05-09 00:33:08,260 - INFO - Created test suite directory: ./stat_tests\\test_mnist_pref\n",
      "2025-05-09 00:33:08,263 - INFO - Initial Configuration:\n",
      "2025-05-09 00:33:08,265 - INFO -   test_name: test_mnist_pref\n",
      "2025-05-09 00:33:08,266 - INFO -   dataset_name: mnist\n",
      "2025-05-09 00:33:08,267 - INFO -   num_clients: 5\n",
      "2025-05-09 00:33:08,268 - INFO -   num_classes: 10\n",
      "2025-05-09 00:33:08,269 - INFO -   distribution_type: preferential_class\n",
      "2025-05-09 00:33:08,272 - INFO -   model_name: simple_cnn\n",
      "2025-05-09 00:33:08,273 - INFO -   loss_name: cross_entropy\n",
      "2025-05-09 00:33:08,275 - INFO -   trainer_name: sgd\n",
      "2025-05-09 00:33:08,276 - INFO -   train_epochs: 6\n",
      "2025-05-09 00:33:08,276 - INFO -   target_client: 0\n",
      "2025-05-09 00:33:08,276 - INFO -   num_tests: 1\n",
      "2025-05-09 00:33:08,276 - INFO - ------------------------------\n",
      "2025-05-09 00:33:08,377 - INFO - --- Starting Test Iteration 1 ---\n",
      "2025-05-09 00:33:08,380 - INFO - Using device: cuda          \n",
      "2025-05-09 00:33:08,388 - INFO - Training model...           \n",
      "2025-05-09 00:34:21,645 - INFO - Training benchmark model... \n",
      "2025-05-09 00:35:21,680 - INFO - Computing information...    \n",
      "Running repeated tests:   0%|          | 0/1 [02:13<?, ?it/s]\n",
      "2025-05-09 00:36:19,383 - INFO - Unlearning: Method=information, Percentage=5, RetrainEpochs=1\n",
      "Running repeated tests:   0%|          | 0/1 [03:11<?, ?it/s]\n",
      "\u001b[A\n",
      "\u001b[A\n",
      "\u001b[A\n",
      "2025-05-09 00:36:34,239 - INFO - Computing test accuracies...\n",
      "Running repeated tests:   0%|          | 0/1 [03:25<?, ?it/s]\n",
      "\u001b[A\n",
      "\u001b[A\n",
      "\u001b[A\n",
      "\u001b[A\n",
      "\u001b[A\n",
      "\u001b[A\n",
      "\u001b[A\n",
      "\u001b[A\n",
      "\u001b[A\n",
      "\u001b[A\n",
      "\u001b[A\n",
      "\u001b[A\n",
      "\u001b[A\n",
      "\u001b[A\n",
      "\u001b[A\n",
      "\u001b[A\n",
      "\u001b[A\n",
      "\u001b[A\n",
      "\u001b[A\n",
      "\u001b[A\n",
      "\u001b[A\n",
      "\u001b[A\n",
      "\u001b[A\n",
      "\u001b[A\n",
      "\u001b[A\n",
      "\u001b[A\n",
      "\u001b[A\n",
      "\u001b[A\n",
      "\u001b[A\n",
      "\u001b[A\n",
      "\u001b[A\n",
      "\u001b[A\n",
      "\u001b[A\n",
      "\u001b[A\n",
      "\u001b[A\n",
      "\u001b[A\n",
      "\u001b[A\n",
      "\u001b[A\n",
      "\u001b[A\n",
      "\u001b[A\n",
      "\u001b[A\n",
      "\u001b[A\n",
      "\u001b[A\n",
      "\u001b[A\n",
      "\u001b[A\n",
      "\u001b[A\n",
      "\u001b[A\n",
      "\u001b[A\n",
      "\u001b[A\n",
      "\u001b[A\n",
      "\u001b[A\n",
      "\u001b[A\n",
      "\u001b[A\n",
      "\u001b[A\n",
      "\u001b[A\n",
      "\u001b[A\n",
      "\u001b[A\n",
      "\u001b[A\n",
      "\u001b[A\n",
      "\u001b[A\n",
      "\u001b[A\n",
      "\u001b[A\n",
      "\u001b[A\n",
      "\u001b[A\n",
      "\u001b[A\n",
      "\u001b[A\n",
      "\u001b[A\n",
      "\u001b[A\n",
      "\u001b[A\n",
      "\u001b[A\n",
      "\u001b[A\n",
      "\u001b[A\n",
      "\u001b[A\n",
      "\u001b[A\n",
      "\u001b[A\n",
      "\u001b[A\n",
      "\u001b[A\n",
      "\u001b[A\n",
      "\u001b[A\n",
      "\u001b[A\n",
      "\u001b[A\n",
      "\u001b[A\n",
      "\u001b[A\n",
      "\u001b[A\n",
      "\u001b[A\n",
      "\u001b[A\n",
      "\u001b[A\n",
      "\u001b[A\n",
      "\u001b[A\n",
      "\u001b[A\n",
      "\u001b[A\n",
      "\u001b[A\n",
      "\u001b[A\n",
      "\u001b[A\n",
      "\u001b[A\n",
      "\u001b[A\n",
      "\u001b[A\n",
      "\u001b[A\n",
      "\u001b[A\n",
      "2025-05-09 00:36:44,288 - INFO - Running MIA...              \n",
      "Running repeated tests:   0%|          | 0/1 [03:35<?, ?it/s]\n",
      "2025-05-09 00:36:44,288 - INFO - Classifier type: nn         \n",
      "Running repeated tests:   0%|          | 0/1 [03:35<?, ?it/s]\n",
      "2025-05-09 00:37:00,398 - INFO - Classifier type: logistic   \n",
      "Running repeated tests:   0%|          | 0/1 [03:52<?, ?it/s]\n",
      "2025-05-09 00:37:08,565 - INFO - Unlearning: Method=parameters, Percentage=5, RetrainEpochs=1\n",
      "Running repeated tests:   0%|          | 0/1 [04:00<?, ?it/s]\n",
      "\u001b[A\n",
      "\u001b[A\n",
      "\u001b[A\n",
      "2025-05-09 00:37:24,209 - INFO - Computing test accuracies...  \n",
      "Running repeated tests:   0%|          | 0/1 [04:15<?, ?it/s]\n",
      "\u001b[A\n",
      "\u001b[A\n",
      "\u001b[A\n",
      "\u001b[A\n",
      "\u001b[A\n",
      "\u001b[A\n",
      "\u001b[A\n",
      "\u001b[A\n",
      "\u001b[A\n",
      "\u001b[A\n",
      "\u001b[A\n",
      "\u001b[A\n",
      "\u001b[A\n",
      "\u001b[A\n",
      "\u001b[A\n",
      "\u001b[A\n",
      "\u001b[A\n",
      "\u001b[A\n",
      "\u001b[A\n",
      "\u001b[A\n",
      "\u001b[A\n",
      "\u001b[A\n",
      "\u001b[A\n",
      "\u001b[A\n",
      "\u001b[A\n",
      "\u001b[A\n",
      "\u001b[A\n",
      "\u001b[A\n",
      "\u001b[A\n",
      "\u001b[A\n",
      "\u001b[A\n",
      "\u001b[A\n",
      "\u001b[A\n",
      "\u001b[A\n",
      "\u001b[A\n",
      "\u001b[A\n",
      "\u001b[A\n",
      "\u001b[A\n",
      "\u001b[A\n",
      "\u001b[A\n",
      "\u001b[A\n",
      "\u001b[A\n",
      "2025-05-09 00:37:28,329 - INFO - Running MIA...                \n",
      "Running repeated tests:   0%|          | 0/1 [04:19<?, ?it/s]\n",
      "2025-05-09 00:37:28,331 - ERROR - Error in test iteration 0: 'mia_classifier_types'\n",
      "2025-05-09 00:37:28,345 - INFO - --- Finished Test Iteration 1 ---\n",
      "Running repeated tests: 100%|██████████| 1/1 [04:19<00:00, 259.97s/it]\n",
      "2025-05-09 00:37:28,352 - INFO - Test suite 'test_mnist_pref' completed with 1 iterations.\n",
      "2025-05-09 00:37:28,353 - ERROR - Test iteration 0 encountered errors at the following test runs: [1]\n"
     ]
    }
   ],
   "source": [
    "init_params_dict : InitParamsDict = {\n",
    "    'test_name': 'test_mnist_pref', # Changed name slightly\n",
    "\n",
    "    'dataset_name': 'mnist',\n",
    "    'num_clients': 5,\n",
    "    'num_classes': 10,                # Number of classes in the dataset\n",
    "    'distribution_type': 'preferential_class',     # Distribution type\n",
    "\n",
    "    'model_name': 'simple_cnn',       # Model architecture\n",
    "    'loss_name': 'cross_entropy',     # Loss function\n",
    "\n",
    "    'trainer_name': 'sgd',            # Trainer type\n",
    "    'train_epochs': 6,                # Initial training epochs\n",
    "\n",
    "    'target_client': 0,               # Client to unlearn\n",
    "    'num_tests': 1                   # Number of independent repetitions\n",
    "}\n",
    "\n",
    "test_params_dict_0 : TestParamsDict = {\n",
    "        'subtest': 0,\n",
    "        'unlearning_method': 'information',\n",
    "        'tests': ['test_accuracy', 'classes_accuracies', 'mia'],\n",
    "        'mia_classifier_types': ['nn', 'logistic'],\n",
    "        'retrain_epochs': 1\n",
    "    }\n",
    "\n",
    "test_params_dict_1 : TestParamsDict = {\n",
    "        'subtest': 1,\n",
    "        'unlearning_method': 'parameters',\n",
    "        'tests': ['test_accuracy', 'classes_accuracies', 'mia'],\n",
    "        'mia_classifier_types': ['nn', 'logistic'],\n",
    "        'retrain_epochs': 1\n",
    "    } \n",
    "\n",
    "percentages = np.arange(5, 10, 5)\n",
    "test_params_dicts_0 = [test_params_dict_0.copy() for _ in range(len(percentages))]\n",
    "test_params_dicts_1 = [test_params_dict_1.copy() for _ in range(len(percentages))]\n",
    "for i, percentage in enumerate(percentages):\n",
    "    test_params_dicts_0[i]['unlearning_percentage'] = percentage\n",
    "    test_params_dicts_1[i]['unlearning_percentage'] = percentage\n",
    "\n",
    "test_params_dicts = test_params_dicts_0 + test_params_dicts_1\n",
    "\n",
    "run_repeated_tests(init_params_dict, test_params_dicts, save_path, workers)"
   ]
  },
  {
   "cell_type": "code",
   "execution_count": null,
   "id": "6fff74d5",
   "metadata": {},
   "outputs": [
    {
     "name": "stderr",
     "output_type": "stream",
     "text": [
      "2025-05-09 00:37:28,372 - INFO - Starting test suite: test_cifar_random\n",
      "2025-05-09 00:37:28,374 - WARNING - Test directory './stat_tests\\test_cifar_random' already exists.\n",
      "2025-05-09 00:37:28,375 - INFO - Created test suite directory: ./stat_tests\\test_cifar_random (1)\n",
      "2025-05-09 00:37:28,377 - INFO - Initial Configuration:\n",
      "2025-05-09 00:37:28,378 - INFO -   test_name: test_cifar_random\n",
      "2025-05-09 00:37:28,378 - INFO -   dataset_name: cifar10\n",
      "2025-05-09 00:37:28,380 - INFO -   num_clients: 5\n",
      "2025-05-09 00:37:28,380 - INFO -   num_classes: 10\n",
      "2025-05-09 00:37:28,382 - INFO -   distribution_type: random\n",
      "2025-05-09 00:37:28,382 - INFO -   model_name: resnet18\n",
      "2025-05-09 00:37:28,382 - INFO -   loss_name: cross_entropy\n",
      "2025-05-09 00:37:28,384 - INFO -   trainer_name: sgd\n",
      "2025-05-09 00:37:28,384 - INFO -   train_epochs: 100\n",
      "2025-05-09 00:37:28,384 - INFO -   target_client: 0\n",
      "2025-05-09 00:37:28,386 - INFO -   num_tests: 1\n",
      "2025-05-09 00:37:28,386 - INFO - ------------------------------\n"
     ]
    },
    {
     "name": "stdout",
     "output_type": "stream",
     "text": [
      "Files already downloaded and verified\n",
      "Files already downloaded and verified\n"
     ]
    },
    {
     "name": "stderr",
     "output_type": "stream",
     "text": [
      "2025-05-09 00:37:30,320 - INFO - --- Starting Test Iteration 1 ---\n",
      "2025-05-09 00:37:30,320 - INFO - Using device: cuda          \n",
      "2025-05-09 00:37:30,325 - INFO - Training model...           \n",
      "2025-05-09 02:04:14,304 - INFO - Training benchmark model... \n",
      "2025-05-09 03:13:41,035 - INFO - Computing information...      \n",
      "Running repeated tests:   0%|          | 0/1 [2:36:10<?, ?it/s]\n",
      "2025-05-09 05:19:45,519 - INFO - Unlearning: Method=information, Percentage=5, RetrainEpochs=1\n",
      "Running repeated tests:   0%|          | 0/1 [4:42:15<?, ?it/s]\n",
      "\u001b[A\n",
      "\u001b[A\n",
      "\u001b[A\n",
      "2025-05-09 05:20:47,465 - INFO - Computing test accuracies...  \n",
      "Running repeated tests:   0%|          | 0/1 [4:43:17<?, ?it/s]\n",
      "\u001b[A\n",
      "\u001b[A\n",
      "\u001b[A\n",
      "\u001b[A\n",
      "\u001b[A\n",
      "\u001b[A\n",
      "\u001b[A\n",
      "\u001b[A\n",
      "\u001b[A\n",
      "\u001b[A\n",
      "\u001b[A\n",
      "\u001b[A\n",
      "\u001b[A\n",
      "\u001b[A\n",
      "\u001b[A\n",
      "\u001b[A\n",
      "\u001b[A\n",
      "\u001b[A\n",
      "\u001b[A\n",
      "\u001b[A\n",
      "\u001b[A\n",
      "\u001b[A\n",
      "\u001b[A\n",
      "\u001b[A\n",
      "\u001b[A\n",
      "\u001b[A\n",
      "\u001b[A\n",
      "\u001b[A\n",
      "\u001b[A\n",
      "\u001b[A\n",
      "\u001b[A\n",
      "\u001b[A\n",
      "\u001b[A\n",
      "\u001b[A\n",
      "\u001b[A\n",
      "\u001b[A\n",
      "\u001b[A\n",
      "\u001b[A\n",
      "\u001b[A\n",
      "\u001b[A\n",
      "\u001b[A\n",
      "\u001b[A\n",
      "\u001b[A\n",
      "\u001b[A\n",
      "\u001b[A\n",
      "\u001b[A\n",
      "\u001b[A\n",
      "\u001b[A\n",
      "\u001b[A\n",
      "\u001b[A\n",
      "\u001b[A\n",
      "\u001b[A\n",
      "\u001b[A\n",
      "\u001b[A\n",
      "\u001b[A\n",
      "\u001b[A\n",
      "\u001b[A\n",
      "\u001b[A\n",
      "\u001b[A\n",
      "\u001b[A\n",
      "\u001b[A\n",
      "\u001b[A\n",
      "\u001b[A\n",
      "\u001b[A\n",
      "\u001b[A\n",
      "\u001b[A\n",
      "\u001b[A\n",
      "\u001b[A\n",
      "\u001b[A\n",
      "\u001b[A\n",
      "\u001b[A\n",
      "\u001b[A\n",
      "\u001b[A\n",
      "\u001b[A\n",
      "\u001b[A\n",
      "\u001b[A\n",
      "\u001b[A\n",
      "\u001b[A\n",
      "\u001b[A\n",
      "\u001b[A\n",
      "\u001b[A\n",
      "\u001b[A\n",
      "\u001b[A\n",
      "\u001b[A\n",
      "\u001b[A\n",
      "\u001b[A\n",
      "\u001b[A\n",
      "\u001b[A\n",
      "\u001b[A\n",
      "\u001b[A\n",
      "\u001b[A\n",
      "\u001b[A\n",
      "\u001b[A\n",
      "\u001b[A\n",
      "\u001b[A\n",
      "\u001b[A\n",
      "\u001b[A\n",
      "\u001b[A\n",
      "\u001b[A\n",
      "\u001b[A\n",
      "\u001b[A\n",
      "\u001b[A\n",
      "\u001b[A\n",
      "\u001b[A\n",
      "\u001b[A\n",
      "\u001b[A\n",
      "\u001b[A\n",
      "\u001b[A\n",
      "\u001b[A\n",
      "\u001b[A\n",
      "\u001b[A\n",
      "\u001b[A\n",
      "\u001b[A\n",
      "\u001b[A\n",
      "\u001b[A\n",
      "\u001b[A\n",
      "\u001b[A\n",
      "\u001b[A\n",
      "\u001b[A\n",
      "\u001b[A\n",
      "\u001b[A\n",
      "\u001b[A\n",
      "\u001b[A\n",
      "\u001b[A\n",
      "\u001b[A\n",
      "\u001b[A\n",
      "\u001b[A\n",
      "\u001b[A\n",
      "\u001b[A\n",
      "\u001b[A\n",
      "\u001b[A\n",
      "\u001b[A\n",
      "\u001b[A\n",
      "\u001b[A\n",
      "\u001b[A\n",
      "\u001b[A\n",
      "\u001b[A\n",
      "\u001b[A\n",
      "\u001b[A\n",
      "\u001b[A\n",
      "\u001b[A\n",
      "\u001b[A\n",
      "\u001b[A\n",
      "\u001b[A\n",
      "\u001b[A\n",
      "\u001b[A\n",
      "\u001b[A\n",
      "\u001b[A\n",
      "\u001b[A\n",
      "\u001b[A\n",
      "\u001b[A\n",
      "\u001b[A\n",
      "\u001b[A\n",
      "\u001b[A\n",
      "\u001b[A\n",
      "\u001b[A\n",
      "\u001b[A\n",
      "\u001b[A\n",
      "\u001b[A\n",
      "\u001b[A\n",
      "\u001b[A\n",
      "\u001b[A\n",
      "\u001b[A\n",
      "\u001b[A\n",
      "\u001b[A\n",
      "\u001b[A\n",
      "\u001b[A\n",
      "\u001b[A\n",
      "\u001b[A\n",
      "\u001b[A\n",
      "\u001b[A\n",
      "\u001b[A\n",
      "\u001b[A\n",
      "\u001b[A\n",
      "\u001b[A\n",
      "\u001b[A\n",
      "\u001b[A\n",
      "\u001b[A\n",
      "\u001b[A\n",
      "\u001b[A\n",
      "\u001b[A\n",
      "\u001b[A\n",
      "\u001b[A\n",
      "\u001b[A\n",
      "\u001b[A\n",
      "\u001b[A\n",
      "\u001b[A\n",
      "\u001b[A\n",
      "\u001b[A\n",
      "\u001b[A\n",
      "\u001b[A\n",
      "\u001b[A\n",
      "\u001b[A\n",
      "\u001b[A\n",
      "\u001b[A\n",
      "\u001b[A\n",
      "\u001b[A\n",
      "\u001b[A\n",
      "\u001b[A\n",
      "\u001b[A\n",
      "\u001b[A\n",
      "\u001b[A\n",
      "\u001b[A\n",
      "\u001b[A\n",
      "\u001b[A\n",
      "\u001b[A\n",
      "\u001b[A\n",
      "\u001b[A\n",
      "\u001b[A\n",
      "\u001b[A\n",
      "\u001b[A\n",
      "\u001b[A\n",
      "\u001b[A\n",
      "\u001b[A\n",
      "\u001b[A\n",
      "\u001b[A\n",
      "\u001b[A\n",
      "\u001b[A\n",
      "\u001b[A\n",
      "2025-05-09 05:21:12,309 - INFO - Computing clients accuracies...\n",
      "Running repeated tests:   0%|          | 0/1 [4:43:41<?, ?it/s]\n",
      "\u001b[A\n",
      "\u001b[A\n",
      "\u001b[A\n",
      "\u001b[A\n",
      "\u001b[A\n",
      "\u001b[A\n",
      "\u001b[A\n",
      "\u001b[A\n",
      "\u001b[A\n",
      "\u001b[A\n",
      "\u001b[A\n",
      "\u001b[A\n",
      "\u001b[A\n",
      "\u001b[A\n",
      "\u001b[A\n",
      "\u001b[A\n",
      "\u001b[A\n",
      "\u001b[A\n",
      "\u001b[A\n",
      "\u001b[A\n",
      "\u001b[A\n",
      "\u001b[A\n",
      "\u001b[A\n",
      "\u001b[A\n",
      "\u001b[A\n",
      "\u001b[A\n",
      "\u001b[A\n",
      "\u001b[A\n",
      "\u001b[A\n",
      "\u001b[A\n",
      "\u001b[A\n",
      "\u001b[A\n",
      "\u001b[A\n",
      "\u001b[A\n",
      "\u001b[A\n",
      "\u001b[A\n",
      "\u001b[A\n",
      "\u001b[A\n",
      "\u001b[A\n",
      "\u001b[A\n",
      "\u001b[A\n",
      "\u001b[A\n",
      "\u001b[A\n",
      "\u001b[A\n",
      "\u001b[A\n",
      "\u001b[A\n",
      "\u001b[A\n",
      "\u001b[A\n",
      "\u001b[A\n",
      "\u001b[A\n",
      "\u001b[A\n",
      "\u001b[A\n",
      "\u001b[A\n",
      "\u001b[A\n",
      "\u001b[A\n",
      "\u001b[A\n",
      "\u001b[A\n",
      "\u001b[A\n",
      "\u001b[A\n",
      "\u001b[A\n",
      "\u001b[A\n",
      "\u001b[A\n",
      "\u001b[A\n",
      "\u001b[A\n",
      "\u001b[A\n",
      "\u001b[A\n",
      "\u001b[A\n",
      "\u001b[A\n",
      "\u001b[A\n",
      "\u001b[A\n",
      "\u001b[A\n",
      "\u001b[A\n",
      "\u001b[A\n",
      "\u001b[A\n",
      "\u001b[A\n",
      "\u001b[A\n",
      "\u001b[A\n",
      "\u001b[A\n",
      "\u001b[A\n",
      "\u001b[A\n",
      "\u001b[A\n",
      "\u001b[A\n",
      "\u001b[A\n",
      "\u001b[A\n",
      "\u001b[A\n",
      "\u001b[A\n",
      "\u001b[A\n",
      "\u001b[A\n",
      "\u001b[A\n",
      "\u001b[A\n",
      "\u001b[A\n",
      "\u001b[A\n",
      "\u001b[A\n",
      "\u001b[A\n",
      "\u001b[A\n",
      "\u001b[A\n",
      "\u001b[A\n",
      "\u001b[A\n",
      "\u001b[A\n",
      "\u001b[A\n",
      "\u001b[A\n",
      "\u001b[A\n",
      "\u001b[A\n",
      "\u001b[A\n",
      "\u001b[A\n",
      "\u001b[A\n",
      "\u001b[A\n",
      "\u001b[A\n",
      "\u001b[A\n",
      "\u001b[A\n",
      "\u001b[A\n",
      "\u001b[A\n",
      "\u001b[A\n",
      "\u001b[A\n",
      "\u001b[A\n",
      "\u001b[A\n",
      "\u001b[A\n",
      "\u001b[A\n",
      "\u001b[A\n",
      "\u001b[A\n",
      "\u001b[A\n",
      "\u001b[A\n",
      "\u001b[A\n",
      "\u001b[A\n",
      "\u001b[A\n",
      "\u001b[A\n",
      "\u001b[A\n",
      "\u001b[A\n",
      "\u001b[A\n",
      "\u001b[A\n",
      "\u001b[A\n",
      "\u001b[A\n",
      "\u001b[A\n",
      "\u001b[A\n",
      "\u001b[A\n",
      "\u001b[A\n",
      "\u001b[A\n",
      "\u001b[A\n",
      "\u001b[A\n",
      "\u001b[A\n",
      "\u001b[A\n",
      "\u001b[A\n",
      "\u001b[A\n",
      "\u001b[A\n",
      "\u001b[A\n",
      "\u001b[A\n",
      "\u001b[A\n",
      "\u001b[A\n",
      "\u001b[A\n",
      "\u001b[A\n",
      "\u001b[A\n",
      "\u001b[A\n",
      "\u001b[A\n",
      "\u001b[A\n",
      "\u001b[A\n",
      "\u001b[A\n",
      "\u001b[A\n",
      "\u001b[A\n",
      "\u001b[A\n",
      "\u001b[A\n",
      "\u001b[A\n",
      "\u001b[A\n",
      "\u001b[A\n",
      "\u001b[A\n",
      "\u001b[A\n",
      "\u001b[A\n",
      "\u001b[A\n",
      "\u001b[A\n",
      "\u001b[A\n",
      "\u001b[A\n",
      "\u001b[A\n",
      "\u001b[A\n",
      "\u001b[A\n",
      "\u001b[A\n",
      "\u001b[A\n",
      "\u001b[A\n",
      "\u001b[A\n",
      "\u001b[A\n",
      "\u001b[A\n",
      "\u001b[A\n",
      "\u001b[A\n",
      "\u001b[A\n",
      "\u001b[A\n",
      "\u001b[A\n",
      "\u001b[A\n",
      "\u001b[A\n",
      "\u001b[A\n",
      "\u001b[A\n",
      "\u001b[A\n",
      "\u001b[A\n",
      "\u001b[A\n",
      "\u001b[A\n",
      "\u001b[A\n",
      "\u001b[A\n",
      "\u001b[A\n",
      "\u001b[A\n",
      "\u001b[A\n",
      "\u001b[A\n",
      "\u001b[A\n",
      "\u001b[A\n",
      "\u001b[A\n",
      "\u001b[A\n",
      "\u001b[A\n",
      "\u001b[A\n",
      "\u001b[A\n",
      "\u001b[A\n",
      "\u001b[A\n",
      "\u001b[A\n",
      "\u001b[A\n",
      "\u001b[A\n",
      "\u001b[A\n",
      "\u001b[A\n",
      "\u001b[A\n",
      "\u001b[A\n",
      "\u001b[A\n",
      "\u001b[A\n",
      "\u001b[A\n",
      "\u001b[A\n",
      "\u001b[A\n",
      "\u001b[A\n",
      "\u001b[A\n",
      "\u001b[A\n",
      "\u001b[A\n",
      "\u001b[A\n",
      "\u001b[A\n",
      "\u001b[A\n",
      "\u001b[A\n",
      "\u001b[A\n",
      "\u001b[A\n",
      "\u001b[A\n",
      "\u001b[A\n",
      "\u001b[A\n",
      "\u001b[A\n",
      "\u001b[A\n",
      "\u001b[A\n",
      "\u001b[A\n",
      "\u001b[A\n",
      "\u001b[A\n",
      "\u001b[A\n",
      "\u001b[A\n",
      "\u001b[A\n",
      "\u001b[A\n",
      "\u001b[A\n",
      "\u001b[A\n",
      "\u001b[A\n",
      "\u001b[A\n",
      "\u001b[A\n",
      "\u001b[A\n",
      "\u001b[A\n",
      "\u001b[A\n",
      "\u001b[A\n",
      "\u001b[A\n",
      "\u001b[A\n",
      "\u001b[A\n",
      "\u001b[A\n",
      "\u001b[A\n",
      "\u001b[A\n",
      "\u001b[A\n",
      "\u001b[A\n",
      "\u001b[A\n",
      "\u001b[A\n",
      "\u001b[A\n",
      "\u001b[A\n",
      "\u001b[A\n",
      "\u001b[A\n",
      "\u001b[A\n",
      "\u001b[A\n",
      "\u001b[A\n",
      "\u001b[A\n",
      "\u001b[A\n",
      "\u001b[A\n",
      "\u001b[A\n",
      "\u001b[A\n",
      "\u001b[A\n",
      "\u001b[A\n",
      "\u001b[A\n",
      "\u001b[A\n",
      "\u001b[A\n",
      "\u001b[A\n",
      "\u001b[A\n",
      "\u001b[A\n",
      "\u001b[A\n",
      "\u001b[A\n",
      "\u001b[A\n",
      "\u001b[A\n",
      "\u001b[A\n",
      "\u001b[A\n",
      "\u001b[A\n",
      "\u001b[A\n",
      "\u001b[A\n",
      "\u001b[A\n",
      "\u001b[A\n",
      "\u001b[A\n",
      "\u001b[A\n",
      "\u001b[A\n",
      "\u001b[A\n",
      "\u001b[A\n",
      "\u001b[A\n",
      "\u001b[A\n",
      "\u001b[A\n",
      "\u001b[A\n",
      "\u001b[A\n",
      "\u001b[A\n",
      "\u001b[A\n",
      "\u001b[A\n",
      "\u001b[A\n",
      "\u001b[A\n",
      "\u001b[A\n",
      "\u001b[A\n",
      "\u001b[A\n",
      "\u001b[A\n",
      "\u001b[A\n",
      "\u001b[A\n",
      "\u001b[A\n",
      "\u001b[A\n",
      "\u001b[A\n",
      "\u001b[A\n",
      "\u001b[A\n",
      "\u001b[A\n",
      "\u001b[A\n",
      "\u001b[A\n",
      "\u001b[A\n",
      "\u001b[A\n",
      "\u001b[A\n",
      "\u001b[A\n",
      "\u001b[A\n",
      "\u001b[A\n",
      "\u001b[A\n",
      "\u001b[A\n",
      "\u001b[A\n",
      "\u001b[A\n",
      "\u001b[A\n",
      "\u001b[A\n",
      "\u001b[A\n",
      "\u001b[A\n",
      "\u001b[A\n",
      "\u001b[A\n",
      "\u001b[A\n",
      "\u001b[A\n",
      "\u001b[A\n",
      "\u001b[A\n",
      "\u001b[A\n",
      "\u001b[A\n",
      "\u001b[A\n",
      "\u001b[A\n",
      "\u001b[A\n",
      "\u001b[A\n",
      "\u001b[A\n",
      "\u001b[A\n",
      "\u001b[A\n",
      "\u001b[A\n",
      "\u001b[A\n",
      "\u001b[A\n",
      "\u001b[A\n",
      "\u001b[A\n",
      "\u001b[A\n",
      "\u001b[A\n",
      "\u001b[A\n",
      "\u001b[A\n",
      "\u001b[A\n",
      "\u001b[A\n",
      "\u001b[A\n",
      "\u001b[A\n",
      "\u001b[A\n",
      "\u001b[A\n",
      "\u001b[A\n",
      "\u001b[A\n",
      "\u001b[A\n",
      "\u001b[A\n",
      "\u001b[A\n",
      "\u001b[A\n",
      "\u001b[A\n",
      "\u001b[A\n",
      "\u001b[A\n",
      "\u001b[A\n",
      "\u001b[A\n",
      "\u001b[A\n",
      "\u001b[A\n",
      "\u001b[A\n",
      "\u001b[A\n",
      "\u001b[A\n",
      "\u001b[A\n",
      "\u001b[A\n",
      "\u001b[A\n",
      "\u001b[A\n",
      "\u001b[A\n",
      "\u001b[A\n",
      "\u001b[A\n",
      "\u001b[A\n",
      "\u001b[A\n",
      "\u001b[A\n",
      "\u001b[A\n",
      "\u001b[A\n",
      "\u001b[A\n",
      "\u001b[A\n",
      "\u001b[A\n",
      "\u001b[A\n",
      "\u001b[A\n",
      "\u001b[A\n",
      "\u001b[A\n",
      "\u001b[A\n",
      "\u001b[A\n",
      "\u001b[A\n",
      "\u001b[A\n",
      "\u001b[A\n",
      "\u001b[A\n",
      "\u001b[A\n",
      "\u001b[A\n",
      "\u001b[A\n",
      "\u001b[A\n",
      "\u001b[A\n",
      "\u001b[A\n",
      "\u001b[A\n",
      "\u001b[A\n",
      "\u001b[A\n",
      "\u001b[A\n",
      "\u001b[A\n",
      "\u001b[A\n",
      "\u001b[A\n",
      "\u001b[A\n",
      "\u001b[A\n",
      "\u001b[A\n",
      "\u001b[A\n",
      "\u001b[A\n",
      "\u001b[A\n",
      "\u001b[A\n",
      "\u001b[A\n",
      "\u001b[A\n",
      "\u001b[A\n",
      "\u001b[A\n",
      "\u001b[A\n",
      "\u001b[A\n",
      "\u001b[A\n",
      "\u001b[A\n",
      "\u001b[A\n",
      "\u001b[A\n",
      "\u001b[A\n",
      "\u001b[A\n",
      "\u001b[A\n",
      "\u001b[A\n",
      "\u001b[A\n",
      "\u001b[A\n",
      "\u001b[A\n",
      "\u001b[A\n",
      "\u001b[A\n",
      "\u001b[A\n",
      "\u001b[A\n",
      "\u001b[A\n",
      "\u001b[A\n",
      "\u001b[A\n",
      "\u001b[A\n",
      "\u001b[A\n",
      "\u001b[A\n",
      "\u001b[A\n",
      "\u001b[A\n",
      "\u001b[A\n",
      "\u001b[A\n",
      "\u001b[A\n",
      "\u001b[A\n",
      "\u001b[A\n",
      "\u001b[A\n",
      "\u001b[A\n",
      "\u001b[A\n",
      "\u001b[A\n",
      "\u001b[A\n",
      "\u001b[A\n",
      "\u001b[A\n",
      "\u001b[A\n",
      "\u001b[A\n",
      "\u001b[A\n",
      "\u001b[A\n",
      "\u001b[A\n",
      "\u001b[A\n",
      "\u001b[A\n",
      "\u001b[A\n",
      "\u001b[A\n",
      "\u001b[A\n",
      "\u001b[A\n",
      "\u001b[A\n",
      "\u001b[A\n",
      "\u001b[A\n",
      "\u001b[A\n",
      "\u001b[A\n",
      "\u001b[A\n",
      "\u001b[A\n",
      "\u001b[A\n",
      "\u001b[A\n",
      "\u001b[A\n",
      "\u001b[A\n",
      "\u001b[A\n",
      "\u001b[A\n",
      "\u001b[A\n",
      "\u001b[A\n",
      "\u001b[A\n",
      "\u001b[A\n",
      "\u001b[A\n",
      "\u001b[A\n",
      "\u001b[A\n",
      "\u001b[A\n",
      "\u001b[A\n",
      "\u001b[A\n",
      "\u001b[A\n",
      "\u001b[A\n",
      "\u001b[A\n",
      "\u001b[A\n",
      "\u001b[A\n",
      "\u001b[A\n",
      "\u001b[A\n",
      "\u001b[A\n",
      "\u001b[A\n",
      "\u001b[A\n",
      "\u001b[A\n",
      "\u001b[A\n",
      "\u001b[A\n",
      "\u001b[A\n",
      "\u001b[A\n",
      "\u001b[A\n",
      "\u001b[A\n",
      "\u001b[A\n",
      "\u001b[A\n",
      "\u001b[A\n",
      "\u001b[A\n",
      "\u001b[A\n",
      "\u001b[A\n",
      "\u001b[A\n",
      "\u001b[A\n",
      "\u001b[A\n",
      "\u001b[A\n",
      "\u001b[A\n",
      "\u001b[A\n",
      "\u001b[A\n",
      "\u001b[A\n",
      "\u001b[A\n",
      "\u001b[A\n",
      "\u001b[A\n",
      "\u001b[A\n",
      "\u001b[A\n",
      "\u001b[A\n",
      "\u001b[A\n",
      "\u001b[A\n",
      "\u001b[A\n",
      "\u001b[A\n",
      "\u001b[A\n",
      "\u001b[A\n",
      "\u001b[A\n",
      "\u001b[A\n",
      "\u001b[A\n",
      "\u001b[A\n",
      "\u001b[A\n",
      "\u001b[A\n",
      "\u001b[A\n",
      "\u001b[A\n",
      "\u001b[A\n",
      "\u001b[A\n",
      "\u001b[A\n",
      "\u001b[A\n",
      "\u001b[A\n",
      "\u001b[A\n",
      "\u001b[A\n",
      "\u001b[A\n",
      "\u001b[A\n",
      "\u001b[A\n",
      "\u001b[A\n",
      "\u001b[A\n",
      "\u001b[A\n",
      "\u001b[A\n",
      "\u001b[A\n",
      "\u001b[A\n",
      "\u001b[A\n",
      "\u001b[A\n",
      "\u001b[A\n",
      "\u001b[A\n",
      "\u001b[A\n",
      "\u001b[A\n",
      "\u001b[A\n",
      "\u001b[A\n",
      "\u001b[A\n",
      "\u001b[A\n",
      "\u001b[A\n",
      "\u001b[A\n",
      "\u001b[A\n",
      "\u001b[A\n",
      "\u001b[A\n",
      "\u001b[A\n",
      "\u001b[A\n",
      "\u001b[A\n",
      "\u001b[A\n",
      "\u001b[A\n",
      "\u001b[A\n",
      "\u001b[A\n",
      "\u001b[A\n",
      "\u001b[A\n",
      "\u001b[A\n",
      "\u001b[A\n",
      "\u001b[A\n",
      "\u001b[A\n",
      "\u001b[A\n",
      "\u001b[A\n",
      "\u001b[A\n",
      "\u001b[A\n",
      "\u001b[A\n",
      "\u001b[A\n",
      "\u001b[A\n",
      "\u001b[A\n",
      "\u001b[A\n",
      "\u001b[A\n",
      "\u001b[A\n",
      "\u001b[A\n",
      "\u001b[A\n",
      "\u001b[A\n",
      "\u001b[A\n",
      "\u001b[A\n",
      "\u001b[A\n",
      "\u001b[A\n",
      "\u001b[A\n",
      "\u001b[A\n",
      "\u001b[A\n",
      "\u001b[A\n",
      "\u001b[A\n",
      "\u001b[A\n",
      "\u001b[A\n",
      "\u001b[A\n",
      "\u001b[A\n",
      "\u001b[A\n",
      "\u001b[A\n",
      "\u001b[A\n",
      "\u001b[A\n",
      "\u001b[A\n",
      "\u001b[A\n",
      "\u001b[A\n",
      "\u001b[A\n",
      "\u001b[A\n",
      "\u001b[A\n",
      "\u001b[A\n",
      "\u001b[A\n",
      "\u001b[A\n",
      "\u001b[A\n",
      "\u001b[A\n",
      "\u001b[A\n",
      "\u001b[A\n",
      "\u001b[A\n",
      "\u001b[A\n",
      "\u001b[A\n",
      "\u001b[A\n",
      "\u001b[A\n",
      "\u001b[A\n",
      "\u001b[A\n",
      "\u001b[A\n",
      "\u001b[A\n",
      "\u001b[A\n",
      "\u001b[A\n",
      "\u001b[A\n",
      "\u001b[A\n",
      "\u001b[A\n",
      "\u001b[A\n",
      "\u001b[A\n",
      "\u001b[A\n",
      "\u001b[A\n",
      "\u001b[A\n",
      "\u001b[A\n",
      "\u001b[A\n",
      "\u001b[A\n",
      "\u001b[A\n",
      "\u001b[A\n",
      "\u001b[A\n",
      "\u001b[A\n",
      "\u001b[A\n",
      "\u001b[A\n",
      "\u001b[A\n",
      "\u001b[A\n",
      "\u001b[A\n",
      "\u001b[A\n",
      "\u001b[A\n",
      "\u001b[A\n",
      "\u001b[A\n",
      "\u001b[A\n",
      "\u001b[A\n",
      "\u001b[A\n",
      "\u001b[A\n",
      "\u001b[A\n",
      "\u001b[A\n",
      "\u001b[A\n",
      "\u001b[A\n",
      "\u001b[A\n",
      "\u001b[A\n",
      "\u001b[A\n",
      "\u001b[A\n",
      "\u001b[A\n",
      "\u001b[A\n",
      "\u001b[A\n",
      "\u001b[A\n",
      "\u001b[A\n",
      "\u001b[A\n",
      "\u001b[A\n",
      "\u001b[A\n",
      "\u001b[A\n",
      "\u001b[A\n",
      "\u001b[A\n",
      "\u001b[A\n",
      "\u001b[A\n",
      "\u001b[A\n",
      "\u001b[A\n",
      "\u001b[A\n",
      "\u001b[A\n",
      "\u001b[A\n",
      "\u001b[A\n",
      "\u001b[A\n",
      "\u001b[A\n",
      "\u001b[A\n",
      "\u001b[A\n",
      "\u001b[A\n",
      "\u001b[A\n",
      "\u001b[A\n",
      "\u001b[A\n",
      "\u001b[A\n",
      "\u001b[A\n",
      "\u001b[A\n",
      "\u001b[A\n",
      "\u001b[A\n",
      "\u001b[A\n",
      "\u001b[A\n",
      "\u001b[A\n",
      "\u001b[A\n",
      "\u001b[A\n",
      "\u001b[A\n",
      "\u001b[A\n",
      "\u001b[A\n",
      "\u001b[A\n",
      "\u001b[A\n",
      "\u001b[A\n",
      "\u001b[A\n",
      "\u001b[A\n",
      "\u001b[A\n",
      "\u001b[A\n",
      "\u001b[A\n",
      "\u001b[A\n",
      "\u001b[A\n",
      "\u001b[A\n",
      "\u001b[A\n",
      "\u001b[A\n",
      "\u001b[A\n",
      "\u001b[A\n",
      "\u001b[A\n",
      "\u001b[A\n",
      "\u001b[A\n",
      "\u001b[A\n",
      "\u001b[A\n",
      "\u001b[A\n",
      "\u001b[A\n",
      "\u001b[A\n",
      "\u001b[A\n",
      "\u001b[A\n",
      "\u001b[A\n",
      "\u001b[A\n",
      "\u001b[A\n",
      "\u001b[A\n",
      "\u001b[A\n",
      "\u001b[A\n",
      "\u001b[A\n",
      "\u001b[A\n",
      "\u001b[A\n",
      "\u001b[A\n",
      "\u001b[A\n",
      "\u001b[A\n",
      "\u001b[A\n",
      "\u001b[A\n",
      "\u001b[A\n",
      "\u001b[A\n",
      "\u001b[A\n",
      "\u001b[A\n",
      "\u001b[A\n",
      "\u001b[A\n",
      "\u001b[A\n",
      "\u001b[A\n",
      "\u001b[A\n",
      "\u001b[A\n",
      "\u001b[A\n",
      "\u001b[A\n",
      "\u001b[A\n",
      "\u001b[A\n",
      "\u001b[A\n",
      "\u001b[A\n",
      "\u001b[A\n",
      "\u001b[A\n",
      "\u001b[A\n",
      "\u001b[A\n",
      "\u001b[A\n",
      "\u001b[A\n",
      "\u001b[A\n",
      "\u001b[A\n",
      "\u001b[A\n",
      "\u001b[A\n",
      "\u001b[A\n",
      "\u001b[A\n",
      "\u001b[A\n",
      "\u001b[A\n",
      "\u001b[A\n",
      "\u001b[A\n",
      "\u001b[A\n",
      "\u001b[A\n",
      "\u001b[A\n",
      "\u001b[A\n",
      "\u001b[A\n",
      "\u001b[A\n",
      "\u001b[A\n",
      "\u001b[A\n",
      "\u001b[A\n",
      "\u001b[A\n",
      "\u001b[A\n",
      "\u001b[A\n",
      "\u001b[A\n",
      "\u001b[A\n",
      "\u001b[A\n",
      "\u001b[A\n",
      "\u001b[A\n",
      "\u001b[A\n",
      "\u001b[A\n",
      "\u001b[A\n",
      "\u001b[A\n",
      "\u001b[A\n",
      "\u001b[A\n",
      "\u001b[A\n",
      "\u001b[A\n",
      "\u001b[A\n",
      "\u001b[A\n",
      "\u001b[A\n",
      "\u001b[A\n",
      "\u001b[A\n",
      "\u001b[A\n",
      "\u001b[A\n",
      "\u001b[A\n",
      "\u001b[A\n",
      "\u001b[A\n",
      "\u001b[A\n",
      "\u001b[A\n",
      "\u001b[A\n",
      "\u001b[A\n",
      "\u001b[A\n",
      "\u001b[A\n",
      "\u001b[A\n",
      "\u001b[A\n",
      "\u001b[A\n",
      "\u001b[A\n",
      "\u001b[A\n",
      "\u001b[A\n",
      "\u001b[A\n",
      "\u001b[A\n",
      "\u001b[A\n",
      "\u001b[A\n",
      "\u001b[A\n",
      "\u001b[A\n",
      "\u001b[A\n",
      "\u001b[A\n",
      "\u001b[A\n",
      "\u001b[A\n",
      "\u001b[A\n",
      "\u001b[A\n",
      "\u001b[A\n",
      "\u001b[A\n",
      "\u001b[A\n",
      "\u001b[A\n",
      "\u001b[A\n",
      "\u001b[A\n",
      "\u001b[A\n",
      "\u001b[A\n",
      "\u001b[A\n",
      "\u001b[A\n",
      "\u001b[A\n",
      "\u001b[A\n",
      "\u001b[A\n",
      "\u001b[A\n",
      "\u001b[A\n",
      "\u001b[A\n",
      "\u001b[A\n",
      "\u001b[A\n",
      "\u001b[A\n",
      "\u001b[A\n",
      "\u001b[A\n",
      "\u001b[A\n",
      "\u001b[A\n",
      "\u001b[A\n",
      "\u001b[A\n",
      "\u001b[A\n",
      "\u001b[A\n",
      "\u001b[A\n",
      "\u001b[A\n",
      "\u001b[A\n",
      "\u001b[A\n",
      "\u001b[A\n",
      "\u001b[A\n",
      "\u001b[A\n",
      "\u001b[A\n",
      "\u001b[A\n",
      "\u001b[A\n",
      "\u001b[A\n",
      "\u001b[A\n",
      "\u001b[A\n",
      "\u001b[A\n",
      "\u001b[A\n",
      "\u001b[A\n",
      "\u001b[A\n",
      "\u001b[A\n",
      "\u001b[A\n",
      "\u001b[A\n",
      "\u001b[A\n",
      "\u001b[A\n",
      "\u001b[A\n",
      "\u001b[A\n",
      "\u001b[A\n",
      "\u001b[A\n",
      "\u001b[A\n",
      "\u001b[A\n",
      "\u001b[A\n",
      "\u001b[A\n",
      "\u001b[A\n",
      "\u001b[A\n",
      "\u001b[A\n",
      "\u001b[A\n",
      "\u001b[A\n",
      "\u001b[A\n",
      "\u001b[A\n",
      "\u001b[A\n",
      "\u001b[A\n",
      "\u001b[A\n",
      "\u001b[A\n",
      "\u001b[A\n",
      "\u001b[A\n",
      "\u001b[A\n",
      "\u001b[A\n",
      "\u001b[A\n",
      "\u001b[A\n",
      "\u001b[A\n",
      "\u001b[A\n",
      "\u001b[A\n",
      "\u001b[A\n",
      "\u001b[A\n",
      "\u001b[A\n",
      "\u001b[A\n",
      "\u001b[A\n",
      "\u001b[A\n",
      "\u001b[A\n",
      "\u001b[A\n",
      "\u001b[A\n",
      "\u001b[A\n",
      "\u001b[A\n",
      "\u001b[A\n",
      "\u001b[A\n",
      "\u001b[A\n",
      "\u001b[A\n",
      "\u001b[A\n",
      "\u001b[A\n",
      "\u001b[A\n",
      "\u001b[A\n",
      "\u001b[A\n",
      "\u001b[A\n",
      "\u001b[A\n",
      "\u001b[A\n",
      "\u001b[A\n",
      "\u001b[A\n",
      "\u001b[A\n",
      "\u001b[A\n",
      "\u001b[A\n",
      "\u001b[A\n",
      "\u001b[A\n",
      "\u001b[A\n",
      "\u001b[A\n",
      "\u001b[A\n",
      "\u001b[A\n",
      "\u001b[A\n",
      "\u001b[A\n",
      "\u001b[A\n",
      "\u001b[A\n",
      "\u001b[A\n",
      "\u001b[A\n",
      "\u001b[A\n",
      "\u001b[A\n",
      "\u001b[A\n",
      "\u001b[A\n",
      "\u001b[A\n",
      "\u001b[A\n",
      "\u001b[A\n",
      "\u001b[A\n",
      "\u001b[A\n",
      "\u001b[A\n",
      "\u001b[A\n",
      "\u001b[A\n",
      "\u001b[A\n",
      "\u001b[A\n",
      "\u001b[A\n",
      "\u001b[A\n",
      "\u001b[A\n",
      "\u001b[A\n",
      "\u001b[A\n",
      "\u001b[A\n",
      "\u001b[A\n",
      "\u001b[A\n",
      "\u001b[A\n",
      "\u001b[A\n",
      "\u001b[A\n",
      "\u001b[A\n",
      "\u001b[A\n",
      "\u001b[A\n",
      "\u001b[A\n",
      "\u001b[A\n",
      "\u001b[A\n",
      "\u001b[A\n",
      "\u001b[A\n",
      "\u001b[A\n",
      "\u001b[A\n",
      "\u001b[A\n",
      "\u001b[A\n",
      "\u001b[A\n",
      "\u001b[A\n",
      "\u001b[A\n",
      "\u001b[A\n",
      "\u001b[A\n",
      "\u001b[A\n",
      "\u001b[A\n",
      "\u001b[A\n",
      "\u001b[A\n",
      "\u001b[A\n",
      "\u001b[A\n",
      "\u001b[A\n",
      "\u001b[A\n",
      "\u001b[A\n",
      "\u001b[A\n",
      "\u001b[A\n",
      "\u001b[A\n",
      "\u001b[A\n",
      "\u001b[A\n",
      "\u001b[A\n",
      "\u001b[A\n",
      "\u001b[A\n",
      "\u001b[A\n",
      "\u001b[A\n",
      "\u001b[A\n",
      "\u001b[A\n",
      "\u001b[A\n",
      "\u001b[A\n",
      "\u001b[A\n",
      "\u001b[A\n",
      "\u001b[A\n",
      "\u001b[A\n",
      "\u001b[A\n",
      "\u001b[A\n",
      "\u001b[A\n",
      "\u001b[A\n",
      "\u001b[A\n",
      "\u001b[A\n",
      "\u001b[A\n",
      "\u001b[A\n",
      "\u001b[A\n",
      "\u001b[A\n",
      "\u001b[A\n",
      "\u001b[A\n",
      "\u001b[A\n",
      "\u001b[A\n",
      "\u001b[A\n",
      "\u001b[A\n",
      "\u001b[A\n",
      "\u001b[A\n",
      "\u001b[A\n",
      "\u001b[A\n",
      "\u001b[A\n",
      "\u001b[A\n",
      "\u001b[A\n",
      "\u001b[A\n",
      "\u001b[A\n",
      "\u001b[A\n",
      "\u001b[A\n",
      "\u001b[A\n",
      "\u001b[A\n",
      "\u001b[A\n",
      "\u001b[A\n",
      "\u001b[A\n",
      "\u001b[A\n",
      "\u001b[A\n",
      "\u001b[A\n",
      "\u001b[A\n",
      "\u001b[A\n",
      "2025-05-09 05:23:14,152 - INFO - Running MIA...                \n",
      "Running repeated tests:   0%|          | 0/1 [4:45:43<?, ?it/s]\n",
      "2025-05-09 05:23:14,163 - INFO - Classifier type: nn           \n",
      "Running repeated tests:   0%|          | 0/1 [4:45:43<?, ?it/s]\n",
      "2025-05-09 05:23:49,240 - INFO - Classifier type: logistic     \n",
      "Running repeated tests:   0%|          | 0/1 [4:46:18<?, ?it/s]\n",
      "2025-05-09 05:24:06,337 - INFO - Unlearning: Method=parameters, Percentage=5, RetrainEpochs=1\n",
      "Running repeated tests:   0%|          | 0/1 [4:46:36<?, ?it/s]\n",
      "\u001b[A\n",
      "\u001b[A\n",
      "\u001b[A\n",
      "2025-05-09 05:25:16,899 - INFO - Computing test accuracies...   \n",
      "Running repeated tests:   0%|          | 0/1 [4:47:46<?, ?it/s]\n",
      "\u001b[A\n",
      "\u001b[A\n",
      "\u001b[A\n",
      "\u001b[A\n",
      "\u001b[A\n",
      "\u001b[A\n",
      "\u001b[A\n",
      "\u001b[A\n",
      "\u001b[A\n",
      "\u001b[A\n",
      "\u001b[A\n",
      "\u001b[A\n",
      "\u001b[A\n",
      "\u001b[A\n",
      "\u001b[A\n",
      "\u001b[A\n",
      "\u001b[A\n",
      "\u001b[A\n",
      "\u001b[A\n",
      "\u001b[A\n",
      "\u001b[A\n",
      "\u001b[A\n",
      "\u001b[A\n",
      "\u001b[A\n",
      "\u001b[A\n",
      "\u001b[A\n",
      "\u001b[A\n",
      "\u001b[A\n",
      "\u001b[A\n",
      "\u001b[A\n",
      "\u001b[A\n",
      "\u001b[A\n",
      "\u001b[A\n",
      "\u001b[A\n",
      "\u001b[A\n",
      "\u001b[A\n",
      "\u001b[A\n",
      "\u001b[A\n",
      "\u001b[A\n",
      "\u001b[A\n",
      "\u001b[A\n",
      "\u001b[A\n",
      "\u001b[A\n",
      "\u001b[A\n",
      "\u001b[A\n",
      "\u001b[A\n",
      "\u001b[A\n",
      "\u001b[A\n",
      "\u001b[A\n",
      "\u001b[A\n",
      "\u001b[A\n",
      "\u001b[A\n",
      "\u001b[A\n",
      "\u001b[A\n",
      "\u001b[A\n",
      "\u001b[A\n",
      "\u001b[A\n",
      "\u001b[A\n",
      "\u001b[A\n",
      "\u001b[A\n",
      "\u001b[A\n",
      "\u001b[A\n",
      "\u001b[A\n",
      "\u001b[A\n",
      "\u001b[A\n",
      "\u001b[A\n",
      "\u001b[A\n",
      "\u001b[A\n",
      "\u001b[A\n",
      "\u001b[A\n",
      "\u001b[A\n",
      "\u001b[A\n",
      "\u001b[A\n",
      "\u001b[A\n",
      "\u001b[A\n",
      "\u001b[A\n",
      "\u001b[A\n",
      "\u001b[A\n",
      "\u001b[A\n",
      "\u001b[A\n",
      "\u001b[A\n",
      "\u001b[A\n",
      "\u001b[A\n",
      "\u001b[A\n",
      "\u001b[A\n",
      "\u001b[A\n",
      "\u001b[A\n",
      "\u001b[A\n",
      "\u001b[A\n",
      "\u001b[A\n",
      "\u001b[A\n",
      "\u001b[A\n",
      "\u001b[A\n",
      "\u001b[A\n",
      "\u001b[A\n",
      "\u001b[A\n",
      "\u001b[A\n",
      "\u001b[A\n",
      "\u001b[A\n",
      "\u001b[A\n",
      "\u001b[A\n",
      "\u001b[A\n",
      "\u001b[A\n",
      "\u001b[A\n",
      "\u001b[A\n",
      "\u001b[A\n",
      "\u001b[A\n",
      "\u001b[A\n",
      "\u001b[A\n",
      "\u001b[A\n",
      "2025-05-09 05:25:29,172 - INFO - Computing clients accuracies...\n",
      "Running repeated tests:   0%|          | 0/1 [4:47:58<?, ?it/s]\n",
      "\u001b[A\n",
      "\u001b[A\n",
      "\u001b[A\n",
      "\u001b[A\n",
      "\u001b[A\n",
      "\u001b[A\n",
      "\u001b[A\n",
      "\u001b[A\n",
      "\u001b[A\n",
      "\u001b[A\n",
      "\u001b[A\n",
      "\u001b[A\n",
      "\u001b[A\n",
      "\u001b[A\n",
      "\u001b[A\n",
      "\u001b[A\n",
      "\u001b[A\n",
      "\u001b[A\n",
      "\u001b[A\n",
      "\u001b[A\n",
      "\u001b[A\n",
      "\u001b[A\n",
      "\u001b[A\n",
      "\u001b[A\n",
      "\u001b[A\n",
      "\u001b[A\n",
      "\u001b[A\n",
      "\u001b[A\n",
      "\u001b[A\n",
      "\u001b[A\n",
      "\u001b[A\n",
      "\u001b[A\n",
      "\u001b[A\n",
      "\u001b[A\n",
      "\u001b[A\n",
      "\u001b[A\n",
      "\u001b[A\n",
      "\u001b[A\n",
      "\u001b[A\n",
      "\u001b[A\n",
      "\u001b[A\n",
      "\u001b[A\n",
      "\u001b[A\n",
      "\u001b[A\n",
      "\u001b[A\n",
      "\u001b[A\n",
      "\u001b[A\n",
      "\u001b[A\n",
      "\u001b[A\n",
      "\u001b[A\n",
      "\u001b[A\n",
      "\u001b[A\n",
      "\u001b[A\n",
      "\u001b[A\n",
      "\u001b[A\n",
      "\u001b[A\n",
      "\u001b[A\n",
      "\u001b[A\n",
      "\u001b[A\n",
      "\u001b[A\n",
      "\u001b[A\n",
      "\u001b[A\n",
      "\u001b[A\n",
      "\u001b[A\n",
      "\u001b[A\n",
      "\u001b[A\n",
      "\u001b[A\n",
      "\u001b[A\n",
      "\u001b[A\n",
      "\u001b[A\n",
      "\u001b[A\n",
      "\u001b[A\n",
      "\u001b[A\n",
      "\u001b[A\n",
      "\u001b[A\n",
      "\u001b[A\n",
      "\u001b[A\n",
      "\u001b[A\n",
      "\u001b[A\n",
      "\u001b[A\n",
      "\u001b[A\n",
      "\u001b[A\n",
      "\u001b[A\n",
      "\u001b[A\n",
      "\u001b[A\n",
      "\u001b[A\n",
      "\u001b[A\n",
      "\u001b[A\n",
      "\u001b[A\n",
      "\u001b[A\n",
      "\u001b[A\n",
      "\u001b[A\n",
      "\u001b[A\n",
      "\u001b[A\n",
      "\u001b[A\n",
      "\u001b[A\n",
      "\u001b[A\n",
      "\u001b[A\n",
      "\u001b[A\n",
      "\u001b[A\n",
      "\u001b[A\n",
      "\u001b[A\n",
      "\u001b[A\n",
      "\u001b[A\n",
      "\u001b[A\n",
      "\u001b[A\n",
      "\u001b[A\n",
      "\u001b[A\n",
      "\u001b[A\n",
      "\u001b[A\n",
      "\u001b[A\n",
      "\u001b[A\n",
      "\u001b[A\n",
      "\u001b[A\n",
      "\u001b[A\n",
      "\u001b[A\n",
      "\u001b[A\n",
      "\u001b[A\n",
      "\u001b[A\n",
      "\u001b[A\n",
      "\u001b[A\n",
      "\u001b[A\n",
      "\u001b[A\n",
      "\u001b[A\n",
      "\u001b[A\n",
      "\u001b[A\n",
      "\u001b[A\n",
      "\u001b[A\n",
      "\u001b[A\n",
      "\u001b[A\n",
      "\u001b[A\n",
      "\u001b[A\n",
      "\u001b[A\n",
      "\u001b[A\n",
      "\u001b[A\n",
      "\u001b[A\n",
      "\u001b[A\n",
      "\u001b[A\n",
      "\u001b[A\n",
      "\u001b[A\n",
      "\u001b[A\n",
      "\u001b[A\n",
      "\u001b[A\n",
      "\u001b[A\n",
      "\u001b[A\n",
      "\u001b[A\n",
      "\u001b[A\n",
      "\u001b[A\n",
      "\u001b[A\n",
      "\u001b[A\n",
      "\u001b[A\n",
      "\u001b[A\n",
      "\u001b[A\n",
      "\u001b[A\n",
      "\u001b[A\n",
      "\u001b[A\n",
      "\u001b[A\n",
      "\u001b[A\n",
      "\u001b[A\n",
      "\u001b[A\n",
      "\u001b[A\n",
      "\u001b[A\n",
      "\u001b[A\n",
      "\u001b[A\n",
      "\u001b[A\n",
      "\u001b[A\n",
      "\u001b[A\n",
      "\u001b[A\n",
      "\u001b[A\n",
      "\u001b[A\n",
      "\u001b[A\n",
      "\u001b[A\n",
      "\u001b[A\n",
      "\u001b[A\n",
      "\u001b[A\n",
      "\u001b[A\n",
      "\u001b[A\n",
      "\u001b[A\n",
      "\u001b[A\n",
      "\u001b[A\n",
      "\u001b[A\n",
      "\u001b[A\n",
      "\u001b[A\n",
      "\u001b[A\n",
      "\u001b[A\n",
      "\u001b[A\n",
      "\u001b[A\n",
      "\u001b[A\n",
      "\u001b[A\n",
      "\u001b[A\n",
      "\u001b[A\n",
      "\u001b[A\n",
      "\u001b[A\n",
      "\u001b[A\n",
      "\u001b[A\n",
      "\u001b[A\n",
      "\u001b[A\n",
      "\u001b[A\n",
      "\u001b[A\n",
      "\u001b[A\n",
      "\u001b[A\n",
      "\u001b[A\n",
      "\u001b[A\n",
      "\u001b[A\n",
      "\u001b[A\n",
      "\u001b[A\n",
      "\u001b[A\n",
      "\u001b[A\n",
      "\u001b[A\n",
      "\u001b[A\n",
      "\u001b[A\n",
      "\u001b[A\n",
      "\u001b[A\n",
      "\u001b[A\n",
      "\u001b[A\n",
      "\u001b[A\n",
      "\u001b[A\n",
      "\u001b[A\n",
      "\u001b[A\n",
      "\u001b[A\n",
      "\u001b[A\n",
      "\u001b[A\n",
      "\u001b[A\n",
      "\u001b[A\n",
      "\u001b[A\n",
      "\u001b[A\n",
      "\u001b[A\n",
      "\u001b[A\n",
      "\u001b[A\n",
      "\u001b[A\n",
      "\u001b[A\n",
      "\u001b[A\n",
      "\u001b[A\n",
      "\u001b[A\n",
      "\u001b[A\n",
      "\u001b[A\n",
      "\u001b[A\n",
      "\u001b[A\n",
      "\u001b[A\n",
      "\u001b[A\n",
      "\u001b[A\n",
      "\u001b[A\n",
      "\u001b[A\n",
      "\u001b[A\n",
      "\u001b[A\n",
      "\u001b[A\n",
      "\u001b[A\n",
      "\u001b[A\n",
      "\u001b[A\n",
      "\u001b[A\n",
      "\u001b[A\n",
      "\u001b[A\n",
      "\u001b[A\n",
      "\u001b[A\n",
      "\u001b[A\n",
      "\u001b[A\n",
      "\u001b[A\n",
      "\u001b[A\n",
      "\u001b[A\n",
      "\u001b[A\n",
      "\u001b[A\n",
      "\u001b[A\n",
      "\u001b[A\n",
      "\u001b[A\n",
      "\u001b[A\n",
      "\u001b[A\n",
      "\u001b[A\n",
      "\u001b[A\n",
      "\u001b[A\n",
      "\u001b[A\n",
      "\u001b[A\n",
      "\u001b[A\n",
      "\u001b[A\n",
      "\u001b[A\n",
      "\u001b[A\n",
      "\u001b[A\n",
      "\u001b[A\n",
      "\u001b[A\n",
      "\u001b[A\n",
      "\u001b[A\n",
      "\u001b[A\n",
      "\u001b[A\n",
      "\u001b[A\n",
      "\u001b[A\n",
      "\u001b[A\n",
      "\u001b[A\n",
      "\u001b[A\n",
      "\u001b[A\n",
      "\u001b[A\n",
      "\u001b[A\n",
      "\u001b[A\n",
      "\u001b[A\n",
      "\u001b[A\n",
      "\u001b[A\n",
      "\u001b[A\n",
      "\u001b[A\n",
      "\u001b[A\n",
      "\u001b[A\n",
      "\u001b[A\n",
      "\u001b[A\n",
      "\u001b[A\n",
      "\u001b[A\n",
      "\u001b[A\n",
      "\u001b[A\n",
      "\u001b[A\n",
      "\u001b[A\n",
      "\u001b[A\n",
      "\u001b[A\n",
      "\u001b[A\n",
      "\u001b[A\n",
      "\u001b[A\n",
      "\u001b[A\n",
      "\u001b[A\n",
      "\u001b[A\n",
      "\u001b[A\n",
      "\u001b[A\n",
      "\u001b[A\n",
      "\u001b[A\n",
      "\u001b[A\n",
      "\u001b[A\n",
      "\u001b[A\n",
      "\u001b[A\n",
      "\u001b[A\n",
      "\u001b[A\n",
      "\u001b[A\n",
      "\u001b[A\n",
      "\u001b[A\n",
      "\u001b[A\n",
      "\u001b[A\n",
      "\u001b[A\n",
      "\u001b[A\n",
      "\u001b[A\n",
      "\u001b[A\n",
      "\u001b[A\n",
      "\u001b[A\n",
      "\u001b[A\n",
      "\u001b[A\n",
      "\u001b[A\n",
      "\u001b[A\n",
      "\u001b[A\n",
      "\u001b[A\n",
      "\u001b[A\n",
      "\u001b[A\n",
      "\u001b[A\n",
      "\u001b[A\n",
      "\u001b[A\n",
      "\u001b[A\n",
      "\u001b[A\n",
      "\u001b[A\n",
      "\u001b[A\n",
      "\u001b[A\n",
      "\u001b[A\n",
      "\u001b[A\n",
      "\u001b[A\n",
      "\u001b[A\n",
      "\u001b[A\n",
      "\u001b[A\n",
      "\u001b[A\n",
      "\u001b[A\n",
      "\u001b[A\n",
      "\u001b[A\n",
      "\u001b[A\n",
      "\u001b[A\n",
      "\u001b[A\n",
      "\u001b[A\n",
      "\u001b[A\n",
      "\u001b[A\n",
      "\u001b[A\n",
      "\u001b[A\n",
      "\u001b[A\n",
      "\u001b[A\n",
      "\u001b[A\n",
      "\u001b[A\n",
      "\u001b[A\n",
      "\u001b[A\n",
      "\u001b[A\n",
      "\u001b[A\n",
      "\u001b[A\n",
      "\u001b[A\n",
      "\u001b[A\n",
      "\u001b[A\n",
      "\u001b[A\n",
      "\u001b[A\n",
      "\u001b[A\n",
      "\u001b[A\n",
      "\u001b[A\n",
      "\u001b[A\n",
      "\u001b[A\n",
      "\u001b[A\n",
      "\u001b[A\n",
      "\u001b[A\n",
      "\u001b[A\n",
      "\u001b[A\n",
      "\u001b[A\n",
      "\u001b[A\n",
      "\u001b[A\n",
      "\u001b[A\n",
      "\u001b[A\n",
      "\u001b[A\n",
      "\u001b[A\n",
      "\u001b[A\n",
      "\u001b[A\n",
      "\u001b[A\n",
      "\u001b[A\n",
      "\u001b[A\n",
      "\u001b[A\n",
      "\u001b[A\n",
      "\u001b[A\n",
      "\u001b[A\n",
      "\u001b[A\n",
      "\u001b[A\n",
      "\u001b[A\n",
      "\u001b[A\n",
      "\u001b[A\n",
      "\u001b[A\n",
      "\u001b[A\n",
      "\u001b[A\n",
      "\u001b[A\n",
      "\u001b[A\n",
      "\u001b[A\n",
      "\u001b[A\n",
      "\u001b[A\n",
      "\u001b[A\n",
      "\u001b[A\n",
      "\u001b[A\n",
      "\u001b[A\n",
      "\u001b[A\n",
      "\u001b[A\n",
      "\u001b[A\n",
      "\u001b[A\n",
      "\u001b[A\n",
      "\u001b[A\n",
      "\u001b[A\n",
      "\u001b[A\n",
      "\u001b[A\n",
      "\u001b[A\n",
      "\u001b[A\n",
      "\u001b[A\n",
      "\u001b[A\n",
      "\u001b[A\n",
      "\u001b[A\n",
      "\u001b[A\n",
      "\u001b[A\n",
      "\u001b[A\n",
      "\u001b[A\n",
      "\u001b[A\n",
      "\u001b[A\n",
      "\u001b[A\n",
      "\u001b[A\n",
      "\u001b[A\n",
      "\u001b[A\n",
      "\u001b[A\n",
      "\u001b[A\n",
      "\u001b[A\n",
      "\u001b[A\n",
      "\u001b[A\n",
      "\u001b[A\n",
      "\u001b[A\n",
      "\u001b[A\n",
      "\u001b[A\n",
      "\u001b[A\n",
      "\u001b[A\n",
      "\u001b[A\n",
      "\u001b[A\n",
      "\u001b[A\n",
      "\u001b[A\n",
      "\u001b[A\n",
      "\u001b[A\n",
      "\u001b[A\n",
      "\u001b[A\n",
      "\u001b[A\n",
      "\u001b[A\n",
      "\u001b[A\n",
      "\u001b[A\n",
      "\u001b[A\n",
      "\u001b[A\n",
      "\u001b[A\n",
      "\u001b[A\n",
      "\u001b[A\n",
      "\u001b[A\n",
      "\u001b[A\n",
      "\u001b[A\n",
      "\u001b[A\n",
      "\u001b[A\n",
      "\u001b[A\n",
      "\u001b[A\n",
      "\u001b[A\n",
      "\u001b[A\n",
      "\u001b[A\n",
      "\u001b[A\n",
      "\u001b[A\n",
      "\u001b[A\n",
      "\u001b[A\n",
      "\u001b[A\n",
      "\u001b[A\n",
      "\u001b[A\n",
      "\u001b[A\n",
      "\u001b[A\n",
      "\u001b[A\n",
      "\u001b[A\n",
      "\u001b[A\n",
      "\u001b[A\n",
      "\u001b[A\n",
      "\u001b[A\n",
      "\u001b[A\n",
      "\u001b[A\n",
      "\u001b[A\n",
      "\u001b[A\n",
      "\u001b[A\n",
      "\u001b[A\n",
      "\u001b[A\n",
      "\u001b[A\n",
      "\u001b[A\n",
      "\u001b[A\n",
      "\u001b[A\n",
      "\u001b[A\n",
      "\u001b[A\n",
      "\u001b[A\n",
      "\u001b[A\n",
      "\u001b[A\n",
      "\u001b[A\n",
      "\u001b[A\n",
      "\u001b[A\n",
      "\u001b[A\n",
      "\u001b[A\n",
      "\u001b[A\n",
      "\u001b[A\n",
      "\u001b[A\n",
      "\u001b[A\n",
      "\u001b[A\n",
      "\u001b[A\n",
      "\u001b[A\n",
      "\u001b[A\n",
      "\u001b[A\n",
      "\u001b[A\n",
      "\u001b[A\n",
      "\u001b[A\n",
      "\u001b[A\n",
      "\u001b[A\n",
      "\u001b[A\n",
      "\u001b[A\n",
      "\u001b[A\n",
      "\u001b[A\n",
      "\u001b[A\n",
      "2025-05-09 05:26:30,487 - INFO - Running MIA...                 \n",
      "Running repeated tests:   0%|          | 0/1 [4:49:00<?, ?it/s]\n",
      "2025-05-09 05:26:30,493 - ERROR - Error in test iteration 0: 'mia_classifier_types'\n",
      "2025-05-09 05:26:30,510 - INFO - --- Finished Test Iteration 1 ---\n",
      "Running repeated tests: 100%|██████████| 1/1 [4:49:00<00:00, 17340.20s/it]\n",
      "2025-05-09 05:26:30,520 - INFO - Test suite 'test_cifar_random' completed with 1 iterations.\n",
      "2025-05-09 05:26:30,521 - ERROR - Test iteration 0 encountered errors at the following test runs: [1]\n"
     ]
    }
   ],
   "source": [
    "init_params_dict : InitParamsDict = {\n",
    "    'test_name': 'test_cifar_random', # Changed name slightly\n",
    "\n",
    "    'dataset_name': 'cifar10',\n",
    "    'num_clients': 5,\n",
    "    'num_classes': 10,                # Number of classes in the dataset\n",
    "    'distribution_type': 'random',     # Distribution type\n",
    "\n",
    "    'model_name': 'resnet18',       # Model architecture\n",
    "    'loss_name': 'cross_entropy',     # Loss function\n",
    "\n",
    "    'trainer_name': 'sgd',            # Trainer type\n",
    "    'train_epochs': 100,                # Initial training epochs\n",
    "\n",
    "    'target_client': 0,               # Client to unlearn\n",
    "    'num_tests': 1                   # Number of independent repetitions\n",
    "}\n",
    "\n",
    "test_params_dict_0 : TestParamsDict = {\n",
    "        'subtest': 0,\n",
    "        'unlearning_method': 'information',\n",
    "        'tests': ['test_accuracy', 'clients_accuracies', 'mia'],\n",
    "        'mia_classifier_types': ['nn', 'logistic'],\n",
    "        'retrain_epochs': 1\n",
    "    }\n",
    "\n",
    "test_params_dict_1 : TestParamsDict = {\n",
    "        'subtest': 1,\n",
    "        'unlearning_method': 'parameters',\n",
    "        'tests': ['test_accuracy', 'clients_accuracies', 'mia'],\n",
    "        'mia_classifier_types': ['nn', 'logistic'],\n",
    "        'retrain_epochs': 1\n",
    "    } \n",
    "\n",
    "percentages = np.arange(5, 10, 5)\n",
    "test_params_dicts_0 = [test_params_dict_0.copy() for _ in range(len(percentages))]\n",
    "test_params_dicts_1 = [test_params_dict_1.copy() for _ in range(len(percentages))]\n",
    "for i, percentage in enumerate(percentages):\n",
    "    test_params_dicts_0[i]['unlearning_percentage'] = percentage\n",
    "    test_params_dicts_1[i]['unlearning_percentage'] = percentage\n",
    "\n",
    "test_params_dicts = test_params_dicts_0 + test_params_dicts_1\n",
    "\n",
    "run_repeated_tests(init_params_dict, test_params_dicts, save_path, workers)"
   ]
  },
  {
   "cell_type": "code",
   "execution_count": null,
   "id": "7adf2aeb",
   "metadata": {},
   "outputs": [
    {
     "name": "stderr",
     "output_type": "stream",
     "text": [
      "2025-05-09 05:26:30,561 - INFO - Starting test suite: test_cifar_pref\n",
      "2025-05-09 05:26:30,563 - INFO - Created test suite directory: ./stat_tests\\test_cifar_pref\n",
      "2025-05-09 05:26:30,567 - INFO - Initial Configuration:\n",
      "2025-05-09 05:26:30,567 - INFO -   test_name: test_cifar_pref\n",
      "2025-05-09 05:26:30,567 - INFO -   dataset_name: cifar10\n",
      "2025-05-09 05:26:30,572 - INFO -   num_clients: 5\n",
      "2025-05-09 05:26:30,573 - INFO -   num_classes: 10\n",
      "2025-05-09 05:26:30,573 - INFO -   distribution_type: preferential_class\n",
      "2025-05-09 05:26:30,573 - INFO -   model_name: resnet18\n",
      "2025-05-09 05:26:30,573 - INFO -   loss_name: cross_entropy\n",
      "2025-05-09 05:26:30,573 - INFO -   trainer_name: sgd\n",
      "2025-05-09 05:26:30,573 - INFO -   train_epochs: 100\n",
      "2025-05-09 05:26:30,573 - INFO -   target_client: 0\n",
      "2025-05-09 05:26:30,573 - INFO -   num_tests: 1\n",
      "2025-05-09 05:26:30,573 - INFO - ------------------------------\n"
     ]
    },
    {
     "name": "stdout",
     "output_type": "stream",
     "text": [
      "Files already downloaded and verified\n",
      "Files already downloaded and verified\n"
     ]
    },
    {
     "name": "stderr",
     "output_type": "stream",
     "text": [
      "2025-05-09 05:26:32,536 - INFO - --- Starting Test Iteration 1 ---\n",
      "2025-05-09 05:26:32,538 - INFO - Using device: cuda          \n",
      "2025-05-09 05:26:32,549 - INFO - Training model...           \n",
      "2025-05-09 06:53:08,927 - INFO - Training benchmark model... \n",
      "2025-05-09 08:02:27,074 - INFO - Computing information...      \n",
      "Running repeated tests:   0%|          | 0/1 [3:07:53<?, ?it/s]\n"
     ]
    },
    {
     "ename": "KeyboardInterrupt",
     "evalue": "",
     "output_type": "error",
     "traceback": [
      "\u001b[1;31m---------------------------------------------------------------------------\u001b[0m",
      "\u001b[1;31mKeyboardInterrupt\u001b[0m                         Traceback (most recent call last)",
      "Cell \u001b[1;32mIn[6], line 44\u001b[0m\n\u001b[0;32m     40\u001b[0m     test_params_dicts_1[i][\u001b[38;5;124m'\u001b[39m\u001b[38;5;124munlearning_percentage\u001b[39m\u001b[38;5;124m'\u001b[39m] \u001b[38;5;241m=\u001b[39m percentage\n\u001b[0;32m     42\u001b[0m test_params_dicts \u001b[38;5;241m=\u001b[39m test_params_dicts_0 \u001b[38;5;241m+\u001b[39m test_params_dicts_1\n\u001b[1;32m---> 44\u001b[0m run_repeated_tests(init_params_dict, test_params_dicts, save_path, workers)\n",
      "File \u001b[1;32mc:\\Users\\loren\\Documents\\Personale\\Programmazione\\FisherUnlearning\\tester.py:485\u001b[0m, in \u001b[0;36mrun_repeated_tests\u001b[1;34m(init_params_dict, test_params_dicts, save_path, workers)\u001b[0m\n\u001b[0;32m    483\u001b[0m     \u001b[38;5;28;01mwith\u001b[39;00m logging_redirect_tqdm():\n\u001b[0;32m    484\u001b[0m         \u001b[38;5;28;01mfor\u001b[39;00m i \u001b[38;5;129;01min\u001b[39;00m tqdm\u001b[38;5;241m.\u001b[39mtqdm(\u001b[38;5;28mrange\u001b[39m(num_tests), desc\u001b[38;5;241m=\u001b[39m\u001b[38;5;124m\"\u001b[39m\u001b[38;5;124mRunning repeated tests\u001b[39m\u001b[38;5;124m\"\u001b[39m):\n\u001b[1;32m--> 485\u001b[0m             errors\u001b[38;5;241m=\u001b[39mrun_tests_iter(args[i])    \n\u001b[0;32m    486\u001b[0m             tests_errors\u001b[38;5;241m.\u001b[39mappend(errors)\n\u001b[0;32m    487\u001b[0m \u001b[38;5;28;01melse\u001b[39;00m:\n",
      "File \u001b[1;32mc:\\Users\\loren\\Documents\\Personale\\Programmazione\\FisherUnlearning\\tester.py:393\u001b[0m, in \u001b[0;36mrun_tests_iter\u001b[1;34m(arg)\u001b[0m\n\u001b[0;32m    390\u001b[0m client_information_path \u001b[38;5;241m=\u001b[39m os\u001b[38;5;241m.\u001b[39mpath\u001b[38;5;241m.\u001b[39mjoin(test_iter_path, \u001b[38;5;124m\"\u001b[39m\u001b[38;5;124mclient_information.pkl\u001b[39m\u001b[38;5;124m\"\u001b[39m)\n\u001b[0;32m    391\u001b[0m test_results_path \u001b[38;5;241m=\u001b[39m os\u001b[38;5;241m.\u001b[39mpath\u001b[38;5;241m.\u001b[39mjoin(test_iter_path, \u001b[38;5;124m\"\u001b[39m\u001b[38;5;124mtest_results.pkl\u001b[39m\u001b[38;5;124m\"\u001b[39m)\n\u001b[1;32m--> 393\u001b[0m test_instance \u001b[38;5;241m=\u001b[39m Test(train_dataset, test_dataset, clients_subsets, model_class, loss_class, trainer_function, init_params_dict)\n\u001b[0;32m    395\u001b[0m torch\u001b[38;5;241m.\u001b[39msave(test_instance\u001b[38;5;241m.\u001b[39mtrained_model\u001b[38;5;241m.\u001b[39mcpu()\u001b[38;5;241m.\u001b[39mstate_dict(), trained_model_path)\n\u001b[0;32m    396\u001b[0m torch\u001b[38;5;241m.\u001b[39msave(test_instance\u001b[38;5;241m.\u001b[39mbenchmark_model\u001b[38;5;241m.\u001b[39mcpu()\u001b[38;5;241m.\u001b[39mstate_dict(), benchmark_model_path)\n",
      "File \u001b[1;32mc:\\Users\\loren\\Documents\\Personale\\Programmazione\\FisherUnlearning\\tester.py:108\u001b[0m, in \u001b[0;36mTest.__init__\u001b[1;34m(self, train_dataset, test_dataset, clients_subsets, model_class, loss_class, trainer_function, init_params_dict)\u001b[0m\n\u001b[0;32m    105\u001b[0m \u001b[38;5;28mself\u001b[39m\u001b[38;5;241m.\u001b[39mbenchmark_model \u001b[38;5;241m=\u001b[39m \u001b[38;5;28mself\u001b[39m\u001b[38;5;241m.\u001b[39mtrainer_function(\u001b[38;5;28mself\u001b[39m\u001b[38;5;241m.\u001b[39mmodel_class(), \u001b[38;5;28mself\u001b[39m\u001b[38;5;241m.\u001b[39mloss_class(), \u001b[38;5;28mself\u001b[39m\u001b[38;5;241m.\u001b[39mbenchmark_datasets, \u001b[38;5;28mself\u001b[39m\u001b[38;5;241m.\u001b[39mtrain_epochs)\n\u001b[0;32m    107\u001b[0m logging\u001b[38;5;241m.\u001b[39minfo(\u001b[38;5;124m\"\u001b[39m\u001b[38;5;124mComputing information...\u001b[39m\u001b[38;5;124m\"\u001b[39m) \n\u001b[1;32m--> 108\u001b[0m \u001b[38;5;28mself\u001b[39m\u001b[38;5;241m.\u001b[39mclient_information \u001b[38;5;241m=\u001b[39m compute_client_information(\u001b[38;5;28mself\u001b[39m\u001b[38;5;241m.\u001b[39mtarget_client, \u001b[38;5;28mself\u001b[39m\u001b[38;5;241m.\u001b[39mtrained_model, \u001b[38;5;28mself\u001b[39m\u001b[38;5;241m.\u001b[39mloss_class(), \u001b[38;5;28mself\u001b[39m\u001b[38;5;241m.\u001b[39mclients_datasets, use_converter\u001b[38;5;241m=\u001b[39m\u001b[38;5;28mself\u001b[39m\u001b[38;5;241m.\u001b[39minfo_use_converter)\n",
      "File \u001b[1;32mc:\\Users\\loren\\Documents\\Personale\\Programmazione\\FisherUnlearning\\fisherunlearn\\__init__.py:167\u001b[0m, in \u001b[0;36mcompute_client_information\u001b[1;34m(client_idx, model, criterion, datasets_list, method, use_converter)\u001b[0m\n\u001b[0;32m    165\u001b[0m         total_hessian[name] \u001b[38;5;241m=\u001b[39m value\u001b[38;5;241m/\u001b[39m(\u001b[38;5;28mlen\u001b[39m(loader)\u001b[38;5;241m*\u001b[39mnum_clients)\n\u001b[0;32m    166\u001b[0m     \u001b[38;5;28;01melse\u001b[39;00m:\n\u001b[1;32m--> 167\u001b[0m         total_hessian[name] \u001b[38;5;241m+\u001b[39m\u001b[38;5;241m=\u001b[39m value\u001b[38;5;241m/\u001b[39m(\u001b[38;5;28mlen\u001b[39m(loader)\u001b[38;5;241m*\u001b[39mnum_clients)\n\u001b[0;32m    169\u001b[0m \u001b[38;5;28;01mif\u001b[39;00m loader_idx \u001b[38;5;241m==\u001b[39m client_idx:\n\u001b[0;32m    170\u001b[0m     \u001b[38;5;28;01mfor\u001b[39;00m name, value \u001b[38;5;129;01min\u001b[39;00m diag_h\u001b[38;5;241m.\u001b[39mitems():\n",
      "\u001b[1;31mKeyboardInterrupt\u001b[0m: "
     ]
    }
   ],
   "source": [
    "init_params_dict : InitParamsDict = {\n",
    "    'test_name': 'test_cifar_pref', # Changed name slightly\n",
    "\n",
    "    'dataset_name': 'cifar10',\n",
    "    'num_clients': 5,\n",
    "    'num_classes': 10,                # Number of classes in the dataset\n",
    "    'distribution_type': 'preferential_class',     # Distribution type\n",
    "\n",
    "    'model_name': 'resnet18',       # Model architecture\n",
    "    'loss_name': 'cross_entropy',     # Loss function\n",
    "\n",
    "    'trainer_name': 'sgd',            # Trainer type\n",
    "    'train_epochs': 100,                # Initial training epochs\n",
    "\n",
    "    'target_client': 0,               # Client to unlearn\n",
    "    'num_tests': 1                   # Number of independent repetitions\n",
    "}\n",
    "\n",
    "test_params_dict_0 : TestParamsDict = {\n",
    "        'subtest': 0,\n",
    "        'unlearning_method': 'information',\n",
    "        'tests': ['test_accuracy', 'classes_accuracies', 'mia'],\n",
    "        'mia_classifier_types': ['nn', 'logistic'],\n",
    "        'retrain_epochs': 1\n",
    "    }\n",
    "\n",
    "test_params_dict_1 : TestParamsDict = {\n",
    "        'subtest': 1,\n",
    "        'unlearning_method': 'parameters',\n",
    "        'tests': ['test_accuracy', 'classes_accuracies', 'mia'],\n",
    "        'mia_classifier_types': ['nn', 'logistic'],\n",
    "        'retrain_epochs': 1\n",
    "    } \n",
    "\n",
    "percentages = np.arange(5, 10, 5)\n",
    "test_params_dicts_0 = [test_params_dict_0.copy() for _ in range(len(percentages))]\n",
    "test_params_dicts_1 = [test_params_dict_1.copy() for _ in range(len(percentages))]\n",
    "for i, percentage in enumerate(percentages):\n",
    "    test_params_dicts_0[i]['unlearning_percentage'] = percentage\n",
    "    test_params_dicts_1[i]['unlearning_percentage'] = percentage\n",
    "\n",
    "test_params_dicts = test_params_dicts_0 + test_params_dicts_1\n",
    "\n",
    "run_repeated_tests(init_params_dict, test_params_dicts, save_path, workers)"
   ]
  }
 ],
 "metadata": {
  "kernelspec": {
   "display_name": "fed-learn",
   "language": "python",
   "name": "python3"
  },
  "language_info": {
   "codemirror_mode": {
    "name": "ipython",
    "version": 3
   },
   "file_extension": ".py",
   "mimetype": "text/x-python",
   "name": "python",
   "nbconvert_exporter": "python",
   "pygments_lexer": "ipython3",
   "version": "3.11.9"
  }
 },
 "nbformat": 4,
 "nbformat_minor": 5
}
