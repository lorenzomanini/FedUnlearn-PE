{
 "cells": [
  {
   "cell_type": "code",
   "execution_count": 132,
   "metadata": {},
   "outputs": [],
   "source": [
    "import torch\n",
    "import torch.nn as nn\n",
    "import torch.optim as optim\n",
    "import numpy as np\n",
    "import matplotlib.pyplot as plt\n",
    "from torch.utils.data import DataLoader, TensorDataset"
   ]
  },
  {
   "cell_type": "code",
   "execution_count": 133,
   "metadata": {},
   "outputs": [],
   "source": [
    "def compute_true_info(hessian, hessian_unp, num_removed):\n",
    "    information_true = [torch.empty_like(p,dtype=torch.float32) for p in hessian]\n",
    "    A_list = [torch.empty_like(p) for p in hessian]\n",
    "    B_list = [torch.empty_like(p) for p in hessian]\n",
    "    for i,_ in enumerate(A_list):\n",
    "        ratio = torch.where(torch.logical_and(hessian[i]==0, hessian_unp[i]==0), 1, hessian_unp[i]/hessian[i])\n",
    "        #A=1/2 * torch.log(ratio)/num_removed\n",
    "        #B=1/2 * (1-torch.pow(ratio,2))/num_removed\n",
    "        A=1/2 * torch.log(ratio)/num_removed\n",
    "        B=1/2 * (1-ratio)/num_removed\n",
    "        A[torch.isinf(A)]=0\n",
    "        B[torch.isinf(B)]=0\n",
    "        A_list[i]=torch.nan_to_num(A)\n",
    "        B_list[i]=torch.nan_to_num(B)\n",
    "\n",
    "\n",
    "    A_flat = torch.cat([A.flatten() for A in A_list])\n",
    "    B_flat = torch.cat([B.flatten() for B in B_list])\n",
    "\n",
    "    torch.cuda.empty_cache()\n",
    "    device = torch.device(\"cpu\")\n",
    "    A_flat = A_flat.to(device)\n",
    "    B_flat = B_flat.to(device)\n",
    "    information_true = [torch.empty_like(p,dtype=torch.float32).to(device) for p in hessian]\n",
    "    hessian = [p.to(device) for p in hessian]\n",
    "    hessian_unp = [p.to(device) for p in hessian_unp]\n",
    "\n",
    "    information_true_view = [p.view(-1) for p in information_true]\n",
    "    A_list_view = [p.view(-1) for p in A_list]\n",
    "    B_list_view = [p.view(-1) for p in B_list]\n",
    "\n",
    "    for i,_ in enumerate(information_true_view):\n",
    "        for j,_ in enumerate(information_true_view[i]):\n",
    "\n",
    "            temp=A_list_view[i][j]*A_flat + B_list_view[i][j]*B_flat + A_list_view[i][j]*B_flat + B_list_view[i][j]*A_flat\n",
    "            information_true_view[i][j] = torch.sum(temp)+2*torch.pow(B_list_view[i][j],2)\n",
    "\n",
    "    return information_true\n"
   ]
  },
  {
   "cell_type": "code",
   "execution_count": 134,
   "metadata": {},
   "outputs": [],
   "source": [
    "def compute_true_info_new(hessian, hessian_unp, num_removed):\n",
    "    A_list = [torch.empty_like(p) for p in hessian]\n",
    "    B_list = [torch.empty_like(p) for p in hessian]\n",
    "    for i,_ in enumerate(hessian): \n",
    "        ratio = hessian_unp[i]/hessian[i]\n",
    "        A=1/2 * torch.log(ratio)/num_removed\n",
    "        B=1/2 * (1-ratio)/num_removed\n",
    "\n",
    "        A[torch.isinf(A)]=0\n",
    "        B[torch.isinf(B)]=0\n",
    "        A[torch.isnan(A)]=0\n",
    "        B[torch.isnan(B)]=0\n",
    "        A_list[i]=A\n",
    "        B_list[i]=B\n",
    "\n",
    "    C = sum([torch.sum(A_list[i]+B_list[i]).item() for i in range(len(A_list))])\n",
    "\n",
    "    information_true=[(A_list[i]+B_list[i])*C + 2*torch.pow(B_list[i],2) for i in range(len(hessian))]\n",
    "\n",
    "    return information_true"
   ]
  },
  {
   "cell_type": "code",
   "execution_count": 135,
   "metadata": {},
   "outputs": [
    {
     "name": "stdout",
     "output_type": "stream",
     "text": [
      "tensor([ 3.1607, 11.0783,  1.5148,  0.8951,  0.5933,  0.4229,  0.3171,  0.2467,\n",
      "         0.1976,  0.1618])\n",
      "tensor([ 3.1607, 11.0783,  1.5148,  0.8951,  0.5933,  0.4229,  0.3171,  0.2467,\n",
      "         0.1976,  0.1618])\n",
      "tensor([True, True, True, True, True, True, True, True, True, True])\n",
      "tensor([[0.1350, 0.1143, 0.0981, 0.0851, 0.0745, 0.0658],\n",
      "        [0.0586, 0.0524, 0.0472, 0.0428, 0.0389, 0.0355]])\n",
      "tensor([[0.1350, 0.1143, 0.0981, 0.0851, 0.0745, 0.0658],\n",
      "        [0.0586, 0.0524, 0.0472, 0.0428, 0.0389, 0.0355]])\n",
      "tensor([[True, True, True, True, True, True],\n",
      "        [True, True, True, True, True, True]])\n"
     ]
    }
   ],
   "source": [
    "tesnor1=torch.tensor([2,1,3,4,5,6,7,8,9,10])\n",
    "tesnor2=torch.tensor([[11,12,13,14,15,16],[17,18,19,20,21,22]])\n",
    "tesnor3=torch.tensor([6,5,7,8,9,10,11,12,13,14])\n",
    "tesnor4=torch.tensor([[15,16,17,18,19,20],[21,22,23,24,25,26]])\n",
    "hessian=[tesnor1,tesnor2]\n",
    "hessian_half=[tesnor3,tesnor4]\n",
    "information_true=compute_true_info(hessian, hessian_half,1)\n",
    "information_true_new=compute_true_info_new(hessian, hessian_half,1)\n",
    "for i in range(len(information_true)):\n",
    "    print(information_true[i])\n",
    "    print(information_true_new[i])\n",
    "    print(torch.isclose(information_true[i],information_true_new[i]))\n"
   ]
  }
 ],
 "metadata": {
  "kernelspec": {
   "display_name": "pytorch",
   "language": "python",
   "name": "pytorch"
  },
  "language_info": {
   "codemirror_mode": {
    "name": "ipython",
    "version": 3
   },
   "file_extension": ".py",
   "mimetype": "text/x-python",
   "name": "python",
   "nbconvert_exporter": "python",
   "pygments_lexer": "ipython3",
   "version": "3.11.9"
  }
 },
 "nbformat": 4,
 "nbformat_minor": 2
}
