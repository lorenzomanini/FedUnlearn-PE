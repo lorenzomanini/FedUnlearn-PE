{
  "cells": [
    {
      "cell_type": "code",
      "execution_count": 1,
      "metadata": {
        "id": "KXjLp3FDbodi"
      },
      "outputs": [
        {
          "name": "stderr",
          "output_type": "stream",
          "text": [
            "c:\\Users\\loren\\anaconda3\\envs\\fed-learn\\Lib\\site-packages\\tqdm\\auto.py:21: TqdmWarning: IProgress not found. Please update jupyter and ipywidgets. See https://ipywidgets.readthedocs.io/en/stable/user_install.html\n",
            "  from .autonotebook import tqdm as notebook_tqdm\n"
          ]
        }
      ],
      "source": [
        "import torch\n",
        "from torch import nn\n",
        "from torch.utils.data import DataLoader, Dataset, TensorDataset\n",
        "import numpy as np\n",
        "\n",
        "import matplotlib.pyplot as plt\n",
        "import pandas as pd\n",
        "\n",
        "from art.utils import load_mnist, preprocess\n",
        "\n",
        "import os\n",
        "import copy\n",
        "\n",
        "from utils.model import FLNet\n",
        "from utils.local_train import LocalTraining\n",
        "from utils.utils import Utils\n",
        "from utils.fusion import Fusion, FusionAvg, FusionRetrain\n",
        "\n",
        "from tqdm import tqdm"
      ]
    },
    {
      "cell_type": "code",
      "execution_count": 2,
      "metadata": {},
      "outputs": [],
      "source": [
        "load_path = 'models/model.pt'"
      ]
    },
    {
      "cell_type": "markdown",
      "metadata": {
        "id": "mumWmLPlbodk"
      },
      "source": [
        "#### FL Fusion Class Selection"
      ]
    },
    {
      "cell_type": "code",
      "execution_count": 3,
      "metadata": {
        "id": "MQW6Jsrjbodk"
      },
      "outputs": [],
      "source": [
        "def FL_round_fusion_selection(num_parties, fusion_key='FedAvg'):\n",
        "\n",
        "    fusion_class_dict = {\n",
        "        'FedAvg': FusionAvg(num_parties),\n",
        "        'Retrain': FusionRetrain(num_parties),\n",
        "        'Unlearn': FusionAvg(num_parties)\n",
        "        }\n",
        "\n",
        "    return fusion_class_dict[fusion_key]"
      ]
    },
    {
      "cell_type": "markdown",
      "metadata": {
        "id": "XuWPkVgIbodl"
      },
      "source": [
        "#### Set up No. of Parties, Party to be Erased, and Attack Parameters"
      ]
    },
    {
      "cell_type": "code",
      "execution_count": 4,
      "metadata": {
        "colab": {
          "base_uri": "https://localhost:8080/"
        },
        "id": "blwIyJDJbodl",
        "outputId": "753edb79-71a0-4ff1-abe8-b8c5e2da337c"
      },
      "outputs": [
        {
          "name": "stdout",
          "output_type": "stream",
          "text": [
            "Number of samples erased party: 12000\n",
            "Number of samples other party: 12000\n"
          ]
        }
      ],
      "source": [
        "num_parties = 5\n",
        "scale = 1\n",
        "#Select the party that I would like to erase (ex: 3)\n",
        "party_to_be_erased = 0\n",
        "\n",
        "num_samples_erased_party = int(60000 / num_parties * scale)\n",
        "num_samples_per_party = int((60000 - num_samples_erased_party)/(num_parties - 1))\n",
        "print('Number of samples erased party:', num_samples_erased_party)\n",
        "print('Number of samples other party:', num_samples_per_party)"
      ]
    },
    {
      "cell_type": "markdown",
      "metadata": {
        "id": "2zidgMsibodl"
      },
      "source": [
        "### 2. Load data\n",
        "<a id='section_2'></a>"
      ]
    },
    {
      "cell_type": "code",
      "execution_count": 5,
      "metadata": {
        "id": "g60G9SbSbodm"
      },
      "outputs": [],
      "source": [
        "(x_raw, y_raw), (x_raw_test, y_raw_test), min_, max_ = load_mnist(raw=True)\n",
        "\n",
        "x_train, y_train = preprocess(x_raw, y_raw)\n",
        "x_test, y_test = preprocess(x_raw_test, y_raw_test)\n",
        "\n",
        "n_train = np.shape(y_train)[0]\n",
        "shuffled_indices = np.arange(n_train)\n",
        "np.random.shuffle(shuffled_indices)\n",
        "x_train = x_train[shuffled_indices]\n",
        "y_train = y_train[shuffled_indices]"
      ]
    },
    {
      "cell_type": "markdown",
      "metadata": {},
      "source": [
        "Create Trainloader\n",
        "\n",
        "In this Notebook we are going to create it by the following principle:\n",
        " - Each client will have 50% of it's dataset given by classes common among all the clients\n",
        " - Remaining 50% will be given to each client and will be different among different clients\n",
        "\n",
        "Example:\n",
        "client 3 will have 50% given by the labels: [0,1,2,3,4]. 50% will be with data coming just from the label [7]"
      ]
    },
    {
      "cell_type": "code",
      "execution_count": 6,
      "metadata": {
        "id": "nTXoPOPqlrEH"
      },
      "outputs": [],
      "source": [
        "all_indices = np.arange(len(y_train))\n",
        "common_classes_indices = all_indices[np.sum(y_train*np.array([1,1,1,1,1,0,0,0,0,0]), axis = 1).astype(bool)]\n",
        "list_clients_dataset_indices = np.split(common_classes_indices[:-(len(common_classes_indices)%5)], 5)\n",
        "\n",
        "for i in range(5,10):\n",
        "  label = [0,0,0,0,0,0,0,0,0,0]\n",
        "  label[i] = 1\n",
        "  indx = all_indices[np.sum(y_train*np.array(label), axis = 1).astype(bool)]\n",
        "  list_clients_dataset_indices[i-5] = np.concatenate((list_clients_dataset_indices[i-5], indx[:len(indx)//5]))\n",
        "\n",
        "x_train_ch = np.expand_dims(x_train, axis=1)\n",
        "y_train_c = np.argmax(y_train, axis=1).astype(int)\n",
        "trainloader_lst = []\n",
        "for indices in list_clients_dataset_indices:\n",
        "  ds = TensorDataset(torch.Tensor(x_train_ch[indices]), torch.Tensor(y_train_c[indices]).long())\n",
        "  trainloader_lst.append(DataLoader(ds, batch_size=128, shuffle=True))\n",
        "\n",
        "x_test_pt = np.expand_dims(x_test, axis = 1)\n",
        "y_test_pt = np.argmax(y_test,axis=1).astype(int)\n",
        "dataset_test = TensorDataset(torch.Tensor(x_test_pt), torch.Tensor(y_test_pt).long())\n",
        "testloader = DataLoader(dataset_test, batch_size=1000, shuffle=False)"
      ]
    },
    {
      "cell_type": "code",
      "execution_count": 7,
      "metadata": {},
      "outputs": [
        {
          "data": {
            "image/png": "[encoded data removed]",
            "text/plain": [
              "<Figure size 1400x500 with 6 Axes>"
            ]
          },
          "metadata": {},
          "output_type": "display_data"
        }
      ],
      "source": [
        "client_stats=[[]for i in range(5)]\n",
        "for client in range(5):\n",
        "    for category in range(10):\n",
        "        client_indices=list_clients_dataset_indices[client]\n",
        "        count=0\n",
        "        for i in client_indices:\n",
        "            if y_train_c[i]==category:\n",
        "                count+=1\n",
        "        client_stats[client].append(count)\n",
        "\n",
        "axs = fig, axs = plt.subplots(2, 3, figsize=(14, 5))\n",
        "for i,client in enumerate(client_stats):\n",
        "    axs[i//3][i%3].bar(range(10),client)\n",
        "    axs[i//3][i%3].set_title('Client '+str(i))\n",
        "    axs[i//3][i%3].set_xticks(range(10))\n",
        "    axs[i//3][i%3].set_xticklabels(range(10))\n",
        "    axs[i//3][i%3].set_xlabel('Category')\n",
        "    axs[i//3][i%3].set_ylabel('Number of samples')\n",
        "\n",
        "plt.tight_layout()\n",
        "plt.show()\n"
      ]
    },
    {
      "cell_type": "markdown",
      "metadata": {
        "id": "axJ7G-v3bodq"
      },
      "source": [
        "## 2. Train the FL Model\n",
        "<a id='section_3'></a>"
      ]
    },
    {
      "cell_type": "code",
      "execution_count": 8,
      "metadata": {
        "id": "OidAXsNCbodq"
      },
      "outputs": [],
      "source": [
        "num_of_repeats = 1\n",
        "num_fl_rounds = 50\n",
        "\n",
        "#fusion_types = ['FedAvg','Retrain']\n",
        "fusion_types = ['FedAvg']\n",
        "fusion_types_unlearn = ['Retrain', 'Unlearn']\n",
        "\n",
        "num_updates_in_epoch = None\n",
        "num_local_epochs = 1\n",
        "\n",
        "dist_Retrain = {}\n",
        "loss_fed = {}\n",
        "grad_fed = {}\n",
        "clean_accuracy = {}\n",
        "pois_accuracy = {}\n",
        "for fusion_key in fusion_types:\n",
        "    loss_fed[fusion_key] = np.zeros(num_fl_rounds)\n",
        "    grad_fed[fusion_key] = np.zeros(num_fl_rounds)\n",
        "    clean_accuracy[fusion_key] = np.zeros(num_fl_rounds)\n",
        "    pois_accuracy[fusion_key] = np.zeros(num_fl_rounds)\n",
        "    if fusion_key != 'Retrain':\n",
        "        dist_Retrain[fusion_key] = np.zeros(num_fl_rounds)"
      ]
    },
    {
      "cell_type": "markdown",
      "metadata": {
        "id": "eK4uFm0mbodq"
      },
      "source": [
        "Train and evaluate the FL Model"
      ]
    },
    {
      "cell_type": "code",
      "execution_count": 9,
      "metadata": {
        "id": "69A_c5jVbodq"
      },
      "outputs": [],
      "source": [
        "class FLNet2(nn.Sequential):\n",
        "    def __init__(self):\n",
        "        super(FLNet2, self).__init__(\n",
        "            nn.Conv2d(1, 32, 5, padding=2),\n",
        "            nn.ReLU(),\n",
        "            nn.MaxPool2d(2),\n",
        "            nn.Conv2d(32, 64, 5, padding=2),\n",
        "            nn.ReLU(),\n",
        "            nn.MaxPool2d(2),\n",
        "            nn.Flatten(),\n",
        "            nn.Linear(64 * 7 * 7, 512),\n",
        "            nn.ReLU(),\n",
        "            nn.Linear(512, 10)\n",
        "        )"
      ]
    },
    {
      "cell_type": "code",
      "execution_count": 10,
      "metadata": {},
      "outputs": [
        {
          "data": {
            "text/plain": [
              "<All keys matched successfully>"
            ]
          },
          "execution_count": 10,
          "metadata": {},
          "output_type": "execute_result"
        }
      ],
      "source": [
        "saved_model = FLNet2()\n",
        "saved_model.load_state_dict(torch.load(load_path, weights_only=True))"
      ]
    },
    {
      "cell_type": "code",
      "execution_count": 11,
      "metadata": {
        "id": "ywoEitAZbodq"
      },
      "outputs": [],
      "source": [
        "def create_dataloader(idx_client, _list_trainloader, percentage_to_remove):\n",
        "    list_trainloader = copy.deepcopy(_list_trainloader)\n",
        "    client_dataset = list_trainloader[idx_client].dataset\n",
        "\n",
        "    num_samples_to_remove = int(len(client_dataset) * percentage_to_remove)\n",
        "    num_samples_to_keep = len(client_dataset) - num_samples_to_remove\n",
        "    \n",
        "    if num_samples_to_keep != 0:\n",
        "        new_dataset = TensorDataset(client_dataset[:num_samples_to_keep][0], client_dataset[:num_samples_to_keep][1])\n",
        "        list_trainloader[idx_client] = DataLoader(new_dataset, batch_size=128)\n",
        "\n",
        "    else:\n",
        "        list_trainloader.pop(idx_client)\n",
        "\n",
        "    return list_trainloader, num_samples_to_remove"
      ]
    },
    {
      "cell_type": "code",
      "execution_count": 12,
      "metadata": {},
      "outputs": [],
      "source": [
        "# Make sure you have the proper imports\n",
        "from backpack import backpack, extend\n",
        "from backpack.extensions import DiagHessian\n",
        "\n",
        "trainloader_list = [DataLoader(dloader.dataset, batch_size=128) for dloader in trainloader_lst]\n",
        "#trainloader_list_removed, num_removed = create_dataloader(party_to_be_erased, trainloader_list, 0.8) \n",
        "\n",
        "#Use the model if coming from the training or load if you have it downloaded\n",
        "final_model = copy.deepcopy(saved_model)\n",
        "final_model = extend(final_model)\n",
        "\n",
        "criterion = nn.CrossEntropyLoss()\n",
        "criterion = extend(criterion)\n",
        "\n",
        "special_weight = 0.01\n",
        "\n",
        "# Calculate equal weights for others\n",
        "other_weight = 1\n",
        "\n",
        "# Create weights list\n",
        "weights = [other_weight] * len(trainloader_list)\n",
        "weights[party_to_be_erased] = special_weight\n"
      ]
    },
    {
      "cell_type": "markdown",
      "metadata": {},
      "source": [
        "Compute Hessians"
      ]
    },
    {
      "cell_type": "code",
      "execution_count": 16,
      "metadata": {},
      "outputs": [],
      "source": [
        "def compute_diag_hessian_bis(model, criterion, inputs, targets, device='cpu'):\n",
        "    inputs = inputs.to(device)\n",
        "    targets = targets.to(device)\n",
        "\n",
        "    model.zero_grad()\n",
        "    outputs = model(inputs)\n",
        "    loss = criterion(outputs, targets)\n",
        "\n",
        "    with backpack(DiagHessian()):\n",
        "        loss.backward()\n",
        "\n",
        "    diag_hessian_params = {}\n",
        "    for name, param in model.named_parameters():\n",
        "        if hasattr(param, 'diag_h'):\n",
        "            if param.requires_grad:\n",
        "                diag_hessian_params[name] = param.diag_h.clone().detach()\n",
        "                del param.diag_h\n",
        "\n",
        "    return diag_hessian_params\n",
        "\n",
        "def calculate_accumulated_diag_hessian_bis(loader, model, criterion, weights=None):\n",
        "    device = 'cuda' if torch.cuda.is_available() else 'cpu'\n",
        "    model = model.to(device)\n",
        "    \n",
        "    # Store Hessians and batch counts per client\n",
        "    total_batches = 0\n",
        "\n",
        "    # Calculate diagonal Hessian for each client\n",
        "    accumulated_diag_h = {}\n",
        "    \n",
        "    for batch_idx, (inputs, targets) in enumerate(loader):\n",
        "        # Compute diagonal Hessian for this batch\n",
        "        diag_h = compute_diag_hessian_bis(model, criterion, inputs, targets, device=device)\n",
        "        \n",
        "        # Accumulate values\n",
        "        for name, value in diag_h.items():\n",
        "            if name not in accumulated_diag_h:\n",
        "                accumulated_diag_h[name] = value\n",
        "            else:\n",
        "                accumulated_diag_h[name] += value\n",
        "        \n",
        "        total_batches += 1\n",
        "    \n",
        "    # Compute average of client Hessians\n",
        "    avg_hessian = {}\n",
        "    for name in accumulated_diag_h.keys():\n",
        "        avg_hessian[name] = accumulated_diag_h[name]/ total_batches\n",
        "    \n",
        "    return avg_hessian\n"
      ]
    },
    {
      "cell_type": "code",
      "execution_count": 17,
      "metadata": {},
      "outputs": [],
      "source": [
        "def compute_diag_hessian_naive_subset(model, criterion, dataloader, device='cpu'):\n",
        "    \"\"\"\n",
        "    Compute the diagonal of the Hessian for a subset of parameters (here: \"0.weight\", \"3.weight\", \"3.bias\")\n",
        "    using a naive approach. Only the allowed parameters are used in the Hessian computation,\n",
        "    reducing memory usage.\n",
        "    \"\"\"\n",
        "    # Define the allowed parameter names:\n",
        "    allowed_names = [\"0.weight\"]#[\"0.weight\", \"3.weight\", \"9.weight\"]\n",
        "    \n",
        "    device = 'cuda' if torch.cuda.is_available() else device\n",
        "    model.to(device)\n",
        "\n",
        "    accumulated_diag_h = {}\n",
        "    total_batches = 0\n",
        "    \n",
        "    pbar = tqdm(total=len(dataloader), desc=\"Computing Hessian Diagonal\")\n",
        "    for batch_idx, (inputs, targets) in enumerate(dataloader):\n",
        "        inputs, targets = inputs.to(device), targets.to(device)\n",
        "        model.zero_grad()\n",
        "        outputs = model(inputs)\n",
        "        loss = criterion(outputs, targets)\n",
        "        \n",
        "        # Filter model parameters to only those in allowed_names\n",
        "        allowed_named_params = [(name, param) for name, param in model.named_parameters() if name in allowed_names]\n",
        "        allowed_params = [param for name, param in allowed_named_params]\n",
        "        \n",
        "        # Compute first derivatives for the allowed parameters with create_graph=True for second derivatives.\n",
        "        grads = torch.autograd.grad(loss, allowed_params, create_graph=True)\n",
        "\n",
        "        diag_hessian = {}\n",
        "        \n",
        "        # For each allowed parameter, compute the element-wise second derivative (diagonal).\n",
        "        for (name, param), grad_param in zip(allowed_named_params, grads):\n",
        "            if not param.requires_grad:\n",
        "                continue\n",
        "\n",
        "            grad_param_flat = grad_param.contiguous().view(-1)\n",
        "            diag_elements = []\n",
        "\n",
        "            for i in range(grad_param_flat.size(0)):\n",
        "                # Compute the second derivative of grad_param_flat[i] with respect to param.\n",
        "                second_deriv = torch.autograd.grad(\n",
        "                    grad_param_flat[i],\n",
        "                    param,\n",
        "                    retain_graph=True\n",
        "                )[0]\n",
        "                diag_i = second_deriv.view(-1)[i]\n",
        "                diag_elements.append(diag_i.detach())\n",
        "\n",
        "            diag_tensor = torch.stack(diag_elements).view(param.size())\n",
        "            diag_hessian[name] = diag_tensor.cpu()\n",
        "\n",
        "        for name, value in diag_hessian.items():\n",
        "            if name not in accumulated_diag_h:\n",
        "                accumulated_diag_h[name] = value.clone()\n",
        "            else:\n",
        "                accumulated_diag_h[name] += value\n",
        "\n",
        "        total_batches += 1\n",
        "        pbar.update(1)\n",
        "    pbar.close()\n",
        "\n",
        "    # Compute average of client Hessians\n",
        "    avg_hessian = {}\n",
        "    for name in accumulated_diag_h.keys():\n",
        "        avg_hessian[name] = accumulated_diag_h[name]/ total_batches\n",
        "\n",
        "    return avg_hessian"
      ]
    },
    {
      "cell_type": "code",
      "execution_count": 18,
      "metadata": {},
      "outputs": [],
      "source": [
        "torch.cuda.empty_cache()\n",
        "#Computation of Hessian for Dataloader 0 with Backpack\n",
        "hes_0 = calculate_accumulated_diag_hessian_bis(trainloader_list[0], final_model, criterion)\n"
      ]
    },
    {
      "cell_type": "code",
      "execution_count": 19,
      "metadata": {},
      "outputs": [
        {
          "name": "stderr",
          "output_type": "stream",
          "text": [
            "Computing Hessian Diagonal: 100%|██████████| 57/57 [06:15<00:00,  6.59s/it]\n"
          ]
        }
      ],
      "source": [
        "#Computation of Hessian for Dataloader 0 with True Hessian\n",
        "final_model = copy.deepcopy(saved_model)\n",
        "criterion = nn.CrossEntropyLoss()\n",
        "\n",
        "diag_hess = compute_diag_hessian_naive_subset(final_model, criterion, trainloader_list[0], device='cuda')\n"
      ]
    },
    {
      "cell_type": "code",
      "execution_count": 20,
      "metadata": {},
      "outputs": [
        {
          "name": "stdout",
          "output_type": "stream",
          "text": [
            "tensor(1.9991e-16)\n",
            "tensor([1.8303e-05, 9.4111e-05, 2.4071e-05, 9.1607e-06, 1.6310e-05, 2.5489e-05,\n",
            "        1.9875e-05, 1.6474e-05, 5.6415e-05, 2.3620e-05, 1.9699e-05, 9.1895e-05,\n",
            "        5.7654e-05, 2.8613e-05, 1.5862e-05, 2.9592e-05, 3.1000e-05, 2.0570e-04,\n",
            "        1.8633e-05, 4.0282e-05, 4.0537e-05, 5.5056e-05, 2.9949e-05, 1.3582e-05,\n",
            "        2.0634e-05, 3.9992e-05, 1.7402e-05, 6.4195e-05, 5.9748e-05, 1.2415e-05,\n",
            "        3.5736e-05, 9.0496e-05])\n"
          ]
        }
      ],
      "source": [
        "import torch.nn.functional as F\n",
        "param_name = \"0.weight\"\n",
        "\n",
        "mse = F.mse_loss(hes_0[param_name].cpu(), diag_hess[param_name].cpu(), reduction='none')  # shape: [32, 1, 5, 5]\n",
        "per_sample_mse = mse.view(32, -1).mean(dim=1)  \n",
        "print(per_sample_mse.mean())\n",
        "\n",
        "rel_error = (hes_0[param_name].cpu() - diag_hess[param_name].cpu()).abs() / (diag_hess[param_name].abs())  # shape: [32, 1, 5, 5]\n",
        "rel_error_per_sample = rel_error.view(32, -1).mean(dim=1)\n",
        "print(rel_error_per_sample)"
      ]
    },
    {
      "cell_type": "code",
      "execution_count": 21,
      "metadata": {},
      "outputs": [
        {
          "data": {
            "image/png": "[encoded data removed]",
            "text/plain": [
              "<Figure size 640x480 with 1 Axes>"
            ]
          },
          "metadata": {},
          "output_type": "display_data"
        }
      ],
      "source": [
        "flat_a = (hes_0[param_name].cpu() - diag_hess[param_name].cpu())/ diag_hess[param_name]                                                         \n",
        "flat_a = flat_a.view(-1).cpu().numpy()\n",
        "# Plot histograms\n",
        "plt.hist(flat_a, bins=50, alpha=0.5, label='Rel Error')\n",
        "plt.legend()\n",
        "plt.title(\"Histogram of Tensor Values\")\n",
        "plt.xlabel(\"Value\")\n",
        "plt.ylabel(\"Frequency\")\n",
        "plt.grid(True)\n",
        "plt.show()"
      ]
    }
  ],
  "metadata": {
    "accelerator": "GPU",
    "colab": {
      "collapsed_sections": [
        "9GexoT5UbGQl"
      ],
      "gpuType": "T4",
      "provenance": []
    },
    "kernelspec": {
      "display_name": "fed-learn",
      "language": "python",
      "name": "python3"
    },
    "language_info": {
      "codemirror_mode": {
        "name": "ipython",
        "version": 3
      },
      "file_extension": ".py",
      "mimetype": "text/x-python",
      "name": "python",
      "nbconvert_exporter": "python",
      "pygments_lexer": "ipython3",
      "version": "3.11.9"
    }
  },
  "nbformat": 4,
  "nbformat_minor": 0
}
