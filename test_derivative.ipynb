{
 "cells": [
  {
   "cell_type": "code",
   "execution_count": 1,
   "metadata": {},
   "outputs": [],
   "source": [
    "import torch\n",
    "import torch.nn as nn\n",
    "import torch.optim as optim\n",
    "import numpy as np\n",
    "import matplotlib.pyplot as plt\n",
    "from torch.utils.data import DataLoader, TensorDataset\n",
    "from backpack import backpack, extend\n",
    "from backpack.extensions import DiagHessian"
   ]
  },
  {
   "cell_type": "code",
   "execution_count": 2,
   "metadata": {},
   "outputs": [],
   "source": [
    "# Create base images (happy, sad, neutral faces)\n",
    "def create_base_images():\n",
    "    base_images = np.zeros((3, 16, 16))\n",
    "    # Happy face (index 0)\n",
    "    base_images[0, 4, 4] = base_images[0, 4, 11] = 1  # Eyes\n",
    "    base_images[0, 10, 5:11] = 1  # Smile (curved upwards)\n",
    "    base_images[0, 11, 4] = base_images[0, 11, 11] = 1  # Smile curve corners\n",
    "    base_images[0, 12, 3] = base_images[0, 12, 12] = 1  # Smile curve corners\n",
    "    \n",
    "    # Sad face (index 1)\n",
    "    base_images[1, 4, 4] = base_images[1, 4, 11] = 1  # Eyes\n",
    "    base_images[1, 11, 5:11] = 1  # Frown (curved downwards)\n",
    "    base_images[1, 10, 4] = base_images[1, 10, 11] = 1  # Smile curve corners\n",
    "    base_images[1, 9, 3] = base_images[1, 9, 12] = 1  # Smile curve corners\n",
    "\n",
    "    # Neutral face (index 2)\n",
    "    base_images[2, 4, 4] = base_images[2, 4, 11] = 1  # Eyes\n",
    "    base_images[2, 10, 4:12] = 1  # Straight line for mouth\n",
    "    \n",
    "    return base_images\n",
    "\n",
    "# Generate noisy dataset\n",
    "def generate_dataset(base_images, label=-1, num_samples=3000, noise_level=0.2):\n",
    "    images = []\n",
    "    labels = []\n",
    "    in_label=label\n",
    "    for i in range(num_samples):\n",
    "        if in_label == -1:\n",
    "            label = np.random.randint(0, 3)\n",
    "        img = base_images[label] + noise_level * np.random.randn(16, 16)\n",
    "        img = np.clip(img, 0, 1)  # Keep pixel values between 0 and 1\n",
    "        images.append(img)\n",
    "        labels.append(label)\n",
    "    return torch.tensor(images, dtype=torch.float32).unsqueeze(1), torch.tensor(labels, dtype=torch.long)\n",
    "\n",
    "# Define simple CNN model\n",
    "class SimpleCNN(nn.Module):\n",
    "    def __init__(self):\n",
    "        super(SimpleCNN, self).__init__()\n",
    "        self.conv1 = nn.Conv2d(1, 8, kernel_size=3, padding=1)\n",
    "        self.conv2 = nn.Conv2d(8, 16, kernel_size=3, padding=1)\n",
    "        self.fc1 = nn.Linear(16 * 16 * 16, 64)\n",
    "        self.fc2 = nn.Linear(64, 3)  # 3 classes\n",
    "    \n",
    "    def forward(self, x):\n",
    "        x = torch.relu(self.conv1(x))\n",
    "        x = torch.relu(self.conv2(x))\n",
    "        x = x.view(x.size(0), -1)  # Flatten\n",
    "        x = torch.relu(self.fc1(x))\n",
    "        x = self.fc2(x)\n",
    "        return x\n",
    "    \n",
    "# Compute Hessian\n",
    "def compute_hessian(model, criterion, data, target):\n",
    "    model.zero_grad()\n",
    "    output = model(data)\n",
    "    loss = criterion(output, target)\n",
    "    grad_params = torch.autograd.grad(loss, model.parameters(), create_graph=True)\n",
    "    hessian = []\n",
    "    for grad in grad_params:\n",
    "        grad_vector = grad.view(-1)\n",
    "        row = []\n",
    "        for g in grad_vector:\n",
    "            second_derivative = torch.autograd.grad(g, model.parameters(), retain_graph=True)\n",
    "            row.append(torch.cat([sd.contiguous().view(-1) for sd in second_derivative]))\n",
    "        hessian.append(torch.stack(row))\n",
    "    return torch.cat(hessian, dim=0)\n",
    "\n",
    "# Training function\n",
    "def train(model, train_loader, criterion, optimizer, epochs=5):\n",
    "    for epoch in range(epochs):\n",
    "        for images, labels in train_loader:\n",
    "            optimizer.zero_grad()\n",
    "            outputs = model(images)\n",
    "            loss = criterion(outputs, labels)\n",
    "            loss.backward()\n",
    "            optimizer.step()\n",
    "        print(f'Epoch [{epoch+1}/{epochs}], Loss: {loss.item():.4f}')\n"
   ]
  },
  {
   "cell_type": "code",
   "execution_count": 3,
   "metadata": {},
   "outputs": [
    {
     "name": "stderr",
     "output_type": "stream",
     "text": [
      "C:\\Users\\loren\\AppData\\Local\\Temp\\ipykernel_1680\\3528062821.py:34: UserWarning: Creating a tensor from a list of numpy.ndarrays is extremely slow. Please consider converting the list to a single numpy.ndarray with numpy.array() before converting to a tensor. (Triggered internally at C:\\cb\\pytorch_1000000000000\\work\\torch\\csrc\\utils\\tensor_new.cpp:277.)\n",
      "  return torch.tensor(images, dtype=torch.float32).unsqueeze(1), torch.tensor(labels, dtype=torch.long)\n"
     ]
    },
    {
     "name": "stdout",
     "output_type": "stream",
     "text": [
      "Epoch [1/5], Loss: 0.0027\n",
      "Epoch [2/5], Loss: 0.0006\n",
      "Epoch [3/5], Loss: 0.0001\n",
      "Epoch [4/5], Loss: 0.0004\n",
      "Epoch [5/5], Loss: 0.0001\n"
     ]
    }
   ],
   "source": [
    "\n",
    "# Main execution\n",
    "\n",
    "base_images = create_base_images()\n",
    "n_samples = 3000\n",
    "images_h, labels_h = generate_dataset(base_images, label=0, num_samples=n_samples//3)\n",
    "images_s, labels_s = generate_dataset(base_images, label=1, num_samples=n_samples//3)\n",
    "images_n, labels_n = generate_dataset(base_images, label=2, num_samples=n_samples//3)\n",
    "train_dataset_h = TensorDataset(images_h, labels_h)\n",
    "train_dataset_s = TensorDataset(images_s, labels_s)\n",
    "train_dataset_n = TensorDataset(images_n, labels_n)\n",
    "train_dataset = train_dataset_h + train_dataset_s + train_dataset_n\n",
    "train_loader = DataLoader(train_dataset, batch_size=32, shuffle=True)\n",
    "\n",
    "model = nn.Sequential(\n",
    "    nn.Conv2d(1, 8, kernel_size=3, padding=1),\n",
    "    nn.ReLU(),\n",
    "    nn.Conv2d(8, 16, kernel_size=3, padding=1),\n",
    "    nn.ReLU(),\n",
    "    nn.Flatten(),                    # Flatten the 16x16x16 feature map\n",
    "    nn.Linear(16 * 16 * 16, 64),\n",
    "    nn.ReLU(),\n",
    "    nn.Linear(64, 3)                 # 3 classes\n",
    ")\n",
    "\n",
    "model = extend(model)\n",
    "criterion = nn.CrossEntropyLoss()\n",
    "lossfunc = extend(criterion)\n",
    "optimizer = optim.Adam(model.parameters(), lr=0.001)\n",
    "\n",
    "train(model, train_loader, criterion, optimizer, epochs=5)"
   ]
  },
  {
   "cell_type": "code",
   "execution_count": 4,
   "metadata": {},
   "outputs": [
    {
     "data": {
      "image/png": "[encoded data removed]",
      "text/plain": [
       "<Figure size 640x480 with 3 Axes>"
      ]
     },
     "metadata": {},
     "output_type": "display_data"
    },
    {
     "data": {
      "image/png": "[encoded data removed]",
      "text/plain": [
       "<Figure size 640x480 with 3 Axes>"
      ]
     },
     "metadata": {},
     "output_type": "display_data"
    },
    {
     "data": {
      "image/png": "[encoded data removed]",
      "text/plain": [
       "<Figure size 640x480 with 3 Axes>"
      ]
     },
     "metadata": {},
     "output_type": "display_data"
    },
    {
     "data": {
      "image/png": "[encoded data removed]",
      "text/plain": [
       "<Figure size 640x480 with 3 Axes>"
      ]
     },
     "metadata": {},
     "output_type": "display_data"
    }
   ],
   "source": [
    "\n",
    "# Test model on some samples\n",
    "test_samples_h, _ = generate_dataset(base_images, label=0, num_samples=3)\n",
    "test_samples_s, _ = generate_dataset(base_images, label=1, num_samples=3)\n",
    "test_samples_n, _ = generate_dataset(base_images, label=2, num_samples=3)\n",
    "test_samples = torch.cat((test_samples_h, test_samples_s, test_samples_n), dim=0)\n",
    "\n",
    "with torch.no_grad():\n",
    "    predictions = model(test_samples).argmax(dim=1)\n",
    "\n",
    "# Show some test images\n",
    "for i in range(3):\n",
    "    plt.subplot(1, 5, i+1)\n",
    "    plt.imshow(base_images[i].squeeze(), cmap='gray')\n",
    "    plt.axis('off')\n",
    "plt.show()\n",
    "\n",
    "# Show some test images\n",
    "for i in range(3):\n",
    "    plt.subplot(2, 3, i+1)\n",
    "    plt.imshow(test_samples[i].squeeze(), cmap='gray')\n",
    "    plt.title(f'Pred: {predictions[i].item()}')\n",
    "    plt.axis('off')\n",
    "plt.show()\n",
    "for i in range(3):\n",
    "    plt.subplot(2, 3, i+1)\n",
    "    plt.imshow(test_samples[3+i].squeeze(), cmap='gray')\n",
    "    plt.title(f'Pred: {predictions[3+i].item()}')\n",
    "    plt.axis('off')\n",
    "plt.show()\n",
    "for i in range(3):\n",
    "    plt.subplot(2, 3, i+1)\n",
    "    plt.imshow(test_samples[6+i].squeeze(), cmap='gray')\n",
    "    plt.title(f'Pred: {predictions[6+i].item()}')\n",
    "    plt.axis('off')\n",
    "plt.show()\n"
   ]
  },
  {
   "cell_type": "code",
   "execution_count": 5,
   "metadata": {},
   "outputs": [
    {
     "name": "stdout",
     "output_type": "stream",
     "text": [
      "<class 'torch.Tensor'> torch.Size([8, 1, 3, 3])\n",
      "<class 'torch.Tensor'> torch.Size([8])\n",
      "<class 'torch.Tensor'> torch.Size([16, 8, 3, 3])\n",
      "<class 'torch.Tensor'> torch.Size([16])\n",
      "<class 'torch.Tensor'> torch.Size([64, 4096])\n",
      "<class 'torch.Tensor'> torch.Size([64])\n",
      "<class 'torch.Tensor'> torch.Size([3, 64])\n",
      "<class 'torch.Tensor'> torch.Size([3])\n"
     ]
    }
   ],
   "source": [
    "for param in model.parameters():\n",
    "    print(type(param.data), param.size())"
   ]
  },
  {
   "cell_type": "code",
   "execution_count": null,
   "metadata": {},
   "outputs": [],
   "source": [
    "model.eval()\n",
    "\n",
    "steps = 100\n",
    "hessians = []\n",
    "for i in range(steps):\n",
    "    hess_images = torch.cat([images_h,images_n,images_s[:len(images_s)//(i+1)]])\n",
    "    hess_labels = torch.cat([labels_h,labels_n,labels_s[:len(labels_s)//(i+1)]])\n",
    "    loss = lossfunc(model(hess_images), hess_labels)\n",
    "    with backpack(DiagHessian()):\n",
    "        loss.backward()\n",
    "    hessians.append([p.diag_h.clone() for p in model.parameters()])\n",
    "    for p in model.parameters():\n",
    "        if hasattr(p, 'diag_h'):\n",
    "            del p.diag_h\n",
    "\n",
    "hess_images = torch.cat([images_h,images_n])\n",
    "hess_labels = torch.cat([labels_h,labels_n])\n",
    "loss = lossfunc(model(hess_images), hess_labels)\n",
    "with backpack(DiagHessian()):\n",
    "    loss.backward()\n",
    "hessians.append([p.diag_h.clone() for p in model.parameters()])"
   ]
  },
  {
   "cell_type": "code",
   "execution_count": 7,
   "metadata": {},
   "outputs": [],
   "source": [
    "def compute_der(tensor1, tensor2):\n",
    "    #Compute first derivative integrals of FI\n",
    "    ratio = tensor2/tensor1\n",
    "    return torch.log(ratio)+ 1/2 * (1-torch.pow(ratio,2))\n",
    "\n",
    "logps = []\n",
    "for j in range(len(hessians)):\n",
    "    logps.append([-torch.log(p) for p in hessians[j]])\n",
    "\n",
    "derivs_1 = []\n",
    "for j in range(len(hessians)-1):\n",
    "    derivs_1.append([compute_der(hessians[j][i], hessians[j+1][i]) for i,_ in enumerate(hessians[j])])\n",
    "\n",
    "informations = []\n",
    "for j in range(len(derivs_1)-1):\n",
    "    informations.append([derivs_1[j+1][i] - derivs_1[j][i] for i,_ in enumerate(derivs_1[j])])\n"
   ]
  },
  {
   "cell_type": "code",
   "execution_count": 8,
   "metadata": {},
   "outputs": [
    {
     "data": {
      "image/png": "[encoded data removed]",
      "text/plain": [
       "<Figure size 640x480 with 1 Axes>"
      ]
     },
     "metadata": {},
     "output_type": "display_data"
    },
    {
     "data": {
      "image/png": "[encoded data removed]",
      "text/plain": [
       "<Figure size 640x480 with 1 Axes>"
      ]
     },
     "metadata": {},
     "output_type": "display_data"
    },
    {
     "data": {
      "image/png": "[encoded data removed]",
      "text/plain": [
       "<Figure size 640x480 with 1 Axes>"
      ]
     },
     "metadata": {},
     "output_type": "display_data"
    },
    {
     "data": {
      "image/png": "[encoded data removed]",
      "text/plain": [
       "<Figure size 640x480 with 1 Axes>"
      ]
     },
     "metadata": {},
     "output_type": "display_data"
    }
   ],
   "source": [
    "import matplotlib.pyplot as plt\n",
    "\n",
    "hess = []\n",
    "\n",
    "for i in range(steps):\n",
    "    hessian_flat = torch.cat([p.flatten() for p in hessians[i]])\n",
    "    hess.append(np.average(hessian_flat))\n",
    "\n",
    "plt.plot(range(steps), hess)\n",
    "plt.show()\n",
    "\n",
    "logs = []\n",
    "for i in range(steps+1):\n",
    "    logp_flat = torch.cat([p.flatten() for p in hessians[i]])\n",
    "    logs.append(np.average(logp_flat))\n",
    "\n",
    "plt.plot(range(steps+1), logs)\n",
    "plt.show()\n",
    "\n",
    "\n",
    "deriv = []\n",
    "for i in range(steps-1):\n",
    "    derivs_flat = torch.cat([p.flatten() for p in derivs_1[i]])\n",
    "    deriv.append(np.average(torch.nan_to_num(derivs_flat)))\n",
    "\n",
    "plt.plot(range(steps-1), deriv)\n",
    "plt.show()\n",
    "\n",
    "infs = []\n",
    "for i in range(steps-2):\n",
    "    infs_flat = torch.cat([p.flatten() for p in informations[i]])\n",
    "    infs.append(np.average(torch.nan_to_num(infs_flat)))\n",
    "\n",
    "plt.plot(range(steps-2), infs)\n",
    "plt.show()"
   ]
  },
  {
   "cell_type": "code",
   "execution_count": 9,
   "metadata": {},
   "outputs": [],
   "source": [
    "def evaluate_accuracy(model, dataloader):\n",
    "    model.eval()\n",
    "    correct = 0\n",
    "    total = 0\n",
    "    with torch.no_grad():\n",
    "        for inputs, targets in dataloader:\n",
    "            outputs = model(inputs)\n",
    "            _, predicted = torch.max(outputs.data, 1)\n",
    "            total += targets.size(0)\n",
    "            correct += (predicted == targets).sum().item()\n",
    "    return correct / total"
   ]
  },
  {
   "cell_type": "code",
   "execution_count": 10,
   "metadata": {},
   "outputs": [
    {
     "name": "stdout",
     "output_type": "stream",
     "text": [
      "Accuracy original model\n",
      "Accuracy on happy faces: 1.00\n",
      "Accuracy on sad faces: 1.00\n",
      "Accuracy on neutral faces: 1.00\n",
      "\n",
      "\n",
      "\n",
      "Iteration 0\n",
      "Iteration 10\n",
      "Iteration 20\n",
      "Iteration 30\n",
      "Iteration 40\n",
      "Iteration 50\n",
      "Iteration 60\n",
      "Iteration 70\n",
      "Iteration 80\n",
      "Iteration 90\n",
      "Accuracy modified model\n",
      "Accuracy on happy faces: 1.00\n",
      "Variance on happy faces: 0.00\n",
      "Accuracy on sad faces: 1.00\n",
      "Variance on sad faces: 0.00\n",
      "Accuracy on neutral faces: 1.00\n",
      "Variance on neutral faces: 0.00\n"
     ]
    }
   ],
   "source": [
    "import copy\n",
    "\n",
    "acc_h = evaluate_accuracy(model, DataLoader(train_dataset_h, batch_size=32, shuffle=False))\n",
    "acc_s = evaluate_accuracy(model, DataLoader(train_dataset_s, batch_size=32, shuffle=False))\n",
    "acc_n = evaluate_accuracy(model, DataLoader(train_dataset_n, batch_size=32, shuffle=False))\n",
    "\n",
    "print(f'Accuracy original model')\n",
    "print(f'Accuracy on happy faces: {acc_h:.2f}')\n",
    "print(f'Accuracy on sad faces: {acc_s:.2f}')\n",
    "print(f'Accuracy on neutral faces: {acc_n:.2f}')\n",
    "print(f'\\n\\n')\n",
    "\n",
    "model_clone = copy.deepcopy(model)\n",
    "info = copy.deepcopy(informations[0])\n",
    "noise_std = 1\n",
    "ts=0.1\n",
    "\n",
    "#Statistical analysis of the impact of the noise on the accuracy\n",
    "N=100\n",
    "acc_h_unp_list = np.zeros(N)\n",
    "acc_s_unp_list = np.zeros(N)\n",
    "acc_n_unp_list = np.zeros(N)\n",
    "\n",
    "for j in range(N):\n",
    "\n",
    "    if j%10==0:\n",
    "        print(f'Iteration {j}')\n",
    "\n",
    "    for i,p in enumerate(info):\n",
    "        info[i]=torch.nan_to_num(info[i])\n",
    "        #Set a minimum value for the information, below don't add noise\n",
    "        info[i]=torch.where(info[i]>ts,1,0)\n",
    "\n",
    "    with torch.no_grad():\n",
    "        for i,param in enumerate(model_clone.parameters()):\n",
    "            #Add noise weighting on the information carried by each parameter\n",
    "            noise = torch.randn(param.size()) * noise_std * info[i]\n",
    "            param.add_(noise)\n",
    "    acc_h_unp_list[j] = evaluate_accuracy(model_clone, DataLoader(train_dataset_h, batch_size=32, shuffle=False))\n",
    "    acc_s_unp_list[j] = evaluate_accuracy(model_clone, DataLoader(train_dataset_s, batch_size=32, shuffle=False))\n",
    "    acc_n_unp_list[j] = evaluate_accuracy(model_clone, DataLoader(train_dataset_n, batch_size=32, shuffle=False))\n",
    "\n",
    "acc_h_unp = np.average(acc_h_unp_list)\n",
    "acc_h_unp_var = np.var(acc_h_unp_list)\n",
    "acc_s_unp = np.average(acc_s_unp_list)\n",
    "acc_s_unp_var = np.var(acc_s_unp_list)\n",
    "acc_n_unp = np.average(acc_n_unp_list)\n",
    "acc_n_unp_var = np.var(acc_n_unp_list)\n",
    "\n",
    "print(f'Accuracy modified model')\n",
    "print(f'Accuracy on happy faces: {acc_h_unp:.2f}')\n",
    "print(f'Variance on happy faces: {acc_h_unp_var:.2f}')\n",
    "print(f'Accuracy on sad faces: {acc_s_unp:.2f}')\n",
    "print(f'Variance on sad faces: {acc_s_unp_var:.2f}')\n",
    "print(f'Accuracy on neutral faces: {acc_n_unp:.2f}')\n",
    "print(f'Variance on neutral faces: {acc_n_unp_var:.2f}')\n"
   ]
  }
 ],
 "metadata": {
  "kernelspec": {
   "display_name": "pytorch",
   "language": "python",
   "name": "pytorch"
  },
  "language_info": {
   "codemirror_mode": {
    "name": "ipython",
    "version": 3
   },
   "file_extension": ".py",
   "mimetype": "text/x-python",
   "name": "python",
   "nbconvert_exporter": "python",
   "pygments_lexer": "ipython3",
   "version": "3.11.9"
  }
 },
 "nbformat": 4,
 "nbformat_minor": 2
}
