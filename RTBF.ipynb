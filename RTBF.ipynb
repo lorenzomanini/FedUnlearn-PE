{
  "cells": [
    {
      "cell_type": "code",
      "execution_count": 86,
      "metadata": {
        "id": "KXjLp3FDbodi"
      },
      "outputs": [],
      "source": [
        "import torch\n",
        "from torch import nn\n",
        "import torch.nn.functional as F\n",
        "from torch.utils.data import DataLoader, Dataset, TensorDataset\n",
        "import numpy as np\n",
        "\n",
        "import matplotlib\n",
        "import matplotlib.pyplot as plt\n",
        "import pandas as pd\n",
        "\n",
        "from art.utils import load_mnist, preprocess\n",
        "\n",
        "import copy\n",
        "from collections import defaultdict\n",
        "import itertools\n",
        "import math\n",
        "#from pyhessian import hessian\n",
        "\n",
        "from utils.model import FLNet\n",
        "from utils.local_train import LocalTraining\n",
        "from utils.utils import Utils\n",
        "from utils.fusion import Fusion, FusionAvg, FusionRetrain\n",
        "\n",
        "#seeds\n",
        "torch.manual_seed(0)\n",
        "np.random.seed(0)"
      ]
    },
    {
      "cell_type": "markdown",
      "metadata": {
        "id": "mumWmLPlbodk"
      },
      "source": [
        "#### FL Fusion Class Selection"
      ]
    },
    {
      "cell_type": "code",
      "execution_count": 87,
      "metadata": {
        "id": "MQW6Jsrjbodk"
      },
      "outputs": [],
      "source": [
        "def FL_round_fusion_selection(num_parties, fusion_key='FedAvg'):\n",
        "\n",
        "    fusion_class_dict = {\n",
        "        'FedAvg': FusionAvg(num_parties),\n",
        "        'Retrain': FusionRetrain(num_parties),\n",
        "        'Unlearn': FusionAvg(num_parties)\n",
        "        }\n",
        "\n",
        "    return fusion_class_dict[fusion_key]"
      ]
    },
    {
      "cell_type": "markdown",
      "metadata": {
        "id": "XuWPkVgIbodl"
      },
      "source": [
        "#### Set up No. of Parties, Party to be Erased, and Attack Parameters"
      ]
    },
    {
      "cell_type": "code",
      "execution_count": 88,
      "metadata": {
        "colab": {
          "base_uri": "https://localhost:8080/"
        },
        "id": "blwIyJDJbodl",
        "outputId": "753edb79-71a0-4ff1-abe8-b8c5e2da337c"
      },
      "outputs": [
        {
          "name": "stdout",
          "output_type": "stream",
          "text": [
            "Number of samples erased party: 12000\n",
            "Number of samples other party: 12000\n"
          ]
        }
      ],
      "source": [
        "num_parties = 5\n",
        "scale = 1\n",
        "\n",
        "party_to_be_erased = 0\n",
        "num_samples_erased_party = int(60000 / num_parties * scale)\n",
        "num_samples_per_party = int((60000 - num_samples_erased_party)/(num_parties - 1))\n",
        "print('Number of samples erased party:', num_samples_erased_party)\n",
        "print('Number of samples other party:', num_samples_per_party)"
      ]
    },
    {
      "cell_type": "markdown",
      "metadata": {
        "id": "2zidgMsibodl"
      },
      "source": [
        "### 2. Load data\n",
        "<a id='section_2'></a>"
      ]
    },
    {
      "cell_type": "markdown",
      "metadata": {
        "id": "zDbDjBf6bodl"
      },
      "source": [
        "**Note:** We use the backdoor triggers (Gu et al., 2017) as an effective way to evaluate the performance of unlearning methods. In particular, the target client uses a dataset with a certain fraction of images which have a backdoor trigger inserted in them. Thus, the global FL model becomes susceptible to the backdoor trigger. Then, a successful unlearning process should produce a model that reduces the accuracy on the images with the backdoor trigger, while\n",
        "maintaining a good performance on regular (clean) images. Note that we use the backdoor triggers as a way to evaluate the performance of unlearning methods; we do not consider any malicious client."
      ]
    },
    {
      "cell_type": "markdown",
      "metadata": {
        "id": "2LL17dd2bodm"
      },
      "source": [
        "Load ART"
      ]
    },
    {
      "cell_type": "code",
      "execution_count": 89,
      "metadata": {
        "id": "Od4P82QPbodm"
      },
      "outputs": [],
      "source": [
        "\n",
        "import art\n",
        "from art.attacks.poisoning import PoisoningAttackBackdoor, PoisoningAttackCleanLabelBackdoor\n",
        "from art.attacks.poisoning.perturbations import add_pattern_bd"
      ]
    },
    {
      "cell_type": "markdown",
      "metadata": {
        "id": "uBijHLvfbodm"
      },
      "source": [
        "Load MNIST from ART"
      ]
    },
    {
      "cell_type": "code",
      "execution_count": 90,
      "metadata": {
        "id": "g60G9SbSbodm"
      },
      "outputs": [],
      "source": [
        "(x_raw, y_raw), (x_raw_test, y_raw_test), min_, max_ = load_mnist(raw=True)\n",
        "\n",
        "x_train, y_train = preprocess(x_raw, y_raw)\n",
        "x_test, y_test = preprocess(x_raw_test, y_raw_test)\n",
        "\n",
        "n_train = np.shape(y_train)[0]\n",
        "shuffled_indices = np.arange(n_train)\n",
        "np.random.shuffle(shuffled_indices)\n",
        "x_train = x_train[shuffled_indices]\n",
        "y_train = y_train[shuffled_indices]"
      ]
    },
    {
      "cell_type": "markdown",
      "metadata": {},
      "source": [
        "Create Trainloader\n",
        "\n",
        "In this Notebook we are going to create it by the following principle:\n",
        " - Each client will have 50% of it's dataset given by classes common among all the clients\n",
        " - Remaining 50% will be given to each client and will be different among different clients\n",
        "\n",
        "Example:\n",
        "client 3 will have 50% given by the labels: [0,1,2,3,4]. 50% will be with data coming just from the label [7]"
      ]
    },
    {
      "cell_type": "code",
      "execution_count": 91,
      "metadata": {
        "id": "nTXoPOPqlrEH"
      },
      "outputs": [],
      "source": [
        "all_indices = np.arange(len(y_train))\n",
        "i = all_indices[np.sum(y_train*np.array([1,1,1,1,1,0,0,0,0,0]), axis = 1).astype(bool)]\n",
        "list_indices = np.split(i[:5*(len(i)//5)], 5)"
      ]
    },
    {
      "cell_type": "code",
      "execution_count": 92,
      "metadata": {
        "id": "FXUlOvSu-L2Q"
      },
      "outputs": [],
      "source": [
        "for j in range(5,10):\n",
        "  label = [0,0,0,0,0,0,0,0,0,0]\n",
        "  label[j] = 1\n",
        "  indx = all_indices[np.sum(y_train*np.array(label), axis = 1).astype(bool)]\n",
        "  list_indices[j-5] = np.concatenate((list_indices[j-5], all_indices[indx]))"
      ]
    },
    {
      "cell_type": "code",
      "execution_count": 93,
      "metadata": {
        "colab": {
          "base_uri": "https://localhost:8080/"
        },
        "id": "dKbGktX4H0DS",
        "outputId": "9486cd27-c920-45d9-da46-ec079a438c4d"
      },
      "outputs": [
        {
          "name": "stdout",
          "output_type": "stream",
          "text": [
            "(60000, 1, 28, 28)\n",
            "(60000,)\n"
          ]
        }
      ],
      "source": [
        "x_train_ch = np.expand_dims(x_train, axis=1)\n",
        "y_train_c = np.argmax(y_train, axis=1).astype(int)\n",
        "print(x_train_ch.shape)\n",
        "print(y_train_c.shape)\n",
        "trainloader_lst = []\n",
        "for indices in list_indices:\n",
        "  ds = TensorDataset(torch.Tensor(x_train_ch[indices]), torch.Tensor(y_train_c[indices]).long())\n",
        "  trainloader_lst.append(DataLoader(ds, batch_size=128, shuffle=True))"
      ]
    },
    {
      "cell_type": "code",
      "execution_count": 94,
      "metadata": {
        "colab": {
          "base_uri": "https://localhost:8080/"
        },
        "id": "7YJavzXmbEHJ",
        "outputId": "91965374-afd9-423a-9b3b-465f01b143bc"
      },
      "outputs": [
        {
          "name": "stdout",
          "output_type": "stream",
          "text": [
            "(10000, 1, 28, 28)\n",
            "(10000,)\n"
          ]
        }
      ],
      "source": [
        "x_test_pt = np.expand_dims(x_test, axis = 1)\n",
        "y_test_pt = np.argmax(y_test,axis=1).astype(int)\n",
        "print(x_test_pt.shape)\n",
        "print(y_test_pt.shape)\n",
        "dataset_test = TensorDataset(torch.Tensor(x_test_pt), torch.Tensor(y_test_pt).long())\n",
        "testloader = DataLoader(dataset_test, batch_size=1000, shuffle=False)"
      ]
    },
    {
      "cell_type": "markdown",
      "metadata": {
        "id": "axJ7G-v3bodq"
      },
      "source": [
        "## 2. Train the FL Model\n",
        "<a id='section_3'></a>"
      ]
    },
    {
      "cell_type": "code",
      "execution_count": 95,
      "metadata": {
        "id": "OidAXsNCbodq"
      },
      "outputs": [],
      "source": [
        "num_of_repeats = 1\n",
        "num_fl_rounds = 50\n",
        "\n",
        "#fusion_types = ['FedAvg','Retrain']\n",
        "fusion_types = ['FedAvg']\n",
        "fusion_types_unlearn = ['Retrain', 'Unlearn']\n",
        "\n",
        "num_updates_in_epoch = None\n",
        "num_local_epochs = 1\n",
        "\n",
        "dist_Retrain = {}\n",
        "loss_fed = {}\n",
        "grad_fed = {}\n",
        "clean_accuracy = {}\n",
        "pois_accuracy = {}\n",
        "for fusion_key in fusion_types:\n",
        "    loss_fed[fusion_key] = np.zeros(num_fl_rounds)\n",
        "    grad_fed[fusion_key] = np.zeros(num_fl_rounds)\n",
        "    clean_accuracy[fusion_key] = np.zeros(num_fl_rounds)\n",
        "    pois_accuracy[fusion_key] = np.zeros(num_fl_rounds)\n",
        "    if fusion_key != 'Retrain':\n",
        "        dist_Retrain[fusion_key] = np.zeros(num_fl_rounds)"
      ]
    },
    {
      "cell_type": "markdown",
      "metadata": {
        "id": "eK4uFm0mbodq"
      },
      "source": [
        "Train and evaluate the FL Model"
      ]
    },
    {
      "cell_type": "code",
      "execution_count": 96,
      "metadata": {
        "id": "69A_c5jVbodq"
      },
      "outputs": [],
      "source": [
        "class FLNet2(nn.Sequential):\n",
        "    def __init__(self):\n",
        "        super(FLNet2, self).__init__(\n",
        "            nn.Conv2d(1, 32, 5, padding=2),\n",
        "            nn.ReLU(),\n",
        "            nn.MaxPool2d(2),\n",
        "            nn.Conv2d(32, 64, 5, padding=2),\n",
        "            nn.ReLU(),\n",
        "            nn.MaxPool2d(2),\n",
        "            nn.Flatten(),\n",
        "            nn.Linear(64 * 7 * 7, 512),\n",
        "            nn.ReLU(),\n",
        "            nn.Linear(512, 10)\n",
        "        )"
      ]
    },
    {
      "cell_type": "code",
      "execution_count": 25,
      "metadata": {
        "colab": {
          "base_uri": "https://localhost:8080/"
        },
        "id": "a4fZ8c9mbodq",
        "outputId": "1dfb2bbd-7403-45d7-aadd-f20de824e6ba"
      },
      "outputs": [
        {
          "ename": "TypeError",
          "evalue": "LocalTraining.train() got an unexpected keyword argument 'device'",
          "output_type": "error",
          "traceback": [
            "\u001b[1;31m---------------------------------------------------------------------------\u001b[0m",
            "\u001b[1;31mTypeError\u001b[0m                                 Traceback (most recent call last)",
            "Cell \u001b[1;32mIn[25], line 29\u001b[0m\n\u001b[0;32m     27\u001b[0m \u001b[38;5;28;01melse\u001b[39;00m:\n\u001b[0;32m     28\u001b[0m     model \u001b[38;5;241m=\u001b[39m copy\u001b[38;5;241m.\u001b[39mdeepcopy(current_model)\u001b[38;5;241m.\u001b[39mto(device)\n\u001b[1;32m---> 29\u001b[0m     model_update, party_loss \u001b[38;5;241m=\u001b[39m local_training\u001b[38;5;241m.\u001b[39mtrain(model\u001b[38;5;241m=\u001b[39mmodel,\n\u001b[0;32m     30\u001b[0m                                 trainloader\u001b[38;5;241m=\u001b[39mtrainloader_lst[party_id],\n\u001b[0;32m     31\u001b[0m                                 device \u001b[38;5;241m=\u001b[39m device,\n\u001b[0;32m     32\u001b[0m                                 criterion\u001b[38;5;241m=\u001b[39m\u001b[38;5;28;01mNone\u001b[39;00m, opt\u001b[38;5;241m=\u001b[39m\u001b[38;5;28;01mNone\u001b[39;00m)\n\u001b[0;32m     34\u001b[0m     party_models\u001b[38;5;241m.\u001b[39mappend(copy\u001b[38;5;241m.\u001b[39mdeepcopy(model_update))\n\u001b[0;32m     35\u001b[0m     party_losses\u001b[38;5;241m.\u001b[39mappend(party_loss)\n",
            "\u001b[1;31mTypeError\u001b[0m: LocalTraining.train() got an unexpected keyword argument 'device'"
          ]
        }
      ],
      "source": [
        "device = 'cuda' if torch.cuda.is_available() else 'cpu'\n",
        "party_models_dict = {}\n",
        "initial_model = FLNet2()\n",
        "model_dict = {}\n",
        "\n",
        "for fusion_key in fusion_types:\n",
        "    model_dict[fusion_key] = copy.deepcopy(initial_model.state_dict())\n",
        "\n",
        "for round_num in range(num_fl_rounds):\n",
        "    local_training = LocalTraining(num_updates_in_epoch=num_updates_in_epoch, num_local_epochs=num_local_epochs)\n",
        "\n",
        "    for fusion_key in fusion_types:\n",
        "        fusion = FL_round_fusion_selection(num_parties=num_parties, fusion_key=fusion_key)\n",
        "\n",
        "        current_model_state_dict = copy.deepcopy(model_dict[fusion_key])\n",
        "        current_model = copy.deepcopy(initial_model)\n",
        "        current_model.load_state_dict(current_model_state_dict)\n",
        "\n",
        "        ##################### Local Training Round #############################\n",
        "        party_models = []\n",
        "        party_losses = []\n",
        "        party_grad   = []        \n",
        "        for party_id in range(num_parties):\n",
        "\n",
        "            if fusion_key == 'Retrain':\n",
        "                break\n",
        "            else:\n",
        "                model = copy.deepcopy(current_model).to(device)\n",
        "                model_update, party_loss = local_training.train(model=model,\n",
        "                                            trainloader=trainloader_lst[party_id],\n",
        "                                            device = device,\n",
        "                                            criterion=None, opt=None)\n",
        "\n",
        "                party_models.append(copy.deepcopy(model_update))\n",
        "                party_losses.append(party_loss)\n",
        "\n",
        "            grad_norm = 0.0\n",
        "            for param in model_update.parameters():\n",
        "                if param.grad is not None:\n",
        "                    grad_norm += torch.norm(param.grad).item()\n",
        "        \n",
        "            party_grad.append(grad_norm)   \n",
        "        \n",
        "        grad_fed[fusion_key][round_num] += (np.mean(party_grad)/num_of_repeats) \n",
        "\n",
        "        loss_fed[fusion_key][round_num] += (np.mean(party_losses)/num_of_repeats)\n",
        "        ######################################################################\n",
        "\n",
        "        current_model_state_dict = fusion.fusion_algo(party_models=party_models, current_model=current_model)\n",
        "\n",
        "        model_dict[fusion_key] = copy.deepcopy(current_model_state_dict)\n",
        "        party_models_dict[fusion_key] = party_models\n",
        "\n",
        "        eval_model = FLNet2()\n",
        "        eval_model.load_state_dict(current_model_state_dict)\n",
        "        clean_acc = Utils.evaluate(testloader, eval_model)\n",
        "        clean_accuracy[fusion_key][round_num] = clean_acc\n",
        "        print(f'Global Clean Accuracy {fusion_key}, round {round_num} = {clean_acc}')"
      ]
    },
    {
      "cell_type": "code",
      "execution_count": null,
      "metadata": {
        "id": "P5AI3tcrKmdH"
      },
      "outputs": [],
      "source": [
        "eval_model = FLNet2()\n",
        "eval_model.load_state_dict(current_model_state_dict)\n",
        "torch.save(eval_model.state_dict(), '/content/model.pt')"
      ]
    },
    {
      "cell_type": "code",
      "execution_count": null,
      "metadata": {},
      "outputs": [
        {
          "data": {
            "text/plain": [
              "<All keys matched successfully>"
            ]
          },
          "execution_count": 105,
          "metadata": {},
          "output_type": "execute_result"
        }
      ],
      "source": [
        "model = FLNet2()\n",
        "model.load_state_dict(torch.load(\"C:/Users/user/Desktop/PhD/Paper - Manini/model.pt\", weights_only=True))"
      ]
    },
    {
      "cell_type": "code",
      "execution_count": null,
      "metadata": {
        "id": "ywoEitAZbodq"
      },
      "outputs": [],
      "source": [
        "def create_dataloader(idx_client, _list_trainloader, percentage_to_remove):\n",
        "    list_trainloader = copy.deepcopy(_list_trainloader)\n",
        "    client_dataset = list_trainloader[idx_client].dataset\n",
        "\n",
        "    num_samples_to_remove = int(len(client_dataset) * percentage_to_remove)\n",
        "    num_samples_to_keep = len(client_dataset) - num_samples_to_remove\n",
        "    \n",
        "    if num_samples_to_keep != 0:\n",
        "        new_dataset = TensorDataset(client_dataset[:num_samples_to_keep][0], client_dataset[:num_samples_to_keep][1])\n",
        "        list_trainloader[idx_client] = DataLoader(new_dataset, batch_size=128)\n",
        "\n",
        "    else:\n",
        "        list_trainloader.pop(idx_client)\n",
        "\n",
        "    return list_trainloader, num_samples_to_remove"
      ]
    },
    {
      "cell_type": "code",
      "execution_count": 111,
      "metadata": {
        "colab": {
          "base_uri": "https://localhost:8080/",
          "height": 495
        },
        "id": "PZPDWhtPbods",
        "outputId": "3de694ed-3a4b-469b-8f37-b811956591bf"
      },
      "outputs": [],
      "source": [
        "# Make sure you have the proper imports\n",
        "from backpack import backpack, extend\n",
        "from backpack.extensions import DiagHessian\n",
        "\n",
        "half_dataloader, num_remove_half = create_dataloader(3, trainloader_lst, 0.5)\n",
        "full_dataloader, num_remove_full = create_dataloader(3, trainloader_lst, 1)\n",
        "none_dataloader, num_remove_none = create_dataloader(3, trainloader_lst, 0)\n",
        "\n",
        "def compute_diag_hessian(model, criterion, inputs, targets):\n",
        "    \"\"\"\n",
        "    Computes the diagonal of the Hessian matrix for a neural network model's parameters.\n",
        "    \n",
        "    This function calculates the second-order derivatives (diagonal elements of the Hessian)\n",
        "    with respect to model parameters using the BackPACK library's DiagHessian extension.\n",
        "    \n",
        "    Args:\n",
        "        model (torch.nn.Module): The neural network model to analyze.\n",
        "        criterion (torch.nn.Module): The loss function used to compute gradients.\n",
        "        inputs (torch.Tensor): Input data batch.\n",
        "        targets (torch.Tensor): Target labels corresponding to the inputs.\n",
        "        \n",
        "    Returns:\n",
        "        dict: A dictionary mapping parameter names to their diagonal Hessian values.\n",
        "              Only includes parameters that require gradients.\n",
        "              \n",
        "    Notes:\n",
        "        - The function uses BackPACK library to efficiently compute diagonal Hessian elements.\n",
        "        - It cleans up the temporary Hessian attributes from parameters to avoid memory leaks.\n",
        "        - The returned diagonal Hessian values are detached from the computation graph.\n",
        "    \"\"\"\n",
        "    model.zero_grad()\n",
        "    outputs = model(inputs)\n",
        "    loss = criterion(outputs, targets)\n",
        "\n",
        "    with backpack(DiagHessian()):\n",
        "        loss.backward()\n",
        "\n",
        "    diag_hessian_params = {}\n",
        "    for name, param in model.named_parameters():\n",
        "        if hasattr(param, 'diag_h'):\n",
        "            if param.requires_grad:\n",
        "                diag_hessian_params[name] = param.diag_h.clone().detach()\n",
        "                del param.diag_h\n",
        "\n",
        "    return diag_hessian_params\n",
        "\n",
        "def calculate_accumulated_diag_hessian(dataloader_list, final_model, criterion):\n",
        "    \"\"\"\n",
        "    Calculate the accumulated diagonal Hessian for model parameters across multiple dataloaders.\n",
        "    \n",
        "    Args:\n",
        "        dataloader_list: List of DataLoaders, each yielding (inputs, targets)\n",
        "        final_model: The model to calculate Hessian for\n",
        "        criterion: Loss function to use for Hessian calculation\n",
        "    \n",
        "    Returns:\n",
        "        dict: Dictionary of accumulated and averaged diagonal Hessian values for each parameter\n",
        "    \"\"\"\n",
        "    accumulated_diag_h = {}\n",
        "    total_batches = 0\n",
        "    \n",
        "    # Accumulate over batches\n",
        "    for loader_idx, loader in enumerate(dataloader_list):\n",
        "        for batch_idx, (inputs, targets) in enumerate(loader):\n",
        "            # Compute diagonal Hessian for this batch\n",
        "            diag_h = compute_diag_hessian(final_model, criterion, inputs, targets)\n",
        "            \n",
        "            # Accumulate values\n",
        "            for name, value in diag_h.items():\n",
        "                if name not in accumulated_diag_h:\n",
        "                    accumulated_diag_h[name] = value\n",
        "                else:\n",
        "                    accumulated_diag_h[name] += value\n",
        "            \n",
        "            total_batches += 1\n",
        "    \n",
        "    # Calculate average\n",
        "    for name in accumulated_diag_h:\n",
        "        accumulated_diag_h[name] /= total_batches\n",
        "    \n",
        "    return accumulated_diag_h      \n",
        "\n",
        "#Use the model if coming from the training or load if you have it downloaded\n",
        "final_model = FLNet2()\n",
        "#final_model.load_state_dict(model_dict[fusion_key])\n",
        "final_model.load_state_dict(torch.load(\"models/model.pt\", weights_only=True))\n",
        "final_model = extend(final_model)\n",
        "\n",
        "criterion = nn.CrossEntropyLoss()\n",
        "criterion = extend(criterion) \n",
        "\n",
        "\n",
        "# accumulated_diag_h = calculate_accumulated_diag_hessian(full_dataloader, final_model, criterion)\n",
        "# accumulated_diag_h_50 = calculate_accumulated_diag_hessian(half_dataloader, final_model, criterion)\n",
        "# accumulated_diag_h_clean = calculate_accumulated_diag_hessian(none_dataloader, final_model, criterion)\n"
      ]
    },
    {
      "cell_type": "code",
      "execution_count": 112,
      "metadata": {},
      "outputs": [
        {
          "name": "stdout",
          "output_type": "stream",
          "text": [
            "Removal percentage: 0.00\n",
            "  - Number of samples: 59999\n",
            "  - Gradient norm: 0.4802\n",
            "  - Loss: 0.0401\n",
            "--------------------------------------------------\n",
            "Removal percentage: 0.11\n",
            "  - Number of samples: 58669\n",
            "  - Gradient norm: 0.4723\n",
            "  - Loss: 0.0395\n",
            "--------------------------------------------------\n",
            "Removal percentage: 0.22\n",
            "  - Number of samples: 57339\n",
            "  - Gradient norm: 0.4668\n",
            "  - Loss: 0.0389\n",
            "--------------------------------------------------\n",
            "Removal percentage: 0.33\n",
            "  - Number of samples: 56009\n",
            "  - Gradient norm: 0.4635\n",
            "  - Loss: 0.0382\n",
            "--------------------------------------------------\n",
            "Removal percentage: 0.44\n",
            "  - Number of samples: 54679\n",
            "  - Gradient norm: 0.4619\n",
            "  - Loss: 0.0379\n",
            "--------------------------------------------------\n",
            "Removal percentage: 0.56\n",
            "  - Number of samples: 53349\n",
            "  - Gradient norm: 0.4665\n",
            "  - Loss: 0.0377\n",
            "--------------------------------------------------\n",
            "Removal percentage: 0.67\n",
            "  - Number of samples: 52019\n",
            "  - Gradient norm: 0.4696\n",
            "  - Loss: 0.0368\n",
            "--------------------------------------------------\n",
            "Removal percentage: 0.78\n",
            "  - Number of samples: 50690\n",
            "  - Gradient norm: 0.4750\n",
            "  - Loss: 0.0364\n",
            "--------------------------------------------------\n",
            "Removal percentage: 0.89\n",
            "  - Number of samples: 49359\n",
            "  - Gradient norm: 0.4881\n",
            "  - Loss: 0.0361\n",
            "--------------------------------------------------\n",
            "Removal percentage: 1.00\n",
            "  - Number of samples: 48029\n",
            "  - Gradient norm: 0.5007\n",
            "  - Loss: 0.0358\n",
            "--------------------------------------------------\n"
          ]
        }
      ],
      "source": [
        "from torch.utils.data import ConcatDataset\n",
        "\n",
        "remove_percentages = np.linspace(0, 1, 10)\n",
        "trainloader_list = copy.deepcopy(trainloader_lst)\n",
        "\n",
        "current_model = FLNet2()\n",
        "current_model.load_state_dict(torch.load(\"models/model.pt\", weights_only=True))\n",
        "\n",
        "# Shuffle training datasets for each client only at the beginning\n",
        "# (this is done to avoid fictitious determinism in the results)\n",
        "training_datasets = [loader.dataset for loader in trainloader_list]\n",
        "shuffled_training_datasets = []\n",
        "for dataset in training_datasets:\n",
        "    indices = np.random.permutation(len(dataset))\n",
        "    shuffled_training_datasets.append(TensorDataset(dataset[indices][0], dataset[indices][1]))\n",
        "shuffled_trainloader_list = [DataLoader(dataset, batch_size=128) for dataset in shuffled_training_datasets]\n",
        "\n",
        "results = []\n",
        "\n",
        "for remove_percentage in remove_percentages:\n",
        "\n",
        "    trainloader_list, _ = create_dataloader(3, shuffled_trainloader_list, remove_percentage)\n",
        "    \n",
        "    client_dataset = ConcatDataset([loader.dataset for loader in trainloader_list])\n",
        "    loader = DataLoader(client_dataset, batch_size=128)\n",
        "\n",
        "    loss_sum = 0\n",
        "    grad_sum = torch.zeros_like(torch.cat([param.flatten() for param in current_model.parameters()]))\n",
        "    number_of_batches = 0\n",
        "\n",
        "    for inputs, targets in loader:\n",
        "        # Forward pass\n",
        "        current_model.zero_grad()\n",
        "        outputs = current_model(inputs)\n",
        "        loss = criterion(outputs, targets)\n",
        "        loss.backward()\n",
        "        \n",
        "        # Sum quantities\n",
        "        loss_sum += loss.item()\n",
        "        grad_sum += torch.cat([param.grad.flatten() for param in current_model.parameters()])\n",
        "        number_of_batches += 1\n",
        "        \n",
        "    grad_norm = torch.norm(grad_sum).item() / number_of_batches\n",
        "    loss = loss_sum / number_of_batches\n",
        "\n",
        "    \n",
        "    # Store results\n",
        "    results.append({\n",
        "        'removal_percentage': remove_percentage,\n",
        "        'gradient_norm': grad_norm,\n",
        "        'loss': loss\n",
        "    })\n",
        "    \n",
        "    print(f\"Removal percentage: {remove_percentage:.2f}\")\n",
        "    print(f\"  - Number of samples: {sum([len(loader.dataset) for loader in trainloader_list])}\")\n",
        "    print(f\"  - Gradient norm: {grad_norm:.4f}\")\n",
        "    print(f\"  - Loss: {loss:.4f}\")\n",
        "    print(\"-\" * 50)"
      ]
    },
    {
      "cell_type": "code",
      "execution_count": 113,
      "metadata": {},
      "outputs": [
        {
          "data": {
            "image/png": "[encoded data removed]",
            "text/plain": [
              "<Figure size 1400x500 with 2 Axes>"
            ]
          },
          "metadata": {},
          "output_type": "display_data"
        }
      ],
      "source": [
        "# Convert results to DataFrame for easier analysis\n",
        "results_df = pd.DataFrame(results)\n",
        "\n",
        "# Create plots\n",
        "fig, axs = plt.subplots(1, 2, figsize=(14, 5))\n",
        "\n",
        "# Plot gradient norm vs Removal percentage\n",
        "axs[0].plot(results_df['removal_percentage'], results_df['gradient_norm'], 'o-')\n",
        "axs[0].set_title('Gradient Norm vs. Removal Percentage')\n",
        "axs[0].set_xlabel('Removal Percentage')\n",
        "axs[0].set_ylabel('Gradient Norm')\n",
        "axs[0].grid(True)\n",
        "\n",
        "# Plot loss vs Removal percentage\n",
        "axs[1].plot(results_df['removal_percentage'], results_df['loss'], 'o-')\n",
        "axs[1].set_title('Loss vs. Removal Percentage')\n",
        "axs[1].set_xlabel('Removal Percentage')\n",
        "axs[1].set_ylabel('Loss')\n",
        "axs[1].grid(True)\n",
        "\n",
        "plt.tight_layout()\n",
        "plt.show()"
      ]
    },
    {
      "cell_type": "markdown",
      "metadata": {
        "id": "z00eqTLgZUjz"
      },
      "source": [
        "OUR METHOD"
      ]
    },
    {
      "cell_type": "code",
      "execution_count": 114,
      "metadata": {
        "id": "fC03hVs6ZW7s"
      },
      "outputs": [],
      "source": [
        "def compute_der(tensor1, tensor2):\n",
        "    #Compute first derivative integrals of FI\n",
        "    ratio = tensor1/tensor2\n",
        "    return torch.log(ratio)+ 1/2 * (1-torch.pow(ratio,2))\n",
        "\n",
        "def compute_true_info(hessian, hessian_unp, num_removed):\n",
        "    information_true = [torch.empty_like(p) for p in hessian.values()]\n",
        "    A_list = [torch.empty_like(p) for p in hessian.values()]\n",
        "    B_list = [torch.empty_like(p) for p in hessian.values()]\n",
        "    for i,k in enumerate(hessian.keys()): \n",
        "    #for i,_ in enumerate(A_list):\n",
        "        print(k)\n",
        "        ratio = torch.where(torch.logical_and(hessian[k]==0, hessian_unp[k]==0), 1, hessian_unp[k]/hessian[k])\n",
        "        #A=1/2 * torch.log(ratio)/num_removed\n",
        "        #B=1/2 * (1-torch.pow(ratio,2))/num_removed\n",
        "        A=1/2 * torch.log(ratio)/num_removed\n",
        "        B=1/2 * (1-ratio)/num_removed\n",
        "        A[torch.isinf(A)]=0\n",
        "        B[torch.isinf(B)]=0\n",
        "        A_list[i]=torch.nan_to_num(A)\n",
        "        B_list[i]=torch.nan_to_num(B)\n",
        "\n",
        "    A_flat = torch.cat([A.flatten() for A in A_list])\n",
        "    B_flat = torch.cat([B.flatten() for B in B_list])\n",
        "\n",
        "    torch.cuda.empty_cache()\n",
        "    device = torch.device(\"cpu\")\n",
        "    A_flat = A_flat.to(device)\n",
        "    B_flat = B_flat.to(device)\n",
        "    information_true = [torch.empty_like(p).to(device) for p in hessian.values()]\n",
        "    hessian = [p.to(device) for p in hessian.values()]\n",
        "    hessian_unp = [p.to(device) for p in hessian_unp.values()]\n",
        "\n",
        "    information_true_view = [p.view(-1) for p in information_true]\n",
        "    A_list_view = [p.view(-1) for p in A_list]\n",
        "    B_list_view = [p.view(-1) for p in B_list]\n",
        "    num_params = sum([p.numel() for p in hessian])\n",
        "    track=0\n",
        "    print(\"\\nstart\")\n",
        "    for i,_ in enumerate(information_true_view):\n",
        "        for j,_ in enumerate(information_true_view[i]):\n",
        "            if (track+j)%(num_params//10)==0:\n",
        "                print((track+j)//(num_params//100))\n",
        "\n",
        "            temp=A_list_view[i][j]*A_flat + B_list_view[i][j]*B_flat + A_list_view[i][j]*B_flat + B_list_view[i][j]*A_flat\n",
        "            information_true_view[i][j] = torch.sum(temp)+2*torch.pow(B_list_view[i][j],2)\n",
        "        track+=information_true[i].numel()\n",
        "\n",
        "    return information_true"
      ]
    },
    {
      "cell_type": "code",
      "execution_count": 115,
      "metadata": {
        "colab": {
          "base_uri": "https://localhost:8080/"
        },
        "collapsed": true,
        "id": "mgeUVILJZbnd",
        "outputId": "29f4735c-7cd4-4709-8179-b44b3728eef7"
      },
      "outputs": [
        {
          "ename": "NameError",
          "evalue": "name 'accumulated_diag_h' is not defined",
          "output_type": "error",
          "traceback": [
            "\u001b[1;31m---------------------------------------------------------------------------\u001b[0m",
            "\u001b[1;31mNameError\u001b[0m                                 Traceback (most recent call last)",
            "Cell \u001b[1;32mIn[115], line 2\u001b[0m\n\u001b[0;32m      1\u001b[0m num_rem \u001b[38;5;241m=\u001b[39m torch\u001b[38;5;241m.\u001b[39mas_tensor(num_remove_none)\n\u001b[1;32m----> 2\u001b[0m info_true \u001b[38;5;241m=\u001b[39m compute_true_info(accumulated_diag_h, accumulated_diag_h_clean, num_rem)\n",
            "\u001b[1;31mNameError\u001b[0m: name 'accumulated_diag_h' is not defined"
          ]
        }
      ],
      "source": [
        "num_rem = torch.as_tensor(num_remove_none)\n",
        "info_true = compute_true_info(accumulated_diag_h, accumulated_diag_h_clean, num_rem)"
      ]
    },
    {
      "cell_type": "code",
      "execution_count": null,
      "metadata": {
        "id": "ModxW028mf5Y"
      },
      "outputs": [],
      "source": [
        "def sum_information_values(information):\n",
        "    # Initialize an empty list to store all flattened tensors\n",
        "    all_values = []\n",
        "\n",
        "    # Iterate through each parameter's information tensor\n",
        "    for tensor in information:\n",
        "        # Flatten the tensor and add to our list\n",
        "        temp=torch.nan_to_num(tensor.flatten())\n",
        "        temp = temp[torch.isinf(temp)==0]\n",
        "        temp = temp[temp!=0]\n",
        "        all_values.append(temp)\n",
        "\n",
        "    # Concatenate all tensors into one large tensor\n",
        "    combined_tensor = torch.cat(all_values)\n",
        "    print(len(combined_tensor))\n",
        "    return combined_tensor\n",
        "\n",
        "# 2. Plot the summed information\n",
        "def plot_information(information):\n",
        "    combined_tensor = sum_information_values(information)\n",
        "\n",
        "    # Convert to numpy for plotting\n",
        "    values = combined_tensor.detach().cpu().numpy()\n",
        "\n",
        "    # Create the plot\n",
        "    plt.figure(figsize=(10, 6))\n",
        "\n",
        "    #Histogram\n",
        "    plt.subplot(1, 2, 1)\n",
        "    plt.hist(values, alpha=0.7, bins=50)\n",
        "    plt.title('Distribution of Information Values')\n",
        "    plt.xlabel('Value')\n",
        "    plt.ylabel('Frequency')\n",
        "\n",
        "    # Exclude outliers for the second plot (optional)\n",
        "    q1, q3 = np.percentile(values, [15, 95])\n",
        "    iqr = q3 - q1\n",
        "    # lower_bound = q1 - 1.5 * iqr\n",
        "    # upper_bound = q3 + 1.5 * iqr\n",
        "    lower_bound = q1\n",
        "    upper_bound = q3\n",
        "    filtered_values = values[(values >= lower_bound) & (values <= upper_bound)]\n",
        "    print(f\"Number of outliers: {len(values) - len(filtered_values)}\")\n",
        "\n",
        "    # Filtered histogram (without outliers)\n",
        "    plt.subplot(1, 2, 2)\n",
        "    plt.hist(filtered_values, alpha=0.7, bins=50, color='green')\n",
        "    plt.title('Distribution (Outliers Removed)')\n",
        "    plt.xlabel('Value')\n",
        "\n",
        "    plt.tight_layout()\n",
        "    plt.show()\n",
        "\n",
        "    # Print some statistics\n",
        "    print(f\"Sum of all information values: {combined_tensor.sum().item():.6f}\")\n",
        "    print(f\"Mean: {combined_tensor.mean().item()}\")\n",
        "    print(f\"Min: {combined_tensor.min().item()}\")\n",
        "    print(f\"Max: {combined_tensor.max().item()}\")\n",
        "    print(f\"Total number of values: {len(values)}\")\n",
        "\n",
        "    print(f\"Sum of all information values: {filtered_values.sum().item():.6f}\")\n",
        "    print(f\"Mean: {filtered_values.mean().item()}\")\n",
        "    print(f\"Min: {filtered_values.min().item()}\")\n",
        "    print(f\"Max: {filtered_values.max().item()}\")\n",
        "    print(f\"Total number of values: {len(filtered_values)}\")\n",
        "\n",
        "    return combined_tensor.sum().item(), filtered_values.sum().item()"
      ]
    },
    {
      "cell_type": "code",
      "execution_count": null,
      "metadata": {
        "colab": {
          "base_uri": "https://localhost:8080/",
          "height": 211
        },
        "id": "F4R6HHhMmlt5",
        "outputId": "2c8b6c11-1b48-4702-86be-64b04f0bb913"
      },
      "outputs": [
        {
          "ename": "NameError",
          "evalue": "name 'info' is not defined",
          "output_type": "error",
          "traceback": [
            "\u001b[0;31m---------------------------------------------------------------------------\u001b[0m",
            "\u001b[0;31mNameError\u001b[0m                                 Traceback (most recent call last)",
            "\u001b[0;32m<ipython-input-3-36d18131ef08>\u001b[0m in \u001b[0;36m<cell line: 0>\u001b[0;34m()\u001b[0m\n\u001b[0;32m----> 1\u001b[0;31m \u001b[0mplot_information\u001b[0m\u001b[0;34m(\u001b[0m\u001b[0minfo\u001b[0m\u001b[0;34m)\u001b[0m\u001b[0;34m\u001b[0m\u001b[0;34m\u001b[0m\u001b[0m\n\u001b[0m\u001b[1;32m      2\u001b[0m \u001b[0;34m\u001b[0m\u001b[0m\n\u001b[1;32m      3\u001b[0m \u001b[0mprint\u001b[0m\u001b[0;34m(\u001b[0m\u001b[0;34m\"Delta\"\u001b[0m\u001b[0;34m)\u001b[0m\u001b[0;34m\u001b[0m\u001b[0;34m\u001b[0m\u001b[0m\n\u001b[1;32m      4\u001b[0m \u001b[0mplot_information\u001b[0m\u001b[0;34m(\u001b[0m\u001b[0mdelt\u001b[0m\u001b[0;34m)\u001b[0m\u001b[0;34m\u001b[0m\u001b[0;34m\u001b[0m\u001b[0m\n\u001b[1;32m      5\u001b[0m \u001b[0;34m\u001b[0m\u001b[0m\n",
            "\u001b[0;31mNameError\u001b[0m: name 'info' is not defined"
          ]
        }
      ],
      "source": [
        "plot_information(info)\n",
        "\n",
        "print(\"Delta\")\n",
        "plot_information(delt)\n",
        "\n",
        "print(\"Quad information\")\n",
        "plot_information(info_quad)\n",
        "\n"
      ]
    },
    {
      "cell_type": "markdown",
      "metadata": {
        "id": "jrGCiQXUbods"
      },
      "source": [
        "## 4. Unlearn the contribution of the target client\n",
        "<a id='section_4'></a>"
      ]
    },
    {
      "cell_type": "code",
      "execution_count": null,
      "metadata": {
        "id": "aaA6Cnprbodw"
      },
      "outputs": [],
      "source": [
        "num_updates_in_epoch = None\n",
        "num_local_epochs_unlearn = 5\n",
        "lr = 0.01\n",
        "distance_threshold = 2.2\n",
        "clip_grad = 5\n",
        "\n",
        "\n",
        "initial_model = FLNet()\n",
        "unlearned_model_dict = {}\n",
        "for fusion_key in fusion_types_unlearn:\n",
        "    if fusion_key == 'Retrain':\n",
        "        unlearned_model_dict[fusion_key] = copy.deepcopy(initial_model.state_dict())\n",
        "\n",
        "clean_accuracy_unlearn = {}\n",
        "pois_accuracy_unlearn = {}\n",
        "for fusion_key in fusion_types_unlearn:\n",
        "    clean_accuracy_unlearn[fusion_key] = 0\n",
        "    pois_accuracy_unlearn[fusion_key] = 0\n",
        "\n",
        "for fusion_key in fusion_types:\n",
        "    if fusion_key == 'Retrain':\n",
        "        continue\n",
        "\n",
        "    initial_model = FLNet()\n",
        "    fedavg_model_state_dict = copy.deepcopy(model_dict[fusion_key])\n",
        "    fedavg_model = copy.deepcopy(initial_model)\n",
        "    fedavg_model.load_state_dict(fedavg_model_state_dict)\n",
        "\n",
        "    party_models = copy.deepcopy(party_models_dict[fusion_key])\n",
        "    party0_model = copy.deepcopy(party_models[0])\n",
        "\n",
        "    #compute reference model\n",
        "    #w_ref = N/(N-1)w^T - 1/(N-1)w^{T-1}_i = \\sum{i \\ne j}w_j^{T-1}\n",
        "    model_ref_vec = num_parties / (num_parties - 1) * nn.utils.parameters_to_vector(fedavg_model.parameters()) \\\n",
        "                               - 1 / (num_parties - 1) * nn.utils.parameters_to_vector(party0_model.parameters())\n",
        "\n",
        "    #compute threshold\n",
        "    model_ref = copy.deepcopy(initial_model)\n",
        "    nn.utils.vector_to_parameters(model_ref_vec, model_ref.parameters())\n",
        "\n",
        "    eval_model = copy.deepcopy(model_ref)\n",
        "    unlearn_clean_acc = Utils.evaluate(testloader, eval_model)\n",
        "    print(f'Clean Accuracy for Reference Model = {unlearn_clean_acc}')\n",
        "    unlearn_pois_acc = Utils.evaluate(testloader_poison, eval_model)\n",
        "    print(f'Backdoor Accuracy for Reference Model = {unlearn_pois_acc}')\n",
        "\n",
        "    dist_ref_random_lst = []\n",
        "    for _ in range(10):\n",
        "        dist_ref_random_lst.append(Utils.get_distance(model_ref, FLNet()))\n",
        "\n",
        "    print(f'Mean distance of Reference Model to random: {np.mean(dist_ref_random_lst)}')\n",
        "    threshold = np.mean(dist_ref_random_lst) / 3\n",
        "    print(f'Radius for model_ref: {threshold}')\n",
        "    dist_ref_party = Utils.get_distance(model_ref, party0_model)\n",
        "    print(f'Distance of Reference Model to party0_model: {dist_ref_party}')\n",
        "\n",
        "\n",
        "    ###############################################################\n",
        "    #### Unlearning\n",
        "    ###############################################################\n",
        "    model = copy.deepcopy(model_ref)\n",
        "\n",
        "    criterion = nn.CrossEntropyLoss()\n",
        "    opt = torch.optim.SGD(model.parameters(), lr=lr, momentum=0.9)\n",
        "\n",
        "    model.train()\n",
        "    flag = False\n",
        "    for epoch in range(num_local_epochs_unlearn):\n",
        "        print('------------', epoch)\n",
        "        if flag:\n",
        "            break\n",
        "        for batch_id, (x_batch, y_batch) in enumerate(trainloader_lst[party_to_be_erased]):\n",
        "\n",
        "            opt.zero_grad()\n",
        "\n",
        "            outputs = model(x_batch)\n",
        "            loss = criterion(outputs, y_batch)\n",
        "            loss_joint = -loss # negate the loss for gradient ascent\n",
        "            loss_joint.backward()\n",
        "            if clip_grad > 0:\n",
        "                torch.nn.utils.clip_grad_norm_(model.parameters(), clip_grad)\n",
        "\n",
        "            opt.step()\n",
        "\n",
        "            with torch.no_grad():\n",
        "                distance = Utils.get_distance(model, model_ref)\n",
        "                if distance > threshold:\n",
        "                    dist_vec = nn.utils.parameters_to_vector(model.parameters()) - nn.utils.parameters_to_vector(model_ref.parameters())\n",
        "                    dist_vec = dist_vec/torch.norm(dist_vec)*np.sqrt(threshold)\n",
        "                    proj_vec = nn.utils.parameters_to_vector(model_ref.parameters()) + dist_vec\n",
        "                    nn.utils.vector_to_parameters(proj_vec, model.parameters())\n",
        "                    distance = Utils.get_distance(model, model_ref)\n",
        "\n",
        "            distance_ref_party_0 = Utils.get_distance(model, party0_model)\n",
        "            print('Distance from the unlearned model to party 0:', distance_ref_party_0.item())\n",
        "\n",
        "            if distance_ref_party_0 > distance_threshold:\n",
        "                flag = True\n",
        "                break\n",
        "\n",
        "            if num_updates_in_epoch is not None and batch_id >= num_updates_in_epoch:\n",
        "                break\n",
        "    ####################################################################\n",
        "\n",
        "    unlearned_model = copy.deepcopy(model)\n",
        "    unlearned_model_dict[fusion_types_unlearn[1]] = unlearned_model.state_dict()\n",
        "\n",
        "    eval_model = FLNet()\n",
        "    eval_model.load_state_dict(unlearned_model_dict[fusion_types_unlearn[1]])\n",
        "    unlearn_clean_acc = Utils.evaluate(testloader, eval_model)\n",
        "    print(f'Clean Accuracy for UN-Local Model = {unlearn_clean_acc}')\n",
        "    clean_accuracy_unlearn[fusion_types_unlearn[1]] =  unlearn_clean_acc\n",
        "    pois_unlearn_acc = Utils.evaluate(testloader_poison, eval_model)\n",
        "    print(f'Backdoor Accuracy for UN-Local Model = {pois_unlearn_acc}')\n",
        "    pois_accuracy_unlearn[fusion_types_unlearn[1]] =  pois_unlearn_acc"
      ]
    },
    {
      "cell_type": "markdown",
      "metadata": {
        "id": "JufevF4Ybodx"
      },
      "source": [
        "## 5. Post-Training\n",
        "<a id='section_5'></a>"
      ]
    },
    {
      "cell_type": "code",
      "execution_count": null,
      "metadata": {
        "id": "31DUR1htbodx"
      },
      "outputs": [],
      "source": [
        "num_fl_after_unlearn_rounds = num_fl_rounds\n",
        "num_updates_in_epoch = 50\n",
        "num_local_epochs = 1\n",
        "\n",
        "clean_accuracy_unlearn_fl_after_unlearn = {}\n",
        "pois_accuracy_unlearn_fl_after_unlearn = {}\n",
        "loss_unlearn = {}\n",
        "for fusion_key in fusion_types_unlearn:\n",
        "    clean_accuracy_unlearn_fl_after_unlearn[fusion_key] = np.zeros(num_fl_after_unlearn_rounds)\n",
        "    pois_accuracy_unlearn_fl_after_unlearn[fusion_key] = np.zeros(num_fl_after_unlearn_rounds)\n",
        "    loss_unlearn[fusion_key] = np.zeros(num_fl_after_unlearn_rounds)\n",
        "\n",
        "\n",
        "for round_num in range(num_fl_after_unlearn_rounds):\n",
        "\n",
        "    local_training = LocalTraining(num_updates_in_epoch=num_updates_in_epoch, num_local_epochs=num_local_epochs)\n",
        "\n",
        "    for fusion_key in fusion_types_unlearn:\n",
        "        # Reduce num_parties by 1 to remove the erased party\n",
        "        fusion = FL_round_fusion_selection(num_parties=num_parties - 1, fusion_key=fusion_key)\n",
        "\n",
        "        current_model_state_dict = copy.deepcopy(unlearned_model_dict[fusion_key])\n",
        "        current_model = FLNet()\n",
        "        current_model.load_state_dict(current_model_state_dict)\n",
        "\n",
        "        ##################### Local Training Round #############################\n",
        "        party_models = []\n",
        "        party_losses = []\n",
        "        for party_id in range(1, num_parties):\n",
        "            model = copy.deepcopy(current_model)\n",
        "            model_update, party_loss = local_training.train(model=model,\n",
        "                                        trainloader=trainloader_lst[party_id],\n",
        "                                        criterion=None, opt=None)\n",
        "\n",
        "            party_models.append(copy.deepcopy(model_update))\n",
        "            party_losses.append(party_loss)\n",
        "\n",
        "        loss_unlearn[fusion_key][round_num] = np.mean(party_losses)\n",
        "        ######################################################################\n",
        "\n",
        "        current_model_state_dict = fusion.fusion_algo(party_models=party_models, current_model=current_model)\n",
        "        unlearned_model_dict[fusion_key] = copy.deepcopy(current_model_state_dict)\n",
        "        party_models_dict[fusion_key] = party_models\n",
        "\n",
        "        eval_model = FLNet()\n",
        "        eval_model.load_state_dict(current_model_state_dict)\n",
        "        unlearn_clean_acc = Utils.evaluate(testloader, eval_model)\n",
        "        print(f'Global Clean Accuracy {fusion_key}, round {round_num} = {unlearn_clean_acc}')\n",
        "        clean_accuracy_unlearn_fl_after_unlearn[fusion_key][round_num] = unlearn_clean_acc\n",
        "        unlearn_pois_acc = Utils.evaluate(testloader_poison, eval_model)\n",
        "        print(f'Global Backdoor Accuracy {fusion_key}, round {round_num} = {unlearn_pois_acc}')\n",
        "        pois_accuracy_unlearn_fl_after_unlearn[fusion_key][round_num] = unlearn_pois_acc\n"
      ]
    },
    {
      "cell_type": "markdown",
      "metadata": {
        "id": "oNfZztu2bodx"
      },
      "source": [
        "Compare the performance of the proposed unlearning method with retraining from scratch (baseline)"
      ]
    },
    {
      "cell_type": "code",
      "execution_count": null,
      "metadata": {
        "id": "s4fZeiMZbodx"
      },
      "outputs": [],
      "source": [
        "import matplotlib.pyplot as plt\n",
        "\n",
        "fl_rounds = [i for i in range(1, num_fl_rounds + 1)]\n",
        "\n",
        "plt.plot(fl_rounds, clean_accuracy_unlearn_fl_after_unlearn['Unlearn'], 'ro--', linewidth=2, markersize=12, label='UN-Clean Acc')\n",
        "plt.plot(fl_rounds, pois_accuracy_unlearn_fl_after_unlearn['Unlearn'], 'gx--', linewidth=2, markersize=12, label='UN-Backdoor Acc')\n",
        "plt.plot(fl_rounds, clean_accuracy_unlearn_fl_after_unlearn['Retrain'], 'm^-', linewidth=2, markersize=12, label='Retrain-Clean Acc')\n",
        "plt.plot(fl_rounds, pois_accuracy_unlearn_fl_after_unlearn['Retrain'], 'c+-', linewidth=2, markersize=12, label='Retrain-Backdoor Acc')\n",
        "plt.xlabel('Training Rounds')\n",
        "plt.ylabel('Accuracy')\n",
        "plt.grid()\n",
        "plt.ylim([0, 100])\n",
        "plt.xlim([1, 10])\n",
        "plt.legend()\n",
        "plt.show()"
      ]
    },
    {
      "cell_type": "code",
      "execution_count": null,
      "metadata": {
        "id": "wYEFz-U2bodx"
      },
      "outputs": [],
      "source": []
    }
  ],
  "metadata": {
    "accelerator": "GPU",
    "colab": {
      "collapsed_sections": [
        "9GexoT5UbGQl"
      ],
      "gpuType": "T4",
      "provenance": []
    },
    "kernelspec": {
      "display_name": "fed-learn",
      "language": "python",
      "name": "python3"
    },
    "language_info": {
      "codemirror_mode": {
        "name": "ipython",
        "version": 3
      },
      "file_extension": ".py",
      "mimetype": "text/x-python",
      "name": "python",
      "nbconvert_exporter": "python",
      "pygments_lexer": "ipython3",
      "version": "3.11.9"
    }
  },
  "nbformat": 4,
  "nbformat_minor": 0
}
