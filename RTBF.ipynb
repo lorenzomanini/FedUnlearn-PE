{
  "cells": [
    {
      "cell_type": "code",
      "execution_count": 1,
      "metadata": {
        "id": "KXjLp3FDbodi"
      },
      "outputs": [],
      "source": [
        "import torch\n",
        "from torch import nn\n",
        "from torch.utils.data import DataLoader, Dataset, TensorDataset\n",
        "import numpy as np\n",
        "\n",
        "import matplotlib.pyplot as plt\n",
        "import pandas as pd\n",
        "\n",
        "from art.utils import load_mnist, preprocess\n",
        "\n",
        "import os\n",
        "import copy\n",
        "\n",
        "from utils.model import FLNet\n",
        "from utils.local_train import LocalTraining\n",
        "from utils.utils import Utils\n",
        "from utils.fusion import Fusion, FusionAvg, FusionRetrain"
      ]
    },
    {
      "cell_type": "code",
      "execution_count": 2,
      "metadata": {},
      "outputs": [],
      "source": [
        "TRAIN=False\n",
        "COMPUTE_HESSIAN=True\n",
        "save_path = 'models/model.pt'\n",
        "load_path = 'models/model.pt'"
      ]
    },
    {
      "cell_type": "markdown",
      "metadata": {
        "id": "mumWmLPlbodk"
      },
      "source": [
        "#### FL Fusion Class Selection"
      ]
    },
    {
      "cell_type": "code",
      "execution_count": 3,
      "metadata": {
        "id": "MQW6Jsrjbodk"
      },
      "outputs": [],
      "source": [
        "def FL_round_fusion_selection(num_parties, fusion_key='FedAvg'):\n",
        "\n",
        "    fusion_class_dict = {\n",
        "        'FedAvg': FusionAvg(num_parties),\n",
        "        'Retrain': FusionRetrain(num_parties),\n",
        "        'Unlearn': FusionAvg(num_parties)\n",
        "        }\n",
        "\n",
        "    return fusion_class_dict[fusion_key]"
      ]
    },
    {
      "cell_type": "markdown",
      "metadata": {
        "id": "XuWPkVgIbodl"
      },
      "source": [
        "#### Set up No. of Parties, Party to be Erased, and Attack Parameters"
      ]
    },
    {
      "cell_type": "code",
      "execution_count": 4,
      "metadata": {
        "colab": {
          "base_uri": "https://localhost:8080/"
        },
        "id": "blwIyJDJbodl",
        "outputId": "753edb79-71a0-4ff1-abe8-b8c5e2da337c"
      },
      "outputs": [
        {
          "name": "stdout",
          "output_type": "stream",
          "text": [
            "Number of samples erased party: 12000\n",
            "Number of samples other party: 12000\n"
          ]
        }
      ],
      "source": [
        "num_parties = 5\n",
        "scale = 1\n",
        "#Select the party that I would like to erase (ex: 3)\n",
        "party_to_be_erased = 0\n",
        "\n",
        "num_samples_erased_party = int(60000 / num_parties * scale)\n",
        "num_samples_per_party = int((60000 - num_samples_erased_party)/(num_parties - 1))\n",
        "print('Number of samples erased party:', num_samples_erased_party)\n",
        "print('Number of samples other party:', num_samples_per_party)"
      ]
    },
    {
      "cell_type": "markdown",
      "metadata": {
        "id": "2zidgMsibodl"
      },
      "source": [
        "### 2. Load data\n",
        "<a id='section_2'></a>"
      ]
    },
    {
      "cell_type": "code",
      "execution_count": 5,
      "metadata": {
        "id": "g60G9SbSbodm"
      },
      "outputs": [],
      "source": [
        "(x_raw, y_raw), (x_raw_test, y_raw_test), min_, max_ = load_mnist(raw=True)\n",
        "\n",
        "x_train, y_train = preprocess(x_raw, y_raw)\n",
        "x_test, y_test = preprocess(x_raw_test, y_raw_test)\n",
        "\n",
        "n_train = np.shape(y_train)[0]\n",
        "shuffled_indices = np.arange(n_train)\n",
        "np.random.shuffle(shuffled_indices)\n",
        "x_train = x_train[shuffled_indices]\n",
        "y_train = y_train[shuffled_indices]"
      ]
    },
    {
      "cell_type": "markdown",
      "metadata": {},
      "source": [
        "Create Trainloader\n",
        "\n",
        "In this Notebook we are going to create it by the following principle:\n",
        " - Each client will have 50% of it's dataset given by classes common among all the clients\n",
        " - Remaining 50% will be given to each client and will be different among different clients\n",
        "\n",
        "Example:\n",
        "client 3 will have 50% given by the labels: [0,1,2,3,4]. 50% will be with data coming just from the label [7]"
      ]
    },
    {
      "cell_type": "code",
      "execution_count": 6,
      "metadata": {
        "id": "nTXoPOPqlrEH"
      },
      "outputs": [],
      "source": [
        "all_indices = np.arange(len(y_train))\n",
        "common_classes_indices = all_indices[np.sum(y_train*np.array([1,1,1,1,1,0,0,0,0,0]), axis = 1).astype(bool)]\n",
        "list_clients_dataset_indices = np.split(common_classes_indices[:-(len(common_classes_indices)%5)], 5)\n",
        "\n",
        "for i in range(5,10):\n",
        "  label = [0,0,0,0,0,0,0,0,0,0]\n",
        "  label[i] = 1\n",
        "  indx = all_indices[np.sum(y_train*np.array(label), axis = 1).astype(bool)]\n",
        "  list_clients_dataset_indices[i-5] = np.concatenate((list_clients_dataset_indices[i-5], indx[:len(indx)//5]))\n",
        "\n",
        "x_train_ch = np.expand_dims(x_train, axis=1)\n",
        "y_train_c = np.argmax(y_train, axis=1).astype(int)\n",
        "trainloader_lst = []\n",
        "for indices in list_clients_dataset_indices:\n",
        "  ds = TensorDataset(torch.Tensor(x_train_ch[indices]), torch.Tensor(y_train_c[indices]).long())\n",
        "  trainloader_lst.append(DataLoader(ds, batch_size=128, shuffle=True))\n",
        "\n",
        "x_test_pt = np.expand_dims(x_test, axis = 1)\n",
        "y_test_pt = np.argmax(y_test,axis=1).astype(int)\n",
        "dataset_test = TensorDataset(torch.Tensor(x_test_pt), torch.Tensor(y_test_pt).long())\n",
        "testloader = DataLoader(dataset_test, batch_size=1000, shuffle=False)"
      ]
    },
    {
      "cell_type": "code",
      "execution_count": 7,
      "metadata": {},
      "outputs": [
        {
          "data": {
            "image/png": "[encoded data removed]",
            "text/plain": [
              "<Figure size 1400x500 with 6 Axes>"
            ]
          },
          "metadata": {},
          "output_type": "display_data"
        }
      ],
      "source": [
        "client_stats=[[]for i in range(5)]\n",
        "for client in range(5):\n",
        "    for category in range(10):\n",
        "        client_indices=list_clients_dataset_indices[client]\n",
        "        count=0\n",
        "        for i in client_indices:\n",
        "            if y_train_c[i]==category:\n",
        "                count+=1\n",
        "        client_stats[client].append(count)\n",
        "\n",
        "axs = fig, axs = plt.subplots(2, 3, figsize=(14, 5))\n",
        "for i,client in enumerate(client_stats):\n",
        "    axs[i//3][i%3].bar(range(10),client)\n",
        "    axs[i//3][i%3].set_title('Client '+str(i))\n",
        "    axs[i//3][i%3].set_xticks(range(10))\n",
        "    axs[i//3][i%3].set_xticklabels(range(10))\n",
        "    axs[i//3][i%3].set_xlabel('Category')\n",
        "    axs[i//3][i%3].set_ylabel('Number of samples')\n",
        "\n",
        "plt.tight_layout()\n",
        "plt.show()\n"
      ]
    },
    {
      "cell_type": "markdown",
      "metadata": {
        "id": "axJ7G-v3bodq"
      },
      "source": [
        "## 2. Train the FL Model\n",
        "<a id='section_3'></a>"
      ]
    },
    {
      "cell_type": "code",
      "execution_count": 8,
      "metadata": {
        "id": "OidAXsNCbodq"
      },
      "outputs": [],
      "source": [
        "num_of_repeats = 1\n",
        "num_fl_rounds = 50\n",
        "\n",
        "#fusion_types = ['FedAvg','Retrain']\n",
        "fusion_types = ['FedAvg']\n",
        "fusion_types_unlearn = ['Retrain', 'Unlearn']\n",
        "\n",
        "num_updates_in_epoch = None\n",
        "num_local_epochs = 1\n",
        "\n",
        "dist_Retrain = {}\n",
        "loss_fed = {}\n",
        "grad_fed = {}\n",
        "clean_accuracy = {}\n",
        "pois_accuracy = {}\n",
        "for fusion_key in fusion_types:\n",
        "    loss_fed[fusion_key] = np.zeros(num_fl_rounds)\n",
        "    grad_fed[fusion_key] = np.zeros(num_fl_rounds)\n",
        "    clean_accuracy[fusion_key] = np.zeros(num_fl_rounds)\n",
        "    pois_accuracy[fusion_key] = np.zeros(num_fl_rounds)\n",
        "    if fusion_key != 'Retrain':\n",
        "        dist_Retrain[fusion_key] = np.zeros(num_fl_rounds)"
      ]
    },
    {
      "cell_type": "markdown",
      "metadata": {
        "id": "eK4uFm0mbodq"
      },
      "source": [
        "Train and evaluate the FL Model"
      ]
    },
    {
      "cell_type": "code",
      "execution_count": 9,
      "metadata": {
        "id": "69A_c5jVbodq"
      },
      "outputs": [],
      "source": [
        "class FLNet2(nn.Sequential):\n",
        "    def __init__(self):\n",
        "        super(FLNet2, self).__init__(\n",
        "            nn.Conv2d(1, 32, 5, padding=2),\n",
        "            nn.ReLU(),\n",
        "            nn.MaxPool2d(2),\n",
        "            nn.Conv2d(32, 64, 5, padding=2),\n",
        "            nn.ReLU(),\n",
        "            nn.MaxPool2d(2),\n",
        "            nn.Flatten(),\n",
        "            nn.Linear(64 * 7 * 7, 512),\n",
        "            nn.ReLU(),\n",
        "            nn.Linear(512, 10)\n",
        "        )"
      ]
    },
    {
      "cell_type": "code",
      "execution_count": 10,
      "metadata": {
        "colab": {
          "base_uri": "https://localhost:8080/"
        },
        "id": "a4fZ8c9mbodq",
        "outputId": "1dfb2bbd-7403-45d7-aadd-f20de824e6ba"
      },
      "outputs": [],
      "source": [
        "if TRAIN:\n",
        "    device = 'cuda' if torch.cuda.is_available() else 'cpu'\n",
        "    if device == 'cuda':\n",
        "        torch.cuda.empty_cache()\n",
        "    party_models_dict = {}\n",
        "    initial_model = FLNet2()\n",
        "    model_dict = {}\n",
        "\n",
        "    for fusion_key in fusion_types:\n",
        "        model_dict[fusion_key] = copy.deepcopy(initial_model.state_dict())\n",
        "\n",
        "    for round_num in range(num_fl_rounds):\n",
        "        local_training = LocalTraining(num_updates_in_epoch=num_updates_in_epoch, num_local_epochs=num_local_epochs)\n",
        "\n",
        "        for fusion_key in fusion_types:\n",
        "            fusion = FL_round_fusion_selection(num_parties=num_parties, fusion_key=fusion_key)\n",
        "\n",
        "            current_model_state_dict = copy.deepcopy(model_dict[fusion_key])\n",
        "            model = copy.deepcopy(initial_model)\n",
        "            model.load_state_dict(current_model_state_dict)\n",
        "\n",
        "            ##################### Local Training Round #############################\n",
        "            party_models = []\n",
        "            party_losses = []\n",
        "            party_grad   = []        \n",
        "            for party_id in range(num_parties):\n",
        "\n",
        "                if fusion_key == 'Retrain':\n",
        "                    break\n",
        "                else:\n",
        "                    model = copy.deepcopy(model).to(device)\n",
        "                    model_update, party_loss = local_training.train(model=model,\n",
        "                                                trainloader=trainloader_lst[party_id],\n",
        "                                                device = device,\n",
        "                                                criterion=None, opt=None)\n",
        "\n",
        "                    party_models.append(copy.deepcopy(model_update.to('cpu')))\n",
        "                    party_losses.append(party_loss)\n",
        "\n",
        "                grad_norm = 0.0\n",
        "                for param in model_update.parameters():\n",
        "                    if param.grad is not None:\n",
        "                        grad_norm += torch.norm(param.grad).cpu().item()\n",
        "            \n",
        "                party_grad.append(grad_norm)   \n",
        "            \n",
        "            grad_fed[fusion_key][round_num] += (np.mean(party_grad)/num_of_repeats) \n",
        "\n",
        "            loss_fed[fusion_key][round_num] += (np.mean(party_losses)/num_of_repeats)\n",
        "            ######################################################################\n",
        "\n",
        "            current_model_state_dict = fusion.fusion_algo(party_models=party_models, current_model=model)\n",
        "\n",
        "            model_dict[fusion_key] = copy.deepcopy(current_model_state_dict)\n",
        "            party_models_dict[fusion_key] = party_models\n",
        "\n",
        "            eval_model = FLNet2()\n",
        "            eval_model.load_state_dict(current_model_state_dict)\n",
        "            clean_acc = Utils.evaluate(testloader, eval_model)\n",
        "            clean_accuracy[fusion_key][round_num] = clean_acc\n",
        "            print(f'Global Clean Accuracy {fusion_key}, round {round_num} = {clean_acc}')"
      ]
    },
    {
      "cell_type": "code",
      "execution_count": 11,
      "metadata": {
        "id": "P5AI3tcrKmdH"
      },
      "outputs": [],
      "source": [
        "if TRAIN:\n",
        "    def save_model_with_unique_name(model, base_path):\n",
        "        # Split the base_path into the file name and extension\n",
        "        base, ext = os.path.splitext(base_path)\n",
        "        new_path = base_path\n",
        "        counter = 1\n",
        "        \n",
        "        # Check if the file exists and update the filename if needed\n",
        "        while os.path.exists(new_path):\n",
        "            new_path = f\"{base}({counter}){ext}\"\n",
        "            counter += 1\n",
        "\n",
        "        torch.save(model.state_dict(), new_path)\n",
        "        print(f\"Model saved to {new_path}\")\n",
        "\n",
        "    eval_model = FLNet2()\n",
        "    eval_model.load_state_dict(current_model_state_dict)\n",
        "    save_model_with_unique_name(eval_model, save_path)"
      ]
    },
    {
      "cell_type": "code",
      "execution_count": 12,
      "metadata": {},
      "outputs": [
        {
          "data": {
            "text/plain": [
              "<All keys matched successfully>"
            ]
          },
          "execution_count": 12,
          "metadata": {},
          "output_type": "execute_result"
        }
      ],
      "source": [
        "saved_model = FLNet2()\n",
        "saved_model.load_state_dict(torch.load(save_path, weights_only=True))"
      ]
    },
    {
      "cell_type": "code",
      "execution_count": 13,
      "metadata": {
        "id": "ywoEitAZbodq"
      },
      "outputs": [],
      "source": [
        "def create_dataloader(idx_client, _list_trainloader, percentage_to_remove):\n",
        "    list_trainloader = copy.deepcopy(_list_trainloader)\n",
        "    client_dataset = list_trainloader[idx_client].dataset\n",
        "\n",
        "    num_samples_to_remove = int(len(client_dataset) * percentage_to_remove)\n",
        "    num_samples_to_keep = len(client_dataset) - num_samples_to_remove\n",
        "    \n",
        "    if num_samples_to_keep != 0:\n",
        "        new_dataset = TensorDataset(client_dataset[:num_samples_to_keep][0], client_dataset[:num_samples_to_keep][1])\n",
        "        list_trainloader[idx_client] = DataLoader(new_dataset, batch_size=128)\n",
        "\n",
        "    else:\n",
        "        list_trainloader.pop(idx_client)\n",
        "\n",
        "    return list_trainloader, num_samples_to_remove"
      ]
    },
    {
      "cell_type": "code",
      "execution_count": 14,
      "metadata": {},
      "outputs": [],
      "source": [
        "from torch.utils.data import ConcatDataset\n",
        "\n",
        "def analyze_removal(_model, _trainloader_list):\n",
        "    remove_percentages = np.linspace(0, 1, 10)\n",
        "    trainloader_list = copy.deepcopy(_trainloader_list)\n",
        "\n",
        "    device = 'cuda' if torch.cuda.is_available() else 'cpu'\n",
        "\n",
        "    model = copy.deepcopy(_model).to(device)\n",
        "    criterion = nn.CrossEntropyLoss()\n",
        "\n",
        "\n",
        "    # Shuffle training datasets for each client only at the beginning\n",
        "    # (this is done to avoid fictitious determinism in the results)\n",
        "    training_datasets = [loader.dataset for loader in trainloader_list]\n",
        "    shuffled_training_datasets = []\n",
        "    for dataset in training_datasets:\n",
        "        indices = np.random.permutation(len(dataset))\n",
        "        shuffled_training_datasets.append(TensorDataset(dataset[indices][0], dataset[indices][1]))\n",
        "    shuffled_trainloader_list = [DataLoader(dataset, batch_size=128) for dataset in shuffled_training_datasets]\n",
        "\n",
        "    results = []\n",
        "\n",
        "    for remove_percentage in remove_percentages:\n",
        "\n",
        "        trainloader_list, _ = create_dataloader(party_to_be_erased, shuffled_trainloader_list, remove_percentage)\n",
        "        \n",
        "        client_dataset = ConcatDataset([loader.dataset for loader in trainloader_list])\n",
        "        loader = DataLoader(client_dataset, batch_size=128)\n",
        "\n",
        "        loss_sum = 0\n",
        "        grad_sum = torch.zeros_like(torch.cat([param.flatten() for param in model.parameters()]))\n",
        "        number_of_batches = 0\n",
        "\n",
        "        for inputs, targets in loader:\n",
        "            inputs, targets = inputs.to(device), targets.to(device)\n",
        "            # Forward pass\n",
        "            model.zero_grad()\n",
        "            outputs = model(inputs)\n",
        "            loss = criterion(outputs, targets)\n",
        "            loss.backward()\n",
        "            \n",
        "            # Sum quantities\n",
        "            loss_sum += loss.cpu().item()\n",
        "            grad_sum += torch.cat([param.grad.flatten() for param in model.parameters()])\n",
        "            number_of_batches += 1\n",
        "            \n",
        "        grad_norm = torch.norm(grad_sum).cpu().item() / number_of_batches\n",
        "        loss = loss_sum / number_of_batches\n",
        "\n",
        "        \n",
        "        # Store results\n",
        "        results.append({\n",
        "            'removal_percentage': remove_percentage,\n",
        "            'gradient_norm': grad_norm,\n",
        "            'loss': loss\n",
        "        })\n",
        "        \n",
        "        print(f\"Removal percentage: {remove_percentage:.2f}\")\n",
        "        print(f\"  - Number of samples: {sum([len(loader.dataset) for loader in trainloader_list])}\")\n",
        "        print(f\"  - Gradient norm: {grad_norm:.4f}\")\n",
        "        print(f\"  - Loss: {loss:.4f}\")\n",
        "        print(\"-\" * 50)\n",
        "\n",
        "    # Convert results to DataFrame for easier analysis\n",
        "    results_df = pd.DataFrame(results)\n",
        "\n",
        "    # Create plots\n",
        "    fig, axs = plt.subplots(1, 2, figsize=(14, 5))\n",
        "\n",
        "    # Plot gradient norm vs Removal percentage\n",
        "    axs[0].plot(results_df['removal_percentage'], results_df['gradient_norm'], 'o-')\n",
        "    axs[0].set_title('Gradient Norm vs. Removal Percentage')\n",
        "    axs[0].set_xlabel('Removal Percentage')\n",
        "    axs[0].set_ylabel('Gradient Norm')\n",
        "    axs[0].grid(True)\n",
        "\n",
        "    # Plot loss vs Removal percentage\n",
        "    axs[1].plot(results_df['removal_percentage'], results_df['loss'], 'o-')\n",
        "    axs[1].set_title('Loss vs. Removal Percentage')\n",
        "    axs[1].set_xlabel('Removal Percentage')\n",
        "    axs[1].set_ylabel('Loss')\n",
        "    axs[1].grid(True)\n",
        "\n",
        "    plt.tight_layout()\n",
        "    plt.show()\n",
        "\n",
        "#analyze_removal(saved_model, trainloader_lst)"
      ]
    },
    {
      "cell_type": "code",
      "execution_count": 15,
      "metadata": {},
      "outputs": [],
      "source": [
        "# Make sure you have the proper imports\n",
        "from backpack import backpack, extend\n",
        "from backpack.extensions import DiagHessian\n",
        "\n",
        "def compute_diag_hessian(model, criterion, inputs, targets, device='cpu'):\n",
        "    inputs = inputs.to(device)\n",
        "    targets = targets.to(device)\n",
        "\n",
        "    model.zero_grad()\n",
        "    outputs = model(inputs)\n",
        "    loss = criterion(outputs, targets)\n",
        "\n",
        "    with backpack(DiagHessian()):\n",
        "        loss.backward()\n",
        "\n",
        "    diag_hessian_params = {}\n",
        "    for name, param in model.named_parameters():\n",
        "        if hasattr(param, 'diag_h'):\n",
        "            if param.requires_grad:\n",
        "                diag_hessian_params[name] = param.diag_h.clone().detach()\n",
        "                del param.diag_h\n",
        "\n",
        "    return diag_hessian_params\n",
        "\n",
        "def calculate_accumulated_diag_hessian(dataloader_list, model, criterion, weights=None):\n",
        "    device = 'cuda' if torch.cuda.is_available() else 'cpu'\n",
        "    model = model.to(device)\n",
        "    \n",
        "    # Store Hessians and batch counts per client\n",
        "    client_hessians = []\n",
        "    total_batches = 0\n",
        "\n",
        "    # Calculate diagonal Hessian for each client\n",
        "    for loader_idx, loader in enumerate(dataloader_list):\n",
        "        accumulated_diag_h = {}\n",
        "        print(f\"Calculating diagonal Hessian for client {loader_idx}\")\n",
        "        \n",
        "        for batch_idx, (inputs, targets) in enumerate(loader):\n",
        "            # Compute diagonal Hessian for this batch\n",
        "            diag_h = compute_diag_hessian(model, criterion, inputs, targets, device=device)\n",
        "            \n",
        "            # Accumulate values\n",
        "            for name, value in diag_h.items():\n",
        "                if name not in accumulated_diag_h:\n",
        "                    accumulated_diag_h[name] = value\n",
        "                else:\n",
        "                    accumulated_diag_h[name] += value\n",
        "            \n",
        "            total_batches += 1\n",
        "        \n",
        "        # Store results for this client\n",
        "        client_hessians.append(accumulated_diag_h)\n",
        "\n",
        "\n",
        "    # Normalize client importance weights\n",
        "    if weights is None:\n",
        "        weights = [1.0] * len(dataloader_list)\n",
        "\n",
        "    # Weighted average of client Hessians\n",
        "    weighted_avg_hessian = {}\n",
        "    for name in client_hessians[0].keys():\n",
        "        weighted_avg_hessian[name] = sum(\n",
        "            client_hessians[i][name] * weights[i] for i in range(len(client_hessians))\n",
        "        ) / total_batches\n",
        "    \n",
        "    return weighted_avg_hessian\n"
      ]
    },
    {
      "cell_type": "code",
      "execution_count": 16,
      "metadata": {},
      "outputs": [],
      "source": [
        "trainloader_list = [DataLoader(dloader.dataset, batch_size=128) for dloader in trainloader_lst]\n",
        "#trainloader_list_removed, num_removed = create_dataloader(party_to_be_erased, trainloader_list, 0.8) \n",
        "\n",
        "#Use the model if coming from the training or load if you have it downloaded\n",
        "final_model = copy.deepcopy(saved_model)\n",
        "final_model = extend(final_model)\n",
        "\n",
        "criterion = nn.CrossEntropyLoss()\n",
        "criterion = extend(criterion)\n",
        "\n",
        "special_weight = 0.01\n",
        "\n",
        "# Calculate equal weights for others\n",
        "other_weight = 1\n",
        "\n",
        "# Create weights list\n",
        "weights = [other_weight] * len(trainloader_list)\n",
        "weights[party_to_be_erased] = special_weight\n"
      ]
    },
    {
      "cell_type": "markdown",
      "metadata": {},
      "source": [
        "Compute Hessians"
      ]
    },
    {
      "cell_type": "code",
      "execution_count": 17,
      "metadata": {},
      "outputs": [
        {
          "name": "stdout",
          "output_type": "stream",
          "text": [
            "Calculating diagonal Hessian for client 0\n",
            "Calculating diagonal Hessian for client 1\n",
            "Calculating diagonal Hessian for client 2\n",
            "Calculating diagonal Hessian for client 3\n",
            "Calculating diagonal Hessian for client 4\n",
            "Calculating diagonal Hessian for client 0\n",
            "Calculating diagonal Hessian for client 1\n",
            "Calculating diagonal Hessian for client 2\n",
            "Calculating diagonal Hessian for client 3\n",
            "Calculating diagonal Hessian for client 4\n"
          ]
        }
      ],
      "source": [
        "if COMPUTE_HESSIAN:\n",
        "    accumulated_diag_h = calculate_accumulated_diag_hessian(trainloader_list, final_model, criterion)\n",
        "    accumulated_diag_h_removed = calculate_accumulated_diag_hessian(trainloader_list, final_model, criterion, weights)\n"
      ]
    },
    {
      "cell_type": "code",
      "execution_count": 18,
      "metadata": {},
      "outputs": [],
      "source": [
        "# Make sure you have the proper imports\n",
        "from backpack import backpack, extend\n",
        "from backpack.extensions import DiagHessian\n",
        "\n",
        "def compute_diag_hessian(model, criterion, inputs, targets, device=\"cuda\"):\n",
        "    inputs = inputs.to(device)\n",
        "    targets = targets.to(device)\n",
        "\n",
        "    model.zero_grad()\n",
        "    outputs = model(inputs)\n",
        "    loss = criterion(outputs, targets)\n",
        "\n",
        "    with backpack(DiagHessian()):\n",
        "        loss.backward()\n",
        "\n",
        "    diag_hessian_params = {}\n",
        "    for name, param in model.named_parameters():\n",
        "        if hasattr(param, 'diag_h'):\n",
        "            if param.requires_grad:\n",
        "                diag_hessian_params[name] = param.diag_h.clone().detach()\n",
        "                del param.diag_h\n",
        "\n",
        "    return diag_hessian_params\n",
        "\n",
        "def calculate_accumulated_diag_hessian_bis(loader, model, criterion, weights=None):\n",
        "    device = 'cuda' if torch.cuda.is_available() else 'cpu'\n",
        "    model = model.to(device)\n",
        "\n",
        "    total_batches = 0\n",
        "    for batch_idx, (inputs, targets) in enumerate(loader):\n",
        "        # Compute diagonal Hessian for this batch\n",
        "        diag_h = compute_diag_hessian(model, criterion, inputs, targets, device=device)\n",
        "        \n",
        "        # Accumulate values\n",
        "        for name, value in diag_h.items():\n",
        "            if name not in accumulated_diag_h:\n",
        "                accumulated_diag_h[name] = value\n",
        "            else:\n",
        "                accumulated_diag_h[name] += value\n",
        "        \n",
        "        total_batches += 1\n",
        "        \n",
        "    return accumulated_diag_h"
      ]
    },
    {
      "cell_type": "code",
      "execution_count": null,
      "metadata": {},
      "outputs": [
        {
          "ename": "OutOfMemoryError",
          "evalue": "CUDA out of memory. Tried to allocate 20.00 MiB. GPU 0 has a total capacity of 6.00 GiB of which 0 bytes is free. Of the allocated memory 11.65 GiB is allocated by PyTorch, and 1021.71 MiB is reserved by PyTorch but unallocated. If reserved but unallocated memory is large try setting PYTORCH_CUDA_ALLOC_CONF=expandable_segments:True to avoid fragmentation.  See documentation for Memory Management  (https://pytorch.org/docs/stable/notes/cuda.html#environment-variables)",
          "output_type": "error",
          "traceback": [
            "\u001b[1;31m---------------------------------------------------------------------------\u001b[0m",
            "\u001b[1;31mOutOfMemoryError\u001b[0m                          Traceback (most recent call last)",
            "Cell \u001b[1;32mIn[141], line 66\u001b[0m\n\u001b[0;32m     63\u001b[0m final_model \u001b[38;5;241m=\u001b[39m copy\u001b[38;5;241m.\u001b[39mdeepcopy(saved_model)\n\u001b[0;32m     64\u001b[0m criterion \u001b[38;5;241m=\u001b[39m nn\u001b[38;5;241m.\u001b[39mCrossEntropyLoss()\n\u001b[1;32m---> 66\u001b[0m diag_hess \u001b[38;5;241m=\u001b[39m compute_diag_hessian_naive_subset(final_model, criterion, trainloader_list[\u001b[38;5;241m0\u001b[39m], device\u001b[38;5;241m=\u001b[39m\u001b[38;5;124m'\u001b[39m\u001b[38;5;124mcuda\u001b[39m\u001b[38;5;124m'\u001b[39m)\n\u001b[0;32m     67\u001b[0m \u001b[38;5;28;01mfor\u001b[39;00m name, diag_val \u001b[38;5;129;01min\u001b[39;00m diag_hess\u001b[38;5;241m.\u001b[39mitems():\n\u001b[0;32m     68\u001b[0m     \u001b[38;5;28mprint\u001b[39m(\u001b[38;5;124mf\u001b[39m\u001b[38;5;124m\"\u001b[39m\u001b[38;5;124mParam: \u001b[39m\u001b[38;5;132;01m{\u001b[39;00mname\u001b[38;5;132;01m}\u001b[39;00m\u001b[38;5;124m, Hessian diagonal shape = \u001b[39m\u001b[38;5;132;01m{\u001b[39;00mdiag_val\u001b[38;5;241m.\u001b[39mshape\u001b[38;5;132;01m}\u001b[39;00m\u001b[38;5;124m\"\u001b[39m)\n",
            "Cell \u001b[1;32mIn[141], line 44\u001b[0m, in \u001b[0;36mcompute_diag_hessian_naive_subset\u001b[1;34m(model, criterion, dataloader, device)\u001b[0m\n\u001b[0;32m     40\u001b[0m diag_elements \u001b[38;5;241m=\u001b[39m []\n\u001b[0;32m     42\u001b[0m \u001b[38;5;28;01mfor\u001b[39;00m i \u001b[38;5;129;01min\u001b[39;00m \u001b[38;5;28mrange\u001b[39m(grad_param_flat\u001b[38;5;241m.\u001b[39msize(\u001b[38;5;241m0\u001b[39m)):\n\u001b[0;32m     43\u001b[0m     \u001b[38;5;66;03m# Compute the second derivative of grad_param_flat[i] with respect to param.\u001b[39;00m\n\u001b[1;32m---> 44\u001b[0m     second_deriv \u001b[38;5;241m=\u001b[39m torch\u001b[38;5;241m.\u001b[39mautograd\u001b[38;5;241m.\u001b[39mgrad(\n\u001b[0;32m     45\u001b[0m         grad_param_flat[i],\n\u001b[0;32m     46\u001b[0m         param,\n\u001b[0;32m     47\u001b[0m         retain_graph\u001b[38;5;241m=\u001b[39m\u001b[38;5;28;01mTrue\u001b[39;00m\n\u001b[0;32m     48\u001b[0m     )[\u001b[38;5;241m0\u001b[39m]\n\u001b[0;32m     49\u001b[0m     diag_i \u001b[38;5;241m=\u001b[39m second_deriv\u001b[38;5;241m.\u001b[39mview(\u001b[38;5;241m-\u001b[39m\u001b[38;5;241m1\u001b[39m)[i]\n\u001b[0;32m     50\u001b[0m     diag_elements\u001b[38;5;241m.\u001b[39mappend(diag_i\u001b[38;5;241m.\u001b[39mdetach())\n",
            "File \u001b[1;32mt:\\Programmi\\envs\\pytorch\\Lib\\site-packages\\torch\\autograd\\__init__.py:496\u001b[0m, in \u001b[0;36mgrad\u001b[1;34m(outputs, inputs, grad_outputs, retain_graph, create_graph, only_inputs, allow_unused, is_grads_batched, materialize_grads)\u001b[0m\n\u001b[0;32m    492\u001b[0m     result \u001b[38;5;241m=\u001b[39m _vmap_internals\u001b[38;5;241m.\u001b[39m_vmap(vjp, \u001b[38;5;241m0\u001b[39m, \u001b[38;5;241m0\u001b[39m, allow_none_pass_through\u001b[38;5;241m=\u001b[39m\u001b[38;5;28;01mTrue\u001b[39;00m)(\n\u001b[0;32m    493\u001b[0m         grad_outputs_\n\u001b[0;32m    494\u001b[0m     )\n\u001b[0;32m    495\u001b[0m \u001b[38;5;28;01melse\u001b[39;00m:\n\u001b[1;32m--> 496\u001b[0m     result \u001b[38;5;241m=\u001b[39m _engine_run_backward(\n\u001b[0;32m    497\u001b[0m         outputs,\n\u001b[0;32m    498\u001b[0m         grad_outputs_,\n\u001b[0;32m    499\u001b[0m         retain_graph,\n\u001b[0;32m    500\u001b[0m         create_graph,\n\u001b[0;32m    501\u001b[0m         inputs,\n\u001b[0;32m    502\u001b[0m         allow_unused,\n\u001b[0;32m    503\u001b[0m         accumulate_grad\u001b[38;5;241m=\u001b[39m\u001b[38;5;28;01mFalse\u001b[39;00m,\n\u001b[0;32m    504\u001b[0m     )\n\u001b[0;32m    505\u001b[0m \u001b[38;5;28;01mif\u001b[39;00m materialize_grads:\n\u001b[0;32m    506\u001b[0m     \u001b[38;5;28;01mif\u001b[39;00m \u001b[38;5;28many\u001b[39m(\n\u001b[0;32m    507\u001b[0m         result[i] \u001b[38;5;129;01mis\u001b[39;00m \u001b[38;5;28;01mNone\u001b[39;00m \u001b[38;5;129;01mand\u001b[39;00m \u001b[38;5;129;01mnot\u001b[39;00m is_tensor_like(inputs[i])\n\u001b[0;32m    508\u001b[0m         \u001b[38;5;28;01mfor\u001b[39;00m i \u001b[38;5;129;01min\u001b[39;00m \u001b[38;5;28mrange\u001b[39m(\u001b[38;5;28mlen\u001b[39m(inputs))\n\u001b[0;32m    509\u001b[0m     ):\n",
            "File \u001b[1;32mt:\\Programmi\\envs\\pytorch\\Lib\\site-packages\\torch\\autograd\\graph.py:823\u001b[0m, in \u001b[0;36m_engine_run_backward\u001b[1;34m(t_outputs, *args, **kwargs)\u001b[0m\n\u001b[0;32m    821\u001b[0m     unregister_hooks \u001b[38;5;241m=\u001b[39m _register_logging_hooks_on_whole_graph(t_outputs)\n\u001b[0;32m    822\u001b[0m \u001b[38;5;28;01mtry\u001b[39;00m:\n\u001b[1;32m--> 823\u001b[0m     \u001b[38;5;28;01mreturn\u001b[39;00m Variable\u001b[38;5;241m.\u001b[39m_execution_engine\u001b[38;5;241m.\u001b[39mrun_backward(  \u001b[38;5;66;03m# Calls into the C++ engine to run the backward pass\u001b[39;00m\n\u001b[0;32m    824\u001b[0m         t_outputs, \u001b[38;5;241m*\u001b[39margs, \u001b[38;5;241m*\u001b[39m\u001b[38;5;241m*\u001b[39mkwargs\n\u001b[0;32m    825\u001b[0m     )  \u001b[38;5;66;03m# Calls into the C++ engine to run the backward pass\u001b[39;00m\n\u001b[0;32m    826\u001b[0m \u001b[38;5;28;01mfinally\u001b[39;00m:\n\u001b[0;32m    827\u001b[0m     \u001b[38;5;28;01mif\u001b[39;00m attach_logging_hooks:\n",
            "\u001b[1;31mOutOfMemoryError\u001b[0m: CUDA out of memory. Tried to allocate 20.00 MiB. GPU 0 has a total capacity of 6.00 GiB of which 0 bytes is free. Of the allocated memory 11.65 GiB is allocated by PyTorch, and 1021.71 MiB is reserved by PyTorch but unallocated. If reserved but unallocated memory is large try setting PYTORCH_CUDA_ALLOC_CONF=expandable_segments:True to avoid fragmentation.  See documentation for Memory Management  (https://pytorch.org/docs/stable/notes/cuda.html#environment-variables)"
          ]
        }
      ],
      "source": [
        "def compute_diag_hessian_naive_subset(model, criterion, dataloader, device='cpu'):\n",
        "    \"\"\"\n",
        "    Compute the diagonal of the Hessian for a subset of parameters (here: \"0.weight\", \"3.weight\", \"3.bias\")\n",
        "    using a naive approach. Only the allowed parameters are used in the Hessian computation,\n",
        "    reducing memory usage.\n",
        "    \"\"\"\n",
        "    # Define the allowed parameter names:\n",
        "    allowed_names = [\"7.weight\"]#[\"0.weight\", \"3.weight\", \"9.weight\"]\n",
        "    \n",
        "    device = 'cuda' if torch.cuda.is_available() else device\n",
        "    model.to(device)\n",
        "\n",
        "    accumulated_diag_h = {}\n",
        "    \n",
        "    for batch_idx, (inputs, targets) in enumerate(dataloader):\n",
        "        inputs, targets = inputs.to(device), targets.to(device)\n",
        "        model.zero_grad()\n",
        "        outputs = model(inputs)\n",
        "        loss = criterion(outputs, targets)\n",
        "        \n",
        "        # Filter model parameters to only those in allowed_names\n",
        "        allowed_named_params = [(name, param) for name, param in model.named_parameters() if name in allowed_names]\n",
        "        allowed_params = [param for name, param in allowed_named_params]\n",
        "        \n",
        "        # Compute first derivatives for the allowed parameters with create_graph=True for second derivatives.\n",
        "        grads = torch.autograd.grad(loss, allowed_params, create_graph=True)\n",
        "\n",
        "        diag_hessian = {}\n",
        "        \n",
        "        # For each allowed parameter, compute the element-wise second derivative (diagonal).\n",
        "        for (name, param), grad_param in zip(allowed_named_params, grads):\n",
        "            if not param.requires_grad:\n",
        "                continue\n",
        "\n",
        "            grad_param_flat = grad_param.contiguous().view(-1)\n",
        "            diag_elements = []\n",
        "\n",
        "            for i in range(grad_param_flat.size(0)):\n",
        "                # Compute the second derivative of grad_param_flat[i] with respect to param.\n",
        "                second_deriv = torch.autograd.grad(\n",
        "                    grad_param_flat[i],\n",
        "                    param,\n",
        "                    retain_graph=True\n",
        "                )[0]\n",
        "                diag_i = second_deriv.view(-1)[i]\n",
        "                diag_elements.append(diag_i.detach())\n",
        "\n",
        "            diag_tensor = torch.stack(diag_elements).view(param.size())\n",
        "            diag_hessian[name] = diag_tensor.cpu()\n",
        "\n",
        "        for name, value in diag_hessian.items():\n",
        "            if name not in accumulated_diag_h:\n",
        "                accumulated_diag_h[name] = value.clone()\n",
        "            else:\n",
        "                accumulated_diag_h[name] += value\n",
        "\n",
        "    return diag_hessian"
      ]
    },
    {
      "cell_type": "code",
      "execution_count": null,
      "metadata": {},
      "outputs": [],
      "source": [
        "#Computation of Hessian for Dataloader 0 with Backpack\n",
        "hes_0 = calculate_accumulated_diag_hessian_bis(trainloader_list[0], final_model, criterion)\n",
        "\n",
        "#Computation of Hessian for Dataloader 0 with True Hessian\n",
        "final_model = copy.deepcopy(saved_model)\n",
        "criterion = nn.CrossEntropyLoss()\n",
        "\n",
        "diag_hess = compute_diag_hessian_naive_subset(final_model, criterion, trainloader_list[0], device='cuda')\n",
        "for name, diag_val in diag_hess.items():\n",
        "    print(f\"Param: {name}, Hessian diagonal shape = {diag_val.shape}\")\n",
        "    print(diag_val)\n"
      ]
    },
    {
      "cell_type": "code",
      "execution_count": null,
      "metadata": {},
      "outputs": [
        {
          "name": "stdout",
          "output_type": "stream",
          "text": [
            "tensor(1.4524e-05)\n",
            "tensor(0.0140)\n",
            "tensor([  91.5296,   65.0757,  103.9751, 2502.5317,   43.6319,  176.9136,\n",
            "         121.6272,   25.6781,   36.9404,   51.1104,   35.9400,   54.4431,\n",
            "          62.4935,   21.9108,   84.9790,   44.3573,  121.6477,   87.8692,\n",
            "          34.1538,   59.7291,   96.9662,   53.1176,  163.1805,   47.2024,\n",
            "          86.2189,   37.2162,   57.4116,   26.0272,   23.1469,   15.2220,\n",
            "          18.5192,   63.3218])\n",
            "tensor([nan, inf, inf, nan, nan, inf, nan, nan, inf, nan, nan, inf, inf, nan, inf, inf, nan, inf, inf, nan, nan, inf, nan, nan,\n",
            "        inf, nan, nan, inf, inf, nan, inf, inf])\n"
          ]
        }
      ],
      "source": [
        "import torch.nn.functional as F\n",
        "\n",
        "mse = F.mse_loss(hes_0[\"0.weight\"].cpu(), diag_hess[\"0.weight\"].cpu(), reduction='none')  # shape: [32, 1, 5, 5]\n",
        "per_sample_mse = mse.view(32, -1).mean(dim=1)  \n",
        "print(per_sample_mse.mean())\n",
        "\n",
        "rel_error = (hes_0[\"0.weight\"].cpu() - diag_hess[\"0.weight\"].cpu()).abs() / (diag_hess[\"0.weight\"].abs())  # shape: [32, 1, 5, 5]\n",
        "rel_error_per_sample = rel_error.view(32, -1).mean(dim=1)\n",
        "print(rel_error_per_sample)"
      ]
    },
    {
      "cell_type": "code",
      "execution_count": null,
      "metadata": {},
      "outputs": [
        {
          "name": "stdout",
          "output_type": "stream",
          "text": [
            "5120\n",
            "5120\n",
            "80\n",
            "870\n"
          ]
        },
        {
          "data": {
            "image/png": "[encoded data removed]",
            "text/plain": [
              "<Figure size 640x480 with 1 Axes>"
            ]
          },
          "metadata": {},
          "output_type": "display_data"
        }
      ],
      "source": [
        "flat_a = hes_0[\"0.weight\"].view(-1).cpu().numpy()\n",
        "flat_b = diag_hess[\"0.weight\"].view(-1).cpu().numpy()\n",
        "\n",
        "# Plot histograms\n",
        "plt.hist(flat_a, bins=50, alpha=0.5, label='Backpack')\n",
        "plt.hist(flat_b, bins=50, alpha=0.5, label='True Hessian')\n",
        "plt.legend()\n",
        "plt.title(\"Histogram of Tensor Values\")\n",
        "plt.xlabel(\"Value\")\n",
        "plt.xlim(0, 0.15)\n",
        "plt.ylabel(\"Frequency\")\n",
        "plt.grid(True)\n",
        "plt.show()\n"
      ]
    },
    {
      "cell_type": "code",
      "execution_count": 118,
      "metadata": {},
      "outputs": [
        {
          "data": {
            "image/png": "[encoded data removed]",
            "text/plain": [
              "<Figure size 640x480 with 1 Axes>"
            ]
          },
          "metadata": {},
          "output_type": "display_data"
        }
      ],
      "source": [
        "flat_a = (hes_0[\"0.weight\"].cpu() - diag_hess[\"0.weight\"].cpu())/ diag_hess[\"0.weight\"]                                                         \n",
        "flat_a = flat_a.view(-1).cpu().numpy()\n",
        "# Plot histograms\n",
        "plt.hist(flat_a, bins=50, alpha=0.5, label='Rel Error')\n",
        "plt.legend()\n",
        "plt.title(\"Histogram of Tensor Values\")\n",
        "plt.xlabel(\"Value\")\n",
        "plt.ylabel(\"Frequency\")\n",
        "plt.grid(True)\n",
        "plt.show()"
      ]
    },
    {
      "cell_type": "markdown",
      "metadata": {
        "id": "z00eqTLgZUjz"
      },
      "source": [
        "OUR METHOD"
      ]
    },
    {
      "cell_type": "code",
      "execution_count": 395,
      "metadata": {
        "id": "fC03hVs6ZW7s"
      },
      "outputs": [],
      "source": [
        "def compute_true_info(hessian, hessian_removed, num_removed):\n",
        "    A_list = [torch.empty_like(p) for p in hessian.values()]\n",
        "    B_list = [torch.empty_like(p) for p in hessian.values()]\n",
        "    for i,k in enumerate(hessian.keys()): \n",
        "        print(k)\n",
        "\n",
        "        degeneracies_indices = torch.logical_or(hessian[k]==0,hessian_removed[k]==0)\n",
        "        print(f\"Number of degenaracies: {torch.sum(degeneracies_indices)}\")\n",
        "\n",
        "        ratio = hessian_removed[k]/hessian[k]\n",
        "        A=1/2 * torch.log(ratio)/num_removed\n",
        "        B=1/2 * (1-ratio)/num_removed\n",
        "\n",
        "        A[degeneracies_indices]=0\n",
        "        B[degeneracies_indices]=0\n",
        "\n",
        "        assert torch.sum(torch.isnan(A))==0, f\"NaN values in A: {torch.sum(torch.isnan(A))}\"\n",
        "        assert torch.sum(torch.isnan(B))==0, f\"NaN values in B: {torch.sum(torch.isnan(B))}\"\n",
        "        assert torch.sum(torch.isinf(A))==0, f\"Inf values in A: {torch.sum(torch.isinf(A))}\"\n",
        "        assert torch.sum(torch.isinf(B))==0, f\"Inf values in B: {torch.sum(torch.isinf(B))}\"\n",
        "\n",
        "        A_list[i]=A\n",
        "        B_list[i]=B\n",
        "\n",
        "    C = sum([torch.sum(A_list[i]+B_list[i]).item() for i in range(len(A_list))])\n",
        "\n",
        "    information_true=[(A_list[i]+B_list[i])*C + 2*torch.pow(B_list[i],2) for i in range(len(hessian.keys()))]\n",
        "\n",
        "    return information_true"
      ]
    },
    {
      "cell_type": "code",
      "execution_count": 396,
      "metadata": {
        "colab": {
          "base_uri": "https://localhost:8080/"
        },
        "collapsed": true,
        "id": "mgeUVILJZbnd",
        "outputId": "29f4735c-7cd4-4709-8179-b44b3728eef7"
      },
      "outputs": [
        {
          "name": "stdout",
          "output_type": "stream",
          "text": [
            "0.weight\n",
            "Number of degenaracies: 0\n",
            "0.bias\n",
            "Number of degenaracies: 0\n",
            "3.weight\n",
            "Number of degenaracies: 0\n",
            "3.bias\n",
            "Number of degenaracies: 0\n",
            "7.weight\n",
            "Number of degenaracies: 61029\n",
            "7.bias\n",
            "Number of degenaracies: 8\n",
            "9.weight\n",
            "Number of degenaracies: 80\n",
            "9.bias\n",
            "Number of degenaracies: 0\n"
          ]
        }
      ],
      "source": [
        "if COMPUTE_HESSIAN:  \n",
        "    device = 'cuda' if torch.cuda.is_available() else 'cpu'\n",
        "    #info_true = compute_true_info(accumulated_diag_h, accumulated_diag_h_removed, torch.as_tensor(special_weight))\n",
        "    info_true = compute_true_info(accumulated_diag_h, accumulated_diag_h_removed, torch.as_tensor([1]).to(device))"
      ]
    },
    {
      "cell_type": "code",
      "execution_count": 397,
      "metadata": {},
      "outputs": [],
      "source": [
        "if COMPUTE_HESSIAN:\n",
        "    import pickle\n",
        "\n",
        "    with open('cached/info_true.pkl', 'wb') as f:\n",
        "        pickle.dump(info_true, f)"
      ]
    },
    {
      "cell_type": "markdown",
      "metadata": {},
      "source": [
        "Load hessians"
      ]
    },
    {
      "cell_type": "code",
      "execution_count": 398,
      "metadata": {},
      "outputs": [],
      "source": [
        "import pickle\n",
        "with open('cached/info_true.pkl', 'rb') as f:\n",
        "    info_true = pickle.load(f)"
      ]
    },
    {
      "cell_type": "code",
      "execution_count": 399,
      "metadata": {
        "id": "ModxW028mf5Y"
      },
      "outputs": [],
      "source": [
        "def sum_information_values(information):\n",
        "    # Initialize an empty list to store all flattened tensors\n",
        "    all_values = []\n",
        "\n",
        "    # Iterate through each parameter's information tensor\n",
        "    for tensor in information:\n",
        "        # Flatten the tensor and add to our list\n",
        "        temp=torch.nan_to_num(tensor.flatten())\n",
        "        temp = temp[torch.isinf(temp)==0]\n",
        "        temp = temp[temp!=0]\n",
        "        all_values.append(temp)\n",
        "\n",
        "    # Concatenate all tensors into one large tensor\n",
        "    combined_tensor = torch.cat(all_values)\n",
        "    print(len(combined_tensor))\n",
        "    return combined_tensor\n",
        "\n",
        "def plot_information(information):\n",
        "    combined_tensor = sum_information_values(information)\n",
        "\n",
        "    # Convert to numpy for plotting\n",
        "    values = combined_tensor.detach().cpu().numpy()\n",
        "\n",
        "    # Create the plot\n",
        "    plt.figure(figsize=(10, 6))\n",
        "\n",
        "    #Histogram\n",
        "    plt.subplot(1, 2, 1)\n",
        "    plt.hist(values, alpha=0.7, bins=50)\n",
        "    plt.title('Distribution of Information Values')\n",
        "    plt.xlabel('Value')\n",
        "    plt.ylabel('Frequency')\n",
        "\n",
        "    # Exclude outliers for the second plot (optional)\n",
        "    q1, q3 = np.percentile(values, [0, 98])\n",
        "    iqr = q3 - q1\n",
        "    # lower_bound = q1 - 1.5 * iqr\n",
        "    # upper_bound = q3 + 1.5 * iqr\n",
        "    lower_bound = q1\n",
        "    upper_bound = q3\n",
        "    filtered_values = values[(values >= lower_bound) & (values <= upper_bound)]\n",
        "    print(f\"Number of outliers: {len(values) - len(filtered_values)}\")\n",
        "\n",
        "    # Filtered histogram (without outliers)\n",
        "    plt.subplot(1, 2, 2)\n",
        "    plt.hist(filtered_values, alpha=0.7, bins=30, color='green')\n",
        "    plt.title('Distribution (Outliers Removed)')\n",
        "    plt.xlabel('Value')\n",
        "\n",
        "    plt.tight_layout()\n",
        "    plt.show()\n",
        "\n",
        "    # Print some statistics\n",
        "    print(f\"Sum of all information values: {combined_tensor.sum().item():.6f}\")\n",
        "    print(f\"Mean: {combined_tensor.mean().item()}\")\n",
        "    print(f\"Min: {combined_tensor.min().item()}\")\n",
        "    print(f\"Max: {combined_tensor.max().item()}\")\n",
        "    print(f\"Total number of values: {len(values)}\")\n",
        "\n",
        "    print(f\"Sum of all information values: {filtered_values.sum().item():.6f}\")\n",
        "    print(f\"Mean: {filtered_values.mean().item()}\")\n",
        "    print(f\"Min: {filtered_values.min().item()}\")\n",
        "    print(f\"Max: {filtered_values.max().item()}\")\n",
        "    print(f\"Total number of values: {len(filtered_values)}\")\n",
        "\n",
        "    return combined_tensor.sum().item(), filtered_values.sum().item()"
      ]
    },
    {
      "cell_type": "code",
      "execution_count": 400,
      "metadata": {
        "colab": {
          "base_uri": "https://localhost:8080/",
          "height": 211
        },
        "id": "F4R6HHhMmlt5",
        "outputId": "2c8b6c11-1b48-4702-86be-64b04f0bb913"
      },
      "outputs": [
        {
          "name": "stdout",
          "output_type": "stream",
          "text": [
            "1561743\n",
            "Number of outliers: 31235\n"
          ]
        },
        {
          "data": {
            "image/png": "[encoded data removed]",
            "text/plain": [
              "<Figure size 1000x600 with 2 Axes>"
            ]
          },
          "metadata": {},
          "output_type": "display_data"
        },
        {
          "name": "stdout",
          "output_type": "stream",
          "text": [
            "Sum of all information values: 8665730048.000000\n",
            "Mean: 5548.75537109375\n",
            "Min: 1.7763568394002505e-15\n",
            "Max: 168267.75\n",
            "Total number of values: 1561743\n",
            "Sum of all information values: 4513673216.000000\n",
            "Mean: 2949.134033203125\n",
            "Min: 1.7763568394002505e-15\n",
            "Max: 69367.3203125\n",
            "Total number of values: 1530508\n"
          ]
        },
        {
          "data": {
            "text/plain": [
              "(8665730048.0, 4513673216.0)"
            ]
          },
          "execution_count": 400,
          "metadata": {},
          "output_type": "execute_result"
        }
      ],
      "source": [
        "plot_information(info_true)"
      ]
    },
    {
      "cell_type": "code",
      "execution_count": 401,
      "metadata": {},
      "outputs": [
        {
          "data": {
            "image/png": "[encoded data removed]",
            "text/plain": [
              "<Figure size 640x480 with 1 Axes>"
            ]
          },
          "metadata": {},
          "output_type": "display_data"
        }
      ],
      "source": [
        "info_true=[p.cpu() for p in info_true]\n",
        "infocat = torch.cat([p.flatten() for p in info_true])\n",
        "s_infocat = np.sort(torch.nan_to_num(infocat))\n",
        "\n",
        "#Find elbow\n",
        "# from kneed import KneeLocator\n",
        "# kl = KneeLocator(range(len(s_infocat)), s_infocat, curve='convex', direction='increasing')\n",
        "# #kl.plot_knee()\n",
        "# informative_params = len(s_infocat)-kl.knee\n",
        "# print(f\"Number of informative parameters: {informative_params}\")\n",
        "\n",
        "n=40 # print the last n*informative_params parameters\n",
        "#plt.plot(s_infocat[-informative_params*n:])\n",
        "plt.plot(s_infocat[-30000:])\n",
        "##Plot the knee\n",
        "#plt.axvline(informative_params*(n-1), color='red', linestyle='--')\n",
        "plt.show()\n"
      ]
    },
    {
      "cell_type": "markdown",
      "metadata": {},
      "source": [
        "Parameters reset unlearning"
      ]
    },
    {
      "cell_type": "code",
      "execution_count": 402,
      "metadata": {},
      "outputs": [
        {
          "name": "stdout",
          "output_type": "stream",
          "text": [
            "Accuracy before resetting:\n",
            "Accuracy for client 0: 99.38%\n",
            "Accuracy for client 1: 99.81%\n",
            "Accuracy for client 2: 99.43%\n",
            "Accuracy for client 3: 98.81%\n",
            "Accuracy for client 4: 98.44%\n",
            "Accuracy after resetting:\n",
            "Accuracy for client 0: 99.38%\n",
            "Accuracy for client 1: 99.81%\n",
            "Accuracy for client 2: 99.43%\n",
            "Accuracy for client 3: 98.81%\n",
            "Accuracy for client 4: 98.44%\n"
          ]
        }
      ],
      "source": [
        "treshold = s_infocat[-10000]\n",
        "\n",
        "retrain_param_indices = [torch.argwhere(p >= treshold) for p in info_true]\n",
        "\n",
        "model_reset = copy.deepcopy(saved_model).cpu()\n",
        "model_null = FLNet2()\n",
        "\n",
        "original_parameters = model_reset.state_dict()\n",
        "null_parameters = model_null.state_dict()\n",
        "\n",
        "reset_parameters = {}\n",
        "for i, (name, p) in enumerate(model_reset.named_parameters()):\n",
        "    new_p = original_parameters[name].clone()\n",
        "    null_p = null_parameters[name].clone()\n",
        "    new_p[tuple(retrain_param_indices[i].t())] = null_p[tuple(retrain_param_indices[i].t())]\n",
        "    reset_parameters[name] = new_p\n",
        "\n",
        "model_reset.load_state_dict(reset_parameters)\n",
        "\n",
        "\n",
        "# Compute accuracy for each client\n",
        "def compute_accuracy(model, testloader):\n",
        "    device = 'cuda' if torch.cuda.is_available() else 'cpu'\n",
        "    model = model.to(device)\n",
        "    correct = 0\n",
        "    total = 0\n",
        "    with torch.no_grad():\n",
        "        for inputs, targets in testloader:\n",
        "            inputs, targets = inputs.to(device), targets.to(device)\n",
        "            outputs = model(inputs)\n",
        "            _, predicted = torch.max(outputs.data, 1)\n",
        "            total += targets.size(0)\n",
        "            correct += (predicted == targets).sum().item()\n",
        "    return 100 * correct / total\n",
        "\n",
        "def compute_accuracy_per_client(model, testloader_list):\n",
        "    accuracies = []\n",
        "    for i, testloader in enumerate(testloader_list):\n",
        "        acc = compute_accuracy(model, testloader)\n",
        "        accuracies.append(acc)\n",
        "        print(f\"Accuracy for client {i}: {acc:.2f}%\")\n",
        "\n",
        "print(\"Accuracy before resetting:\")\n",
        "compute_accuracy_per_client(saved_model, trainloader_lst)\n",
        "print(\"Accuracy after resetting:\")\n",
        "compute_accuracy_per_client(model_reset, trainloader_lst)\n",
        "\n"
      ]
    },
    {
      "cell_type": "code",
      "execution_count": 403,
      "metadata": {},
      "outputs": [],
      "source": [
        "import torch\n",
        "import torch.nn as nn\n",
        "\n",
        "class UnlearnNet(nn.Module):\n",
        "    \"\"\"\n",
        "    A module that wraps an existing model and selectively retrains individual \n",
        "    scalar elements (indices) of its parameters while keeping the rest fixed.\n",
        "    \"\"\"\n",
        "\n",
        "    def __init__(self, base_model, indices_to_retrain):\n",
        "        \"\"\"\n",
        "        Args:\n",
        "            base_model (nn.Module): The original model whose parameters \n",
        "                                    we want to partially retrain.\n",
        "            indices_to_retrain (List[torch.Tensor]): For each parameter of \n",
        "                                    'base_model', a tensor of indices indicating \n",
        "                                    which scalar values should be retrained.\n",
        "        \"\"\"\n",
        "        super().__init__()\n",
        "\n",
        "        # We store the base model inside a dictionary to allow\n",
        "        # functional calls later without overshadowing state_dict keys.\n",
        "        self.inner_model = {\"model\": base_model}\n",
        "\n",
        "        # Move any index tensors to CPU and store them.\n",
        "        self.indices_to_retrain = [idx.cpu() for idx in indices_to_retrain]\n",
        "\n",
        "        # Create a copy of the base model's parameters as buffers, where\n",
        "        # we zero out the positions that will be retrained.\n",
        "        base_params = {}\n",
        "        for i, (param_name, param) in enumerate(base_model.named_parameters()):\n",
        "            # Detach a clone of the original parameter\n",
        "            cloned_param = param.clone().detach()\n",
        "            # Zero-out the entries we plan to retrain\n",
        "            if len(self.indices_to_retrain[i]) > 0:\n",
        "                cloned_param[tuple(self.indices_to_retrain[i].t())] = 0\n",
        "            base_params[param_name] = cloned_param\n",
        "\n",
        "        # Register these base parameters as buffers so they are not optimized\n",
        "        for param_name, buf in base_params.items():\n",
        "            buf_name = param_name.replace(\".\", \"_\")\n",
        "            self.register_buffer(f\"base_{buf_name}\", buf)\n",
        "\n",
        "        # Create the new learnable parameters for only the chosen indices\n",
        "        retrain_params_dict = {}\n",
        "        for i, (param_name, param) in enumerate(base_model.named_parameters()):\n",
        "            if len(self.indices_to_retrain[i]) == 0:\n",
        "                continue\n",
        "            # We create a 1D tensor (one entry per retrained element)\n",
        "            key = param_name.replace(\".\", \"_\")\n",
        "            retrain_params_dict[key] = nn.Parameter(\n",
        "                torch.zeros(len(self.indices_to_retrain[i]))\n",
        "            )\n",
        "        self.retrain_params = nn.ParameterDict(retrain_params_dict)\n",
        "\n",
        "        # Build sparse masks to apply the learnable values at the correct indices\n",
        "        sparse_masks = {}\n",
        "        for i, (param_name, param) in enumerate(base_model.named_parameters()):\n",
        "            if len(self.indices_to_retrain[i]) == 0:\n",
        "                continue\n",
        "            # 'retrain_indices' has shape (k, n_dims). Add a final dim to index positions in the retrain-param vector.\n",
        "            retrain_indices = indices_to_retrain[i]\n",
        "            k = retrain_indices.size(0)\n",
        "\n",
        "            # Create an index column [0..k-1], then concatenate it with 'retrain_indices'.\n",
        "            row_idx = torch.arange(k).unsqueeze(1)\n",
        "            final_idx_matrix = torch.cat([retrain_indices, row_idx], dim=1)\n",
        "\n",
        "            # A sparse_coo_tensor expects indices with shape (ndim, nnz). Transpose to (n_dims+1, k).\n",
        "            indices_for_sparse = final_idx_matrix.t().contiguous()\n",
        "\n",
        "            # Append k as the final dimension so each retrained element indexes differently.\n",
        "            mask_shape = tuple(param.size()) + (k,)\n",
        "\n",
        "            # Build the sparse mask with 1.0 at the retrained indices.\n",
        "            key = f\"mask_{param_name.replace('.', '_')}\"\n",
        "            sparse_masks[key] = torch.sparse_coo_tensor(\n",
        "                indices_for_sparse,\n",
        "                torch.ones(k, dtype=torch.float32),\n",
        "                size=mask_shape\n",
        "            )\n",
        "        \n",
        "        # Register these sparse masks as buffers\n",
        "        for mask_name, mask in sparse_masks.items():\n",
        "            self.register_buffer(mask_name, mask.coalesce())\n",
        "\n",
        "    def contract_last_dim_with_vector(self, sp_tensor: torch.Tensor, vec: torch.Tensor) -> torch.Tensor:\n",
        "        \"\"\"\n",
        "        Contract the last dimension of a sparse tensor (shape [..., N]) with\n",
        "        a dense vector of shape (N,), returning a sparse tensor of shape [...].\n",
        "\n",
        "        This effectively applies elementwise multiplication with 'vec'\n",
        "        across the last dimension of 'sp_tensor'.\n",
        "        \"\"\"\n",
        "\n",
        "        # Extract indices (shape [ndim, nnz]) and values (shape [nnz])\n",
        "        indices = sp_tensor.indices()\n",
        "        values = sp_tensor.values()\n",
        "\n",
        "        # Multiply each sparse value by the corresponding element in 'vec'\n",
        "        # indices[-1] indicates which element in 'vec' to use per sparse entry\n",
        "        new_values = values * vec[indices[-1]]\n",
        "\n",
        "        # Create a new sparse_coo_tensor with one fewer dimension\n",
        "        new_shape = sp_tensor.shape[:-1]\n",
        "        new_indices = indices[:-1, :]  # drop the last dimension index row\n",
        "\n",
        "        result_tensor = torch.sparse_coo_tensor(\n",
        "            new_indices,\n",
        "            new_values,\n",
        "            size=new_shape,\n",
        "            dtype=sp_tensor.dtype,\n",
        "            device=sp_tensor.device\n",
        "        )\n",
        "\n",
        "        return result_tensor\n",
        "\n",
        "    def forward(self, x):\n",
        "        \"\"\"\n",
        "        Forward pass using a functional call to the base model. We reconstruct \n",
        "        final parameters by adding the base buffers and the contracted retrain \n",
        "        parameters at the relevant indices.\n",
        "        \"\"\"\n",
        "        model = self.inner_model[\"model\"]\n",
        "        current_state = self.state_dict()\n",
        "\n",
        "        # Rebuild parameter dict from buffers (base params)\n",
        "        final_params = {}\n",
        "        for param_name in model.state_dict().keys():\n",
        "            buf_name = param_name.replace(\".\", \"_\")\n",
        "            final_params[param_name] = current_state[f\"base_{buf_name}\"]\n",
        "\n",
        "        # Add in the learnable values at specified indices\n",
        "        for key, param_vector in self.retrain_params.items():\n",
        "            mask_key = f\"mask_{key}\"\n",
        "            base_key = f\"base_{key}\"\n",
        "            original_param_name = key.replace(\"_\", \".\")\n",
        "\n",
        "            # Convert sparse mask to shape that can be added to base param\n",
        "            sparse_update = self.contract_last_dim_with_vector(\n",
        "                current_state[mask_key], param_vector\n",
        "            )\n",
        "\n",
        "            # Add the sparse update to the base buffer\n",
        "            final_params[original_param_name] = (\n",
        "                current_state[base_key] + sparse_update\n",
        "            )\n",
        "\n",
        "        # Perform a functional forward pass with the reconstructed parameters\n",
        "        return torch.func.functional_call(model, final_params, x)\n",
        "    "
      ]
    },
    {
      "cell_type": "code",
      "execution_count": 404,
      "metadata": {},
      "outputs": [
        {
          "name": "stdout",
          "output_type": "stream",
          "text": [
            "Unlearn model parameters:\n",
            "retrain_params.7_bias torch.Size([1])\n",
            "retrain_params.7_weight torch.Size([9981])\n",
            "retrain_params.9_weight torch.Size([18])\n",
            "Accuracy (reset before retrain)\n",
            "Accuracy for client 0: 99.38%\n",
            "Accuracy for client 1: 99.81%\n",
            "Accuracy for client 2: 99.43%\n",
            "Accuracy for client 3: 98.81%\n",
            "Accuracy for client 4: 98.44%\n"
          ]
        }
      ],
      "source": [
        "#Test\n",
        "unlearn_model = UnlearnNet(model_reset, retrain_param_indices)\n",
        "\n",
        "print(\"Unlearn model parameters:\")\n",
        "for name , param in unlearn_model.named_parameters():\n",
        "    print(name, param.shape)\n",
        "\n",
        "print(\"Accuracy (reset before retrain)\")\n",
        "compute_accuracy_per_client(unlearn_model, trainloader_lst)\n"
      ]
    },
    {
      "cell_type": "code",
      "execution_count": 405,
      "metadata": {},
      "outputs": [],
      "source": [
        "num_of_repeats = 1\n",
        "num_fl_rounds = 10\n",
        "\n",
        "#fusion_types = ['FedAvg','Retrain']\n",
        "fusion_types = ['FedAvg']\n",
        "fusion_types_unlearn = ['Retrain', 'Unlearn']\n",
        "\n",
        "num_updates_in_epoch = None\n",
        "num_local_epochs = 2\n",
        "\n",
        "dist_Retrain = {}\n",
        "loss_fed = {}\n",
        "grad_fed = {}\n",
        "clean_accuracy = {}\n",
        "pois_accuracy = {}\n",
        "for fusion_key in fusion_types:\n",
        "    loss_fed[fusion_key] = np.zeros(num_fl_rounds)\n",
        "    grad_fed[fusion_key] = np.zeros(num_fl_rounds)\n",
        "    clean_accuracy[fusion_key] = np.zeros(num_fl_rounds)\n",
        "    pois_accuracy[fusion_key] = np.zeros(num_fl_rounds)\n",
        "    if fusion_key != 'Retrain':\n",
        "        dist_Retrain[fusion_key] = np.zeros(num_fl_rounds)"
      ]
    },
    {
      "cell_type": "code",
      "execution_count": 406,
      "metadata": {},
      "outputs": [
        {
          "name": "stdout",
          "output_type": "stream",
          "text": [
            "Training party 0\n",
            "Training party 1\n",
            "Training party 2\n",
            "Training party 4\n",
            "Global Clean Accuracy FedAvg, round 0 = 97.44\n",
            "Training party 0\n",
            "Training party 1\n",
            "Training party 2\n",
            "Training party 4\n",
            "Global Clean Accuracy FedAvg, round 1 = 97.44\n",
            "Training party 0\n",
            "Training party 1\n",
            "Training party 2\n",
            "Training party 4\n",
            "Global Clean Accuracy FedAvg, round 2 = 97.44\n",
            "Training party 0\n",
            "Training party 1\n",
            "Training party 2\n",
            "Training party 4\n",
            "Global Clean Accuracy FedAvg, round 3 = 97.44\n",
            "Training party 0\n",
            "Training party 1\n",
            "Training party 2\n",
            "Training party 4\n",
            "Global Clean Accuracy FedAvg, round 4 = 97.44\n",
            "Training party 0\n",
            "Training party 1\n",
            "Training party 2\n",
            "Training party 4\n",
            "Global Clean Accuracy FedAvg, round 5 = 97.44\n",
            "Training party 0\n",
            "Training party 1\n",
            "Training party 2\n",
            "Training party 4\n",
            "Global Clean Accuracy FedAvg, round 6 = 97.44\n",
            "Training party 0\n",
            "Training party 1\n",
            "Training party 2\n",
            "Training party 4\n",
            "Global Clean Accuracy FedAvg, round 7 = 97.44\n",
            "Training party 0\n",
            "Training party 1\n",
            "Training party 2\n",
            "Training party 4\n",
            "Global Clean Accuracy FedAvg, round 8 = 97.44\n",
            "Training party 0\n",
            "Training party 1\n",
            "Training party 2\n",
            "Training party 4\n",
            "Global Clean Accuracy FedAvg, round 9 = 97.44\n"
          ]
        }
      ],
      "source": [
        "device= 'cuda' if torch.cuda.is_available() else 'cpu'\n",
        "if device == 'cuda':\n",
        "    torch.cuda.empty_cache()\n",
        "\n",
        "party_models_dict = {}\n",
        "initial_model = unlearn_model\n",
        "model_dict = {}\n",
        "num_parties = 4\n",
        "\n",
        "for fusion_key in fusion_types:\n",
        "    model_dict[fusion_key] = copy.deepcopy(initial_model.state_dict())\n",
        "\n",
        "for round_num in range(num_fl_rounds):\n",
        "    local_training = LocalTraining(num_updates_in_epoch=num_updates_in_epoch, num_local_epochs=num_local_epochs)\n",
        "\n",
        "    for fusion_key in fusion_types:\n",
        "        fusion = FL_round_fusion_selection(num_parties=num_parties, fusion_key=fusion_key)\n",
        "\n",
        "        current_model_state_dict = copy.deepcopy(model_dict[fusion_key])\n",
        "        model = copy.deepcopy(initial_model)\n",
        "        model.load_state_dict(current_model_state_dict)\n",
        "\n",
        "        ##################### Local Training Round #############################\n",
        "        party_models = []\n",
        "        party_losses = []\n",
        "        party_grad   = []        \n",
        "        for party_id in [0,1,2,4]:\n",
        "\n",
        "            if fusion_key == 'Retrain':\n",
        "                break\n",
        "            else:\n",
        "                print(f\"Training party {party_id}\")\n",
        "                model = UnlearnNet(model_reset, retrain_param_indices)\n",
        "                model.load_state_dict(current_model_state_dict)\n",
        "                model.to(device)\n",
        "                model_update, party_loss = local_training.train(model=model,\n",
        "                                            trainloader=trainloader_lst[party_id],\n",
        "                                            device = device,\n",
        "                                            criterion=None, opt=None)\n",
        "                model_update_copy = UnlearnNet(model_reset, retrain_param_indices)\n",
        "                model_update_copy.load_state_dict(model_update.state_dict())\n",
        "                model_update_copy.to(\"cpu\")\n",
        "                party_models.append(model_update_copy)\n",
        "                party_losses.append(party_loss)\n",
        "\n",
        "            grad_norm = 0.0\n",
        "            for name,param in model_update.named_parameters():\n",
        "                if param.grad is not None:\n",
        "                    grad_norm += torch.norm(param.grad).cpu().item()\n",
        "                    #print(f\"Gradient norm for {name}: {grad_norm}\")\n",
        "                else:\n",
        "                    #print(f\"Gradient is None for {name}\")\n",
        "                    pass\n",
        "        \n",
        "            party_grad.append(grad_norm)   \n",
        "        \n",
        "        grad_fed[fusion_key][round_num] += (np.mean(party_grad)/num_of_repeats) \n",
        "\n",
        "        loss_fed[fusion_key][round_num] += (np.mean(party_losses)/num_of_repeats)\n",
        "        ######################################################################\n",
        "\n",
        "        current_model_state_dict = fusion.fusion_algo(party_models=party_models, current_model=model)\n",
        "\n",
        "        eval_model = copy.deepcopy(initial_model).to(\"cpu\")\n",
        "        eval_model.load_state_dict(current_model_state_dict)\n",
        "        clean_acc = Utils.evaluate(testloader, eval_model)\n",
        "        clean_accuracy[fusion_key][round_num] = clean_acc\n",
        "        print(f'Global Clean Accuracy {fusion_key}, round {round_num} = {clean_acc}')"
      ]
    },
    {
      "cell_type": "code",
      "execution_count": 407,
      "metadata": {},
      "outputs": [
        {
          "name": "stdout",
          "output_type": "stream",
          "text": [
            "Accuracy after retrain\n",
            "Accuracy for client 0: 99.38%\n",
            "Accuracy for client 1: 99.81%\n",
            "Accuracy for client 2: 99.43%\n",
            "Accuracy for client 3: 98.81%\n",
            "Accuracy for client 4: 98.44%\n"
          ]
        }
      ],
      "source": [
        "print(\"Accuracy after retrain\")\n",
        "compute_accuracy_per_client(eval_model, trainloader_lst)"
      ]
    },
    {
      "cell_type": "code",
      "execution_count": 408,
      "metadata": {},
      "outputs": [
        {
          "name": "stdout",
          "output_type": "stream",
          "text": [
            "tensor([ 7, 79])\n",
            "tensor([ 9, 79])\n",
            "tensor([  9, 238])\n",
            "tensor([  9, 353])\n",
            "\n",
            "EUCLIDEAN Distance:\n",
            "Mean: 1131.383835\n",
            "Median: 1096.147827\n",
            "Min: 0.000000\n",
            "Max: 3125.899902\n",
            "Std: 760.759157\n",
            "\n",
            "ELEMENT_DIFF Distance:\n",
            "Mean: 1.897503\n",
            "Median: 2.000000\n",
            "Min: 0.000000\n",
            "Max: 2.000000\n",
            "Std: 0.303632\n"
          ]
        }
      ],
      "source": [
        "client0 = torch.load(\"client0\")\n",
        "client1 = torch.load(\"client1\")\n",
        "client2 = torch.load(\"client2\")\n",
        "client3 = torch.load(\"client3\")\n",
        "client4 = torch.load(\"client4\")\n",
        "\n",
        "# For NumPy arrays\n",
        "import numpy as np\n",
        "\n",
        "def count_equal_arrays(list1, list2):\n",
        "    equal_count = 0\n",
        "    min_length = min(len(list1), len(list2))\n",
        "    \n",
        "    for i in range(min_length):\n",
        "        if np.array_equal(list1[i], list2[i]):\n",
        "            print(list1[i])\n",
        "            equal_count += 1\n",
        "    \n",
        "    return equal_count\n",
        "\n",
        "count_equal_arrays(client4[6], client4[6])\n",
        "\n",
        "import torch\n",
        "import numpy as np\n",
        "\n",
        "def tensor_list_distance(list1, list2, metric='euclidean'):\n",
        "    \"\"\"\n",
        "    Compute various distance metrics between two lists of tensors.\n",
        "    \n",
        "    Args:\n",
        "        list1: First list of tensors\n",
        "        list2: Second list of tensors\n",
        "        metric: Distance metric to use ('euclidean', 'manhattan', 'cosine', 'mean_squared', 'element_diff')\n",
        "        \n",
        "    Returns:\n",
        "        float: The computed distance between the two tensor lists\n",
        "    \"\"\"\n",
        "    # Make sure we only compare up to the length of the shorter list\n",
        "    min_length = min(len(list1), len(list2))\n",
        "    \n",
        "    if min_length == 0:\n",
        "        raise ValueError(\"At least one of the lists is empty\")\n",
        "        \n",
        "    # Initialize distance\n",
        "    distances = []\n",
        "    \n",
        "    # Compute distance for each pair of tensors\n",
        "    for i in range(min_length):\n",
        "        tensor1 = list1[i].float()  # Ensure tensors are float type\n",
        "        tensor2 = list2[i].float()\n",
        "        \n",
        "        if metric == 'euclidean':\n",
        "            # Euclidean distance\n",
        "            dist = torch.sqrt(torch.sum((tensor1 - tensor2) ** 2)).item()\n",
        "            distances.append(dist)\n",
        "            \n",
        "        elif metric == 'manhattan':\n",
        "            # Manhattan (L1) distance\n",
        "            dist = torch.sum(torch.abs(tensor1 - tensor2)).item()\n",
        "            distances.append(dist)\n",
        "            \n",
        "        elif metric == 'cosine':\n",
        "            # Cosine distance (1 - cosine similarity)\n",
        "            dot_product = torch.sum(tensor1 * tensor2)\n",
        "            norm1 = torch.sqrt(torch.sum(tensor1 ** 2))\n",
        "            norm2 = torch.sqrt(torch.sum(tensor2 ** 2))\n",
        "            \n",
        "            # Avoid division by zero\n",
        "            if norm1 == 0 or norm2 == 0:\n",
        "                dist = 1.0  # Maximum distance\n",
        "            else:\n",
        "                cosine_sim = dot_product / (norm1 * norm2)\n",
        "                # Clip to handle floating point errors\n",
        "                cosine_sim = torch.clamp(cosine_sim, -1.0, 1.0)\n",
        "                dist = 1.0 - cosine_sim.item()\n",
        "                \n",
        "            distances.append(dist)\n",
        "            \n",
        "        elif metric == 'mean_squared':\n",
        "            # Mean squared error\n",
        "            dist = torch.mean((tensor1 - tensor2) ** 2).item()\n",
        "            distances.append(dist)\n",
        "            \n",
        "        elif metric == 'element_diff':\n",
        "            # Count of different elements\n",
        "            diff_count = torch.sum(tensor1 != tensor2).item()\n",
        "            distances.append(diff_count)\n",
        "            \n",
        "        else:\n",
        "            raise ValueError(f\"Unknown distance metric: {metric}\")\n",
        "    \n",
        "    # Compute average distance across all tensor pairs\n",
        "    avg_distance = np.mean(distances)\n",
        "    \n",
        "    # Calculate additional statistics\n",
        "    stats = {\n",
        "        \"mean\": avg_distance,\n",
        "        \"median\": np.median(distances),\n",
        "        \"min\": np.min(distances),\n",
        "        \"max\": np.max(distances),\n",
        "        \"std\": np.std(distances),\n",
        "        \"distances\": distances  # List of all pairwise distances\n",
        "    }\n",
        "    \n",
        "    return stats\n",
        "\n",
        "    \n",
        "# Compute distances using different metrics\n",
        "for metric in ['euclidean', 'element_diff']:\n",
        "    result = tensor_list_distance(client0[4], client1[4], metric=metric)\n",
        "    print(f\"\\n{metric.upper()} Distance:\")\n",
        "    print(f\"Mean: {result['mean']:.6f}\")\n",
        "    print(f\"Median: {result['median']:.6f}\")\n",
        "    print(f\"Min: {result['min']:.6f}\")\n",
        "    print(f\"Max: {result['max']:.6f}\")\n",
        "    print(f\"Std: {result['std']:.6f}\")\n"
      ]
    }
  ],
  "metadata": {
    "accelerator": "GPU",
    "colab": {
      "collapsed_sections": [
        "9GexoT5UbGQl"
      ],
      "gpuType": "T4",
      "provenance": []
    },
    "kernelspec": {
      "display_name": "pytorch",
      "language": "python",
      "name": "python3"
    },
    "language_info": {
      "codemirror_mode": {
        "name": "ipython",
        "version": 3
      },
      "file_extension": ".py",
      "mimetype": "text/x-python",
      "name": "python",
      "nbconvert_exporter": "python",
      "pygments_lexer": "ipython3",
      "version": "3.13.2"
    }
  },
  "nbformat": 4,
  "nbformat_minor": 0
}
