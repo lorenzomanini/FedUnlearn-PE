{
 "cells": [
  {
   "cell_type": "code",
   "execution_count": null,
   "id": "f265c6c0",
   "metadata": {},
   "outputs": [],
   "source": [
    "import numpy as np\n",
    "import tester\n",
    "from tester import run_repeated_tests, InitParamsDict, TestParamsDict\n",
    "import os"
   ]
  },
  {
   "cell_type": "code",
   "execution_count": 3,
   "id": "b105f72a",
   "metadata": {},
   "outputs": [],
   "source": [
    "import time\n",
    "import threading\n",
    "import psutil\n",
    "import numpy as np\n",
    "\n",
    "try:\n",
    "    import pynvml\n",
    "    pynvml.nvmlInit()\n",
    "    gpu_handle = pynvml.nvmlDeviceGetHandleByIndex(0)\n",
    "    GPU_AVAILABLE = True\n",
    "except:\n",
    "    GPU_AVAILABLE = False\n",
    "\n",
    "class ResourceTracker:\n",
    "    def __init__(self, interval=0.1):\n",
    "        self.interval = interval\n",
    "        self._running = False\n",
    "        self._samples = []\n",
    "\n",
    "    def _sample(self):\n",
    "        process = psutil.Process()\n",
    "        while self._running:\n",
    "            cpu = psutil.cpu_percent(interval=None)\n",
    "            ram = process.memory_info().rss / 1e6  # MB\n",
    "\n",
    "            gpu, vram = (0.0, 0.0)\n",
    "            if GPU_AVAILABLE:\n",
    "                util = pynvml.nvmlDeviceGetUtilizationRates(gpu_handle)\n",
    "                mem = pynvml.nvmlDeviceGetMemoryInfo(gpu_handle)\n",
    "                gpu = util.gpu\n",
    "                vram = mem.used / 1e6  # MB\n",
    "\n",
    "            self._samples.append((cpu, ram, gpu, vram))\n",
    "            time.sleep(self.interval)\n",
    "\n",
    "    def start(self):\n",
    "        self._samples.clear()\n",
    "        self._running = True\n",
    "        self._start_time = time.time()\n",
    "        self._thread = threading.Thread(target=self._sample)\n",
    "        self._thread.start()\n",
    "\n",
    "    def stop(self):\n",
    "        self._running = False\n",
    "        self._thread.join()\n",
    "        duration = time.time() - self._start_time\n",
    "\n",
    "        if self._samples:\n",
    "            arr = np.array(self._samples)\n",
    "            avg_cpu, avg_ram, avg_gpu, avg_vram = arr.mean(axis=0)\n",
    "        else:\n",
    "            avg_cpu = avg_ram = avg_gpu = avg_vram = 0.0\n",
    "\n",
    "        return {\n",
    "            'avg_cpu_percent': avg_cpu,\n",
    "            'avg_ram_mb': avg_ram,\n",
    "            'avg_gpu_percent': avg_gpu,\n",
    "            'avg_vram_mb': avg_vram,\n",
    "            'duration_sec': duration\n",
    "        }"
   ]
  },
  {
   "cell_type": "code",
   "execution_count": null,
   "id": "3e7de912",
   "metadata": {},
   "outputs": [],
   "source": [
    "save_path = 'resource_tests'\n",
    "stats_path = os.path.join(save_path, 'stats.txt')\n",
    "#tester.set_device('cuda:0')"
   ]
  },
  {
   "cell_type": "code",
   "execution_count": null,
   "id": "2a12678e",
   "metadata": {},
   "outputs": [
    {
     "name": "stderr",
     "output_type": "stream",
     "text": [
      "2025-05-09 15:31:24,569 - INFO - Starting test suite: resource_test_mnist_sp\n",
      "2025-05-09 15:31:24,570 - WARNING - Test directory 'resource_tests\\resource_test_mnist_sp' already exists.\n",
      "2025-05-09 15:31:24,572 - INFO - Created test suite directory: resource_tests\\resource_test_mnist_sp (1)\n",
      "2025-05-09 15:31:24,573 - INFO - Initial Configuration:\n",
      "2025-05-09 15:31:24,575 - INFO -   test_name: resource_test_mnist_sp\n",
      "2025-05-09 15:31:24,577 - INFO -   dataset_name: mnist\n",
      "2025-05-09 15:31:24,577 - INFO -   num_clients: 5\n",
      "2025-05-09 15:31:24,578 - INFO -   num_classes: 10\n",
      "2025-05-09 15:31:24,579 - INFO -   distribution_type: random\n",
      "2025-05-09 15:31:24,580 - INFO -   model_name: simple_cnn\n",
      "2025-05-09 15:31:24,581 - INFO -   loss_name: cross_entropy\n",
      "2025-05-09 15:31:24,582 - INFO -   trainer_name: sgd\n",
      "2025-05-09 15:31:24,583 - INFO -   train_epochs: 1\n",
      "2025-05-09 15:31:24,584 - INFO -   target_client: 0\n",
      "2025-05-09 15:31:24,585 - INFO -   num_tests: 1\n",
      "2025-05-09 15:31:24,586 - INFO - ------------------------------\n"
     ]
    },
    {
     "data": {
      "application/vnd.jupyter.widget-view+json": {
       "model_id": "2f3e8289c46543a596c197fee430e24b",
       "version_major": 2,
       "version_minor": 0
      },
      "text/plain": [
       "Running repeated tests:   0%|          | 0/1 [00:00<?, ?it/s]"
      ]
     },
     "metadata": {},
     "output_type": "display_data"
    },
    {
     "name": "stderr",
     "output_type": "stream",
     "text": [
      "2025-05-09 15:31:24,669 - INFO - --- Starting Test Iteration 0 ---\n",
      "2025-05-09 15:31:24,669 - INFO - Using device: cuda\n",
      "2025-05-09 15:31:24,677 - INFO - Training model...\n"
     ]
    },
    {
     "data": {
      "application/vnd.jupyter.widget-view+json": {
       "model_id": "beb44213327146cfb36b41fe7c1bff46",
       "version_major": 2,
       "version_minor": 0
      },
      "text/plain": [
       "Training:   0%|          | 0/1 [00:00<?, ?epoch/s]"
      ]
     },
     "metadata": {},
     "output_type": "display_data"
    },
    {
     "name": "stderr",
     "output_type": "stream",
     "text": [
      "2025-05-09 15:31:43,173 - INFO - Epoch 1/1, Loss: 0.014402699656784534\n",
      "2025-05-09 15:31:43,187 - INFO - Training benchmark model...\n"
     ]
    },
    {
     "data": {
      "application/vnd.jupyter.widget-view+json": {
       "model_id": "c84a4e640c6e4d7b8b19504c5e237c16",
       "version_major": 2,
       "version_minor": 0
      },
      "text/plain": [
       "Training:   0%|          | 0/1 [00:00<?, ?epoch/s]"
      ]
     },
     "metadata": {},
     "output_type": "display_data"
    },
    {
     "name": "stderr",
     "output_type": "stream",
     "text": [
      "2025-05-09 15:31:56,681 - INFO - Epoch 1/1, Loss: 0.029262637719511986\n",
      "2025-05-09 15:31:56,695 - INFO - Computing information...\n"
     ]
    },
    {
     "data": {
      "application/vnd.jupyter.widget-view+json": {
       "model_id": "8d6a97c0813a4de3887c54d3068d7b30",
       "version_major": 2,
       "version_minor": 0
      },
      "text/plain": [
       "Computing clients information:   0%|          | 0/4000 [00:00<?, ?batch/s]"
      ]
     },
     "metadata": {},
     "output_type": "display_data"
    },
    {
     "data": {
      "application/vnd.jupyter.widget-view+json": {
       "model_id": "a957189ec95a4aaabe43f09dcd043316",
       "version_major": 2,
       "version_minor": 0
      },
      "text/plain": [
       "Unlearning tests:   0%|          | 0/1 [00:00<?, ?it/s]"
      ]
     },
     "metadata": {},
     "output_type": "display_data"
    },
    {
     "name": "stderr",
     "output_type": "stream",
     "text": [
      "2025-05-09 15:33:03,937 - INFO - Unlearning: Method=information, Percentage=5, RetrainEpochs=1\n"
     ]
    },
    {
     "data": {
      "application/vnd.jupyter.widget-view+json": {
       "model_id": "d484dc1b52e6404b840ecbce0b383d80",
       "version_major": 2,
       "version_minor": 0
      },
      "text/plain": [
       "Training:   0%|          | 0/1 [00:00<?, ?epoch/s]"
      ]
     },
     "metadata": {},
     "output_type": "display_data"
    },
    {
     "name": "stderr",
     "output_type": "stream",
     "text": [
      "2025-05-09 15:33:22,963 - INFO - Epoch 1/1, Loss: 0.19839830696582794\n",
      "2025-05-09 15:33:22,987 - INFO - Computing test accuracies...\n"
     ]
    },
    {
     "data": {
      "application/vnd.jupyter.widget-view+json": {
       "model_id": "11914c8d8c874e7ab547a9945c6bab84",
       "version_major": 2,
       "version_minor": 0
      },
      "text/plain": [
       "Computing accuracy:   0%|          | 0/313 [00:00<?, ?batch/s]"
      ]
     },
     "metadata": {},
     "output_type": "display_data"
    },
    {
     "data": {
      "application/vnd.jupyter.widget-view+json": {
       "model_id": "3bae654f91da4a84aa0c677ac0f01414",
       "version_major": 2,
       "version_minor": 0
      },
      "text/plain": [
       "Computing accuracy:   0%|          | 0/313 [00:00<?, ?batch/s]"
      ]
     },
     "metadata": {},
     "output_type": "display_data"
    },
    {
     "data": {
      "application/vnd.jupyter.widget-view+json": {
       "model_id": "145d0d46b8374bcabe64ac8309296e52",
       "version_major": 2,
       "version_minor": 0
      },
      "text/plain": [
       "Computing accuracy:   0%|          | 0/313 [00:00<?, ?batch/s]"
      ]
     },
     "metadata": {},
     "output_type": "display_data"
    },
    {
     "data": {
      "application/vnd.jupyter.widget-view+json": {
       "model_id": "cd178e6d4b8149c0bb298b8b0e0952ce",
       "version_major": 2,
       "version_minor": 0
      },
      "text/plain": [
       "Computing accuracy:   0%|          | 0/313 [00:00<?, ?batch/s]"
      ]
     },
     "metadata": {},
     "output_type": "display_data"
    },
    {
     "name": "stderr",
     "output_type": "stream",
     "text": [
      "2025-05-09 15:33:33,953 - INFO - Computing clients accuracies...\n"
     ]
    },
    {
     "data": {
      "application/vnd.jupyter.widget-view+json": {
       "model_id": "0bfeaf20643b4530ab6d370fac7513a8",
       "version_major": 2,
       "version_minor": 0
      },
      "text/plain": [
       "Computing accuracy:   0%|          | 0/375 [00:00<?, ?batch/s]"
      ]
     },
     "metadata": {},
     "output_type": "display_data"
    },
    {
     "data": {
      "application/vnd.jupyter.widget-view+json": {
       "model_id": "e29d85540f0b45799e89e31f3cdc4219",
       "version_major": 2,
       "version_minor": 0
      },
      "text/plain": [
       "Computing accuracy:   0%|          | 0/375 [00:00<?, ?batch/s]"
      ]
     },
     "metadata": {},
     "output_type": "display_data"
    },
    {
     "data": {
      "application/vnd.jupyter.widget-view+json": {
       "model_id": "38aac56637174da39dc722ca7dbe7bd3",
       "version_major": 2,
       "version_minor": 0
      },
      "text/plain": [
       "Computing accuracy:   0%|          | 0/375 [00:00<?, ?batch/s]"
      ]
     },
     "metadata": {},
     "output_type": "display_data"
    },
    {
     "data": {
      "application/vnd.jupyter.widget-view+json": {
       "model_id": "470a3035ebc644e2b98f6c11636c641c",
       "version_major": 2,
       "version_minor": 0
      },
      "text/plain": [
       "Computing accuracy:   0%|          | 0/375 [00:00<?, ?batch/s]"
      ]
     },
     "metadata": {},
     "output_type": "display_data"
    },
    {
     "data": {
      "application/vnd.jupyter.widget-view+json": {
       "model_id": "0df4cfc956c44a55840cd180b75246c9",
       "version_major": 2,
       "version_minor": 0
      },
      "text/plain": [
       "Computing accuracy:   0%|          | 0/375 [00:00<?, ?batch/s]"
      ]
     },
     "metadata": {},
     "output_type": "display_data"
    },
    {
     "data": {
      "application/vnd.jupyter.widget-view+json": {
       "model_id": "fc8a3255a795444bbe3f4dcbb3f7e487",
       "version_major": 2,
       "version_minor": 0
      },
      "text/plain": [
       "Computing accuracy:   0%|          | 0/375 [00:00<?, ?batch/s]"
      ]
     },
     "metadata": {},
     "output_type": "display_data"
    },
    {
     "data": {
      "application/vnd.jupyter.widget-view+json": {
       "model_id": "5b66596577ef4d599e55771ae3e4fcb9",
       "version_major": 2,
       "version_minor": 0
      },
      "text/plain": [
       "Computing accuracy:   0%|          | 0/375 [00:00<?, ?batch/s]"
      ]
     },
     "metadata": {},
     "output_type": "display_data"
    },
    {
     "data": {
      "application/vnd.jupyter.widget-view+json": {
       "model_id": "398c5b44ad0441f08991f8210dadd5de",
       "version_major": 2,
       "version_minor": 0
      },
      "text/plain": [
       "Computing accuracy:   0%|          | 0/375 [00:00<?, ?batch/s]"
      ]
     },
     "metadata": {},
     "output_type": "display_data"
    },
    {
     "data": {
      "application/vnd.jupyter.widget-view+json": {
       "model_id": "7640e76a48694e449ff85076571baefa",
       "version_major": 2,
       "version_minor": 0
      },
      "text/plain": [
       "Computing accuracy:   0%|          | 0/375 [00:00<?, ?batch/s]"
      ]
     },
     "metadata": {},
     "output_type": "display_data"
    },
    {
     "data": {
      "application/vnd.jupyter.widget-view+json": {
       "model_id": "f59376fb60d141af9605365166c04448",
       "version_major": 2,
       "version_minor": 0
      },
      "text/plain": [
       "Computing accuracy:   0%|          | 0/375 [00:00<?, ?batch/s]"
      ]
     },
     "metadata": {},
     "output_type": "display_data"
    },
    {
     "data": {
      "application/vnd.jupyter.widget-view+json": {
       "model_id": "0016f26725b74bb7acded848f65de90f",
       "version_major": 2,
       "version_minor": 0
      },
      "text/plain": [
       "Computing accuracy:   0%|          | 0/375 [00:00<?, ?batch/s]"
      ]
     },
     "metadata": {},
     "output_type": "display_data"
    },
    {
     "data": {
      "application/vnd.jupyter.widget-view+json": {
       "model_id": "e8ebe27e4d784da09f7a8bfdb6b7019a",
       "version_major": 2,
       "version_minor": 0
      },
      "text/plain": [
       "Computing accuracy:   0%|          | 0/375 [00:00<?, ?batch/s]"
      ]
     },
     "metadata": {},
     "output_type": "display_data"
    },
    {
     "data": {
      "application/vnd.jupyter.widget-view+json": {
       "model_id": "b4a7b4e598b2446b8e72393d63039856",
       "version_major": 2,
       "version_minor": 0
      },
      "text/plain": [
       "Computing accuracy:   0%|          | 0/375 [00:00<?, ?batch/s]"
      ]
     },
     "metadata": {},
     "output_type": "display_data"
    },
    {
     "data": {
      "application/vnd.jupyter.widget-view+json": {
       "model_id": "e4ca400bc4a640ea93fc1f220a588bf8",
       "version_major": 2,
       "version_minor": 0
      },
      "text/plain": [
       "Computing accuracy:   0%|          | 0/375 [00:00<?, ?batch/s]"
      ]
     },
     "metadata": {},
     "output_type": "display_data"
    },
    {
     "data": {
      "application/vnd.jupyter.widget-view+json": {
       "model_id": "a4c6057da05547eab7cfabe3ab68d98e",
       "version_major": 2,
       "version_minor": 0
      },
      "text/plain": [
       "Computing accuracy:   0%|          | 0/375 [00:00<?, ?batch/s]"
      ]
     },
     "metadata": {},
     "output_type": "display_data"
    },
    {
     "data": {
      "application/vnd.jupyter.widget-view+json": {
       "model_id": "efaedfdde5b74b3b93615eeb528b2b79",
       "version_major": 2,
       "version_minor": 0
      },
      "text/plain": [
       "Computing accuracy:   0%|          | 0/375 [00:00<?, ?batch/s]"
      ]
     },
     "metadata": {},
     "output_type": "display_data"
    },
    {
     "data": {
      "application/vnd.jupyter.widget-view+json": {
       "model_id": "30d906898ea04ae2b26cfba0db5702b9",
       "version_major": 2,
       "version_minor": 0
      },
      "text/plain": [
       "Computing accuracy:   0%|          | 0/375 [00:00<?, ?batch/s]"
      ]
     },
     "metadata": {},
     "output_type": "display_data"
    },
    {
     "data": {
      "application/vnd.jupyter.widget-view+json": {
       "model_id": "e8c14f315e504200804ab08c072ef41e",
       "version_major": 2,
       "version_minor": 0
      },
      "text/plain": [
       "Computing accuracy:   0%|          | 0/375 [00:00<?, ?batch/s]"
      ]
     },
     "metadata": {},
     "output_type": "display_data"
    },
    {
     "data": {
      "application/vnd.jupyter.widget-view+json": {
       "model_id": "383ffafa411e481d8a59af98cd82e8fb",
       "version_major": 2,
       "version_minor": 0
      },
      "text/plain": [
       "Computing accuracy:   0%|          | 0/375 [00:00<?, ?batch/s]"
      ]
     },
     "metadata": {},
     "output_type": "display_data"
    },
    {
     "data": {
      "application/vnd.jupyter.widget-view+json": {
       "model_id": "e480f146de6e466985227fbb16ed75b3",
       "version_major": 2,
       "version_minor": 0
      },
      "text/plain": [
       "Computing accuracy:   0%|          | 0/375 [00:00<?, ?batch/s]"
      ]
     },
     "metadata": {},
     "output_type": "display_data"
    },
    {
     "name": "stderr",
     "output_type": "stream",
     "text": [
      "2025-05-09 15:34:45,720 - INFO - Running MIA...\n",
      "2025-05-09 15:34:45,722 - INFO - Classifier type: nn\n",
      "2025-05-09 15:35:07,968 - INFO - Classifier type: logistic\n",
      "2025-05-09 15:35:19,537 - INFO - --- Finished Test Iteration 0 ---\n",
      "2025-05-09 15:35:19,541 - INFO - Test suite 'resource_test_mnist_sp' completed\n"
     ]
    },
    {
     "name": "stdout",
     "output_type": "stream",
     "text": [
      "Resource usage during tests: {'avg_cpu_percent': np.float64(30.229271465741633), 'avg_ram_mb': np.float64(1400.6247470181781), 'avg_gpu_percent': np.float64(41.89549002601908), 'avg_vram_mb': np.float64(460.6026957155364), 'duration_sec': 234.99483275413513}\n"
     ]
    }
   ],
   "source": [
    "init_params_dict : InitParamsDict = {\n",
    "    'test_name': 'resource_test_mnist_sp', # Changed name slightly\n",
    "\n",
    "    'dataset_name': 'mnist',\n",
    "    'num_clients': 5,\n",
    "    'num_classes': 10,                # Number of classes in the dataset\n",
    "    'distribution_type': 'random',     # Distribution type\n",
    "\n",
    "    'model_name': 'simple_cnn',       # Model architecture\n",
    "    'loss_name': 'cross_entropy',     # Loss function\n",
    "\n",
    "    'trainer_name': 'sgd',            # Trainer type\n",
    "    'train_epochs': 3,                # Initial training epochs\n",
    "\n",
    "    'target_client': 0,               # Client to unlearn\n",
    "    'num_tests': 1                   # Number of independent repetitions\n",
    "}\n",
    "\n",
    "test_params_dict_0 : TestParamsDict = {\n",
    "        'subtest': 0,\n",
    "        'unlearning_method': 'information',\n",
    "        'tests': ['test_accuracy', 'clients_accuracies', 'mia'],\n",
    "        'mia_classifier_types': ['nn', 'logistic'],\n",
    "        'retrain_epochs': 1\n",
    "    }\n",
    "\n",
    "percentages = np.arange(5, 20, 5)\n",
    "test_params_dicts_0 = [test_params_dict_0.copy() for _ in range(len(percentages))]\n",
    "for i, percentage in enumerate(percentages):\n",
    "    test_params_dicts_0[i]['unlearning_percentage'] = percentage\n",
    "\n",
    "test_params_dicts = test_params_dicts_0\n",
    "\n",
    "tracker = ResourceTracker()\n",
    "tracker.start()\n",
    "run_repeated_tests(init_params_dict, test_params_dicts, save_path, num_workers=1)\n",
    "stats=tracker.stop()\n",
    "\n",
    "with open(stats_path, \"a\") as f:\n",
    "    f.write(f\"\\n=== Run {init_params_dict['test_name']} ===\\n\")\n",
    "    for key, value in stats.items():\n",
    "        f.write(f\"{key}: {value}\\n\")\n",
    "\n",
    "print(f\"\\n=== Run {init_params_dict['test_name']} ===\")\n",
    "for key, value in stats.items():\n",
    "    print(f\"{key}: {value}\")"
   ]
  },
  {
   "cell_type": "code",
   "execution_count": null,
   "id": "7a506677",
   "metadata": {},
   "outputs": [],
   "source": [
    "init_params_dict : InitParamsDict = {\n",
    "    'test_name': 'resource_test_mnist_mp', # Changed name slightly\n",
    "\n",
    "    'dataset_name': 'mnist',\n",
    "    'num_clients': 5,\n",
    "    'num_classes': 10,                # Number of classes in the dataset\n",
    "    'distribution_type': 'random',     # Distribution type\n",
    "\n",
    "    'model_name': 'simple_cnn',       # Model architecture\n",
    "    'loss_name': 'cross_entropy',     # Loss function\n",
    "\n",
    "    'trainer_name': 'sgd',            # Trainer type\n",
    "    'train_epochs': 3,                # Initial training epochs\n",
    "\n",
    "    'target_client': 0,               # Client to unlearn\n",
    "    'num_tests': 3                   # Number of independent repetitions\n",
    "}\n",
    "\n",
    "test_params_dict_0 : TestParamsDict = {\n",
    "        'subtest': 0,\n",
    "        'unlearning_method': 'information',\n",
    "        'tests': ['test_accuracy', 'clients_accuracies', 'mia'],\n",
    "        'mia_classifier_types': ['nn', 'logistic'],\n",
    "        'retrain_epochs': 1\n",
    "    }\n",
    "\n",
    "percentages = np.arange(5, 20, 5)\n",
    "test_params_dicts_0 = [test_params_dict_0.copy() for _ in range(len(percentages))]\n",
    "for i, percentage in enumerate(percentages):\n",
    "    test_params_dicts_0[i]['unlearning_percentage'] = percentage\n",
    "\n",
    "test_params_dicts = test_params_dicts_0\n",
    "\n",
    "tracker = ResourceTracker()\n",
    "tracker.start()\n",
    "run_repeated_tests(init_params_dict, test_params_dicts, save_path, num_workers=3)\n",
    "stats=tracker.stop()\n",
    "\n",
    "with open(stats_path, \"a\") as f:\n",
    "    f.write(f\"\\n=== Run {init_params_dict['test_name']} ===\\n\")\n",
    "    for key, value in stats.items():\n",
    "        f.write(f\"{key}: {value}\\n\")\n",
    "\n",
    "print(f\"\\n=== Run {init_params_dict['test_name']} ===\")\n",
    "for key, value in stats.items():\n",
    "    print(f\"{key}: {value}\")"
   ]
  },
  {
   "cell_type": "code",
   "execution_count": null,
   "id": "6fff74d5",
   "metadata": {},
   "outputs": [],
   "source": [
    "init_params_dict : InitParamsDict = {\n",
    "    'test_name': 'resource_test_cifar_sp', # Changed name slightly\n",
    "\n",
    "    'dataset_name': 'cifar10',\n",
    "    'num_clients': 5,\n",
    "    'num_classes': 10,                # Number of classes in the dataset\n",
    "    'distribution_type': 'random',     # Distribution type\n",
    "\n",
    "    'model_name': 'resnet18',       # Model architecture\n",
    "    'loss_name': 'cross_entropy',     # Loss function\n",
    "\n",
    "    'trainer_name': 'sgd',            # Trainer type\n",
    "    'train_epochs': 3,                # Initial training epochs\n",
    "\n",
    "    'target_client': 0,               # Client to unlearn\n",
    "    'num_tests': 1                   # Number of independent repetitions\n",
    "}\n",
    "\n",
    "test_params_dict_0 : TestParamsDict = {\n",
    "        'subtest': 0,\n",
    "        'unlearning_method': 'information',\n",
    "        'tests': ['test_accuracy', 'clients_accuracies', 'mia'],\n",
    "        'mia_classifier_types': ['nn', 'logistic'],\n",
    "        'retrain_epochs': 1\n",
    "    }\n",
    "\n",
    "\n",
    "percentages = np.arange(5, 20, 5)\n",
    "test_params_dicts_0 = [test_params_dict_0.copy() for _ in range(len(percentages))]\n",
    "for i, percentage in enumerate(percentages):\n",
    "    test_params_dicts_0[i]['unlearning_percentage'] = percentage\n",
    "\n",
    "test_params_dicts = test_params_dicts_0\n",
    "\n",
    "tracker = ResourceTracker()\n",
    "tracker.start()\n",
    "run_repeated_tests(init_params_dict, test_params_dicts, save_path, num_workers=1)\n",
    "stats=tracker.stop()\n",
    "\n",
    "with open(stats_path, \"a\") as f:\n",
    "    f.write(f\"\\n=== Run {init_params_dict['test_name']} ===\\n\")\n",
    "    for key, value in stats.items():\n",
    "        f.write(f\"{key}: {value}\\n\")\n",
    "\n",
    "print(f\"\\n=== Run {init_params_dict['test_name']} ===\")\n",
    "for key, value in stats.items():\n",
    "    print(f\"{key}: {value}\")"
   ]
  },
  {
   "cell_type": "code",
   "execution_count": null,
   "id": "7adf2aeb",
   "metadata": {},
   "outputs": [
    {
     "name": "stderr",
     "output_type": "stream",
     "text": [
      "2025-05-09 15:41:46,339 - INFO - Starting test suite: resource_test_cifar_mp\n",
      "2025-05-09 15:41:46,343 - INFO - Created test suite directory: resource_tests\\resource_test_cifar_mp\n",
      "2025-05-09 15:41:46,343 - INFO - Initial Configuration:\n",
      "2025-05-09 15:41:46,348 - INFO -   test_name: resource_test_cifar_mp\n",
      "2025-05-09 15:41:46,349 - INFO -   dataset_name: cifar10\n",
      "2025-05-09 15:41:46,350 - INFO -   num_clients: 5\n",
      "2025-05-09 15:41:46,351 - INFO -   num_classes: 10\n",
      "2025-05-09 15:41:46,352 - INFO -   distribution_type: random\n",
      "2025-05-09 15:41:46,354 - INFO -   model_name: resnet18\n",
      "2025-05-09 15:41:46,354 - INFO -   loss_name: cross_entropy\n",
      "2025-05-09 15:41:46,355 - INFO -   trainer_name: sgd\n",
      "2025-05-09 15:41:46,356 - INFO -   train_epochs: 3\n",
      "2025-05-09 15:41:46,357 - INFO -   target_client: 0\n",
      "2025-05-09 15:41:46,359 - INFO -   num_tests: 10\n",
      "2025-05-09 15:41:46,360 - INFO - ------------------------------\n"
     ]
    },
    {
     "name": "stdout",
     "output_type": "stream",
     "text": [
      "Files already downloaded and verified\n",
      "Files already downloaded and verified\n"
     ]
    },
    {
     "name": "stderr",
     "output_type": "stream",
     "text": [
      "2025-05-09 15:41:48,699 - INFO - Using 10 workers for parallel processing.\n",
      "2025-05-09 15:41:48,699 - INFO - No devices provided, using default device cuda for all workers.\n"
     ]
    }
   ],
   "source": [
    "init_params_dict : InitParamsDict = {\n",
    "    'test_name': 'resource_test_cifar_mp', # Changed name slightly\n",
    "\n",
    "    'dataset_name': 'cifar10',\n",
    "    'num_clients': 5,\n",
    "    'num_classes': 10,                # Number of classes in the dataset\n",
    "    'distribution_type': 'random',     # Distribution type\n",
    "\n",
    "    'model_name': 'resnet18',       # Model architecture\n",
    "    'loss_name': 'cross_entropy',     # Loss function\n",
    "\n",
    "    'trainer_name': 'sgd',            # Trainer type\n",
    "    'train_epochs': 3,                # Initial training epochs\n",
    "\n",
    "    'target_client': 0,               # Client to unlearn\n",
    "    'num_tests': 3                   # Number of independent repetitions\n",
    "}\n",
    "\n",
    "test_params_dict_0 : TestParamsDict = {\n",
    "        'subtest': 0,\n",
    "        'unlearning_method': 'information',\n",
    "        'tests': ['test_accuracy', 'clients_accuracies', 'mia'],\n",
    "        'mia_classifier_types': ['nn', 'logistic'],\n",
    "        'retrain_epochs': 1\n",
    "    }\n",
    "\n",
    "\n",
    "percentages = np.arange(5, 20, 5)\n",
    "test_params_dicts_0 = [test_params_dict_0.copy() for _ in range(len(percentages))]\n",
    "for i, percentage in enumerate(percentages):\n",
    "    test_params_dicts_0[i]['unlearning_percentage'] = percentage\n",
    "\n",
    "test_params_dicts = test_params_dicts_0\n",
    "\n",
    "tracker = ResourceTracker()\n",
    "tracker.start()\n",
    "run_repeated_tests(init_params_dict, test_params_dicts, save_path, num_workers=3)\n",
    "stats=tracker.stop()\n",
    "\n",
    "with open(stats_path, \"a\") as f:\n",
    "    f.write(f\"\\n=== Run {init_params_dict['test_name']} ===\\n\")\n",
    "    for key, value in stats.items():\n",
    "        f.write(f\"{key}: {value}\\n\")\n",
    "\n",
    "print(f\"\\n=== Run {init_params_dict['test_name']} ===\")\n",
    "for key, value in stats.items():\n",
    "    print(f\"{key}: {value}\")"
   ]
  },
  {
   "cell_type": "code",
   "execution_count": null,
   "id": "2c2ebff4",
   "metadata": {},
   "outputs": [],
   "source": []
  }
 ],
 "metadata": {
  "kernelspec": {
   "display_name": "fed-learn",
   "language": "python",
   "name": "python3"
  },
  "language_info": {
   "codemirror_mode": {
    "name": "ipython",
    "version": 3
   },
   "file_extension": ".py",
   "mimetype": "text/x-python",
   "name": "python",
   "nbconvert_exporter": "python",
   "pygments_lexer": "ipython3",
   "version": "3.11.9"
  }
 },
 "nbformat": 4,
 "nbformat_minor": 5
}
